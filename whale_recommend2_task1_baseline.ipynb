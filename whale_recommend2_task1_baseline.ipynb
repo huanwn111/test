{
 "cells": [
  {
   "cell_type": "code",
   "execution_count": 2,
   "metadata": {},
   "outputs": [],
   "source": [
    "#baseline\n",
    "#分析：要求根据用户历史浏览点击新闻文章的数据信息预测用户未来的点击行为， 即用户的最后一次点击的新闻文章\n",
    "#和之前的分类预测不同点：\n",
    "#1）预测最后一次点击的新闻文章，也就是我们给用户【推荐】的新闻文章，之前的一般是预测一个数，或预测数据是哪一类；\n",
    "#2）数据，之前的分类是数据本身有特征，预测它的结果标签，而推荐相关的数据是基于了真实的业务场景，拿到的是用户的点击日志；\n",
    "#所以我们的目标是，把该预测问题转成一个有监督学习的问题（特征+标签），然后才能进行ML,DL等建模预测。\n",
    "#那么，如何转？能利用的特征有哪些？有哪些模型可尝试？对数万级别的文章推荐，有哪些策略？\n",
    "#问题变成了一个点击率预测的问题(用户, 文章) --> 点击的概率(软分类)，建模的大致方向 - 逻辑回归\n",
    "#大致的解决思路：先转成一个分类问题，分类的标签就是用户是否会点击某篇文章，分类问题的特征中会有用户和文章，\n",
    "#要训练一个分类模型， 对某用户最后一次点击某篇文章的概率进行预测\n",
    "#其它问题：如何转成监督学习问题？ 训练集和测试集怎么制作？ 我们又能利用哪些特征？ 我们又可以尝试哪些模型？ 面对36万篇文章， 20多万用户的推荐， 我们又有哪些策略来缩减问题的规模？如何进行最后的预测？"
   ]
  },
  {
   "cell_type": "code",
   "execution_count": 1,
   "metadata": {},
   "outputs": [],
   "source": [
    "#Baseline - 协同过滤(给用户推荐它买过的其它商品等)\n",
    "#参考 http://datawhale.club/t/topic/196\n",
    "# import packages\n",
    "import time, math, os\n",
    "from tqdm import tqdm\n",
    "import gc\n",
    "import pickle\n",
    "import random\n",
    "from datetime import datetime\n",
    "from operator import itemgetter\n",
    "import numpy as np\n",
    "import pandas as pd\n",
    "import warnings\n",
    "import collections\n",
    "from collections import defaultdict\n",
    "warnings.filterwarnings('ignore')"
   ]
  },
  {
   "cell_type": "code",
   "execution_count": 2,
   "metadata": {},
   "outputs": [],
   "source": [
    "data_path = './data/'\n",
    "save_path = './dataRs/'"
   ]
  },
  {
   "cell_type": "code",
   "execution_count": 3,
   "metadata": {},
   "outputs": [],
   "source": [
    "# 节约内存的一个标配函数\n",
    "def reduce_mem(df):\n",
    "    starttime = time.time()\n",
    "    numerics = ['int16', 'int32', 'int64', 'float16', 'float32', 'float64']\n",
    "    start_mem = df.memory_usage().sum() / 1024**2\n",
    "    for col in df.columns:\n",
    "        col_type = df[col].dtypes\n",
    "        if col_type in numerics:\n",
    "            c_min = df[col].min()\n",
    "            c_max = df[col].max()\n",
    "            if pd.isnull(c_min) or pd.isnull(c_max):\n",
    "                continue\n",
    "            if str(col_type)[:3] == 'int':\n",
    "                if c_min > np.iinfo(np.int8).min and c_max < np.iinfo(np.int8).max:\n",
    "                    df[col] = df[col].astype(np.int8)\n",
    "                elif c_min > np.iinfo(np.int16).min and c_max < np.iinfo(np.int16).max:\n",
    "                    df[col] = df[col].astype(np.int16)\n",
    "                elif c_min > np.iinfo(np.int32).min and c_max < np.iinfo(np.int32).max:\n",
    "                    df[col] = df[col].astype(np.int32)\n",
    "                elif c_min > np.iinfo(np.int64).min and c_max < np.iinfo(np.int64).max:\n",
    "                    df[col] = df[col].astype(np.int64)\n",
    "            else:\n",
    "                if c_min > np.finfo(np.float16).min and c_max < np.finfo(np.float16).max:\n",
    "                    df[col] = df[col].astype(np.float16)\n",
    "                elif c_min > np.finfo(np.float32).min and c_max < np.finfo(np.float32).max:\n",
    "                    df[col] = df[col].astype(np.float32)\n",
    "                else:\n",
    "                    df[col] = df[col].astype(np.float64)\n",
    "    end_mem = df.memory_usage().sum() / 1024**2\n",
    "    print('-- Mem. usage decreased to {:5.2f} Mb ({:.1f}% reduction),time spend:{:2.2f} min'.format(end_mem,\n",
    "                                                                                                           100*(start_mem-end_mem)/start_mem,\n",
    "                                                                                                           (time.time()-starttime)/60))\n",
    "    return df"
   ]
  },
  {
   "cell_type": "code",
   "execution_count": 4,
   "metadata": {},
   "outputs": [],
   "source": [
    "#读取采样或全量数据\n",
    "def get_all_click_sample(data_path,sample_nums = 10000):\n",
    "    #参数：原数据的存储路径，采样数目\n",
    "    all_click = pd.read_csv(data_path + 'train_click_log.csv')\n",
    "    #print(all_click)\n",
    "#    user_id  click_article_id  click_timestamp  click_environment  \\\n",
    "#0         199999            160417    1507029570190                  4  \n",
    "#    click_deviceGroup  click_os  click_country  click_region  \\\n",
    "#0                        1        17              1            13  \n",
    "#    click_referrer_type  \n",
    "#0                          1  \n",
    "    all_user_ids = all_click.user_id.unique()#取用户id号，去重\n",
    "    #print(all_user_ids)\n",
    "    #[199999 199998 199997 ...      2      1      0]\n",
    "    \n",
    "    #随机选取文章Id\n",
    "    sample_user_ids = np.random.choice(all_user_ids,size = sample_nums, replace = False)\n",
    "    \n",
    "    all_click = all_click[all_click['user_id'].isin(sample_user_ids)]\n",
    "    \n",
    "    all_click = all_click.drop_duplicates((['user_id','click_article_id','click_timestamp']))\n",
    "    #drop_duplicates去重\n",
    "    \n",
    "    return all_click\n",
    "#返回是一个df表\n",
    "\n",
    "    "
   ]
  },
  {
   "cell_type": "code",
   "execution_count": 5,
   "metadata": {},
   "outputs": [
    {
     "data": {
      "text/html": [
       "<div>\n",
       "<style scoped>\n",
       "    .dataframe tbody tr th:only-of-type {\n",
       "        vertical-align: middle;\n",
       "    }\n",
       "\n",
       "    .dataframe tbody tr th {\n",
       "        vertical-align: top;\n",
       "    }\n",
       "\n",
       "    .dataframe thead th {\n",
       "        text-align: right;\n",
       "    }\n",
       "</style>\n",
       "<table border=\"1\" class=\"dataframe\">\n",
       "  <thead>\n",
       "    <tr style=\"text-align: right;\">\n",
       "      <th></th>\n",
       "      <th>user_id</th>\n",
       "      <th>click_article_id</th>\n",
       "      <th>click_timestamp</th>\n",
       "      <th>click_environment</th>\n",
       "      <th>click_deviceGroup</th>\n",
       "      <th>click_os</th>\n",
       "      <th>click_country</th>\n",
       "      <th>click_region</th>\n",
       "      <th>click_referrer_type</th>\n",
       "    </tr>\n",
       "  </thead>\n",
       "  <tbody>\n",
       "    <tr>\n",
       "      <th>11823</th>\n",
       "      <td>195731</td>\n",
       "      <td>159847</td>\n",
       "      <td>1507037504749</td>\n",
       "      <td>4</td>\n",
       "      <td>3</td>\n",
       "      <td>2</td>\n",
       "      <td>1</td>\n",
       "      <td>21</td>\n",
       "      <td>1</td>\n",
       "    </tr>\n",
       "    <tr>\n",
       "      <th>11824</th>\n",
       "      <td>195731</td>\n",
       "      <td>156624</td>\n",
       "      <td>1507037534749</td>\n",
       "      <td>4</td>\n",
       "      <td>3</td>\n",
       "      <td>2</td>\n",
       "      <td>1</td>\n",
       "      <td>21</td>\n",
       "      <td>1</td>\n",
       "    </tr>\n",
       "    <tr>\n",
       "      <th>17411</th>\n",
       "      <td>193778</td>\n",
       "      <td>363984</td>\n",
       "      <td>1507042261383</td>\n",
       "      <td>4</td>\n",
       "      <td>1</td>\n",
       "      <td>17</td>\n",
       "      <td>1</td>\n",
       "      <td>16</td>\n",
       "      <td>5</td>\n",
       "    </tr>\n",
       "    <tr>\n",
       "      <th>17412</th>\n",
       "      <td>193778</td>\n",
       "      <td>220293</td>\n",
       "      <td>1507042291383</td>\n",
       "      <td>4</td>\n",
       "      <td>1</td>\n",
       "      <td>17</td>\n",
       "      <td>1</td>\n",
       "      <td>16</td>\n",
       "      <td>5</td>\n",
       "    </tr>\n",
       "    <tr>\n",
       "      <th>113945</th>\n",
       "      <td>162548</td>\n",
       "      <td>159762</td>\n",
       "      <td>1507132671830</td>\n",
       "      <td>4</td>\n",
       "      <td>1</td>\n",
       "      <td>17</td>\n",
       "      <td>1</td>\n",
       "      <td>12</td>\n",
       "      <td>2</td>\n",
       "    </tr>\n",
       "  </tbody>\n",
       "</table>\n",
       "</div>"
      ],
      "text/plain": [
       "        user_id  click_article_id  click_timestamp  click_environment  \\\n",
       "11823    195731            159847    1507037504749                  4   \n",
       "11824    195731            156624    1507037534749                  4   \n",
       "17411    193778            363984    1507042261383                  4   \n",
       "17412    193778            220293    1507042291383                  4   \n",
       "113945   162548            159762    1507132671830                  4   \n",
       "\n",
       "        click_deviceGroup  click_os  click_country  click_region  \\\n",
       "11823                   3         2              1            21   \n",
       "11824                   3         2              1            21   \n",
       "17411                   1        17              1            16   \n",
       "17412                   1        17              1            16   \n",
       "113945                  1        17              1            12   \n",
       "\n",
       "        click_referrer_type  \n",
       "11823                     1  \n",
       "11824                     1  \n",
       "17411                     5  \n",
       "17412                     5  \n",
       "113945                    2  "
      ]
     },
     "execution_count": 5,
     "metadata": {},
     "output_type": "execute_result"
    }
   ],
   "source": [
    "get_all_click_sample(data_path,10).head()"
   ]
  },
  {
   "cell_type": "code",
   "execution_count": 6,
   "metadata": {},
   "outputs": [],
   "source": [
    "#读全部数据：线上线下分读数据\n",
    "def get_all_click_df(data_path='./data/',offline=True):\n",
    "    if offline:#只读训练集\n",
    "        all_click = pd.read_csv(data_path  + 'train_click_log.csv')\n",
    "    else:#训练集合并测试集\n",
    "        trn_click = pd.read_csv(data_path + 'train_click_log.csv')\n",
    "        tst_click = pd.read_csv(data_path + 'testA_click_log.csv')\n",
    "        \n",
    "        all_click = trn_click.append(tst_click)\n",
    "        \n",
    "    #去重\n",
    "    all_click = all_click.drop_duplicates((['user_id','click_article_id','click_timestamp']))\n",
    "#     print(all_click[:10])\n",
    "    return all_click\n",
    "        "
   ]
  },
  {
   "cell_type": "code",
   "execution_count": 7,
   "metadata": {},
   "outputs": [
    {
     "data": {
      "text/html": [
       "<div>\n",
       "<style scoped>\n",
       "    .dataframe tbody tr th:only-of-type {\n",
       "        vertical-align: middle;\n",
       "    }\n",
       "\n",
       "    .dataframe tbody tr th {\n",
       "        vertical-align: top;\n",
       "    }\n",
       "\n",
       "    .dataframe thead th {\n",
       "        text-align: right;\n",
       "    }\n",
       "</style>\n",
       "<table border=\"1\" class=\"dataframe\">\n",
       "  <thead>\n",
       "    <tr style=\"text-align: right;\">\n",
       "      <th></th>\n",
       "      <th>user_id</th>\n",
       "      <th>click_article_id</th>\n",
       "      <th>click_timestamp</th>\n",
       "      <th>click_environment</th>\n",
       "      <th>click_deviceGroup</th>\n",
       "      <th>click_os</th>\n",
       "      <th>click_country</th>\n",
       "      <th>click_region</th>\n",
       "      <th>click_referrer_type</th>\n",
       "    </tr>\n",
       "  </thead>\n",
       "  <tbody>\n",
       "    <tr>\n",
       "      <th>0</th>\n",
       "      <td>199999</td>\n",
       "      <td>160417</td>\n",
       "      <td>1507029570190</td>\n",
       "      <td>4</td>\n",
       "      <td>1</td>\n",
       "      <td>17</td>\n",
       "      <td>1</td>\n",
       "      <td>13</td>\n",
       "      <td>1</td>\n",
       "    </tr>\n",
       "    <tr>\n",
       "      <th>1</th>\n",
       "      <td>199999</td>\n",
       "      <td>5408</td>\n",
       "      <td>1507029571478</td>\n",
       "      <td>4</td>\n",
       "      <td>1</td>\n",
       "      <td>17</td>\n",
       "      <td>1</td>\n",
       "      <td>13</td>\n",
       "      <td>1</td>\n",
       "    </tr>\n",
       "    <tr>\n",
       "      <th>2</th>\n",
       "      <td>199999</td>\n",
       "      <td>50823</td>\n",
       "      <td>1507029601478</td>\n",
       "      <td>4</td>\n",
       "      <td>1</td>\n",
       "      <td>17</td>\n",
       "      <td>1</td>\n",
       "      <td>13</td>\n",
       "      <td>1</td>\n",
       "    </tr>\n",
       "    <tr>\n",
       "      <th>3</th>\n",
       "      <td>199998</td>\n",
       "      <td>157770</td>\n",
       "      <td>1507029532200</td>\n",
       "      <td>4</td>\n",
       "      <td>1</td>\n",
       "      <td>17</td>\n",
       "      <td>1</td>\n",
       "      <td>25</td>\n",
       "      <td>5</td>\n",
       "    </tr>\n",
       "    <tr>\n",
       "      <th>4</th>\n",
       "      <td>199998</td>\n",
       "      <td>96613</td>\n",
       "      <td>1507029671831</td>\n",
       "      <td>4</td>\n",
       "      <td>1</td>\n",
       "      <td>17</td>\n",
       "      <td>1</td>\n",
       "      <td>25</td>\n",
       "      <td>5</td>\n",
       "    </tr>\n",
       "  </tbody>\n",
       "</table>\n",
       "</div>"
      ],
      "text/plain": [
       "   user_id  click_article_id  click_timestamp  click_environment  \\\n",
       "0   199999            160417    1507029570190                  4   \n",
       "1   199999              5408    1507029571478                  4   \n",
       "2   199999             50823    1507029601478                  4   \n",
       "3   199998            157770    1507029532200                  4   \n",
       "4   199998             96613    1507029671831                  4   \n",
       "\n",
       "   click_deviceGroup  click_os  click_country  click_region  \\\n",
       "0                  1        17              1            13   \n",
       "1                  1        17              1            13   \n",
       "2                  1        17              1            13   \n",
       "3                  1        17              1            25   \n",
       "4                  1        17              1            25   \n",
       "\n",
       "   click_referrer_type  \n",
       "0                    1  \n",
       "1                    1  \n",
       "2                    1  \n",
       "3                    5  \n",
       "4                    5  "
      ]
     },
     "execution_count": 7,
     "metadata": {},
     "output_type": "execute_result"
    }
   ],
   "source": [
    "get_all_click_df().head()\n",
    "# user_id  click_article_id  click_timestamp  click_environment  \\\n",
    "# 0   199999            160417    1507029570190                  4   \n",
    "# click_deviceGroup  click_os  click_country  click_region  \\\n",
    "# 0                  1        17              1            13   \n",
    "# click_referrer_type  \n",
    "# 0                    1"
   ]
  },
  {
   "cell_type": "code",
   "execution_count": 8,
   "metadata": {},
   "outputs": [],
   "source": [
    "#获取制作 用户-文章-点击时间字典\n",
    "# 根据点击时间获取用户的点击文章序列   {user1: [(item1, time1), (item2, time2)..]...}\n",
    "def get_user_item_time(click_df):\n",
    "    \n",
    "    click_df = click_df.sort_values('click_timestamp')\n",
    "    \n",
    "    def make_item_time_pair(df):\n",
    "        return list(zip(df['click_article_id'],df['click_timestamp']))\n",
    "    \n",
    "    user_item_time_df = click_df.groupby('user_id')['click_article_id','click_timestamp'].apply(lambda x :make_item_time_pair(x) )\\\n",
    "    .reset_index().rename(columns = {0:'item_time_list'})\n",
    "    \n",
    "    user_item_time_dict = dict(zip(user_item_time_df['user_id'],user_item_time_df['item_time_list']))\n",
    "    \n",
    "    return user_item_time_dict\n",
    "    "
   ]
  },
  {
   "cell_type": "code",
   "execution_count": 9,
   "metadata": {},
   "outputs": [
    {
     "data": {
      "text/plain": [
       "{199998: [(157770, 1507029532200), (96613, 1507029671831)],\n",
       " 199999: [(160417, 1507029570190),\n",
       "  (5408, 1507029571478),\n",
       "  (50823, 1507029601478)]}"
      ]
     },
     "execution_count": 9,
     "metadata": {},
     "output_type": "execute_result"
    }
   ],
   "source": [
    "get_user_item_time(get_all_click_df().head())\n",
    "# {199998: [(157770, 1507029532200), (96613, 1507029671831)],\n",
    "#  199999: [(160417, 1507029570190),\n",
    "#   (5408, 1507029571478),\n",
    "#   (50823, 1507029601478)]}"
   ]
  },
  {
   "cell_type": "code",
   "execution_count": 10,
   "metadata": {},
   "outputs": [],
   "source": [
    "#获取点击最多的Topk个文章\n",
    "def get_itme_topk_click(click_df,k):\n",
    "    topk_click = click_df['click_article_id'].value_counts().index[:k]\n",
    "    return topk_click"
   ]
  },
  {
   "cell_type": "code",
   "execution_count": 12,
   "metadata": {},
   "outputs": [
    {
     "data": {
      "text/plain": [
       "Int64Index([50823, 96613, 157770], dtype='int64')"
      ]
     },
     "execution_count": 12,
     "metadata": {},
     "output_type": "execute_result"
    }
   ],
   "source": [
    "get_itme_topk_click(get_all_click_df().head(),3)\n",
    "#Int64Index([50823, 96613, 157770], dtype='int64'))"
   ]
  },
  {
   "cell_type": "code",
   "execution_count": 36,
   "metadata": {},
   "outputs": [],
   "source": [
    "#itemCF的物品(文章)相似度计算\n",
    "#【物品相似度计算公式用了IUF,\n",
    "#即认为活跃用户对物品相似度的贡献应该小于不活跃的用户，所以增加一个IUF（Inverse User Frequence）参数来修正物品相似度的计算公式】\n",
    "#【对数+1倒数做分子惩罚活跃用户，分母用点击自己的与点击其它的相乘再开根。】\n",
    "def itemcf_sim(df):#df数据表\n",
    "    \n",
    "    user_item_time_dict = get_user_item_time(df)#取数据：文章创建时间的字典\n",
    "    \n",
    "    #计算物品相似度\n",
    "    i2i_sim = {}#相似度字典？\n",
    "    item_cnt = defaultdict(int)#整型，默认为0\n",
    "    for user, item_time_list in tqdm(user_item_time_dict.items()):#遍历数据，用户文章号与时间字典。tqdm打印循环进度条。\n",
    "        for i, i_click_time in item_time_list:#遍历用户文章号与时间列表\n",
    "            item_cnt[i] += 1 #文章id加为键值，点击过累加1\n",
    "            i2i_sim.setdefault(i,{})#setdefault，i若不在字典中添加键\n",
    "            \n",
    "            for j,j_click_time in item_time_list:\n",
    "                if(i==j):#行列物品相同，自己和自己忽略跳过\n",
    "                    continue\n",
    "                i2i_sim[i].setdefault(j,0)#i为本篇文章，j为与它有关系的文章，默认设相似度为0\n",
    "                i2i_sim[i][j] += 1/ math.log(len(item_time_list)+1)#【与其它商品的相似度？math.log取对数，对数+1的倒数，惩罚活跃用户】\n",
    "#                 print(i2i_sim)\n",
    "                #{157770: {96613: 0.9102392266268373}, 96613: {157770: 0.9102392266268373}, 160417: {5408: 0.7213475204444817, 50823: 0.7213475204444817},\n",
    "    i2i_sim_ = i2i_sim.copy()\n",
    "    for i, related_items in i2i_sim.items():#遍历{文章id:{有关文章:关联度}...\n",
    "        for j,wij in related_items.items():#遍历{有关文章:关联度}\n",
    "            \n",
    "#             print(item_cnt[i])\n",
    "#             print(item_cnt[j])\n",
    "            i2i_sim_[i][j] = wij/math.sqrt(item_cnt[i]*item_cnt[j])#item_cnt[i]点击文章i的用户数，item_cnt[j]点击其它文章用户数数\n",
    "#             print(i2i_sim_)\n",
    "            \n",
    "#     print(i2i_sim_)#只测几条，都是1，1*1开方还是1，所以和上面相同，忽略不用管\n",
    "#     {157770: {96613: 0.9102392266268373}, 96613: {157770: 0.9102392266268373}, 160417: {5408: 0.7213475204444817, 50823: 0.7213475204444817}, 5408: {160417: 0.7213475204444817, 50823: 0.7213475204444817}, 50823: {160417: 0.7213475204444817, 5408: 0.7213475204444817}}      \n",
    "                \n",
    "   #将得到的相似性矩阵保存到本地\n",
    "    pickle.dump(i2i_sim_,open(save_path+'itemcf_i2i_sim.pkl','wb'))\n",
    "    \n",
    "    return i2i_sim_\n",
    "      \n",
    "    \n",
    "    \n",
    "    "
   ]
  },
  {
   "cell_type": "code",
   "execution_count": 37,
   "metadata": {},
   "outputs": [
    {
     "name": "stderr",
     "output_type": "stream",
     "text": [
      "100%|████████████████████████████████████████████████████████████████████████████████████████████| 2/2 [00:00<?, ?it/s]\n"
     ]
    },
    {
     "data": {
      "text/plain": [
       "{157770: {96613: 0.9102392266268373},\n",
       " 96613: {157770: 0.9102392266268373},\n",
       " 160417: {5408: 0.7213475204444817, 50823: 0.7213475204444817},\n",
       " 5408: {160417: 0.7213475204444817, 50823: 0.7213475204444817},\n",
       " 50823: {160417: 0.7213475204444817, 5408: 0.7213475204444817}}"
      ]
     },
     "execution_count": 37,
     "metadata": {},
     "output_type": "execute_result"
    }
   ],
   "source": [
    "# itemcf_sim(get_all_click_df().head())"
   ]
  },
  {
   "cell_type": "code",
   "execution_count": 18,
   "metadata": {},
   "outputs": [],
   "source": [
    "# from tqdm import tqdm\n",
    "# import time\n",
    " \n",
    "# for i in tqdm(range(100)):\n",
    "#   time.sleep(0.1)\n",
    "#   pass\n",
    "#tqdm展示步骤进度条"
   ]
  },
  {
   "cell_type": "code",
   "execution_count": 19,
   "metadata": {},
   "outputs": [
    {
     "name": "stdout",
     "output_type": "stream",
     "text": [
      "defaultdict(<class 'int'>, {157770: 1, 96613: 1})\n"
     ]
    }
   ],
   "source": [
    "# item_cnt = defaultdict(int)\n",
    "# for i, i_click_tim in [(157770, 1507029532200), (96613, 1507029671831)]:\n",
    "#     item_cnt[i] += 1\n",
    "# print(item_cnt)\n",
    "#defaultdict(<class 'int'>, {157770: 1, 96613: 1})  "
   ]
  },
  {
   "cell_type": "code",
   "execution_count": 39,
   "metadata": {},
   "outputs": [],
   "source": [
    "# 全量训练集\n",
    "all_click_df = get_all_click_df(offline=False)"
   ]
  },
  {
   "cell_type": "code",
   "execution_count": 40,
   "metadata": {},
   "outputs": [
    {
     "name": "stderr",
     "output_type": "stream",
     "text": [
      "100%|███████████████████████████████████████████████████████████████████████| 250000/250000 [00:23<00:00, 10737.57it/s]\n"
     ]
    }
   ],
   "source": [
    "i2i_sim = itemcf_sim(all_click_df)"
   ]
  },
  {
   "cell_type": "code",
   "execution_count": 54,
   "metadata": {},
   "outputs": [],
   "source": [
    "#itemCF 的文章推荐\n",
    "#基于商品（文章）的招回（排序推荐）i2i\n",
    "#【思路：排序，选中，不够数的补热点新闻】\n",
    "def item_based_recommend(user_id,user_item_tiem_dict,i2i_sim,sim_item_topk,recall_item_num,item_topk_click):\n",
    "    #user_id: 用户id\n",
    "    #user_item_time_dict拼接数据{user1: [(item1文章id, time1时间戳), (item2, time2)\n",
    "    #i2i_sim文章相似度矩阵\n",
    "    #sim_item_topk 选择最相似topk\n",
    "    #recall_item_num 最后召回（推荐？）文章数，自定义推荐几篇，比如10\n",
    "    #item_topk_click 文章点击列表，点击次数最多的文章列表，热门文章列表，用于补充召回\n",
    "    #多路召回会加入关联规则召回策略\n",
    "    \n",
    "    #获取用户历史交互文章，组装数据字典user_item_time_dict\n",
    "    user_hist_items = user_item_time_dict[user_id]\n",
    "    #单独提一份用户id\n",
    "    user_hist_items_ = {user_id for user_id,_ in user_hist_items}\n",
    "    \n",
    "    item_rank = {}\n",
    "    for loc, (i,click_time) in enumerate(user_hist_items):\n",
    "        for j, wij in sorted(i2i_sim[i].items(),key=lambda x:x[1],reverse = True)[:sim_item_topk]:#遍历排序前topk个数组\n",
    "            if j in user_hist_items_:#用户Id列表\n",
    "                continue\n",
    "            item_rank.setdefault(j,0)#没有j的话，加入j键\n",
    "            item_rank[j] +=wij\n",
    "            \n",
    "    #不足10个用热门商品补全\n",
    "    if len(item_rank) < recall_item_num:\n",
    "        for i,item in enumerate(item_topk_click):\n",
    "            if item in item_rank.items():#过滤掉已有的\n",
    "                continue\n",
    "            item_rank[item] = -i - 100#【推荐权值给个负数，不要超过之前算出来的推荐的】\n",
    "            if len(item_rank) == recall_item_num:#补购数停止\n",
    "                break\n",
    "                \n",
    "    #排序\n",
    "    item_rank = sorted(item_rank.items(),key = lambda x:x[1],reverse = True)[:recall_item_num]\n",
    "    \n",
    "    \n",
    "    return item_rank\n",
    "    \n"
   ]
  },
  {
   "cell_type": "code",
   "execution_count": 47,
   "metadata": {},
   "outputs": [],
   "source": [
    "# 获取近期热点(点击量)文章\n",
    "def get_item_topk_click(click_df,k):#数据df,topk篇\n",
    "    topk_click = click_df['click_article_id'].value_counts().index[:k]\n",
    "    return topk_click\n",
    "    \n"
   ]
  },
  {
   "cell_type": "code",
   "execution_count": 55,
   "metadata": {},
   "outputs": [
    {
     "name": "stderr",
     "output_type": "stream",
     "text": [
      "100%|██████████████████████████████████████████████████████████████████████████| 250000/250000 [44:33<00:00, 93.52it/s]\n"
     ]
    }
   ],
   "source": [
    "#==主函数执行==\n",
    "#定义一个字典\n",
    "user_recall_items_dict = collections.defaultdict(dict)\n",
    "#获取组装好的数据\n",
    "user_item_time_dict = get_user_item_time(all_click_df)\n",
    "#读取文章相似度\n",
    "i2i_sim = pickle.load(open(save_path + 'itemcf_i2i_sim.pkl','rb'))\n",
    "#取top 10 相似文章推荐\n",
    "sim_item_topk = 10\n",
    "#召回文章数（设定推荐文章数）\n",
    "recall_item_num = 10\n",
    "#不足的用热度文章补\n",
    "item_topk_click = get_item_topk_click(all_click_df,k=50)\n",
    "\n",
    "for user in tqdm(all_click_df['user_id'].unique()):\n",
    "    user_recall_items_dict[user] = item_based_recommend(user,user_item_time_dict,i2i_sim,sim_item_topk,recall_item_num,item_topk_click)"
   ]
  },
  {
   "cell_type": "code",
   "execution_count": 46,
   "metadata": {},
   "outputs": [
    {
     "name": "stdout",
     "output_type": "stream",
     "text": [
      "defaultdict(<class 'list'>, {})\n",
      "[('blue', [2, 4]), ('red', [1]), ('yellow', [1, 3])]\n"
     ]
    }
   ],
   "source": [
    "# from collections import defaultdict\n",
    "# s=[('yellow',1),('blue', 2), ('yellow', 3), ('blue', 4), ('red', 1)]\n",
    "# d=defaultdict(list)\n",
    "# print(d)\n",
    "# for k, v in s:\n",
    "#     d[k].append(v)\n",
    "# a=sorted(d.items())\n",
    "# print(a)"
   ]
  },
  {
   "cell_type": "code",
   "execution_count": 56,
   "metadata": {},
   "outputs": [
    {
     "name": "stderr",
     "output_type": "stream",
     "text": [
      "100%|███████████████████████████████████████████████████████████████████████| 250000/250000 [00:03<00:00, 67511.18it/s]\n"
     ]
    }
   ],
   "source": [
    "#==把上面召回文章字典user_recall_items_dict转换成df==\n",
    "#把字典中的三项，转到列表中，生成df\n",
    "user_item_score_list = []\n",
    "for user,items in tqdm(user_recall_items_dict.items()):\n",
    "    for item, score in items:\n",
    "        user_item_score_list.append([user,item,score])\n",
    "        \n",
    "recall_df = pd.DataFrame(user_item_score_list,columns = ['user_id','click_article_id','pred_score'])"
   ]
  },
  {
   "cell_type": "code",
   "execution_count": 57,
   "metadata": {},
   "outputs": [
    {
     "data": {
      "text/html": [
       "<div>\n",
       "<style scoped>\n",
       "    .dataframe tbody tr th:only-of-type {\n",
       "        vertical-align: middle;\n",
       "    }\n",
       "\n",
       "    .dataframe tbody tr th {\n",
       "        vertical-align: top;\n",
       "    }\n",
       "\n",
       "    .dataframe thead th {\n",
       "        text-align: right;\n",
       "    }\n",
       "</style>\n",
       "<table border=\"1\" class=\"dataframe\">\n",
       "  <thead>\n",
       "    <tr style=\"text-align: right;\">\n",
       "      <th></th>\n",
       "      <th>user_id</th>\n",
       "      <th>click_article_id</th>\n",
       "      <th>pred_score</th>\n",
       "    </tr>\n",
       "  </thead>\n",
       "  <tbody>\n",
       "    <tr>\n",
       "      <th>0</th>\n",
       "      <td>199999</td>\n",
       "      <td>276970</td>\n",
       "      <td>0.172377</td>\n",
       "    </tr>\n",
       "    <tr>\n",
       "      <th>1</th>\n",
       "      <td>199999</td>\n",
       "      <td>158536</td>\n",
       "      <td>0.106969</td>\n",
       "    </tr>\n",
       "    <tr>\n",
       "      <th>2</th>\n",
       "      <td>199999</td>\n",
       "      <td>286321</td>\n",
       "      <td>0.097774</td>\n",
       "    </tr>\n",
       "    <tr>\n",
       "      <th>3</th>\n",
       "      <td>199999</td>\n",
       "      <td>108855</td>\n",
       "      <td>0.092462</td>\n",
       "    </tr>\n",
       "    <tr>\n",
       "      <th>4</th>\n",
       "      <td>199999</td>\n",
       "      <td>162655</td>\n",
       "      <td>0.091407</td>\n",
       "    </tr>\n",
       "  </tbody>\n",
       "</table>\n",
       "</div>"
      ],
      "text/plain": [
       "   user_id  click_article_id  pred_score\n",
       "0   199999            276970    0.172377\n",
       "1   199999            158536    0.106969\n",
       "2   199999            286321    0.097774\n",
       "3   199999            108855    0.092462\n",
       "4   199999            162655    0.091407"
      ]
     },
     "execution_count": 57,
     "metadata": {},
     "output_type": "execute_result"
    }
   ],
   "source": [
    "recall_df.head()"
   ]
  },
  {
   "cell_type": "code",
   "execution_count": 58,
   "metadata": {},
   "outputs": [],
   "source": [
    "# 生成提交文件\n",
    "#选5篇写入结果提交文件\n",
    "def submit(recall_df, topk=5, model_name=None):\n",
    "    recall_df = recall_df.sort_values(by=['user_id', 'pred_score'])\n",
    "    recall_df['rank'] = recall_df.groupby(['user_id'])['pred_score'].rank(ascending=False, method='first')\n",
    "    \n",
    "    # 判断是不是每个用户都有5篇文章及以上\n",
    "    tmp = recall_df.groupby('user_id').apply(lambda x: x['rank'].max())\n",
    "    assert tmp.min() >= topk\n",
    "    \n",
    "    del recall_df['pred_score']\n",
    "    submit = recall_df[recall_df['rank'] <= topk].set_index(['user_id', 'rank']).unstack(-1).reset_index()\n",
    "    \n",
    "    submit.columns = [int(col) if isinstance(col, int) else col for col in submit.columns.droplevel(0)]\n",
    "    # 按照提交格式定义列名\n",
    "    submit = submit.rename(columns={'': 'user_id', 1: 'article_1', 2: 'article_2', \n",
    "                                                  3: 'article_3', 4: 'article_4', 5: 'article_5'})\n",
    "    \n",
    "    save_name = save_path + model_name + '_' + datetime.today().strftime('%m-%d') + '.csv'\n",
    "    submit.to_csv(save_name, index=False, header=True)"
   ]
  },
  {
   "cell_type": "code",
   "execution_count": 59,
   "metadata": {},
   "outputs": [],
   "source": [
    "# 获取测试集\n",
    "tst_click = pd.read_csv(data_path + 'testA_click_log.csv')\n",
    "tst_users = tst_click['user_id'].unique()\n",
    "\n",
    "# 从所有的召回数据中将测试集中的用户选出来\n",
    "tst_recall = recall_df[recall_df['user_id'].isin(tst_users)]\n",
    "\n",
    "# 生成提交文件\n",
    "submit(tst_recall, topk=5, model_name='itemcf_baseline')"
   ]
  },
  {
   "cell_type": "code",
   "execution_count": null,
   "metadata": {},
   "outputs": [],
   "source": [
    "#参考：http://datawhale.club/t/topic/196"
   ]
  }
 ],
 "metadata": {
  "kernelspec": {
   "display_name": "Python 3",
   "language": "python",
   "name": "python3"
  },
  "language_info": {
   "codemirror_mode": {
    "name": "ipython",
    "version": 3
   },
   "file_extension": ".py",
   "mimetype": "text/x-python",
   "name": "python",
   "nbconvert_exporter": "python",
   "pygments_lexer": "ipython3",
   "version": "3.6.5"
  }
 },
 "nbformat": 4,
 "nbformat_minor": 2
}
