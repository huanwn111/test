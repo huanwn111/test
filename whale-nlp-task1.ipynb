{
 "cells": [
  {
   "cell_type": "markdown",
   "metadata": {},
   "source": [
    "# Task1 赛题理解"
   ]
  },
  {
   "cell_type": "code",
   "execution_count": null,
   "metadata": {},
   "outputs": [],
   "source": [
    "#天池vs dataWhale Nlp新闻文本分类赛题理解\n",
    "'''\n",
    "\n",
    "一、数据：\n",
    "新闻数据14类（字符用数据编号处理过）\n",
    "{'科技': 0, '股票': 1, '体育': 2, '娱乐': 3, '时政': 4, '社会': 5, '教育': 6, '财经': 7, '家居': 8, '游戏': 9, '房产': 10, '时尚': 11, '彩票': 12, '星座': 13}\n",
    "训练集20w条样本，测试集A包括5w条样本，测试集B包括5w条样本\n",
    "csv文件格式，数据列用\\t\n",
    "读取示例：\n",
    "train_df = pd.read_csv('../input/train_set.csv', sep='\\t')\n",
    "\n",
    "二、评测标准：\n",
    "F1=2∗ (precision+recall)/(precision∗recall)\n",
    "可使用包\n",
    "from sklearn.metrics import f1_score\n",
    "y_true = [0, 1, 2, 0, 1, 2]\n",
    "y_pred = [0, 2, 1, 0, 0, 1]\n",
    "f1_score(y_true, y_pred, average='macro')\n",
    "\n",
    "三、结果提交：\n",
    "提交前请确保预测结果的格式与sample_submit.csv中的格式一致，以及提交文件后缀名为csv。\n",
    "\n",
    "四、思路：\n",
    "\n",
    "数据分析：数据已是字符代表的数据编号，无需进行数字化对应和中文分词步骤（若是汉字，需首先做这两步处理）；\n",
    "\n",
    "本例可以基于字的特征进行分类：\n",
    "特征工程（提取特征）：\n",
    "TF-IDF 提取词频逆文档频率做特征 + 机器学习模型（SVM、LR、随机森林、决策树、集成模型等）\n",
    "\n",
    "向量化特征(word2vec、FastTest 向量化降维特征)+深度学习模型(CNN,RNN,BiLSTM、Bert、多模型融合)：\n",
    "\n",
    "\n",
    "'''"
   ]
  },
  {
   "cell_type": "code",
   "execution_count": null,
   "metadata": {},
   "outputs": [],
   "source": []
  }
 ],
 "metadata": {
  "kernelspec": {
   "display_name": "Python 3",
   "language": "python",
   "name": "python3"
  },
  "language_info": {
   "codemirror_mode": {
    "name": "ipython",
    "version": 3
   },
   "file_extension": ".py",
   "mimetype": "text/x-python",
   "name": "python",
   "nbconvert_exporter": "python",
   "pygments_lexer": "ipython3",
   "version": "3.6.5"
  }
 },
 "nbformat": 4,
 "nbformat_minor": 2
}
