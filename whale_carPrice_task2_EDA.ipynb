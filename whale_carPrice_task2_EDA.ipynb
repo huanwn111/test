{
 "cells": [
  {
   "cell_type": "code",
   "execution_count": 300,
   "metadata": {},
   "outputs": [],
   "source": [
    "#预测二手车价格打卡\n",
    "import pandas as pd\n",
    "import numpy as np\n",
    "import matplotlib.pyplot as plt\n",
    "% matplotlib inline"
   ]
  },
  {
   "cell_type": "code",
   "execution_count": 301,
   "metadata": {},
   "outputs": [
    {
     "data": {
      "text/html": [
       "<div>\n",
       "<style scoped>\n",
       "    .dataframe tbody tr th:only-of-type {\n",
       "        vertical-align: middle;\n",
       "    }\n",
       "\n",
       "    .dataframe tbody tr th {\n",
       "        vertical-align: top;\n",
       "    }\n",
       "\n",
       "    .dataframe thead th {\n",
       "        text-align: right;\n",
       "    }\n",
       "</style>\n",
       "<table border=\"1\" class=\"dataframe\">\n",
       "  <thead>\n",
       "    <tr style=\"text-align: right;\">\n",
       "      <th></th>\n",
       "      <th>SaleID</th>\n",
       "      <th>name</th>\n",
       "      <th>regDate</th>\n",
       "      <th>model</th>\n",
       "      <th>brand</th>\n",
       "      <th>bodyType</th>\n",
       "      <th>fuelType</th>\n",
       "      <th>gearbox</th>\n",
       "      <th>power</th>\n",
       "      <th>kilometer</th>\n",
       "      <th>...</th>\n",
       "      <th>v_5</th>\n",
       "      <th>v_6</th>\n",
       "      <th>v_7</th>\n",
       "      <th>v_8</th>\n",
       "      <th>v_9</th>\n",
       "      <th>v_10</th>\n",
       "      <th>v_11</th>\n",
       "      <th>v_12</th>\n",
       "      <th>v_13</th>\n",
       "      <th>v_14</th>\n",
       "    </tr>\n",
       "  </thead>\n",
       "  <tbody>\n",
       "    <tr>\n",
       "      <th>0</th>\n",
       "      <td>0</td>\n",
       "      <td>736</td>\n",
       "      <td>20040402</td>\n",
       "      <td>30.0</td>\n",
       "      <td>6</td>\n",
       "      <td>1.0</td>\n",
       "      <td>0.0</td>\n",
       "      <td>0.0</td>\n",
       "      <td>60</td>\n",
       "      <td>12.5</td>\n",
       "      <td>...</td>\n",
       "      <td>0.235676</td>\n",
       "      <td>0.101988</td>\n",
       "      <td>0.129549</td>\n",
       "      <td>0.022816</td>\n",
       "      <td>0.097462</td>\n",
       "      <td>-2.881803</td>\n",
       "      <td>2.804097</td>\n",
       "      <td>-2.420821</td>\n",
       "      <td>0.795292</td>\n",
       "      <td>0.914763</td>\n",
       "    </tr>\n",
       "    <tr>\n",
       "      <th>1</th>\n",
       "      <td>1</td>\n",
       "      <td>2262</td>\n",
       "      <td>20030301</td>\n",
       "      <td>40.0</td>\n",
       "      <td>1</td>\n",
       "      <td>2.0</td>\n",
       "      <td>0.0</td>\n",
       "      <td>0.0</td>\n",
       "      <td>0</td>\n",
       "      <td>15.0</td>\n",
       "      <td>...</td>\n",
       "      <td>0.264777</td>\n",
       "      <td>0.121004</td>\n",
       "      <td>0.135731</td>\n",
       "      <td>0.026597</td>\n",
       "      <td>0.020582</td>\n",
       "      <td>-4.900482</td>\n",
       "      <td>2.096338</td>\n",
       "      <td>-1.030483</td>\n",
       "      <td>-1.722674</td>\n",
       "      <td>0.245522</td>\n",
       "    </tr>\n",
       "    <tr>\n",
       "      <th>2</th>\n",
       "      <td>2</td>\n",
       "      <td>14874</td>\n",
       "      <td>20040403</td>\n",
       "      <td>115.0</td>\n",
       "      <td>15</td>\n",
       "      <td>1.0</td>\n",
       "      <td>0.0</td>\n",
       "      <td>0.0</td>\n",
       "      <td>163</td>\n",
       "      <td>12.5</td>\n",
       "      <td>...</td>\n",
       "      <td>0.251410</td>\n",
       "      <td>0.114912</td>\n",
       "      <td>0.165147</td>\n",
       "      <td>0.062173</td>\n",
       "      <td>0.027075</td>\n",
       "      <td>-4.846749</td>\n",
       "      <td>1.803559</td>\n",
       "      <td>1.565330</td>\n",
       "      <td>-0.832687</td>\n",
       "      <td>-0.229963</td>\n",
       "    </tr>\n",
       "    <tr>\n",
       "      <th>3</th>\n",
       "      <td>3</td>\n",
       "      <td>71865</td>\n",
       "      <td>19960908</td>\n",
       "      <td>109.0</td>\n",
       "      <td>10</td>\n",
       "      <td>0.0</td>\n",
       "      <td>0.0</td>\n",
       "      <td>1.0</td>\n",
       "      <td>193</td>\n",
       "      <td>15.0</td>\n",
       "      <td>...</td>\n",
       "      <td>0.274293</td>\n",
       "      <td>0.110300</td>\n",
       "      <td>0.121964</td>\n",
       "      <td>0.033395</td>\n",
       "      <td>0.000000</td>\n",
       "      <td>-4.509599</td>\n",
       "      <td>1.285940</td>\n",
       "      <td>-0.501868</td>\n",
       "      <td>-2.438353</td>\n",
       "      <td>-0.478699</td>\n",
       "    </tr>\n",
       "    <tr>\n",
       "      <th>4</th>\n",
       "      <td>4</td>\n",
       "      <td>111080</td>\n",
       "      <td>20120103</td>\n",
       "      <td>110.0</td>\n",
       "      <td>5</td>\n",
       "      <td>1.0</td>\n",
       "      <td>0.0</td>\n",
       "      <td>0.0</td>\n",
       "      <td>68</td>\n",
       "      <td>5.0</td>\n",
       "      <td>...</td>\n",
       "      <td>0.228036</td>\n",
       "      <td>0.073205</td>\n",
       "      <td>0.091880</td>\n",
       "      <td>0.078819</td>\n",
       "      <td>0.121534</td>\n",
       "      <td>-1.896240</td>\n",
       "      <td>0.910783</td>\n",
       "      <td>0.931110</td>\n",
       "      <td>2.834518</td>\n",
       "      <td>1.923482</td>\n",
       "    </tr>\n",
       "  </tbody>\n",
       "</table>\n",
       "<p>5 rows × 31 columns</p>\n",
       "</div>"
      ],
      "text/plain": [
       "   SaleID    name   regDate  model  brand  bodyType  fuelType  gearbox  power  \\\n",
       "0       0     736  20040402   30.0      6       1.0       0.0      0.0     60   \n",
       "1       1    2262  20030301   40.0      1       2.0       0.0      0.0      0   \n",
       "2       2   14874  20040403  115.0     15       1.0       0.0      0.0    163   \n",
       "3       3   71865  19960908  109.0     10       0.0       0.0      1.0    193   \n",
       "4       4  111080  20120103  110.0      5       1.0       0.0      0.0     68   \n",
       "\n",
       "   kilometer  ...       v_5       v_6       v_7       v_8       v_9      v_10  \\\n",
       "0       12.5  ...  0.235676  0.101988  0.129549  0.022816  0.097462 -2.881803   \n",
       "1       15.0  ...  0.264777  0.121004  0.135731  0.026597  0.020582 -4.900482   \n",
       "2       12.5  ...  0.251410  0.114912  0.165147  0.062173  0.027075 -4.846749   \n",
       "3       15.0  ...  0.274293  0.110300  0.121964  0.033395  0.000000 -4.509599   \n",
       "4        5.0  ...  0.228036  0.073205  0.091880  0.078819  0.121534 -1.896240   \n",
       "\n",
       "       v_11      v_12      v_13      v_14  \n",
       "0  2.804097 -2.420821  0.795292  0.914763  \n",
       "1  2.096338 -1.030483 -1.722674  0.245522  \n",
       "2  1.803559  1.565330 -0.832687 -0.229963  \n",
       "3  1.285940 -0.501868 -2.438353 -0.478699  \n",
       "4  0.910783  0.931110  2.834518  1.923482  \n",
       "\n",
       "[5 rows x 31 columns]"
      ]
     },
     "execution_count": 301,
     "metadata": {},
     "output_type": "execute_result"
    }
   ],
   "source": [
    "dfCar = pd.read_csv(\"data//used_car_train_20200313.csv\")\n",
    "dfCar.head()"
   ]
  },
  {
   "cell_type": "code",
   "execution_count": 302,
   "metadata": {},
   "outputs": [
    {
     "data": {
      "text/plain": [
       "(150000, 31)"
      ]
     },
     "execution_count": 302,
     "metadata": {},
     "output_type": "execute_result"
    }
   ],
   "source": [
    "dfCar.shape"
   ]
  },
  {
   "cell_type": "code",
   "execution_count": 303,
   "metadata": {},
   "outputs": [],
   "source": [
    "dfCarTest = pd.read_csv(\"data//used_car_testA_20200313.csv\")\n",
    "#dfCarTest.head()"
   ]
  },
  {
   "cell_type": "code",
   "execution_count": 304,
   "metadata": {},
   "outputs": [
    {
     "data": {
      "text/plain": [
       "(50000, 30)"
      ]
     },
     "execution_count": 304,
     "metadata": {},
     "output_type": "execute_result"
    }
   ],
   "source": [
    "dfCarTest.shape#A测试集没有price，用来做最后预测结果，训练可忽略"
   ]
  },
  {
   "cell_type": "code",
   "execution_count": 305,
   "metadata": {},
   "outputs": [
    {
     "data": {
      "text/plain": [
       "SaleID                   0\n",
       "name                     0\n",
       "regDate                  0\n",
       "model                    1\n",
       "brand                    0\n",
       "bodyType              4506\n",
       "fuelType              8680\n",
       "gearbox               5981\n",
       "power                    0\n",
       "kilometer                0\n",
       "notRepairedDamage    24324\n",
       "regionCode               0\n",
       "seller                   0\n",
       "offerType                0\n",
       "creatDate                0\n",
       "price                    0\n",
       "v_0                      0\n",
       "v_1                      0\n",
       "v_2                      0\n",
       "v_3                      0\n",
       "v_4                      0\n",
       "v_5                      0\n",
       "v_6                      0\n",
       "v_7                      0\n",
       "v_8                      0\n",
       "v_9                      0\n",
       "v_10                     0\n",
       "v_11                     0\n",
       "v_12                     0\n",
       "v_13                     0\n",
       "v_14                     0\n",
       "dtype: int64"
      ]
     },
     "execution_count": 305,
     "metadata": {},
     "output_type": "execute_result"
    }
   ],
   "source": [
    "dfCar.isnull().sum() #查看空值"
   ]
  },
  {
   "cell_type": "code",
   "execution_count": 306,
   "metadata": {},
   "outputs": [
    {
     "name": "stdout",
     "output_type": "stream",
     "text": [
      "<class 'pandas.core.frame.DataFrame'>\n",
      "RangeIndex: 150000 entries, 0 to 149999\n",
      "Data columns (total 31 columns):\n",
      "SaleID               150000 non-null int64\n",
      "name                 150000 non-null int64\n",
      "regDate              150000 non-null int64\n",
      "model                149999 non-null float64\n",
      "brand                150000 non-null int64\n",
      "bodyType             145494 non-null float64\n",
      "fuelType             141320 non-null float64\n",
      "gearbox              144019 non-null float64\n",
      "power                150000 non-null int64\n",
      "kilometer            150000 non-null float64\n",
      "notRepairedDamage    125676 non-null float64\n",
      "regionCode           150000 non-null int64\n",
      "seller               150000 non-null int64\n",
      "offerType            150000 non-null int64\n",
      "creatDate            150000 non-null int64\n",
      "price                150000 non-null int64\n",
      "v_0                  150000 non-null float64\n",
      "v_1                  150000 non-null float64\n",
      "v_2                  150000 non-null float64\n",
      "v_3                  150000 non-null float64\n",
      "v_4                  150000 non-null float64\n",
      "v_5                  150000 non-null float64\n",
      "v_6                  150000 non-null float64\n",
      "v_7                  150000 non-null float64\n",
      "v_8                  150000 non-null float64\n",
      "v_9                  150000 non-null float64\n",
      "v_10                 150000 non-null float64\n",
      "v_11                 150000 non-null float64\n",
      "v_12                 150000 non-null float64\n",
      "v_13                 150000 non-null float64\n",
      "v_14                 150000 non-null float64\n",
      "dtypes: float64(21), int64(10)\n",
      "memory usage: 35.5 MB\n"
     ]
    }
   ],
   "source": [
    "#=1）数据分析：=\n",
    "#查看数据信息\n",
    "dfCar.info()"
   ]
  },
  {
   "cell_type": "code",
   "execution_count": 307,
   "metadata": {},
   "outputs": [],
   "source": [
    "#缺失数据统计：\n",
    "#model 149999 少1\n",
    "#bodyType 145494 少4506\n",
    "#fuelType 141320 少8680\n",
    "#gearbox  144019 少5981\n"
   ]
  },
  {
   "cell_type": "code",
   "execution_count": 308,
   "metadata": {},
   "outputs": [],
   "source": [
    "#删掉model为空的数据行（缺失少的删掉）\n",
    "dfCar = dfCar.dropna(subset=['model'],axis=0)\n"
   ]
  },
  {
   "cell_type": "code",
   "execution_count": 309,
   "metadata": {},
   "outputs": [
    {
     "name": "stdout",
     "output_type": "stream",
     "text": [
      "<class 'pandas.core.frame.DataFrame'>\n",
      "Int64Index: 149999 entries, 0 to 149999\n",
      "Data columns (total 31 columns):\n",
      "SaleID               149999 non-null int64\n",
      "name                 149999 non-null int64\n",
      "regDate              149999 non-null int64\n",
      "model                149999 non-null float64\n",
      "brand                149999 non-null int64\n",
      "bodyType             145493 non-null float64\n",
      "fuelType             141319 non-null float64\n",
      "gearbox              144018 non-null float64\n",
      "power                149999 non-null int64\n",
      "kilometer            149999 non-null float64\n",
      "notRepairedDamage    125675 non-null float64\n",
      "regionCode           149999 non-null int64\n",
      "seller               149999 non-null int64\n",
      "offerType            149999 non-null int64\n",
      "creatDate            149999 non-null int64\n",
      "price                149999 non-null int64\n",
      "v_0                  149999 non-null float64\n",
      "v_1                  149999 non-null float64\n",
      "v_2                  149999 non-null float64\n",
      "v_3                  149999 non-null float64\n",
      "v_4                  149999 non-null float64\n",
      "v_5                  149999 non-null float64\n",
      "v_6                  149999 non-null float64\n",
      "v_7                  149999 non-null float64\n",
      "v_8                  149999 non-null float64\n",
      "v_9                  149999 non-null float64\n",
      "v_10                 149999 non-null float64\n",
      "v_11                 149999 non-null float64\n",
      "v_12                 149999 non-null float64\n",
      "v_13                 149999 non-null float64\n",
      "v_14                 149999 non-null float64\n",
      "dtypes: float64(21), int64(10)\n",
      "memory usage: 36.6 MB\n"
     ]
    }
   ],
   "source": [
    "dfCar.info()"
   ]
  },
  {
   "cell_type": "code",
   "execution_count": 310,
   "metadata": {},
   "outputs": [
    {
     "data": {
      "text/plain": [
       "array([ 1.,  2.,  0.,  5.,  3., nan,  6.,  7.,  4.])"
      ]
     },
     "execution_count": 310,
     "metadata": {},
     "output_type": "execute_result"
    }
   ],
   "source": [
    "#==分类数据的填充方法探索==\n",
    "dfCar[\"bodyType\"].unique()#bodyType有9种"
   ]
  },
  {
   "cell_type": "code",
   "execution_count": 311,
   "metadata": {},
   "outputs": [
    {
     "data": {
      "text/plain": [
       "bodyType\n",
       "0.0    41420\n",
       "1.0    35272\n",
       "2.0    30324\n",
       "3.0    13491\n",
       "4.0     9609\n",
       "5.0     7607\n",
       "6.0     6481\n",
       "7.0     1289\n",
       "Name: SaleID, dtype: int64"
      ]
     },
     "execution_count": 311,
     "metadata": {},
     "output_type": "execute_result"
    }
   ],
   "source": [
    "#分组统计一下各种类型有多少\n",
    "bodyTypeC = dfCar.groupby(['bodyType'])['SaleID'].count()\n",
    "bodyTypeC"
   ]
  },
  {
   "cell_type": "code",
   "execution_count": 312,
   "metadata": {},
   "outputs": [
    {
     "data": {
      "text/plain": [
       "bodyType\n",
       "0.0    0.276133\n",
       "1.0    0.235147\n",
       "2.0    0.202160\n",
       "3.0    0.089940\n",
       "4.0    0.064060\n",
       "5.0    0.050713\n",
       "6.0    0.043207\n",
       "7.0    0.008593\n",
       "Name: SaleID, dtype: float64"
      ]
     },
     "execution_count": 312,
     "metadata": {},
     "output_type": "execute_result"
    }
   ],
   "source": [
    "#统计下占比\n",
    "bodyTypeCRate = dfCar.groupby(['bodyType'])['SaleID'].count()/150000\n",
    "bodyTypeCRate"
   ]
  },
  {
   "cell_type": "code",
   "execution_count": 313,
   "metadata": {},
   "outputs": [
    {
     "data": {
      "text/plain": [
       "0.0    41420\n",
       "1.0    35272\n",
       "2.0    30324\n",
       "3.0    13491\n",
       "4.0     9609\n",
       "5.0     7607\n",
       "6.0     6481\n",
       "7.0     1289\n",
       "Name: bodyType, dtype: int64"
      ]
     },
     "execution_count": 313,
     "metadata": {},
     "output_type": "execute_result"
    }
   ],
   "source": [
    "#【或不用分组，直接通过以下方法直接查看唯一值】\n",
    "dfCar['bodyType'].value_counts() "
   ]
  },
  {
   "cell_type": "code",
   "execution_count": 314,
   "metadata": {},
   "outputs": [
    {
     "data": {
      "text/plain": [
       "bodyType\n",
       "0.0    1244.0\n",
       "1.0    1060.0\n",
       "2.0     911.0\n",
       "3.0     405.0\n",
       "4.0     289.0\n",
       "5.0     229.0\n",
       "6.0     195.0\n",
       "7.0      39.0\n",
       "Name: SaleID, dtype: float64"
      ]
     },
     "execution_count": 314,
     "metadata": {},
     "output_type": "execute_result"
    }
   ],
   "source": [
    "#缺少的4506条bodyType，按各类占比同比例补充假类别\n",
    "bodyTypeFake = round(4506*dfCar.groupby(['bodyType'])['SaleID'].count()/150000)\n",
    "bodyTypeFake"
   ]
  },
  {
   "cell_type": "code",
   "execution_count": 315,
   "metadata": {},
   "outputs": [
    {
     "data": {
      "text/plain": [
       "(4506, 31)"
      ]
     },
     "execution_count": 315,
     "metadata": {},
     "output_type": "execute_result"
    }
   ],
   "source": [
    "dfCar[dfCar['bodyType'].isnull()].shape"
   ]
  },
  {
   "cell_type": "code",
   "execution_count": 316,
   "metadata": {},
   "outputs": [
    {
     "data": {
      "text/plain": [
       "(1244, 31)"
      ]
     },
     "execution_count": 316,
     "metadata": {},
     "output_type": "execute_result"
    }
   ],
   "source": [
    "dfCar[dfCar['bodyType'].isnull()].sample(n=1244).shape"
   ]
  },
  {
   "cell_type": "code",
   "execution_count": 317,
   "metadata": {},
   "outputs": [],
   "source": [
    "#按比例填充？待查\n",
    "#dfCar[dfCar['bodyType'].isnull()].sample(n=1244)['bodyType'].fillna(0.0,inplace=True)"
   ]
  },
  {
   "cell_type": "code",
   "execution_count": 318,
   "metadata": {},
   "outputs": [],
   "source": [
    "#dfCar.info()#上面填充方法没有生效"
   ]
  },
  {
   "cell_type": "code",
   "execution_count": 319,
   "metadata": {},
   "outputs": [],
   "source": [
    "#dfCar[dfCar['bodyType'].isnull()].sample(n=1244)['bodyType']=0.0\n",
    "#dfCar[dfCar['bodyType'].isnull()].sample(n=1060)['bodyType']=1.0\n",
    "#dfCar[dfCar['bodyType'].isnull()].sample(n=911)['bodyType']=2.0\n",
    "#dfCar[dfCar['bodyType'].isnull()].sample(n=405)['bodyType']=3.0\n",
    "#dfCar[dfCar['bodyType'].isnull()].sample(n=289)['bodyType']=4.0\n",
    "#dfCar[dfCar['bodyType'].isnull()].sample(n=229)['bodyType']=5.0\n",
    "#dfCar[dfCar['bodyType'].isnull()].sample(n=195)['bodyType']=6.0"
   ]
  },
  {
   "cell_type": "code",
   "execution_count": 320,
   "metadata": {},
   "outputs": [
    {
     "name": "stdout",
     "output_type": "stream",
     "text": [
      "<class 'pandas.core.frame.DataFrame'>\n",
      "Int64Index: 149999 entries, 0 to 149999\n",
      "Data columns (total 31 columns):\n",
      "SaleID               149999 non-null int64\n",
      "name                 149999 non-null int64\n",
      "regDate              149999 non-null int64\n",
      "model                149999 non-null float64\n",
      "brand                149999 non-null int64\n",
      "bodyType             149999 non-null float64\n",
      "fuelType             141319 non-null float64\n",
      "gearbox              144018 non-null float64\n",
      "power                149999 non-null int64\n",
      "kilometer            149999 non-null float64\n",
      "notRepairedDamage    125675 non-null float64\n",
      "regionCode           149999 non-null int64\n",
      "seller               149999 non-null int64\n",
      "offerType            149999 non-null int64\n",
      "creatDate            149999 non-null int64\n",
      "price                149999 non-null int64\n",
      "v_0                  149999 non-null float64\n",
      "v_1                  149999 non-null float64\n",
      "v_2                  149999 non-null float64\n",
      "v_3                  149999 non-null float64\n",
      "v_4                  149999 non-null float64\n",
      "v_5                  149999 non-null float64\n",
      "v_6                  149999 non-null float64\n",
      "v_7                  149999 non-null float64\n",
      "v_8                  149999 non-null float64\n",
      "v_9                  149999 non-null float64\n",
      "v_10                 149999 non-null float64\n",
      "v_11                 149999 non-null float64\n",
      "v_12                 149999 non-null float64\n",
      "v_13                 149999 non-null float64\n",
      "v_14                 149999 non-null float64\n",
      "dtypes: float64(21), int64(10)\n",
      "memory usage: 36.6 MB\n"
     ]
    }
   ],
   "source": [
    "#或采取原则：对于分类数据的填充，一般使用分类值中出现次数最多的值来填充（可能是已经很多了再多点也不会有大影响）。\n",
    "#但我们这个4000多条太多了，最多的40000多加上4000多影响很大\n",
    "#采用原则：【用前后数据填充】吧【感觉这种用前后填充的方法，最好先把数据shuffle打算下】\n",
    "dfCar['bodyType'] = dfCar['bodyType'].fillna(method='pad')#用前一个不为空的数据填充，bfill是后一个\n",
    "#注意赋值回去。\n",
    "dfCar.info()\n"
   ]
  },
  {
   "cell_type": "code",
   "execution_count": 321,
   "metadata": {},
   "outputs": [
    {
     "data": {
      "text/plain": [
       "bodyType\n",
       "0.0    0.284967\n",
       "1.0    0.242240\n",
       "2.0    0.208513\n",
       "3.0    0.092687\n",
       "4.0    0.066000\n",
       "5.0    0.052220\n",
       "6.0    0.044533\n",
       "7.0    0.008833\n",
       "Name: SaleID, dtype: float64"
      ]
     },
     "execution_count": 321,
     "metadata": {},
     "output_type": "execute_result"
    }
   ],
   "source": [
    "#填充完以后再看下各类比例变化大吗？还可以，影响不大。\n",
    "bodyTypeCRate = dfCar.groupby(['bodyType'])['SaleID'].count()/150000\n",
    "bodyTypeCRate\n",
    "#之前是\n",
    "#0.0    0.276133\n",
    "#1.0    0.235147\n",
    "#2.0    0.202160\n",
    "#3.0    0.089940\n",
    "#4.0    0.064060\n",
    "#5.0    0.050713\n",
    "#6.0    0.043207\n",
    "#7.0    0.008593"
   ]
  },
  {
   "cell_type": "code",
   "execution_count": 322,
   "metadata": {},
   "outputs": [
    {
     "data": {
      "text/plain": [
       "array([ 0.,  1., nan,  2.,  3.,  4.,  5.,  6.])"
      ]
     },
     "execution_count": 322,
     "metadata": {},
     "output_type": "execute_result"
    }
   ],
   "source": [
    "#用同上方法处理fuelType 少8680\n",
    "dfCar['fuelType'].unique()"
   ]
  },
  {
   "cell_type": "code",
   "execution_count": 323,
   "metadata": {},
   "outputs": [
    {
     "name": "stdout",
     "output_type": "stream",
     "text": [
      "fuelType\n",
      "0.0    0.611044\n",
      "1.0    0.313269\n",
      "2.0    0.014747\n",
      "3.0    0.001747\n",
      "4.0    0.000787\n",
      "5.0    0.000300\n",
      "6.0    0.000240\n",
      "Name: SaleID, dtype: float64\n"
     ]
    }
   ],
   "source": [
    "fuelTypeRate_1 = dfCar.groupby(['fuelType'])['SaleID'].count()/149999\n",
    "print(fuelTypeRate_1)"
   ]
  },
  {
   "cell_type": "code",
   "execution_count": 324,
   "metadata": {},
   "outputs": [
    {
     "data": {
      "text/plain": [
       "fuelType\n",
       "0.0    91656\n",
       "1.0    46990\n",
       "2.0     2212\n",
       "3.0      262\n",
       "4.0      118\n",
       "5.0       45\n",
       "6.0       36\n",
       "Name: SaleID, dtype: int64"
      ]
     },
     "execution_count": 324,
     "metadata": {},
     "output_type": "execute_result"
    }
   ],
   "source": [
    "fuelTypeRate_c = dfCar.groupby(['fuelType'])['SaleID'].count()\n",
    "fuelTypeRate_c"
   ]
  },
  {
   "cell_type": "code",
   "execution_count": 325,
   "metadata": {},
   "outputs": [
    {
     "name": "stdout",
     "output_type": "stream",
     "text": [
      "<class 'pandas.core.frame.DataFrame'>\n",
      "Int64Index: 149999 entries, 0 to 149999\n",
      "Data columns (total 31 columns):\n",
      "SaleID               149999 non-null int64\n",
      "name                 149999 non-null int64\n",
      "regDate              149999 non-null int64\n",
      "model                149999 non-null float64\n",
      "brand                149999 non-null int64\n",
      "bodyType             149999 non-null float64\n",
      "fuelType             149999 non-null float64\n",
      "gearbox              144018 non-null float64\n",
      "power                149999 non-null int64\n",
      "kilometer            149999 non-null float64\n",
      "notRepairedDamage    125675 non-null float64\n",
      "regionCode           149999 non-null int64\n",
      "seller               149999 non-null int64\n",
      "offerType            149999 non-null int64\n",
      "creatDate            149999 non-null int64\n",
      "price                149999 non-null int64\n",
      "v_0                  149999 non-null float64\n",
      "v_1                  149999 non-null float64\n",
      "v_2                  149999 non-null float64\n",
      "v_3                  149999 non-null float64\n",
      "v_4                  149999 non-null float64\n",
      "v_5                  149999 non-null float64\n",
      "v_6                  149999 non-null float64\n",
      "v_7                  149999 non-null float64\n",
      "v_8                  149999 non-null float64\n",
      "v_9                  149999 non-null float64\n",
      "v_10                 149999 non-null float64\n",
      "v_11                 149999 non-null float64\n",
      "v_12                 149999 non-null float64\n",
      "v_13                 149999 non-null float64\n",
      "v_14                 149999 non-null float64\n",
      "dtypes: float64(21), int64(10)\n",
      "memory usage: 36.6 MB\n"
     ]
    }
   ],
   "source": [
    "dfCar['fuelType'] = dfCar['fuelType'].fillna(method='pad')#注意前面千万不要少了['fuelType']\n",
    "dfCar.info()"
   ]
  },
  {
   "cell_type": "code",
   "execution_count": 326,
   "metadata": {},
   "outputs": [
    {
     "name": "stdout",
     "output_type": "stream",
     "text": [
      "fuelType\n",
      "0.0    0.648598\n",
      "1.0    0.332376\n",
      "2.0    0.015747\n",
      "3.0    0.001887\n",
      "4.0    0.000833\n",
      "5.0    0.000313\n",
      "6.0    0.000247\n",
      "Name: SaleID, dtype: float64\n"
     ]
    }
   ],
   "source": [
    "fuelTypeRate_2 = dfCar.groupby(['fuelType'])['SaleID'].count()/149999\n",
    "print(fuelTypeRate_2)\n",
    "#【对比比例：起初发现变化很大，是前一个bodyType的值，\n",
    "#检查发现dfCar['fuelType'] = dfCar['bodyType'].fillna(method='pad'\n",
    "#上面填充时写错，用bodyType填充的。\n",
    "#改后数据对比下，比例填充前后变化不大，可以的。】\n",
    "\n",
    "#0.0    0.611044\n",
    "#1.0    0.313269\n",
    "#2.0    0.014747\n",
    "#3.0    0.001747\n",
    "#4.0    0.000787\n",
    "#5.0    0.000300\n",
    "#6.0    0.000240\n",
    "#"
   ]
  },
  {
   "cell_type": "code",
   "execution_count": 327,
   "metadata": {},
   "outputs": [
    {
     "data": {
      "text/plain": [
       "array([ 0.,  1., nan])"
      ]
     },
     "execution_count": 327,
     "metadata": {},
     "output_type": "execute_result"
    }
   ],
   "source": [
    "#填充#gearbox  144019 少5981\n",
    "dfCar['gearbox'].unique()#只有两种，变速箱，手动档，自动档"
   ]
  },
  {
   "cell_type": "code",
   "execution_count": 328,
   "metadata": {},
   "outputs": [
    {
     "data": {
      "text/plain": [
       "gearbox\n",
       "0.0    0.744158\n",
       "1.0    0.215968\n",
       "Name: SaleID, dtype: float64"
      ]
     },
     "execution_count": 328,
     "metadata": {},
     "output_type": "execute_result"
    }
   ],
   "source": [
    "gearboxRate_1 = dfCar.groupby(['gearbox'])['SaleID'].count()/149999\n",
    "gearboxRate_1"
   ]
  },
  {
   "cell_type": "code",
   "execution_count": 329,
   "metadata": {},
   "outputs": [
    {
     "data": {
      "text/plain": [
       "gearbox\n",
       "0.0    111623\n",
       "1.0     32395\n",
       "Name: SaleID, dtype: int64"
      ]
     },
     "execution_count": 329,
     "metadata": {},
     "output_type": "execute_result"
    }
   ],
   "source": [
    "gearboxRate_c = dfCar.groupby(['gearbox'])['SaleID'].count()\n",
    "gearboxRate_c"
   ]
  },
  {
   "cell_type": "code",
   "execution_count": 330,
   "metadata": {},
   "outputs": [
    {
     "name": "stdout",
     "output_type": "stream",
     "text": [
      "<class 'pandas.core.frame.DataFrame'>\n",
      "Int64Index: 149999 entries, 0 to 149999\n",
      "Data columns (total 31 columns):\n",
      "SaleID               149999 non-null int64\n",
      "name                 149999 non-null int64\n",
      "regDate              149999 non-null int64\n",
      "model                149999 non-null float64\n",
      "brand                149999 non-null int64\n",
      "bodyType             149999 non-null float64\n",
      "fuelType             149999 non-null float64\n",
      "gearbox              149999 non-null float64\n",
      "power                149999 non-null int64\n",
      "kilometer            149999 non-null float64\n",
      "notRepairedDamage    125675 non-null float64\n",
      "regionCode           149999 non-null int64\n",
      "seller               149999 non-null int64\n",
      "offerType            149999 non-null int64\n",
      "creatDate            149999 non-null int64\n",
      "price                149999 non-null int64\n",
      "v_0                  149999 non-null float64\n",
      "v_1                  149999 non-null float64\n",
      "v_2                  149999 non-null float64\n",
      "v_3                  149999 non-null float64\n",
      "v_4                  149999 non-null float64\n",
      "v_5                  149999 non-null float64\n",
      "v_6                  149999 non-null float64\n",
      "v_7                  149999 non-null float64\n",
      "v_8                  149999 non-null float64\n",
      "v_9                  149999 non-null float64\n",
      "v_10                 149999 non-null float64\n",
      "v_11                 149999 non-null float64\n",
      "v_12                 149999 non-null float64\n",
      "v_13                 149999 non-null float64\n",
      "v_14                 149999 non-null float64\n",
      "dtypes: float64(21), int64(10)\n",
      "memory usage: 36.6 MB\n"
     ]
    }
   ],
   "source": [
    "dfCar['gearbox'] = dfCar['gearbox'].fillna(method = 'pad')\n",
    "dfCar.info()"
   ]
  },
  {
   "cell_type": "code",
   "execution_count": 331,
   "metadata": {},
   "outputs": [
    {
     "data": {
      "text/plain": [
       "gearbox\n",
       "0.0    0.774818\n",
       "1.0    0.225182\n",
       "Name: SaleID, dtype: float64"
      ]
     },
     "execution_count": 331,
     "metadata": {},
     "output_type": "execute_result"
    }
   ],
   "source": [
    "gearboxRate_2 = dfCar.groupby(['gearbox'])['SaleID'].count()/149999\n",
    "gearboxRate_2\n",
    "#gearbox 前后比例变化不大，可以的。\n",
    "#0.0    0.744158\n",
    "#1.0    0.215968"
   ]
  },
  {
   "cell_type": "code",
   "execution_count": 332,
   "metadata": {},
   "outputs": [
    {
     "data": {
      "text/plain": [
       "notRepairedDamage\n",
       "0.0    111360\n",
       "1.0     14315\n",
       "Name: SaleID, dtype: int64"
      ]
     },
     "execution_count": 332,
     "metadata": {},
     "output_type": "execute_result"
    }
   ],
   "source": [
    "#【查看数据发现notRepairedDamage列有一些值为“-”的记录，是否有损坏，这一列应该只有两个值，\"-\"值需要像空值一样替换】\n",
    "#dfCar[\"notRepairedDamage\"].value_counts() # 统计唯一值，看到-\n",
    "#【这里处是的时候采取的是，一开始csv文件把-处理成和其它一样的空数据，统一处理。】\n",
    "#统计下\n",
    "damage_1 = dfCar.groupby(['notRepairedDamage'])['SaleID'].count()\n",
    "damage_1#2万多条"
   ]
  },
  {
   "cell_type": "code",
   "execution_count": 333,
   "metadata": {},
   "outputs": [
    {
     "name": "stdout",
     "output_type": "stream",
     "text": [
      "notRepairedDamage\n",
      "0.0    0.742405\n",
      "1.0    0.095434\n",
      "Name: SaleID, dtype: float64\n",
      "7.779250581553743\n"
     ]
    }
   ],
   "source": [
    "damageRate_1 = dfCar.groupby(['notRepairedDamage'])['SaleID'].count()/149999\n",
    "print(damageRate_1)#2万多条\n",
    "#0.742405\n",
    "#0.095434\n",
    "print(0.742405/0.095434)"
   ]
  },
  {
   "cell_type": "code",
   "execution_count": 334,
   "metadata": {},
   "outputs": [
    {
     "name": "stdout",
     "output_type": "stream",
     "text": [
      "<class 'pandas.core.frame.DataFrame'>\n",
      "Int64Index: 149999 entries, 0 to 149999\n",
      "Data columns (total 31 columns):\n",
      "SaleID               149999 non-null int64\n",
      "name                 149999 non-null int64\n",
      "regDate              149999 non-null int64\n",
      "model                149999 non-null float64\n",
      "brand                149999 non-null int64\n",
      "bodyType             149999 non-null float64\n",
      "fuelType             149999 non-null float64\n",
      "gearbox              149999 non-null float64\n",
      "power                149999 non-null int64\n",
      "kilometer            149999 non-null float64\n",
      "notRepairedDamage    149999 non-null float64\n",
      "regionCode           149999 non-null int64\n",
      "seller               149999 non-null int64\n",
      "offerType            149999 non-null int64\n",
      "creatDate            149999 non-null int64\n",
      "price                149999 non-null int64\n",
      "v_0                  149999 non-null float64\n",
      "v_1                  149999 non-null float64\n",
      "v_2                  149999 non-null float64\n",
      "v_3                  149999 non-null float64\n",
      "v_4                  149999 non-null float64\n",
      "v_5                  149999 non-null float64\n",
      "v_6                  149999 non-null float64\n",
      "v_7                  149999 non-null float64\n",
      "v_8                  149999 non-null float64\n",
      "v_9                  149999 non-null float64\n",
      "v_10                 149999 non-null float64\n",
      "v_11                 149999 non-null float64\n",
      "v_12                 149999 non-null float64\n",
      "v_13                 149999 non-null float64\n",
      "v_14                 149999 non-null float64\n",
      "dtypes: float64(21), int64(10)\n",
      "memory usage: 36.6 MB\n"
     ]
    }
   ],
   "source": [
    "#补notRepairedDamage，2万多条\n",
    "dfCar['notRepairedDamage'] = dfCar['notRepairedDamage'].fillna(method='pad')\n",
    "dfCar.info()"
   ]
  },
  {
   "cell_type": "code",
   "execution_count": 335,
   "metadata": {},
   "outputs": [
    {
     "name": "stdout",
     "output_type": "stream",
     "text": [
      "7.779250581553743\n",
      "7.75702751458045\n"
     ]
    }
   ],
   "source": [
    "damageRate_2 = dfCar.groupby(['notRepairedDamage'])['SaleID'].count()/149999\n",
    "damageRate_2#2万多条\n",
    "#之前比例\n",
    "#0.742405\n",
    "#0.095434\n",
    "print(0.742405/0.095434)\n",
    "#7.7\n",
    "print(0.885806/0.114194)\n",
    "#7.75702751458045\n",
    "#差不多"
   ]
  },
  {
   "cell_type": "code",
   "execution_count": 336,
   "metadata": {},
   "outputs": [],
   "source": [
    "#常试下直接替换-，替换后空值处理\n",
    "#dfCar['notRepairedDamage'].replace('-', np.nan, inplace = True)\n",
    "#dfCar.info()"
   ]
  },
  {
   "cell_type": "code",
   "execution_count": 337,
   "metadata": {},
   "outputs": [],
   "source": [
    "#damageRate_2 = dfCar.groupby(['notRepairedDamage'])['SaleID'].count()/149999\n",
    "#damageRate_2#2万多条"
   ]
  },
  {
   "cell_type": "code",
   "execution_count": 338,
   "metadata": {},
   "outputs": [
    {
     "name": "stdout",
     "output_type": "stream",
     "text": [
      "SaleID\n",
      "2047      1\n",
      "107806    1\n",
      "9518      1\n",
      "15661     1\n",
      "13612     1\n",
      "         ..\n",
      "8913      1\n",
      "10960     1\n",
      "53967     1\n",
      "56014     1\n",
      "0         1\n",
      "Name: SaleID, Length: 149999, dtype: int64\n",
      "\n",
      "name\n",
      "708       282\n",
      "387       282\n",
      "55        280\n",
      "1541      263\n",
      "203       233\n",
      "         ... \n",
      "7123        1\n",
      "11221       1\n",
      "13270       1\n",
      "15319       1\n",
      "184730      1\n",
      "Name: name, Length: 99661, dtype: int64\n",
      "\n",
      "regDate\n",
      "20000008    180\n",
      "20000011    158\n",
      "20000004    157\n",
      "20000010    157\n",
      "20000002    155\n",
      "           ... \n",
      "19910807      1\n",
      "19910902      1\n",
      "20151209      1\n",
      "19911011      1\n",
      "20151201      1\n",
      "Name: regDate, Length: 3894, dtype: int64\n",
      "\n",
      "model\n",
      "0.0      11762\n",
      "19.0      9573\n",
      "4.0       8445\n",
      "1.0       6038\n",
      "29.0      5186\n",
      "         ...  \n",
      "245.0        2\n",
      "209.0        2\n",
      "240.0        2\n",
      "242.0        2\n",
      "247.0        1\n",
      "Name: model, Length: 248, dtype: int64\n",
      "\n",
      "brand\n",
      "0     31480\n",
      "4     16737\n",
      "14    16089\n",
      "10    14249\n",
      "1     13794\n",
      "6     10217\n",
      "9      7306\n",
      "5      4665\n",
      "13     3817\n",
      "11     2945\n",
      "3      2461\n",
      "7      2361\n",
      "16     2223\n",
      "8      2077\n",
      "25     2064\n",
      "27     2053\n",
      "21     1547\n",
      "15     1458\n",
      "19     1388\n",
      "20     1236\n",
      "12     1109\n",
      "22     1085\n",
      "26      966\n",
      "30      940\n",
      "17      913\n",
      "24      772\n",
      "28      649\n",
      "32      592\n",
      "29      406\n",
      "37      332\n",
      "2       321\n",
      "31      318\n",
      "18      316\n",
      "36      228\n",
      "34      227\n",
      "33      218\n",
      "23      186\n",
      "35      180\n",
      "38       65\n",
      "39        9\n",
      "Name: brand, dtype: int64\n",
      "\n",
      "bodyType\n",
      "0.0    42745\n",
      "1.0    36336\n",
      "2.0    31277\n",
      "3.0    13903\n",
      "4.0     9900\n",
      "5.0     7833\n",
      "6.0     6680\n",
      "7.0     1325\n",
      "Name: bodyType, dtype: int64\n",
      "\n",
      "fuelType\n",
      "0.0    97289\n",
      "1.0    49856\n",
      "2.0     2362\n",
      "3.0      283\n",
      "4.0      125\n",
      "5.0       47\n",
      "6.0       37\n",
      "Name: fuelType, dtype: int64\n",
      "\n",
      "gearbox\n",
      "0.0    116222\n",
      "1.0     33777\n",
      "Name: gearbox, dtype: int64\n",
      "\n",
      "power\n",
      "0       12829\n",
      "75       9593\n",
      "150      6495\n",
      "60       6374\n",
      "140      5963\n",
      "        ...  \n",
      "1597        1\n",
      "1596        1\n",
      "572         1\n",
      "316         1\n",
      "575         1\n",
      "Name: power, Length: 566, dtype: int64\n",
      "\n",
      "kilometer\n",
      "15.0    96877\n",
      "12.5    15722\n",
      "10.0     6459\n",
      "9.0      5257\n",
      "8.0      4573\n",
      "7.0      4084\n",
      "6.0      3725\n",
      "5.0      3144\n",
      "4.0      2718\n",
      "3.0      2501\n",
      "2.0      2353\n",
      "0.5      1840\n",
      "1.0       746\n",
      "Name: kilometer, dtype: int64\n",
      "\n",
      "notRepairedDamage\n",
      "0.0    132870\n",
      "1.0     17129\n",
      "Name: notRepairedDamage, dtype: int64\n",
      "\n",
      "regionCode\n",
      "419     369\n",
      "764     258\n",
      "125     137\n",
      "176     136\n",
      "462     134\n",
      "       ... \n",
      "6414      1\n",
      "7063      1\n",
      "4239      1\n",
      "5931      1\n",
      "7267      1\n",
      "Name: regionCode, Length: 7905, dtype: int64\n",
      "\n",
      "seller\n",
      "0    149998\n",
      "1         1\n",
      "Name: seller, dtype: int64\n",
      "\n",
      "offerType\n",
      "0    149999\n",
      "Name: offerType, dtype: int64\n",
      "\n",
      "creatDate\n",
      "20160403    5848\n",
      "20160404    5606\n",
      "20160320    5484\n",
      "20160312    5383\n",
      "20160402    5382\n",
      "            ... \n",
      "20151227       1\n",
      "20151217       1\n",
      "20160131       1\n",
      "20160130       1\n",
      "20160115       1\n",
      "Name: creatDate, Length: 96, dtype: int64\n",
      "\n",
      "price\n",
      "500      2337\n",
      "1500     2158\n",
      "1200     1922\n",
      "1000     1850\n",
      "2500     1821\n",
      "         ... \n",
      "25321       1\n",
      "8886        1\n",
      "8801        1\n",
      "37920       1\n",
      "8188        1\n",
      "Name: price, Length: 3763, dtype: int64\n",
      "\n",
      "v_0\n",
      "45.349115    20\n",
      "48.087216    16\n",
      "47.568450    15\n",
      "47.840357    15\n",
      "48.251430    15\n",
      "             ..\n",
      "47.070433     1\n",
      "47.549211     1\n",
      "44.407836     1\n",
      "45.792734     1\n",
      "44.408263     1\n",
      "Name: v_0, Length: 143988, dtype: int64\n",
      "\n",
      "v_1\n",
      "-3.245133    20\n",
      " 3.183323    16\n",
      " 3.116688    15\n",
      " 1.942732    15\n",
      " 2.796739    15\n",
      "             ..\n",
      "-3.265946     1\n",
      " 4.339674     1\n",
      "-2.984010     1\n",
      " 3.427493     1\n",
      "-3.100220     1\n",
      "Name: v_1, Length: 143983, dtype: int64\n",
      "\n",
      "v_2\n",
      "-0.349860    20\n",
      " 0.826577    16\n",
      "-0.158364    15\n",
      " 0.030708    15\n",
      " 0.980616    15\n",
      "             ..\n",
      " 0.518471     1\n",
      "-0.692359     1\n",
      "-0.576297     1\n",
      " 0.413886     1\n",
      "-0.907665     1\n",
      "Name: v_2, Length: 143987, dtype: int64\n",
      "\n",
      "v_3\n",
      "-0.218201    20\n",
      "-1.312990    16\n",
      "-2.006612    15\n",
      "-1.382756    15\n",
      "-1.619873    15\n",
      "             ..\n",
      " 1.549617     1\n",
      "-1.688083     1\n",
      " 2.116312     1\n",
      "-0.431719     1\n",
      " 1.048375     1\n",
      "Name: v_3, Length: 143996, dtype: int64\n",
      "\n",
      "v_4\n",
      "-1.626828    20\n",
      " 0.696775    16\n",
      "-0.379815    15\n",
      " 1.235458    15\n",
      "-0.364986    15\n",
      "             ..\n",
      "-1.055092     1\n",
      " 0.724786     1\n",
      "-0.870530     1\n",
      " 0.888027     1\n",
      "-0.147944     1\n",
      "Name: v_4, Length: 143994, dtype: int64\n",
      "\n",
      "v_5\n",
      "0.000000    4485\n",
      "0.269406      20\n",
      "0.256226      16\n",
      "0.277097      15\n",
      "0.261082      15\n",
      "            ... \n",
      "0.267343       1\n",
      "0.239366       1\n",
      "0.263914       1\n",
      "0.260194       1\n",
      "0.266006       1\n",
      "Name: v_5, Length: 139433, dtype: int64\n",
      "\n",
      "v_6\n",
      "0.000000    35465\n",
      "0.000053       25\n",
      "0.000091       16\n",
      "0.093472       16\n",
      "0.000071       15\n",
      "            ...  \n",
      "0.000541        1\n",
      "0.095444        1\n",
      "0.101214        1\n",
      "0.072836        1\n",
      "0.107958        1\n",
      "Name: v_6, Length: 105120, dtype: int64\n",
      "\n",
      "v_7\n",
      "0.000000    5466\n",
      "0.124213      20\n",
      "0.130272      16\n",
      "0.051680      15\n",
      "0.139667      15\n",
      "            ... \n",
      "0.029452       1\n",
      "0.101787       1\n",
      "0.128193       1\n",
      "0.076627       1\n",
      "0.055456       1\n",
      "Name: v_7, Length: 138642, dtype: int64\n",
      "\n",
      "v_8\n",
      "0.000000    1597\n",
      "0.067358      20\n",
      "0.074742      16\n",
      "0.076664      15\n",
      "0.075905      15\n",
      "            ... \n",
      "0.029931       1\n",
      "0.048989       1\n",
      "0.021568       1\n",
      "0.061661       1\n",
      "0.044622       1\n",
      "Name: v_8, Length: 142358, dtype: int64\n",
      "\n",
      "v_9\n",
      "0.000000    3486\n",
      "0.014867      20\n",
      "0.082765      16\n",
      "0.046765      15\n",
      "0.101150      15\n",
      "            ... \n",
      "0.041066       1\n",
      "0.039773       1\n",
      "0.032173       1\n",
      "0.099509       1\n",
      "0.055954       1\n",
      "Name: v_9, Length: 140526, dtype: int64\n",
      "\n",
      "v_10\n",
      " 2.329386    20\n",
      "-4.303481    16\n",
      "-4.047400    15\n",
      "-4.757359    15\n",
      "-4.383929    15\n",
      "             ..\n",
      " 4.336918     1\n",
      "-4.280047     1\n",
      " 3.148167     1\n",
      " 4.589278     1\n",
      " 3.079022     1\n",
      "Name: v_10, Length: 143995, dtype: int64\n",
      "\n",
      "v_11\n",
      "-2.255591    20\n",
      "-0.330053    16\n",
      "-0.079872    15\n",
      "-1.107940    15\n",
      "-0.802614    15\n",
      "             ..\n",
      "-3.805501     1\n",
      " 1.685444     1\n",
      "-1.938099     1\n",
      "-0.635243     1\n",
      "-1.529275     1\n",
      "Name: v_11, Length: 143993, dtype: int64\n",
      "\n",
      "v_12\n",
      " 0.847433    20\n",
      " 2.486297    16\n",
      " 2.104470    15\n",
      " 2.375256    15\n",
      " 2.515777    15\n",
      "             ..\n",
      " 5.413498     1\n",
      " 0.015213     1\n",
      "-1.105899     1\n",
      "-3.563146     1\n",
      "-0.027022     1\n",
      "Name: v_12, Length: 143996, dtype: int64\n",
      "\n",
      "v_13\n",
      "-1.698497    20\n",
      "-0.043463    16\n",
      "-0.367855    15\n",
      "-0.834697    15\n",
      " 0.548697    15\n",
      "             ..\n",
      "-2.178368     1\n",
      "-1.023617     1\n",
      "-1.023566     1\n",
      "-2.251797     1\n",
      " 0.145345     1\n",
      "Name: v_13, Length: 143992, dtype: int64\n",
      "\n",
      "v_14\n",
      " 0.003015    20\n",
      "-2.290344    16\n",
      "-1.330412    15\n",
      " 0.869586    15\n",
      " 1.027487    15\n",
      "             ..\n",
      " 0.308370     1\n",
      " 0.106605     1\n",
      " 0.419727     1\n",
      "-0.035772     1\n",
      " 0.706941     1\n",
      "Name: v_14, Length: 143990, dtype: int64\n",
      "\n"
     ]
    }
   ],
   "source": [
    "#整体打印下各列样本各类分布情况（发现异常分布的倾斜值）\n",
    "for col in dfCar.columns:\n",
    "    print(col)\n",
    "    print(dfCar[col].value_counts())\n",
    "    print()\n",
    "    \n",
    "#seller\n",
    "#0    149998\n",
    "#1         1\n",
    "#Name: seller, dtype: int64\n",
    "#\n",
    "#offerType\n",
    "#0    149999\n",
    "#Name: offerType, dtype: int64\n",
    "#以上两列数据正负例分布太大，对价格预测没有判断标准，不能做依据，删除\n"
   ]
  },
  {
   "cell_type": "code",
   "execution_count": 339,
   "metadata": {},
   "outputs": [],
   "source": [
    "del dfCar['seller']\n",
    "del dfCar['offerType']\n"
   ]
  },
  {
   "cell_type": "code",
   "execution_count": 340,
   "metadata": {},
   "outputs": [
    {
     "name": "stdout",
     "output_type": "stream",
     "text": [
      "<class 'pandas.core.frame.DataFrame'>\n",
      "Int64Index: 149999 entries, 0 to 149999\n",
      "Data columns (total 29 columns):\n",
      "SaleID               149999 non-null int64\n",
      "name                 149999 non-null int64\n",
      "regDate              149999 non-null int64\n",
      "model                149999 non-null float64\n",
      "brand                149999 non-null int64\n",
      "bodyType             149999 non-null float64\n",
      "fuelType             149999 non-null float64\n",
      "gearbox              149999 non-null float64\n",
      "power                149999 non-null int64\n",
      "kilometer            149999 non-null float64\n",
      "notRepairedDamage    149999 non-null float64\n",
      "regionCode           149999 non-null int64\n",
      "creatDate            149999 non-null int64\n",
      "price                149999 non-null int64\n",
      "v_0                  149999 non-null float64\n",
      "v_1                  149999 non-null float64\n",
      "v_2                  149999 non-null float64\n",
      "v_3                  149999 non-null float64\n",
      "v_4                  149999 non-null float64\n",
      "v_5                  149999 non-null float64\n",
      "v_6                  149999 non-null float64\n",
      "v_7                  149999 non-null float64\n",
      "v_8                  149999 non-null float64\n",
      "v_9                  149999 non-null float64\n",
      "v_10                 149999 non-null float64\n",
      "v_11                 149999 non-null float64\n",
      "v_12                 149999 non-null float64\n",
      "v_13                 149999 non-null float64\n",
      "v_14                 149999 non-null float64\n",
      "dtypes: float64(21), int64(8)\n",
      "memory usage: 34.3 MB\n"
     ]
    }
   ],
   "source": [
    "dfCar.info()"
   ]
  },
  {
   "cell_type": "code",
   "execution_count": 341,
   "metadata": {},
   "outputs": [
    {
     "data": {
      "image/png": "[encoded data removed]",
      "text/plain": [
       "<Figure size 432x288 with 1 Axes>"
      ]
     },
     "metadata": {},
     "output_type": "display_data"
    }
   ],
   "source": [
    "#==数值型数据归一化==\n",
    "#查看预测值分布\n",
    "#画直方图\n",
    "plt.hist(dfCar['price'], orientation = 'vertical',histtype = 'bar', color ='red')\n",
    "plt.show()"
   ]
  },
  {
   "cell_type": "code",
   "execution_count": 342,
   "metadata": {},
   "outputs": [
    {
     "data": {
      "image/png": "[encoded data removed]",
      "text/plain": [
       "<Figure size 432x288 with 1 Axes>"
      ]
     },
     "metadata": {},
     "output_type": "display_data"
    }
   ],
   "source": [
    "#可见不是正态分布，集在中20000以内。\n",
    "#归一化，取对数，变到0-1之间的正态分布\n",
    "#log变换\n",
    "plt.hist(np.log(dfCar['price']), orientation = 'vertical',histtype = 'bar', color ='red') \n",
    "plt.show()"
   ]
  },
  {
   "cell_type": "code",
   "execution_count": 343,
   "metadata": {},
   "outputs": [],
   "source": [
    "#将价格取对数，归一化处理，【为什么取对数不影响预测结果？因为都是统一处理，一样处理的，相对没变，归一化后使模型能尽快收敛】\n",
    "dfCar['price'] = np.log(dfCar['price'])"
   ]
  },
  {
   "cell_type": "code",
   "execution_count": 349,
   "metadata": {},
   "outputs": [
    {
     "data": {
      "image/png": "[encoded data removed]",
      "text/plain": [
       "<Figure size 432x288 with 1 Axes>"
      ]
     },
     "metadata": {},
     "output_type": "display_data"
    }
   ],
   "source": [
    "plt.hist(dfCar['price'], orientation = 'vertical',histtype = 'bar', color ='red')\n",
    "plt.show()"
   ]
  },
  {
   "cell_type": "code",
   "execution_count": 350,
   "metadata": {},
   "outputs": [
    {
     "data": {
      "image/png": "[encoded data removed]",
      "text/plain": [
       "<Figure size 432x288 with 1 Axes>"
      ]
     },
     "metadata": {},
     "output_type": "display_data"
    }
   ],
   "source": [
    "#同样处理气车行驶公里处kilometer\n",
    "plt.hist(dfCar['kilometer'], orientation = 'vertical',histtype = 'bar', color ='blue')\n",
    "plt.show()"
   ]
  },
  {
   "cell_type": "code",
   "execution_count": 351,
   "metadata": {},
   "outputs": [
    {
     "data": {
      "image/png": "[encoded data removed]",
      "text/plain": [
       "<Figure size 432x288 with 1 Axes>"
      ]
     },
     "metadata": {},
     "output_type": "display_data"
    }
   ],
   "source": [
    "plt.hist(np.log(dfCar['kilometer']), orientation = 'vertical',histtype = 'bar', color ='blue')\n",
    "plt.show()#【为什么这个取对数变化不大？因为上面那个差距距大，所以变到0-1之间会出现规律，这个本身差距不大。可不做处理】"
   ]
  },
  {
   "cell_type": "code",
   "execution_count": null,
   "metadata": {},
   "outputs": [],
   "source": [
    "#其它都是类别数据，没有数值数据了"
   ]
  },
  {
   "cell_type": "code",
   "execution_count": 347,
   "metadata": {},
   "outputs": [],
   "source": [
    "#没有缺失值了，把数据保存\n",
    "dfCar.to_csv(\"data//ready_car_train.csv\")"
   ]
  },
  {
   "cell_type": "code",
   "execution_count": null,
   "metadata": {},
   "outputs": [],
   "source": []
  }
 ],
 "metadata": {
  "kernelspec": {
   "display_name": "Python 3",
   "language": "python",
   "name": "python3"
  },
  "language_info": {
   "codemirror_mode": {
    "name": "ipython",
    "version": 3
   },
   "file_extension": ".py",
   "mimetype": "text/x-python",
   "name": "python",
   "nbconvert_exporter": "python",
   "pygments_lexer": "ipython3",
   "version": "3.6.5"
  }
 },
 "nbformat": 4,
 "nbformat_minor": 2
}
