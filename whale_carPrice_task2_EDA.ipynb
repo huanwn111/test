{
 "cells": [
  {
   "cell_type": "code",
   "execution_count": 203,
   "metadata": {},
   "outputs": [],
   "source": [
    "#预测二手车价格打卡\n",
    "import pandas as pd\n",
    "import numpy as np\n",
    "import matplotlib.pyplot as plt\n",
    "% matplotlib inline"
   ]
  },
  {
   "cell_type": "code",
   "execution_count": 204,
   "metadata": {},
   "outputs": [
    {
     "data": {
      "text/html": [
       "<div>\n",
       "<style scoped>\n",
       "    .dataframe tbody tr th:only-of-type {\n",
       "        vertical-align: middle;\n",
       "    }\n",
       "\n",
       "    .dataframe tbody tr th {\n",
       "        vertical-align: top;\n",
       "    }\n",
       "\n",
       "    .dataframe thead th {\n",
       "        text-align: right;\n",
       "    }\n",
       "</style>\n",
       "<table border=\"1\" class=\"dataframe\">\n",
       "  <thead>\n",
       "    <tr style=\"text-align: right;\">\n",
       "      <th></th>\n",
       "      <th>SaleID</th>\n",
       "      <th>name</th>\n",
       "      <th>regDate</th>\n",
       "      <th>model</th>\n",
       "      <th>brand</th>\n",
       "      <th>bodyType</th>\n",
       "      <th>fuelType</th>\n",
       "      <th>gearbox</th>\n",
       "      <th>power</th>\n",
       "      <th>kilometer</th>\n",
       "      <th>...</th>\n",
       "      <th>v_5</th>\n",
       "      <th>v_6</th>\n",
       "      <th>v_7</th>\n",
       "      <th>v_8</th>\n",
       "      <th>v_9</th>\n",
       "      <th>v_10</th>\n",
       "      <th>v_11</th>\n",
       "      <th>v_12</th>\n",
       "      <th>v_13</th>\n",
       "      <th>v_14</th>\n",
       "    </tr>\n",
       "  </thead>\n",
       "  <tbody>\n",
       "    <tr>\n",
       "      <th>0</th>\n",
       "      <td>0</td>\n",
       "      <td>736</td>\n",
       "      <td>20040402</td>\n",
       "      <td>30.0</td>\n",
       "      <td>6</td>\n",
       "      <td>1.0</td>\n",
       "      <td>0.0</td>\n",
       "      <td>0.0</td>\n",
       "      <td>60</td>\n",
       "      <td>12.5</td>\n",
       "      <td>...</td>\n",
       "      <td>0.235676</td>\n",
       "      <td>0.101988</td>\n",
       "      <td>0.129549</td>\n",
       "      <td>0.022816</td>\n",
       "      <td>0.097462</td>\n",
       "      <td>-2.881803</td>\n",
       "      <td>2.804097</td>\n",
       "      <td>-2.420821</td>\n",
       "      <td>0.795292</td>\n",
       "      <td>0.914763</td>\n",
       "    </tr>\n",
       "    <tr>\n",
       "      <th>1</th>\n",
       "      <td>1</td>\n",
       "      <td>2262</td>\n",
       "      <td>20030301</td>\n",
       "      <td>40.0</td>\n",
       "      <td>1</td>\n",
       "      <td>2.0</td>\n",
       "      <td>0.0</td>\n",
       "      <td>0.0</td>\n",
       "      <td>0</td>\n",
       "      <td>15.0</td>\n",
       "      <td>...</td>\n",
       "      <td>0.264777</td>\n",
       "      <td>0.121004</td>\n",
       "      <td>0.135731</td>\n",
       "      <td>0.026597</td>\n",
       "      <td>0.020582</td>\n",
       "      <td>-4.900482</td>\n",
       "      <td>2.096338</td>\n",
       "      <td>-1.030483</td>\n",
       "      <td>-1.722674</td>\n",
       "      <td>0.245522</td>\n",
       "    </tr>\n",
       "    <tr>\n",
       "      <th>2</th>\n",
       "      <td>2</td>\n",
       "      <td>14874</td>\n",
       "      <td>20040403</td>\n",
       "      <td>115.0</td>\n",
       "      <td>15</td>\n",
       "      <td>1.0</td>\n",
       "      <td>0.0</td>\n",
       "      <td>0.0</td>\n",
       "      <td>163</td>\n",
       "      <td>12.5</td>\n",
       "      <td>...</td>\n",
       "      <td>0.251410</td>\n",
       "      <td>0.114912</td>\n",
       "      <td>0.165147</td>\n",
       "      <td>0.062173</td>\n",
       "      <td>0.027075</td>\n",
       "      <td>-4.846749</td>\n",
       "      <td>1.803559</td>\n",
       "      <td>1.565330</td>\n",
       "      <td>-0.832687</td>\n",
       "      <td>-0.229963</td>\n",
       "    </tr>\n",
       "    <tr>\n",
       "      <th>3</th>\n",
       "      <td>3</td>\n",
       "      <td>71865</td>\n",
       "      <td>19960908</td>\n",
       "      <td>109.0</td>\n",
       "      <td>10</td>\n",
       "      <td>0.0</td>\n",
       "      <td>0.0</td>\n",
       "      <td>1.0</td>\n",
       "      <td>193</td>\n",
       "      <td>15.0</td>\n",
       "      <td>...</td>\n",
       "      <td>0.274293</td>\n",
       "      <td>0.110300</td>\n",
       "      <td>0.121964</td>\n",
       "      <td>0.033395</td>\n",
       "      <td>0.000000</td>\n",
       "      <td>-4.509599</td>\n",
       "      <td>1.285940</td>\n",
       "      <td>-0.501868</td>\n",
       "      <td>-2.438353</td>\n",
       "      <td>-0.478699</td>\n",
       "    </tr>\n",
       "    <tr>\n",
       "      <th>4</th>\n",
       "      <td>4</td>\n",
       "      <td>111080</td>\n",
       "      <td>20120103</td>\n",
       "      <td>110.0</td>\n",
       "      <td>5</td>\n",
       "      <td>1.0</td>\n",
       "      <td>0.0</td>\n",
       "      <td>0.0</td>\n",
       "      <td>68</td>\n",
       "      <td>5.0</td>\n",
       "      <td>...</td>\n",
       "      <td>0.228036</td>\n",
       "      <td>0.073205</td>\n",
       "      <td>0.091880</td>\n",
       "      <td>0.078819</td>\n",
       "      <td>0.121534</td>\n",
       "      <td>-1.896240</td>\n",
       "      <td>0.910783</td>\n",
       "      <td>0.931110</td>\n",
       "      <td>2.834518</td>\n",
       "      <td>1.923482</td>\n",
       "    </tr>\n",
       "  </tbody>\n",
       "</table>\n",
       "<p>5 rows × 31 columns</p>\n",
       "</div>"
      ],
      "text/plain": [
       "   SaleID    name   regDate  model  brand  bodyType  fuelType  gearbox  power  \\\n",
       "0       0     736  20040402   30.0      6       1.0       0.0      0.0     60   \n",
       "1       1    2262  20030301   40.0      1       2.0       0.0      0.0      0   \n",
       "2       2   14874  20040403  115.0     15       1.0       0.0      0.0    163   \n",
       "3       3   71865  19960908  109.0     10       0.0       0.0      1.0    193   \n",
       "4       4  111080  20120103  110.0      5       1.0       0.0      0.0     68   \n",
       "\n",
       "   kilometer  ...       v_5       v_6       v_7       v_8       v_9      v_10  \\\n",
       "0       12.5  ...  0.235676  0.101988  0.129549  0.022816  0.097462 -2.881803   \n",
       "1       15.0  ...  0.264777  0.121004  0.135731  0.026597  0.020582 -4.900482   \n",
       "2       12.5  ...  0.251410  0.114912  0.165147  0.062173  0.027075 -4.846749   \n",
       "3       15.0  ...  0.274293  0.110300  0.121964  0.033395  0.000000 -4.509599   \n",
       "4        5.0  ...  0.228036  0.073205  0.091880  0.078819  0.121534 -1.896240   \n",
       "\n",
       "       v_11      v_12      v_13      v_14  \n",
       "0  2.804097 -2.420821  0.795292  0.914763  \n",
       "1  2.096338 -1.030483 -1.722674  0.245522  \n",
       "2  1.803559  1.565330 -0.832687 -0.229963  \n",
       "3  1.285940 -0.501868 -2.438353 -0.478699  \n",
       "4  0.910783  0.931110  2.834518  1.923482  \n",
       "\n",
       "[5 rows x 31 columns]"
      ]
     },
     "execution_count": 204,
     "metadata": {},
     "output_type": "execute_result"
    }
   ],
   "source": [
    "dfCar = pd.read_csv(\"data//used_car_train_20200313.csv\")\n",
    "dfCar.head()"
   ]
  },
  {
   "cell_type": "code",
   "execution_count": 205,
   "metadata": {},
   "outputs": [
    {
     "data": {
      "text/plain": [
       "(150000, 31)"
      ]
     },
     "execution_count": 205,
     "metadata": {},
     "output_type": "execute_result"
    }
   ],
   "source": [
    "dfCar.shape"
   ]
  },
  {
   "cell_type": "code",
   "execution_count": 206,
   "metadata": {},
   "outputs": [],
   "source": [
    "dfCarTest = pd.read_csv(\"data//used_car_testA_20200313.csv\")\n",
    "#dfCarTest.head()"
   ]
  },
  {
   "cell_type": "code",
   "execution_count": 207,
   "metadata": {},
   "outputs": [
    {
     "data": {
      "text/plain": [
       "(50000, 30)"
      ]
     },
     "execution_count": 207,
     "metadata": {},
     "output_type": "execute_result"
    }
   ],
   "source": [
    "dfCarTest.shape#A测试集没有price，用来做最后预测结果，训练可忽略"
   ]
  },
  {
   "cell_type": "code",
   "execution_count": 208,
   "metadata": {},
   "outputs": [
    {
     "name": "stdout",
     "output_type": "stream",
     "text": [
      "<class 'pandas.core.frame.DataFrame'>\n",
      "RangeIndex: 150000 entries, 0 to 149999\n",
      "Data columns (total 31 columns):\n",
      "SaleID               150000 non-null int64\n",
      "name                 150000 non-null int64\n",
      "regDate              150000 non-null int64\n",
      "model                149999 non-null float64\n",
      "brand                150000 non-null int64\n",
      "bodyType             145494 non-null float64\n",
      "fuelType             141320 non-null float64\n",
      "gearbox              144019 non-null float64\n",
      "power                150000 non-null int64\n",
      "kilometer            150000 non-null float64\n",
      "notRepairedDamage    125676 non-null float64\n",
      "regionCode           150000 non-null int64\n",
      "seller               150000 non-null int64\n",
      "offerType            150000 non-null int64\n",
      "creatDate            150000 non-null int64\n",
      "price                150000 non-null int64\n",
      "v_0                  150000 non-null float64\n",
      "v_1                  150000 non-null float64\n",
      "v_2                  150000 non-null float64\n",
      "v_3                  150000 non-null float64\n",
      "v_4                  150000 non-null float64\n",
      "v_5                  150000 non-null float64\n",
      "v_6                  150000 non-null float64\n",
      "v_7                  150000 non-null float64\n",
      "v_8                  150000 non-null float64\n",
      "v_9                  150000 non-null float64\n",
      "v_10                 150000 non-null float64\n",
      "v_11                 150000 non-null float64\n",
      "v_12                 150000 non-null float64\n",
      "v_13                 150000 non-null float64\n",
      "v_14                 150000 non-null float64\n",
      "dtypes: float64(21), int64(10)\n",
      "memory usage: 35.5 MB\n"
     ]
    }
   ],
   "source": [
    "#=1）数据分析：=\n",
    "#查看数据信息\n",
    "dfCar.info()"
   ]
  },
  {
   "cell_type": "code",
   "execution_count": 209,
   "metadata": {},
   "outputs": [],
   "source": [
    "#缺失数据统计：\n",
    "#model 149999 少1\n",
    "#bodyType 145494 少4506\n",
    "#fuelType 141320 少8680\n",
    "#gearbox  144019 少5981\n"
   ]
  },
  {
   "cell_type": "code",
   "execution_count": 210,
   "metadata": {},
   "outputs": [],
   "source": [
    "#删掉model为空的数据行（缺失少的删掉）\n",
    "dfCar = dfCar.dropna(subset=['model'],axis=0)\n"
   ]
  },
  {
   "cell_type": "code",
   "execution_count": 211,
   "metadata": {},
   "outputs": [
    {
     "name": "stdout",
     "output_type": "stream",
     "text": [
      "<class 'pandas.core.frame.DataFrame'>\n",
      "Int64Index: 149999 entries, 0 to 149999\n",
      "Data columns (total 31 columns):\n",
      "SaleID               149999 non-null int64\n",
      "name                 149999 non-null int64\n",
      "regDate              149999 non-null int64\n",
      "model                149999 non-null float64\n",
      "brand                149999 non-null int64\n",
      "bodyType             145493 non-null float64\n",
      "fuelType             141319 non-null float64\n",
      "gearbox              144018 non-null float64\n",
      "power                149999 non-null int64\n",
      "kilometer            149999 non-null float64\n",
      "notRepairedDamage    125675 non-null float64\n",
      "regionCode           149999 non-null int64\n",
      "seller               149999 non-null int64\n",
      "offerType            149999 non-null int64\n",
      "creatDate            149999 non-null int64\n",
      "price                149999 non-null int64\n",
      "v_0                  149999 non-null float64\n",
      "v_1                  149999 non-null float64\n",
      "v_2                  149999 non-null float64\n",
      "v_3                  149999 non-null float64\n",
      "v_4                  149999 non-null float64\n",
      "v_5                  149999 non-null float64\n",
      "v_6                  149999 non-null float64\n",
      "v_7                  149999 non-null float64\n",
      "v_8                  149999 non-null float64\n",
      "v_9                  149999 non-null float64\n",
      "v_10                 149999 non-null float64\n",
      "v_11                 149999 non-null float64\n",
      "v_12                 149999 non-null float64\n",
      "v_13                 149999 non-null float64\n",
      "v_14                 149999 non-null float64\n",
      "dtypes: float64(21), int64(10)\n",
      "memory usage: 36.6 MB\n"
     ]
    }
   ],
   "source": [
    "dfCar.info()"
   ]
  },
  {
   "cell_type": "code",
   "execution_count": 212,
   "metadata": {},
   "outputs": [
    {
     "data": {
      "text/plain": [
       "array([ 1.,  2.,  0.,  5.,  3., nan,  6.,  7.,  4.])"
      ]
     },
     "execution_count": 212,
     "metadata": {},
     "output_type": "execute_result"
    }
   ],
   "source": [
    "#==分类数据的填充方法探索==\n",
    "dfCar[\"bodyType\"].unique()#bodyType有9种"
   ]
  },
  {
   "cell_type": "code",
   "execution_count": 213,
   "metadata": {},
   "outputs": [
    {
     "data": {
      "text/plain": [
       "bodyType\n",
       "0.0    41420\n",
       "1.0    35272\n",
       "2.0    30324\n",
       "3.0    13491\n",
       "4.0     9609\n",
       "5.0     7607\n",
       "6.0     6481\n",
       "7.0     1289\n",
       "Name: SaleID, dtype: int64"
      ]
     },
     "execution_count": 213,
     "metadata": {},
     "output_type": "execute_result"
    }
   ],
   "source": [
    "#分组统计一下各种类型有多少\n",
    "bodyTypeC = dfCar.groupby(['bodyType'])['SaleID'].count()\n",
    "bodyTypeC"
   ]
  },
  {
   "cell_type": "code",
   "execution_count": 214,
   "metadata": {},
   "outputs": [
    {
     "data": {
      "text/plain": [
       "bodyType\n",
       "0.0    0.276133\n",
       "1.0    0.235147\n",
       "2.0    0.202160\n",
       "3.0    0.089940\n",
       "4.0    0.064060\n",
       "5.0    0.050713\n",
       "6.0    0.043207\n",
       "7.0    0.008593\n",
       "Name: SaleID, dtype: float64"
      ]
     },
     "execution_count": 214,
     "metadata": {},
     "output_type": "execute_result"
    }
   ],
   "source": [
    "#统计下占比\n",
    "bodyTypeCRate = dfCar.groupby(['bodyType'])['SaleID'].count()/150000\n",
    "bodyTypeCRate"
   ]
  },
  {
   "cell_type": "code",
   "execution_count": 215,
   "metadata": {},
   "outputs": [
    {
     "data": {
      "text/plain": [
       "bodyType\n",
       "0.0    1244.0\n",
       "1.0    1060.0\n",
       "2.0     911.0\n",
       "3.0     405.0\n",
       "4.0     289.0\n",
       "5.0     229.0\n",
       "6.0     195.0\n",
       "7.0      39.0\n",
       "Name: SaleID, dtype: float64"
      ]
     },
     "execution_count": 215,
     "metadata": {},
     "output_type": "execute_result"
    }
   ],
   "source": [
    "#缺少的4506条bodyType，按各类占比同比例补充假类别\n",
    "bodyTypeFake = round(4506*dfCar.groupby(['bodyType'])['SaleID'].count()/150000)\n",
    "bodyTypeFake"
   ]
  },
  {
   "cell_type": "code",
   "execution_count": 216,
   "metadata": {},
   "outputs": [
    {
     "data": {
      "text/plain": [
       "(4506, 31)"
      ]
     },
     "execution_count": 216,
     "metadata": {},
     "output_type": "execute_result"
    }
   ],
   "source": [
    "dfCar[dfCar['bodyType'].isnull()].shape"
   ]
  },
  {
   "cell_type": "code",
   "execution_count": 217,
   "metadata": {},
   "outputs": [
    {
     "data": {
      "text/plain": [
       "(1244, 31)"
      ]
     },
     "execution_count": 217,
     "metadata": {},
     "output_type": "execute_result"
    }
   ],
   "source": [
    "dfCar[dfCar['bodyType'].isnull()].sample(n=1244).shape"
   ]
  },
  {
   "cell_type": "code",
   "execution_count": 218,
   "metadata": {},
   "outputs": [],
   "source": [
    "#按比例填充？待查\n",
    "#dfCar[dfCar['bodyType'].isnull()].sample(n=1244)['bodyType'].fillna(0.0,inplace=True)"
   ]
  },
  {
   "cell_type": "code",
   "execution_count": 219,
   "metadata": {},
   "outputs": [],
   "source": [
    "#dfCar.info()#上面填充方法没有生效"
   ]
  },
  {
   "cell_type": "code",
   "execution_count": 220,
   "metadata": {},
   "outputs": [],
   "source": [
    "#dfCar[dfCar['bodyType'].isnull()].sample(n=1244)['bodyType']=0.0\n",
    "#dfCar[dfCar['bodyType'].isnull()].sample(n=1060)['bodyType']=1.0\n",
    "#dfCar[dfCar['bodyType'].isnull()].sample(n=911)['bodyType']=2.0\n",
    "#dfCar[dfCar['bodyType'].isnull()].sample(n=405)['bodyType']=3.0\n",
    "#dfCar[dfCar['bodyType'].isnull()].sample(n=289)['bodyType']=4.0\n",
    "#dfCar[dfCar['bodyType'].isnull()].sample(n=229)['bodyType']=5.0\n",
    "#dfCar[dfCar['bodyType'].isnull()].sample(n=195)['bodyType']=6.0"
   ]
  },
  {
   "cell_type": "code",
   "execution_count": 221,
   "metadata": {},
   "outputs": [
    {
     "name": "stdout",
     "output_type": "stream",
     "text": [
      "<class 'pandas.core.frame.DataFrame'>\n",
      "Int64Index: 149999 entries, 0 to 149999\n",
      "Data columns (total 31 columns):\n",
      "SaleID               149999 non-null int64\n",
      "name                 149999 non-null int64\n",
      "regDate              149999 non-null int64\n",
      "model                149999 non-null float64\n",
      "brand                149999 non-null int64\n",
      "bodyType             149999 non-null float64\n",
      "fuelType             141319 non-null float64\n",
      "gearbox              144018 non-null float64\n",
      "power                149999 non-null int64\n",
      "kilometer            149999 non-null float64\n",
      "notRepairedDamage    125675 non-null float64\n",
      "regionCode           149999 non-null int64\n",
      "seller               149999 non-null int64\n",
      "offerType            149999 non-null int64\n",
      "creatDate            149999 non-null int64\n",
      "price                149999 non-null int64\n",
      "v_0                  149999 non-null float64\n",
      "v_1                  149999 non-null float64\n",
      "v_2                  149999 non-null float64\n",
      "v_3                  149999 non-null float64\n",
      "v_4                  149999 non-null float64\n",
      "v_5                  149999 non-null float64\n",
      "v_6                  149999 non-null float64\n",
      "v_7                  149999 non-null float64\n",
      "v_8                  149999 non-null float64\n",
      "v_9                  149999 non-null float64\n",
      "v_10                 149999 non-null float64\n",
      "v_11                 149999 non-null float64\n",
      "v_12                 149999 non-null float64\n",
      "v_13                 149999 non-null float64\n",
      "v_14                 149999 non-null float64\n",
      "dtypes: float64(21), int64(10)\n",
      "memory usage: 36.6 MB\n"
     ]
    }
   ],
   "source": [
    "#或采取原则：对于分类数据的填充，一般使用分类值中出现次数最多的值来填充（可能是已经很多了再多点也不会有大影响）。\n",
    "#但我们这个4000多条太多了，最多的40000多加上4000多影响很大\n",
    "#采用原则：【用前后数据填充】吧【感觉这种用前后填充的方法，最好先把数据shuffle打算下】\n",
    "dfCar['bodyType'] = dfCar['bodyType'].fillna(method='pad')#用前一个不为空的数据填充，bfill是后一个\n",
    "#注意赋值回去。\n",
    "dfCar.info()\n"
   ]
  },
  {
   "cell_type": "code",
   "execution_count": 223,
   "metadata": {},
   "outputs": [
    {
     "data": {
      "text/plain": [
       "bodyType\n",
       "0.0    0.284967\n",
       "1.0    0.242240\n",
       "2.0    0.208513\n",
       "3.0    0.092687\n",
       "4.0    0.066000\n",
       "5.0    0.052220\n",
       "6.0    0.044533\n",
       "7.0    0.008833\n",
       "Name: SaleID, dtype: float64"
      ]
     },
     "execution_count": 223,
     "metadata": {},
     "output_type": "execute_result"
    }
   ],
   "source": [
    "#填充完以后再看下各类比例变化大吗？还可以，影响不大。\n",
    "bodyTypeCRate = dfCar.groupby(['bodyType'])['SaleID'].count()/150000\n",
    "bodyTypeCRate\n",
    "#之前是\n",
    "#0.0    0.276133\n",
    "#1.0    0.235147\n",
    "#2.0    0.202160\n",
    "#3.0    0.089940\n",
    "#4.0    0.064060\n",
    "#5.0    0.050713\n",
    "#6.0    0.043207\n",
    "#7.0    0.008593"
   ]
  },
  {
   "cell_type": "code",
   "execution_count": 224,
   "metadata": {},
   "outputs": [
    {
     "data": {
      "text/plain": [
       "array([ 0.,  1., nan,  2.,  3.,  4.,  5.,  6.])"
      ]
     },
     "execution_count": 224,
     "metadata": {},
     "output_type": "execute_result"
    }
   ],
   "source": [
    "#用同上方法处理fuelType 少8680\n",
    "dfCar['fuelType'].unique()"
   ]
  },
  {
   "cell_type": "code",
   "execution_count": 225,
   "metadata": {},
   "outputs": [
    {
     "name": "stdout",
     "output_type": "stream",
     "text": [
      "fuelType\n",
      "0.0    0.611044\n",
      "1.0    0.313269\n",
      "2.0    0.014747\n",
      "3.0    0.001747\n",
      "4.0    0.000787\n",
      "5.0    0.000300\n",
      "6.0    0.000240\n",
      "Name: SaleID, dtype: float64\n"
     ]
    }
   ],
   "source": [
    "fuelTypeRate_1 = dfCar.groupby(['fuelType'])['SaleID'].count()/149999\n",
    "print(fuelTypeRate_1)"
   ]
  },
  {
   "cell_type": "code",
   "execution_count": 226,
   "metadata": {},
   "outputs": [
    {
     "data": {
      "text/plain": [
       "fuelType\n",
       "0.0    91656\n",
       "1.0    46990\n",
       "2.0     2212\n",
       "3.0      262\n",
       "4.0      118\n",
       "5.0       45\n",
       "6.0       36\n",
       "Name: SaleID, dtype: int64"
      ]
     },
     "execution_count": 226,
     "metadata": {},
     "output_type": "execute_result"
    }
   ],
   "source": [
    "fuelTypeRate_c = dfCar.groupby(['fuelType'])['SaleID'].count()\n",
    "fuelTypeRate_c"
   ]
  },
  {
   "cell_type": "code",
   "execution_count": 227,
   "metadata": {},
   "outputs": [
    {
     "name": "stdout",
     "output_type": "stream",
     "text": [
      "<class 'pandas.core.frame.DataFrame'>\n",
      "Int64Index: 149999 entries, 0 to 149999\n",
      "Data columns (total 31 columns):\n",
      "SaleID               149999 non-null int64\n",
      "name                 149999 non-null int64\n",
      "regDate              149999 non-null int64\n",
      "model                149999 non-null float64\n",
      "brand                149999 non-null int64\n",
      "bodyType             149999 non-null float64\n",
      "fuelType             149999 non-null float64\n",
      "gearbox              144018 non-null float64\n",
      "power                149999 non-null int64\n",
      "kilometer            149999 non-null float64\n",
      "notRepairedDamage    125675 non-null float64\n",
      "regionCode           149999 non-null int64\n",
      "seller               149999 non-null int64\n",
      "offerType            149999 non-null int64\n",
      "creatDate            149999 non-null int64\n",
      "price                149999 non-null int64\n",
      "v_0                  149999 non-null float64\n",
      "v_1                  149999 non-null float64\n",
      "v_2                  149999 non-null float64\n",
      "v_3                  149999 non-null float64\n",
      "v_4                  149999 non-null float64\n",
      "v_5                  149999 non-null float64\n",
      "v_6                  149999 non-null float64\n",
      "v_7                  149999 non-null float64\n",
      "v_8                  149999 non-null float64\n",
      "v_9                  149999 non-null float64\n",
      "v_10                 149999 non-null float64\n",
      "v_11                 149999 non-null float64\n",
      "v_12                 149999 non-null float64\n",
      "v_13                 149999 non-null float64\n",
      "v_14                 149999 non-null float64\n",
      "dtypes: float64(21), int64(10)\n",
      "memory usage: 36.6 MB\n"
     ]
    }
   ],
   "source": [
    "dfCar['fuelType'] = dfCar['fuelType'].fillna(method='pad')#注意前面千万不要少了['fuelType']\n",
    "dfCar.info()"
   ]
  },
  {
   "cell_type": "code",
   "execution_count": 228,
   "metadata": {},
   "outputs": [
    {
     "name": "stdout",
     "output_type": "stream",
     "text": [
      "fuelType\n",
      "0.0    0.648598\n",
      "1.0    0.332376\n",
      "2.0    0.015747\n",
      "3.0    0.001887\n",
      "4.0    0.000833\n",
      "5.0    0.000313\n",
      "6.0    0.000247\n",
      "Name: SaleID, dtype: float64\n"
     ]
    }
   ],
   "source": [
    "fuelTypeRate_2 = dfCar.groupby(['fuelType'])['SaleID'].count()/149999\n",
    "print(fuelTypeRate_2)\n",
    "#【对比比例：起初发现变化很大，是前一个bodyType的值，\n",
    "#检查发现dfCar['fuelType'] = dfCar['bodyType'].fillna(method='pad'\n",
    "#上面填充时写错，用bodyType填充的。\n",
    "#改后数据对比下，比例填充前后变化不大，可以的。】\n",
    "\n",
    "#0.0    0.611044\n",
    "#1.0    0.313269\n",
    "#2.0    0.014747\n",
    "#3.0    0.001747\n",
    "#4.0    0.000787\n",
    "#5.0    0.000300\n",
    "#6.0    0.000240\n",
    "#"
   ]
  },
  {
   "cell_type": "code",
   "execution_count": 229,
   "metadata": {},
   "outputs": [
    {
     "data": {
      "text/plain": [
       "array([ 0.,  1., nan])"
      ]
     },
     "execution_count": 229,
     "metadata": {},
     "output_type": "execute_result"
    }
   ],
   "source": [
    "#填充#gearbox  144019 少5981\n",
    "dfCar['gearbox'].unique()#只有两种，变速箱，手动档，自动档"
   ]
  },
  {
   "cell_type": "code",
   "execution_count": 230,
   "metadata": {},
   "outputs": [
    {
     "data": {
      "text/plain": [
       "gearbox\n",
       "0.0    0.744158\n",
       "1.0    0.215968\n",
       "Name: SaleID, dtype: float64"
      ]
     },
     "execution_count": 230,
     "metadata": {},
     "output_type": "execute_result"
    }
   ],
   "source": [
    "gearboxRate_1 = dfCar.groupby(['gearbox'])['SaleID'].count()/149999\n",
    "gearboxRate_1"
   ]
  },
  {
   "cell_type": "code",
   "execution_count": 231,
   "metadata": {},
   "outputs": [
    {
     "data": {
      "text/plain": [
       "gearbox\n",
       "0.0    111623\n",
       "1.0     32395\n",
       "Name: SaleID, dtype: int64"
      ]
     },
     "execution_count": 231,
     "metadata": {},
     "output_type": "execute_result"
    }
   ],
   "source": [
    "gearboxRate_c = dfCar.groupby(['gearbox'])['SaleID'].count()\n",
    "gearboxRate_c"
   ]
  },
  {
   "cell_type": "code",
   "execution_count": 232,
   "metadata": {},
   "outputs": [
    {
     "name": "stdout",
     "output_type": "stream",
     "text": [
      "<class 'pandas.core.frame.DataFrame'>\n",
      "Int64Index: 149999 entries, 0 to 149999\n",
      "Data columns (total 31 columns):\n",
      "SaleID               149999 non-null int64\n",
      "name                 149999 non-null int64\n",
      "regDate              149999 non-null int64\n",
      "model                149999 non-null float64\n",
      "brand                149999 non-null int64\n",
      "bodyType             149999 non-null float64\n",
      "fuelType             149999 non-null float64\n",
      "gearbox              149999 non-null float64\n",
      "power                149999 non-null int64\n",
      "kilometer            149999 non-null float64\n",
      "notRepairedDamage    125675 non-null float64\n",
      "regionCode           149999 non-null int64\n",
      "seller               149999 non-null int64\n",
      "offerType            149999 non-null int64\n",
      "creatDate            149999 non-null int64\n",
      "price                149999 non-null int64\n",
      "v_0                  149999 non-null float64\n",
      "v_1                  149999 non-null float64\n",
      "v_2                  149999 non-null float64\n",
      "v_3                  149999 non-null float64\n",
      "v_4                  149999 non-null float64\n",
      "v_5                  149999 non-null float64\n",
      "v_6                  149999 non-null float64\n",
      "v_7                  149999 non-null float64\n",
      "v_8                  149999 non-null float64\n",
      "v_9                  149999 non-null float64\n",
      "v_10                 149999 non-null float64\n",
      "v_11                 149999 non-null float64\n",
      "v_12                 149999 non-null float64\n",
      "v_13                 149999 non-null float64\n",
      "v_14                 149999 non-null float64\n",
      "dtypes: float64(21), int64(10)\n",
      "memory usage: 36.6 MB\n"
     ]
    }
   ],
   "source": [
    "dfCar['gearbox'] = dfCar['gearbox'].fillna(method = 'pad')\n",
    "dfCar.info()"
   ]
  },
  {
   "cell_type": "code",
   "execution_count": 233,
   "metadata": {},
   "outputs": [
    {
     "data": {
      "text/plain": [
       "gearbox\n",
       "0.0    0.774818\n",
       "1.0    0.225182\n",
       "Name: SaleID, dtype: float64"
      ]
     },
     "execution_count": 233,
     "metadata": {},
     "output_type": "execute_result"
    }
   ],
   "source": [
    "gearboxRate_2 = dfCar.groupby(['gearbox'])['SaleID'].count()/149999\n",
    "gearboxRate_2\n",
    "#gearbox 前后比例变化不大，可以的。\n",
    "#0.0    0.744158\n",
    "#1.0    0.215968"
   ]
  },
  {
   "cell_type": "code",
   "execution_count": 234,
   "metadata": {},
   "outputs": [
    {
     "data": {
      "text/plain": [
       "notRepairedDamage\n",
       "0.0    111360\n",
       "1.0     14315\n",
       "Name: SaleID, dtype: int64"
      ]
     },
     "execution_count": 234,
     "metadata": {},
     "output_type": "execute_result"
    }
   ],
   "source": [
    "#【查看数据发现notRepairedDamage列有一些值为“-”的记录，是否有损坏，这一列应该只有两个值，\"-\"值需要像空值一样替换】\n",
    "#【这里处是的时候采取的是，一开始csv文件把-处理成和其它一样的空数据，统一处理。】\n",
    "#统计下\n",
    "damage_1 = dfCar.groupby(['notRepairedDamage'])['SaleID'].count()\n",
    "damage_1#2万多条"
   ]
  },
  {
   "cell_type": "code",
   "execution_count": 241,
   "metadata": {},
   "outputs": [
    {
     "name": "stdout",
     "output_type": "stream",
     "text": [
      "notRepairedDamage\n",
      "0.0    0.885806\n",
      "1.0    0.114194\n",
      "Name: SaleID, dtype: float64\n",
      "7.779250581553743\n"
     ]
    }
   ],
   "source": [
    "damageRate_1 = dfCar.groupby(['notRepairedDamage'])['SaleID'].count()/149999\n",
    "print(damageRate_1)#2万多条\n",
    "#0.742405\n",
    "#0.095434\n",
    "print(0.742405/0.095434)"
   ]
  },
  {
   "cell_type": "code",
   "execution_count": 238,
   "metadata": {},
   "outputs": [
    {
     "name": "stdout",
     "output_type": "stream",
     "text": [
      "<class 'pandas.core.frame.DataFrame'>\n",
      "Int64Index: 149999 entries, 0 to 149999\n",
      "Data columns (total 31 columns):\n",
      "SaleID               149999 non-null int64\n",
      "name                 149999 non-null int64\n",
      "regDate              149999 non-null int64\n",
      "model                149999 non-null float64\n",
      "brand                149999 non-null int64\n",
      "bodyType             149999 non-null float64\n",
      "fuelType             149999 non-null float64\n",
      "gearbox              149999 non-null float64\n",
      "power                149999 non-null int64\n",
      "kilometer            149999 non-null float64\n",
      "notRepairedDamage    149999 non-null float64\n",
      "regionCode           149999 non-null int64\n",
      "seller               149999 non-null int64\n",
      "offerType            149999 non-null int64\n",
      "creatDate            149999 non-null int64\n",
      "price                149999 non-null int64\n",
      "v_0                  149999 non-null float64\n",
      "v_1                  149999 non-null float64\n",
      "v_2                  149999 non-null float64\n",
      "v_3                  149999 non-null float64\n",
      "v_4                  149999 non-null float64\n",
      "v_5                  149999 non-null float64\n",
      "v_6                  149999 non-null float64\n",
      "v_7                  149999 non-null float64\n",
      "v_8                  149999 non-null float64\n",
      "v_9                  149999 non-null float64\n",
      "v_10                 149999 non-null float64\n",
      "v_11                 149999 non-null float64\n",
      "v_12                 149999 non-null float64\n",
      "v_13                 149999 non-null float64\n",
      "v_14                 149999 non-null float64\n",
      "dtypes: float64(21), int64(10)\n",
      "memory usage: 36.6 MB\n"
     ]
    }
   ],
   "source": [
    "#补notRepairedDamage，2万多条\n",
    "dfCar['notRepairedDamage'] = dfCar['notRepairedDamage'].fillna(method='pad')\n",
    "dfCar.info()"
   ]
  },
  {
   "cell_type": "code",
   "execution_count": 242,
   "metadata": {},
   "outputs": [
    {
     "name": "stdout",
     "output_type": "stream",
     "text": [
      "7.779250581553743\n",
      "7.75702751458045\n"
     ]
    }
   ],
   "source": [
    "damageRate_2 = dfCar.groupby(['notRepairedDamage'])['SaleID'].count()/149999\n",
    "damageRate_2#2万多条\n",
    "#之前比例\n",
    "#0.742405\n",
    "#0.095434\n",
    "print(0.742405/0.095434)\n",
    "#7.7\n",
    "print(0.885806/0.114194)\n",
    "#7.75702751458045\n",
    "#差不多"
   ]
  },
  {
   "cell_type": "code",
   "execution_count": 236,
   "metadata": {},
   "outputs": [],
   "source": [
    "#常试下直接替换-\n",
    "#dfCar[dfCar['notRepairedDamage']==\"-\"]['notRepairedDamage']=None\n",
    "#dfCar.info()"
   ]
  },
  {
   "cell_type": "code",
   "execution_count": 237,
   "metadata": {},
   "outputs": [],
   "source": [
    "#damageRate_2 = dfCar.groupby(['notRepairedDamage'])['SaleID'].count()/149999\n",
    "#damageRate_2#2万多条"
   ]
  },
  {
   "cell_type": "code",
   "execution_count": 243,
   "metadata": {},
   "outputs": [],
   "source": [
    "#没有缺失值了，把数据保存\n",
    "dfCar.to_csv(\"data//ready_car_train.csv\")"
   ]
  },
  {
   "cell_type": "code",
   "execution_count": null,
   "metadata": {},
   "outputs": [],
   "source": []
  }
 ],
 "metadata": {
  "kernelspec": {
   "display_name": "Python 3",
   "language": "python",
   "name": "python3"
  },
  "language_info": {
   "codemirror_mode": {
    "name": "ipython",
    "version": 3
   },
   "file_extension": ".py",
   "mimetype": "text/x-python",
   "name": "python",
   "nbconvert_exporter": "python",
   "pygments_lexer": "ipython3",
   "version": "3.6.5"
  }
 },
 "nbformat": 4,
 "nbformat_minor": 2
}
