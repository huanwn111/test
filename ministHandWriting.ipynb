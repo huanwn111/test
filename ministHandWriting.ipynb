{
 "cells": [
  {
   "cell_type": "markdown",
   "metadata": {},
   "source": [
    "## 卷积神经网络 \n",
    "\n",
    "* 卷积运算的定义、动机（稀疏权重、参数共享、等变表示）。一维卷积运算和二维卷积运算。\n",
    "* 反卷积(tf.nn.conv2d_transpose)\n",
    "* 池化运算的定义、种类（最大池化、平均池化等）、动机。\n",
    "* 利用CNN模型来识别手写字体。\n",
    "\n"
   ]
  },
  {
   "cell_type": "code",
   "execution_count": null,
   "metadata": {},
   "outputs": [],
   "source": [
    "'''\n",
    "卷积运算的定义、动机（稀疏权重、参数共享、等变表示）。一维卷积运算和二维卷积运算。\n",
    "\n",
    "卷积运算: 与经典的全连接神经网络相比，卷积神经网络运算的原理是通过加入卷积层和池化层，\n",
    "来对特征进行逐步细化浓缩提取。\n",
    "实现方式是通过滑动窗口的方式，在原始数据中划分出一个小区域矩阵，\n",
    "在卷积层conv层与通过窗口filter取前一层特征图上的小区域与下一层神经元做内积和操作(即wx+b)，\n",
    "经激活函数将线性转为非线性结果，\n",
    "将结果，即提取的特征点汇到一个特征图，\n",
    "再通过池化层pooling层 根据求max或mean操作，保留一个特征数，将特征图浓缩，\n",
    "再经过下一层卷积，池化，逐步浓缩，细化特征，\n",
    "最后经过两个全连接层整合特征，再softmax把特征分类。\n",
    "filter在取前一层数据小窗口时，是滑动向前依次提取，\n",
    "由stride指定每次滑动多远。\n",
    "\n",
    "稀疏权重：又叫稀疏连接，就是指上面说到的，每次只关注和处理视觉范围前后的影象。\n",
    "稀疏即散布离散，相对非连续性的一个概念。\n",
    "\n",
    "参数共享：因为每个特征图小窗口在与下一层神经元做内积和操作进行wx+b操作时都带有一个w,\n",
    "有多少个神经元就有多少个w，把相同的w共享避免大量操作，这个过程叫参数共享\n",
    "\n",
    "等变表示: 等比变化，可以通过局部特性按照规律，\n",
    "映射出整体或其它部分（如通过正脸特征映射画出侧脸）的特征，\n",
    "反之也可以从整体抽离局部特征浓缩代表整体，等变特性是上面卷积得以实现的依据。\n",
    "\n",
    "一维卷积运算：比如图象RGB通道，只有一个，灰度图，算上面卷积运算时只对一个平面，\n",
    "做filter过滤小窗口提取特征，再pooling压缩等操作。\n",
    "\n",
    "二维护卷积运算：chanel加入一个深度，比如图片识别的特征提取，一张彩色图，\n",
    "有三个颜色通道RGB，即，输入就是 长X宽X3,3就是深度。\n",
    "后面对应的filter也是三个分别提取三个通道的特征。\n",
    "\n",
    "反卷积(tf.nn.conv2d_transpose)：\n",
    "反卷积操作是卷积的反向，指上面conv pooling 一系列完成得到最终结果后，\n",
    "反向传播回来求梯度使loss操失最小，来取最合适的参数w,b的操作。\n",
    "\n",
    "tensorflow的conv2d_transpose函数可以实现反卷积，参数介绍如下：\n",
    "tf.nn.conv2d_transpose(\n",
    "value, #输入值，需要反卷积的输入，即从后一层反传回来的梯度值，要求tensor格式\n",
    "filter, #卷积核，tensor格式，四维[f高，f宽，f个数，chanel深度或图像通道数]\n",
    "output_shape, #输出的shape\n",
    "strides, #滑动尺度，每一维滑动的步长\n",
    "padding=\"SAME\", #边缘填充：滑动窗口到边缘，有空出位补0操作，为了提取完整特征。VALID是舍弃这部分特征。\n",
    "data_format=\"NHWC\", #输入参数的格式，默认NHWC顺序，即[batch, height, width, in_channels]\n",
    ")\n",
    "\n",
    "池化运算的定义、种类（最大池化、平均池化等）、动机。\n",
    "\n",
    "池化运算: 池化操作是在卷积后面跟着的一层将特征图filter提取的小区域按照规则，\n",
    "取最大Max或取平均Mean来 保留一个代表性矩阵值。\n",
    "动机：对特征进一步压缩细化。\n",
    "这一步和卷积层的实现原理一样，只是没有wx+b 内积和 操作。\n",
    "最大池化：Max，取前一层特征矩阵中最大值，如[[1,2][4,5]] 只取5放入特征图中。\n",
    "平均池化：mean,前一层特征矩阵中多个值取平均产，如[[1,2][4,5]] 取 （1+2+4+5）/4 = 6\n",
    "\n",
    "'''"
   ]
  },
  {
   "cell_type": "code",
   "execution_count": 3,
   "metadata": {},
   "outputs": [],
   "source": [
    "'''\n",
    "cnn识别手写字体\n",
    "'''\n",
    "import numpy as np\n",
    "import tensorflow as tf\n",
    "import matplotlib.pyplot as plt\n",
    "from tensorflow.examples.tutorials.mnist import input_data\n",
    "#初始化tensorflow 读取数据类"
   ]
  },
  {
   "cell_type": "code",
   "execution_count": 4,
   "metadata": {},
   "outputs": [
    {
     "name": "stdout",
     "output_type": "stream",
     "text": [
      "WARNING:tensorflow:From <ipython-input-4-901332a25912>:2: read_data_sets (from tensorflow.contrib.learn.python.learn.datasets.mnist) is deprecated and will be removed in a future version.\n",
      "Instructions for updating:\n",
      "Please use alternatives such as official/mnist/dataset.py from tensorflow/models.\n",
      "WARNING:tensorflow:From G:\\Users\\Administrator\\Anaconda3\\lib\\site-packages\\tensorflow\\contrib\\learn\\python\\learn\\datasets\\mnist.py:260: maybe_download (from tensorflow.contrib.learn.python.learn.datasets.base) is deprecated and will be removed in a future version.\n",
      "Instructions for updating:\n",
      "Please write your own downloading logic.\n",
      "WARNING:tensorflow:From G:\\Users\\Administrator\\Anaconda3\\lib\\site-packages\\tensorflow\\contrib\\learn\\python\\learn\\datasets\\mnist.py:262: extract_images (from tensorflow.contrib.learn.python.learn.datasets.mnist) is deprecated and will be removed in a future version.\n",
      "Instructions for updating:\n",
      "Please use tf.data to implement this functionality.\n",
      "Extracting MinistData\\train-images-idx3-ubyte.gz\n",
      "WARNING:tensorflow:From G:\\Users\\Administrator\\Anaconda3\\lib\\site-packages\\tensorflow\\contrib\\learn\\python\\learn\\datasets\\mnist.py:267: extract_labels (from tensorflow.contrib.learn.python.learn.datasets.mnist) is deprecated and will be removed in a future version.\n",
      "Instructions for updating:\n",
      "Please use tf.data to implement this functionality.\n",
      "Extracting MinistData\\train-labels-idx1-ubyte.gz\n",
      "WARNING:tensorflow:From G:\\Users\\Administrator\\Anaconda3\\lib\\site-packages\\tensorflow\\contrib\\learn\\python\\learn\\datasets\\mnist.py:110: dense_to_one_hot (from tensorflow.contrib.learn.python.learn.datasets.mnist) is deprecated and will be removed in a future version.\n",
      "Instructions for updating:\n",
      "Please use tf.one_hot on tensors.\n",
      "Extracting MinistData\\t10k-images-idx3-ubyte.gz\n",
      "Extracting MinistData\\t10k-labels-idx1-ubyte.gz\n",
      "WARNING:tensorflow:From G:\\Users\\Administrator\\Anaconda3\\lib\\site-packages\\tensorflow\\contrib\\learn\\python\\learn\\datasets\\mnist.py:290: DataSet.__init__ (from tensorflow.contrib.learn.python.learn.datasets.mnist) is deprecated and will be removed in a future version.\n",
      "Instructions for updating:\n",
      "Please use alternatives such as official/mnist/dataset.py from tensorflow/models.\n"
     ]
    }
   ],
   "source": [
    "#读取minist数据集\n",
    "mnist = input_data.read_data_sets('MinistData',one_hot=True)\n",
    "#数据已下载，存在同目录MinistData文件夹下\n",
    "\n"
   ]
  },
  {
   "cell_type": "code",
   "execution_count": 7,
   "metadata": {},
   "outputs": [
    {
     "name": "stdout",
     "output_type": "stream",
     "text": [
      "训练集数据个数： 55000\n",
      "验证集数据个数： 5000\n",
      "测试集数据个数： 10000\n"
     ]
    }
   ],
   "source": [
    "print(\"训练集数据个数：\",mnist.train.num_examples)\n",
    "print(\"验证集数据个数：\",mnist.validation.num_examples)\n",
    "print(\"测试集数据个数：\",mnist.test.num_examples)"
   ]
  },
  {
   "cell_type": "code",
   "execution_count": 39,
   "metadata": {},
   "outputs": [
    {
     "data": {
      "image/png": "[encoded data removed]",
      "text/plain": [
       "<Figure size 432x288 with 1 Axes>"
      ]
     },
     "metadata": {
      "needs_background": "light"
     },
     "output_type": "display_data"
    },
    {
     "data": {
      "image/png": "[encoded data removed]",
      "text/plain": [
       "<Figure size 432x288 with 1 Axes>"
      ]
     },
     "metadata": {
      "needs_background": "light"
     },
     "output_type": "display_data"
    },
    {
     "data": {
      "image/png": "[encoded data removed]",
      "text/plain": [
       "<Figure size 432x288 with 1 Axes>"
      ]
     },
     "metadata": {
      "needs_background": "light"
     },
     "output_type": "display_data"
    }
   ],
   "source": [
    "trainDatas = mnist.train.images\n",
    "trainLabels = mnist.train.labels\n",
    "testDatas = mnist.test.images\n",
    "testLabels = mnist.test.labels\n",
    "#显示图看下\n",
    "plt.figure()\n",
    "for i in range(3):\n",
    "    plt.imshow(trainDatas[i].reshape(28,28),'gray')\n",
    "    plt.pause(0.0000001)\n",
    "plt.show()\n",
    "#更多本数据集操作见\n",
    "#https://blog.csdn.net/panrenlong/article/details/81736754"
   ]
  },
  {
   "cell_type": "code",
   "execution_count": 40,
   "metadata": {},
   "outputs": [],
   "source": [
    "#数据初始化\n",
    "n_input = 784\n",
    "n_output = 10\n",
    "#定义两层conv卷积，两层全连接层fc1，fc2\n",
    "weights = {\n",
    "    'wc1':tf.Variable(tf.truncated_normal([3,3,1,64],stddev=0.1)),\n",
    "    'wc2':tf.Variable(tf.truncated_normal([3,3,64,128],stddev=0.1)),\n",
    "    'wd1':tf.Variable(tf.truncated_normal([7*7*128,1024],stddev=0.1)),\n",
    "    'wd2':tf.Variable(tf.truncated_normal([1024,n_output],stddev=0.1))\n",
    "}\n",
    "#参数解释wc1 [3,3,1,64]#filter的高h,宽w,深度1为灰度图RGB通道一条，输出64个特征图\n",
    "#wc2[3,3,64,128] #filter高，宽，深64（前一层传过来的64个），输出特征图128个\n",
    "\n",
    "#定义偏置项\n",
    "biases = {\n",
    "    'bc1':tf.Variable(tf.random_normal([64],stddev=0.1)),\n",
    "    'bc2':tf.Variable(tf.random_normal([128],stddev=0.1)),\n",
    "    'bd1':tf.Variable(tf.random_normal([1024],stddev=0.1)),\n",
    "    'bd2':tf.Variable(tf.random_normal([n_output],stddev=0.1))\n",
    "}"
   ]
  },
  {
   "cell_type": "code",
   "execution_count": 41,
   "metadata": {},
   "outputs": [],
   "source": [
    "#卷积加池化操作函数\n",
    "def conv_basic(_input,_w,_b,_keepratio):\n",
    "    #前向传播\n",
    "    #数据预处理,将输入的数据变成tensorflow需要的四维格式\n",
    "    _input_r = tf.reshape(_input,shape=[-1,28,28,1])\n",
    "    #参数：batchsize，没有的话设1，-1 tf会根据后三项自动算\n",
    "        #h高度，w宽度，chanel RGB 通道1灰度\n",
    "    \n",
    "    #用conv2d进行卷积，代入参数\n",
    "    _conv1 = tf.nn.conv2d(_input_r,_w['wc1'],strides=[1,1,1,1],padding='SAME')\n",
    "    #参数：_w['wc1']为上面定义的字典取值第一层w\n",
    "        #strides 滑动步长 要求四维格式[输入,h,w,chanel]主要 改中间两个h w\n",
    "        #padding='SAME' 滑到边缘有空值时补0\n",
    "    \n",
    "    #给上面卷积层加relu激活函数，转非线性\n",
    "    _conv1 = tf.nn.relu(tf.nn.bias_add(_conv1,_b['bc1']))\n",
    "    #relu里面是一个wx+b操作\n",
    "    \n",
    "    #加池化层Max-pooling\n",
    "    _pool1 = tf.nn.max_pool(_conv1,ksize=[1,2,2,1],strides=[1,2,2,1],padding='SAME')\n",
    "    #参数：ksize = [1,2,2,1]#2*2窗口\n",
    "        #strides 滑动步长\n",
    "    \n",
    "    #加一层dropout，防过拟和（通过弃用不重要特征的方式）\n",
    "    _pool_dr1 = tf.nn.dropout(_pool1,_keepratio)\n",
    "    #_keepratio杀死比例\n",
    "    \n",
    "    #再定义一层卷积\n",
    "    _conv2 = tf.nn.conv2d(_pool_dr1,_w['wc2'],strides=[1,1,1,1],padding='SAME')\n",
    "    #加relu激活函数\n",
    "    _conv2 = tf.nn.relu(tf.nn.bias_add(_conv2,_b['bc2']))\n",
    "    \n",
    "    #二层池化层\n",
    "    _pool2 = tf.nn.max_pool(_conv2,ksize=[1,2,2,1],strides=[1,2,2,1],padding='SAME')\n",
    "    #加dropout\n",
    "    _pool_dr2 = tf.nn.dropout(_pool2,_keepratio)\n",
    "    \n",
    "    #拼接整理特征图\n",
    "    _dense1 = tf.reshape(_pool_dr2,[-1,_w['wd1'].get_shape().as_list()[0]])\n",
    "    #_w['wd1']用上面字典中定义好的骨架\n",
    "    \n",
    "    #全连接一层fc1\n",
    "    _fc1 = tf.nn.relu(tf.add(tf.matmul(_dense1,_w['wd1']),_b['bd1']))\n",
    "    #与上一层输入x即 _dense1特征图，执行wx+b操作，再relu\n",
    "    #加dropout\n",
    "    _fc_dr1 = tf.nn.dropout(_fc1,_keepratio)\n",
    "                      \n",
    "    #第二层全连接层fc2，这里用_out表示了\n",
    "    _out = tf.add(tf.matmul(_fc_dr1,_w['wd2']),_b['bd2'])\n",
    "    #wx+b,累加\n",
    "    \n",
    "    #组合上面信息返回值\n",
    "    out = {\n",
    "        'input_r':_input_r,\n",
    "        'conv1':_conv1,\n",
    "        'pool1':_pool1,\n",
    "        'pool_dr1':_pool_dr1,\n",
    "        'conv2':_conv2,\n",
    "        'pool2':_pool2,\n",
    "        'pool_dr2':_pool_dr2,\n",
    "        'dense1':_dense1,\n",
    "        'fc1':_fc1,\n",
    "        'fc_dr1':_fc_dr1,\n",
    "        'out':_out\n",
    "    }\n",
    "    \n",
    "    return out\n",
    "    "
   ]
  },
  {
   "cell_type": "code",
   "execution_count": 42,
   "metadata": {},
   "outputs": [],
   "source": [
    "#处理tf相关操作\n",
    "a = tf.Variable(tf.random_normal([3,3,1,64],stddev=0.1))\n",
    "#print(a)\n",
    "a = tf.Print(a,[a],\"a:\")\n",
    "#初始化tf变量\n",
    "init = tf.global_variables_initializer()\n",
    "sess = tf.Session()\n",
    "sess.run(init)"
   ]
  },
  {
   "cell_type": "code",
   "execution_count": 44,
   "metadata": {},
   "outputs": [],
   "source": [
    "x = tf.placeholder(tf.float32,[None,n_input])\n",
    "y = tf.placeholder(tf.float32,[None,n_output])\n",
    "keepratio = tf.placeholder(tf.float32)\n",
    "\n",
    "_pred = conv_basic(x,weights,biases,keepratio)['out']\n",
    "cost = tf.reduce_mean(tf.nn.softmax_cross_entropy_with_logits(logits=_pred,labels=y))\n",
    "#`softmax_cross_entropy_with_logits`参数格式 (labels=..., logits=..., ...)\n",
    "optm = tf.train.AdamOptimizer(learning_rate=0.001).minimize(cost)\n",
    "_corr = tf.equal(tf.argmax(_pred,1),tf.argmax(y,1))\n",
    "#比较预测值与真实例相等则正确\n",
    "accr = tf.reduce_mean(tf.cast(_corr,tf.float32))\n",
    "\n",
    "#tf变量初始化\n",
    "init = tf.global_variables_initializer()\n"
   ]
  },
  {
   "cell_type": "code",
   "execution_count": 49,
   "metadata": {},
   "outputs": [
    {
     "name": "stdout",
     "output_type": "stream",
     "text": [
      "第 1 次迭代，共 15 次，平均损失: 5.714303398 \n",
      "训练精确度：0.125000000\n",
      "第 2 次迭代，共 15 次，平均损失: 2.583076143 \n",
      "训练精确度：0.062500000\n",
      "第 3 次迭代，共 15 次，平均损失: 2.250749660 \n",
      "训练精确度：0.125000000\n",
      "第 4 次迭代，共 15 次，平均损失: 2.132968116 \n",
      "训练精确度：0.500000000\n",
      "第 5 次迭代，共 15 次，平均损失: 2.019559205 \n",
      "训练精确度：0.562500000\n",
      "第 6 次迭代，共 15 次，平均损失: 1.710370076 \n",
      "训练精确度：0.750000000\n",
      "第 7 次迭代，共 15 次，平均损失: 1.180212092 \n",
      "训练精确度：0.750000000\n",
      "第 8 次迭代，共 15 次，平均损失: 0.928154027 \n",
      "训练精确度：0.687500000\n",
      "第 9 次迭代，共 15 次，平均损失: 0.692349124 \n",
      "训练精确度：0.937500000\n",
      "第 10 次迭代，共 15 次，平均损失: 0.717520785 \n",
      "训练精确度：0.812500000\n",
      "第 11 次迭代，共 15 次，平均损失: 0.619076169 \n",
      "训练精确度：0.812500000\n",
      "第 12 次迭代，共 15 次，平均损失: 0.580044615 \n",
      "训练精确度：0.812500000\n",
      "第 13 次迭代，共 15 次，平均损失: 0.650347844 \n",
      "训练精确度：0.937500000\n",
      "第 14 次迭代，共 15 次，平均损失: 0.590193996 \n",
      "训练精确度：0.875000000\n",
      "第 15 次迭代，共 15 次，平均损失: 0.562588316 \n",
      "训练精确度：0.875000000\n"
     ]
    }
   ],
   "source": [
    "#迭代执行上面函数\n",
    "sess = tf.Session()\n",
    "sess.run(init)\n",
    "training_epochs = 15\n",
    "batch_size = 16\n",
    "display_step = 1\n",
    "\n",
    "for epoch in range(training_epochs):\n",
    "    avg_cost = 0\n",
    "    total_batch = 10\n",
    "    for i in range(total_batch):\n",
    "        batch_xs,batch_ys = mnist.train.next_batch(batch_size)\n",
    "        #【训练数据是从这里传进去的，mnist.train 自动划分了x和y】\n",
    "        sess.run(optm,feed_dict={x:batch_xs,y:batch_ys,keepratio:0.7})\n",
    "        avg_cost += sess.run(cost,feed_dict={x:batch_xs,y:batch_ys,keepratio:1.})/total_batch\n",
    "        \n",
    "    if epoch % display_step == 0:\n",
    "        print(\"第 %s 次迭代，共 %s 次，平均损失: %.9f \" % (epoch+1,training_epochs,avg_cost))\n",
    "        train_acc = sess.run(accr,feed_dict={x:batch_xs,y:batch_ys,keepratio:1.})\n",
    "        print(\"训练精确度：%.9f\" % train_acc)\n",
    "        #显示小数点位数%.3f 3位，注意前面不是%s.3f\n",
    "        "
   ]
  },
  {
   "cell_type": "code",
   "execution_count": null,
   "metadata": {},
   "outputs": [],
   "source": []
  }
 ],
 "metadata": {
  "kernelspec": {
   "display_name": "Python 3",
   "language": "python",
   "name": "python3"
  },
  "language_info": {
   "codemirror_mode": {
    "name": "ipython",
    "version": 3
   },
   "file_extension": ".py",
   "mimetype": "text/x-python",
   "name": "python",
   "nbconvert_exporter": "python",
   "pygments_lexer": "ipython3",
   "version": "3.6.8"
  }
 },
 "nbformat": 4,
 "nbformat_minor": 2
}
