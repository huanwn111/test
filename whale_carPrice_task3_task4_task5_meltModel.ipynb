{
 "cells": [
  {
   "cell_type": "code",
   "execution_count": 3,
   "metadata": {},
   "outputs": [],
   "source": [
    "#二手车价格预测--特征工程\n",
    "import pandas as pd\n",
    "import numpy as np\n",
    "import seaborn as sns\n",
    "import matplotlib.pyplot as plt\n",
    "from sklearn.decomposition import PCA\n",
    "%matplotlib inline"
   ]
  },
  {
   "cell_type": "markdown",
   "metadata": {},
   "source": [
    "# TASK 3 特征工程"
   ]
  },
  {
   "cell_type": "code",
   "execution_count": null,
   "metadata": {},
   "outputs": [],
   "source": [
    "#==注意：\n",
    "#1）特征数据保存后再读出，数据类型混乱，还是在一个文件处理，\n",
    "#2）日期型数据不做展示排序等用途，做训练时用字符串类别型，不用日期时间戳\n",
    "#3)特征处理可写for循环批量处理\n",
    "#4) 数值型归一化标准化、类别型onehot都有现成的函数可用\n",
    "#=="
   ]
  },
  {
   "cell_type": "code",
   "execution_count": 4,
   "metadata": {},
   "outputs": [
    {
     "data": {
      "text/html": [
       "<div>\n",
       "<style scoped>\n",
       "    .dataframe tbody tr th:only-of-type {\n",
       "        vertical-align: middle;\n",
       "    }\n",
       "\n",
       "    .dataframe tbody tr th {\n",
       "        vertical-align: top;\n",
       "    }\n",
       "\n",
       "    .dataframe thead th {\n",
       "        text-align: right;\n",
       "    }\n",
       "</style>\n",
       "<table border=\"1\" class=\"dataframe\">\n",
       "  <thead>\n",
       "    <tr style=\"text-align: right;\">\n",
       "      <th></th>\n",
       "      <th>Unnamed: 0</th>\n",
       "      <th>SaleID</th>\n",
       "      <th>name</th>\n",
       "      <th>regDate</th>\n",
       "      <th>model</th>\n",
       "      <th>brand</th>\n",
       "      <th>bodyType</th>\n",
       "      <th>fuelType</th>\n",
       "      <th>gearbox</th>\n",
       "      <th>power</th>\n",
       "      <th>...</th>\n",
       "      <th>v_5</th>\n",
       "      <th>v_6</th>\n",
       "      <th>v_7</th>\n",
       "      <th>v_8</th>\n",
       "      <th>v_9</th>\n",
       "      <th>v_10</th>\n",
       "      <th>v_11</th>\n",
       "      <th>v_12</th>\n",
       "      <th>v_13</th>\n",
       "      <th>v_14</th>\n",
       "    </tr>\n",
       "  </thead>\n",
       "  <tbody>\n",
       "    <tr>\n",
       "      <th>0</th>\n",
       "      <td>0</td>\n",
       "      <td>0</td>\n",
       "      <td>736</td>\n",
       "      <td>20040402</td>\n",
       "      <td>30.0</td>\n",
       "      <td>6</td>\n",
       "      <td>1.0</td>\n",
       "      <td>0.0</td>\n",
       "      <td>0.0</td>\n",
       "      <td>60</td>\n",
       "      <td>...</td>\n",
       "      <td>0.235676</td>\n",
       "      <td>0.101988</td>\n",
       "      <td>0.129549</td>\n",
       "      <td>0.022816</td>\n",
       "      <td>0.097462</td>\n",
       "      <td>-2.881803</td>\n",
       "      <td>2.804097</td>\n",
       "      <td>-2.420821</td>\n",
       "      <td>0.795292</td>\n",
       "      <td>0.914763</td>\n",
       "    </tr>\n",
       "    <tr>\n",
       "      <th>1</th>\n",
       "      <td>1</td>\n",
       "      <td>1</td>\n",
       "      <td>2262</td>\n",
       "      <td>20030301</td>\n",
       "      <td>40.0</td>\n",
       "      <td>1</td>\n",
       "      <td>2.0</td>\n",
       "      <td>0.0</td>\n",
       "      <td>0.0</td>\n",
       "      <td>0</td>\n",
       "      <td>...</td>\n",
       "      <td>0.264777</td>\n",
       "      <td>0.121004</td>\n",
       "      <td>0.135731</td>\n",
       "      <td>0.026597</td>\n",
       "      <td>0.020582</td>\n",
       "      <td>-4.900482</td>\n",
       "      <td>2.096338</td>\n",
       "      <td>-1.030483</td>\n",
       "      <td>-1.722674</td>\n",
       "      <td>0.245522</td>\n",
       "    </tr>\n",
       "    <tr>\n",
       "      <th>2</th>\n",
       "      <td>2</td>\n",
       "      <td>2</td>\n",
       "      <td>14874</td>\n",
       "      <td>20040403</td>\n",
       "      <td>115.0</td>\n",
       "      <td>15</td>\n",
       "      <td>1.0</td>\n",
       "      <td>0.0</td>\n",
       "      <td>0.0</td>\n",
       "      <td>163</td>\n",
       "      <td>...</td>\n",
       "      <td>0.251410</td>\n",
       "      <td>0.114912</td>\n",
       "      <td>0.165147</td>\n",
       "      <td>0.062173</td>\n",
       "      <td>0.027075</td>\n",
       "      <td>-4.846749</td>\n",
       "      <td>1.803559</td>\n",
       "      <td>1.565330</td>\n",
       "      <td>-0.832687</td>\n",
       "      <td>-0.229963</td>\n",
       "    </tr>\n",
       "    <tr>\n",
       "      <th>3</th>\n",
       "      <td>3</td>\n",
       "      <td>3</td>\n",
       "      <td>71865</td>\n",
       "      <td>19960908</td>\n",
       "      <td>109.0</td>\n",
       "      <td>10</td>\n",
       "      <td>0.0</td>\n",
       "      <td>0.0</td>\n",
       "      <td>1.0</td>\n",
       "      <td>193</td>\n",
       "      <td>...</td>\n",
       "      <td>0.274293</td>\n",
       "      <td>0.110300</td>\n",
       "      <td>0.121964</td>\n",
       "      <td>0.033395</td>\n",
       "      <td>0.000000</td>\n",
       "      <td>-4.509599</td>\n",
       "      <td>1.285940</td>\n",
       "      <td>-0.501868</td>\n",
       "      <td>-2.438353</td>\n",
       "      <td>-0.478699</td>\n",
       "    </tr>\n",
       "    <tr>\n",
       "      <th>4</th>\n",
       "      <td>4</td>\n",
       "      <td>4</td>\n",
       "      <td>111080</td>\n",
       "      <td>20120103</td>\n",
       "      <td>110.0</td>\n",
       "      <td>5</td>\n",
       "      <td>1.0</td>\n",
       "      <td>0.0</td>\n",
       "      <td>0.0</td>\n",
       "      <td>68</td>\n",
       "      <td>...</td>\n",
       "      <td>0.228036</td>\n",
       "      <td>0.073205</td>\n",
       "      <td>0.091880</td>\n",
       "      <td>0.078819</td>\n",
       "      <td>0.121534</td>\n",
       "      <td>-1.896240</td>\n",
       "      <td>0.910783</td>\n",
       "      <td>0.931110</td>\n",
       "      <td>2.834518</td>\n",
       "      <td>1.923482</td>\n",
       "    </tr>\n",
       "  </tbody>\n",
       "</table>\n",
       "<p>5 rows × 30 columns</p>\n",
       "</div>"
      ],
      "text/plain": [
       "   Unnamed: 0  SaleID    name   regDate  model  brand  bodyType  fuelType  \\\n",
       "0           0       0     736  20040402   30.0      6       1.0       0.0   \n",
       "1           1       1    2262  20030301   40.0      1       2.0       0.0   \n",
       "2           2       2   14874  20040403  115.0     15       1.0       0.0   \n",
       "3           3       3   71865  19960908  109.0     10       0.0       0.0   \n",
       "4           4       4  111080  20120103  110.0      5       1.0       0.0   \n",
       "\n",
       "   gearbox  power  ...       v_5       v_6       v_7       v_8       v_9  \\\n",
       "0      0.0     60  ...  0.235676  0.101988  0.129549  0.022816  0.097462   \n",
       "1      0.0      0  ...  0.264777  0.121004  0.135731  0.026597  0.020582   \n",
       "2      0.0    163  ...  0.251410  0.114912  0.165147  0.062173  0.027075   \n",
       "3      1.0    193  ...  0.274293  0.110300  0.121964  0.033395  0.000000   \n",
       "4      0.0     68  ...  0.228036  0.073205  0.091880  0.078819  0.121534   \n",
       "\n",
       "       v_10      v_11      v_12      v_13      v_14  \n",
       "0 -2.881803  2.804097 -2.420821  0.795292  0.914763  \n",
       "1 -4.900482  2.096338 -1.030483 -1.722674  0.245522  \n",
       "2 -4.846749  1.803559  1.565330 -0.832687 -0.229963  \n",
       "3 -4.509599  1.285940 -0.501868 -2.438353 -0.478699  \n",
       "4 -1.896240  0.910783  0.931110  2.834518  1.923482  \n",
       "\n",
       "[5 rows x 30 columns]"
      ]
     },
     "execution_count": 4,
     "metadata": {},
     "output_type": "execute_result"
    }
   ],
   "source": [
    "dfCar = pd.read_csv(\"data//ready_car_train.csv\")\n",
    "dfCar.head()"
   ]
  },
  {
   "cell_type": "code",
   "execution_count": 5,
   "metadata": {},
   "outputs": [
    {
     "name": "stdout",
     "output_type": "stream",
     "text": [
      "<class 'pandas.core.frame.DataFrame'>\n",
      "RangeIndex: 149999 entries, 0 to 149998\n",
      "Data columns (total 30 columns):\n",
      "Unnamed: 0           149999 non-null int64\n",
      "SaleID               149999 non-null int64\n",
      "name                 149999 non-null int64\n",
      "regDate              149999 non-null int64\n",
      "model                149999 non-null float64\n",
      "brand                149999 non-null int64\n",
      "bodyType             149999 non-null float64\n",
      "fuelType             149999 non-null float64\n",
      "gearbox              149999 non-null float64\n",
      "power                149999 non-null int64\n",
      "kilometer            149999 non-null float64\n",
      "notRepairedDamage    149999 non-null float64\n",
      "regionCode           149999 non-null int64\n",
      "creatDate            149999 non-null int64\n",
      "price                149999 non-null float64\n",
      "v_0                  149999 non-null float64\n",
      "v_1                  149999 non-null float64\n",
      "v_2                  149999 non-null float64\n",
      "v_3                  149999 non-null float64\n",
      "v_4                  149999 non-null float64\n",
      "v_5                  149999 non-null float64\n",
      "v_6                  149999 non-null float64\n",
      "v_7                  149999 non-null float64\n",
      "v_8                  149999 non-null float64\n",
      "v_9                  149999 non-null float64\n",
      "v_10                 149999 non-null float64\n",
      "v_11                 149999 non-null float64\n",
      "v_12                 149999 non-null float64\n",
      "v_13                 149999 non-null float64\n",
      "v_14                 149999 non-null float64\n",
      "dtypes: float64(22), int64(8)\n",
      "memory usage: 34.3 MB\n"
     ]
    }
   ],
   "source": [
    "dfCar.info()"
   ]
  },
  {
   "cell_type": "code",
   "execution_count": 6,
   "metadata": {},
   "outputs": [
    {
     "data": {
      "text/plain": [
       "0.0    42745\n",
       "1.0    36336\n",
       "2.0    31277\n",
       "3.0    13903\n",
       "4.0     9900\n",
       "5.0     7833\n",
       "6.0     6680\n",
       "7.0     1325\n",
       "Name: bodyType, dtype: int64"
      ]
     },
     "execution_count": 6,
     "metadata": {},
     "output_type": "execute_result"
    }
   ],
   "source": [
    "#把分类数据转为one-hot编码 #二分类的几列不用改用0，1即可\n",
    "#先看下bodyType车身类型\n",
    "dfCar['bodyType'].value_counts()"
   ]
  },
  {
   "cell_type": "code",
   "execution_count": 7,
   "metadata": {},
   "outputs": [],
   "source": [
    "#有8种类型，\n",
    "#转ONE-HOT函数\n",
    "def getOneHotFn(data,nType):#当前值,传入类型数,#注意pandas要apply的列值，必须在第一参\n",
    "    \n",
    "    m = np.zeros([int(nType),])#全0矩阵 一维有多少类就多少列\n",
    "    #print(m)\n",
    "    #有值的列置为1\n",
    "    m[int(data)] = 1\n",
    "    return m\n",
    "\n",
    "#getOneHotFn(2,8)#array([0., 0., 1., 0., 0., 0., 0.,0.])\n",
    "#getOneHotFn(7,8)#array([0., 0., 0., 0., 0., 0., 0., 1.])"
   ]
  },
  {
   "cell_type": "code",
   "execution_count": 8,
   "metadata": {},
   "outputs": [],
   "source": [
    "dfCar['bodyType_new'] =dfCar['bodyType'].apply(getOneHotFn,args=(8,))#apply里面是函数的多参传递\n",
    "#dfCar.head()"
   ]
  },
  {
   "cell_type": "code",
   "execution_count": 9,
   "metadata": {},
   "outputs": [
    {
     "data": {
      "text/plain": [
       "0.0    97289\n",
       "1.0    49856\n",
       "2.0     2362\n",
       "3.0      283\n",
       "4.0      125\n",
       "5.0       47\n",
       "6.0       37\n",
       "Name: fuelType, dtype: int64"
      ]
     },
     "execution_count": 9,
     "metadata": {},
     "output_type": "execute_result"
    }
   ],
   "source": [
    "#fuelType转one-hot\n",
    "dfCar['fuelType'].value_counts()"
   ]
  },
  {
   "cell_type": "code",
   "execution_count": 10,
   "metadata": {},
   "outputs": [
    {
     "data": {
      "text/html": [
       "<div>\n",
       "<style scoped>\n",
       "    .dataframe tbody tr th:only-of-type {\n",
       "        vertical-align: middle;\n",
       "    }\n",
       "\n",
       "    .dataframe tbody tr th {\n",
       "        vertical-align: top;\n",
       "    }\n",
       "\n",
       "    .dataframe thead th {\n",
       "        text-align: right;\n",
       "    }\n",
       "</style>\n",
       "<table border=\"1\" class=\"dataframe\">\n",
       "  <thead>\n",
       "    <tr style=\"text-align: right;\">\n",
       "      <th></th>\n",
       "      <th>Unnamed: 0</th>\n",
       "      <th>SaleID</th>\n",
       "      <th>name</th>\n",
       "      <th>regDate</th>\n",
       "      <th>model</th>\n",
       "      <th>brand</th>\n",
       "      <th>bodyType</th>\n",
       "      <th>fuelType</th>\n",
       "      <th>gearbox</th>\n",
       "      <th>power</th>\n",
       "      <th>...</th>\n",
       "      <th>v_7</th>\n",
       "      <th>v_8</th>\n",
       "      <th>v_9</th>\n",
       "      <th>v_10</th>\n",
       "      <th>v_11</th>\n",
       "      <th>v_12</th>\n",
       "      <th>v_13</th>\n",
       "      <th>v_14</th>\n",
       "      <th>bodyType_new</th>\n",
       "      <th>fuelType_new</th>\n",
       "    </tr>\n",
       "  </thead>\n",
       "  <tbody>\n",
       "    <tr>\n",
       "      <th>149994</th>\n",
       "      <td>149995</td>\n",
       "      <td>149995</td>\n",
       "      <td>163978</td>\n",
       "      <td>20000607</td>\n",
       "      <td>121.0</td>\n",
       "      <td>10</td>\n",
       "      <td>4.0</td>\n",
       "      <td>0.0</td>\n",
       "      <td>1.0</td>\n",
       "      <td>163</td>\n",
       "      <td>...</td>\n",
       "      <td>0.048441</td>\n",
       "      <td>0.071158</td>\n",
       "      <td>0.019174</td>\n",
       "      <td>1.988114</td>\n",
       "      <td>-2.983973</td>\n",
       "      <td>0.589167</td>\n",
       "      <td>-1.304370</td>\n",
       "      <td>-0.302592</td>\n",
       "      <td>[0.0, 0.0, 0.0, 0.0, 1.0, 0.0, 0.0, 0.0]</td>\n",
       "      <td>[1.0, 0.0, 0.0, 0.0, 0.0, 0.0, 0.0]</td>\n",
       "    </tr>\n",
       "    <tr>\n",
       "      <th>149995</th>\n",
       "      <td>149996</td>\n",
       "      <td>149996</td>\n",
       "      <td>184535</td>\n",
       "      <td>20091102</td>\n",
       "      <td>116.0</td>\n",
       "      <td>11</td>\n",
       "      <td>0.0</td>\n",
       "      <td>0.0</td>\n",
       "      <td>0.0</td>\n",
       "      <td>125</td>\n",
       "      <td>...</td>\n",
       "      <td>0.084079</td>\n",
       "      <td>0.099681</td>\n",
       "      <td>0.079371</td>\n",
       "      <td>1.839166</td>\n",
       "      <td>-2.774615</td>\n",
       "      <td>2.553994</td>\n",
       "      <td>0.924196</td>\n",
       "      <td>-0.272160</td>\n",
       "      <td>[1.0, 0.0, 0.0, 0.0, 0.0, 0.0, 0.0, 0.0]</td>\n",
       "      <td>[1.0, 0.0, 0.0, 0.0, 0.0, 0.0, 0.0]</td>\n",
       "    </tr>\n",
       "    <tr>\n",
       "      <th>149996</th>\n",
       "      <td>149997</td>\n",
       "      <td>149997</td>\n",
       "      <td>147587</td>\n",
       "      <td>20101003</td>\n",
       "      <td>60.0</td>\n",
       "      <td>11</td>\n",
       "      <td>1.0</td>\n",
       "      <td>1.0</td>\n",
       "      <td>0.0</td>\n",
       "      <td>90</td>\n",
       "      <td>...</td>\n",
       "      <td>0.118872</td>\n",
       "      <td>0.100118</td>\n",
       "      <td>0.097914</td>\n",
       "      <td>2.439812</td>\n",
       "      <td>-1.630677</td>\n",
       "      <td>2.290197</td>\n",
       "      <td>1.891922</td>\n",
       "      <td>0.414931</td>\n",
       "      <td>[0.0, 1.0, 0.0, 0.0, 0.0, 0.0, 0.0, 0.0]</td>\n",
       "      <td>[0.0, 1.0, 0.0, 0.0, 0.0, 0.0, 0.0]</td>\n",
       "    </tr>\n",
       "    <tr>\n",
       "      <th>149997</th>\n",
       "      <td>149998</td>\n",
       "      <td>149998</td>\n",
       "      <td>45907</td>\n",
       "      <td>20060312</td>\n",
       "      <td>34.0</td>\n",
       "      <td>10</td>\n",
       "      <td>3.0</td>\n",
       "      <td>1.0</td>\n",
       "      <td>0.0</td>\n",
       "      <td>156</td>\n",
       "      <td>...</td>\n",
       "      <td>0.081479</td>\n",
       "      <td>0.083558</td>\n",
       "      <td>0.081498</td>\n",
       "      <td>2.075380</td>\n",
       "      <td>-2.633719</td>\n",
       "      <td>1.414937</td>\n",
       "      <td>0.431981</td>\n",
       "      <td>-1.659014</td>\n",
       "      <td>[0.0, 0.0, 0.0, 1.0, 0.0, 0.0, 0.0, 0.0]</td>\n",
       "      <td>[0.0, 1.0, 0.0, 0.0, 0.0, 0.0, 0.0]</td>\n",
       "    </tr>\n",
       "    <tr>\n",
       "      <th>149998</th>\n",
       "      <td>149999</td>\n",
       "      <td>149999</td>\n",
       "      <td>177672</td>\n",
       "      <td>19990204</td>\n",
       "      <td>19.0</td>\n",
       "      <td>28</td>\n",
       "      <td>6.0</td>\n",
       "      <td>0.0</td>\n",
       "      <td>1.0</td>\n",
       "      <td>193</td>\n",
       "      <td>...</td>\n",
       "      <td>0.040072</td>\n",
       "      <td>0.062543</td>\n",
       "      <td>0.025819</td>\n",
       "      <td>1.978453</td>\n",
       "      <td>-3.179913</td>\n",
       "      <td>0.031724</td>\n",
       "      <td>-1.483350</td>\n",
       "      <td>-0.342674</td>\n",
       "      <td>[0.0, 0.0, 0.0, 0.0, 0.0, 0.0, 1.0, 0.0]</td>\n",
       "      <td>[1.0, 0.0, 0.0, 0.0, 0.0, 0.0, 0.0]</td>\n",
       "    </tr>\n",
       "  </tbody>\n",
       "</table>\n",
       "<p>5 rows × 32 columns</p>\n",
       "</div>"
      ],
      "text/plain": [
       "        Unnamed: 0  SaleID    name   regDate  model  brand  bodyType  \\\n",
       "149994      149995  149995  163978  20000607  121.0     10       4.0   \n",
       "149995      149996  149996  184535  20091102  116.0     11       0.0   \n",
       "149996      149997  149997  147587  20101003   60.0     11       1.0   \n",
       "149997      149998  149998   45907  20060312   34.0     10       3.0   \n",
       "149998      149999  149999  177672  19990204   19.0     28       6.0   \n",
       "\n",
       "        fuelType  gearbox  power  ...       v_7       v_8       v_9      v_10  \\\n",
       "149994       0.0      1.0    163  ...  0.048441  0.071158  0.019174  1.988114   \n",
       "149995       0.0      0.0    125  ...  0.084079  0.099681  0.079371  1.839166   \n",
       "149996       1.0      0.0     90  ...  0.118872  0.100118  0.097914  2.439812   \n",
       "149997       1.0      0.0    156  ...  0.081479  0.083558  0.081498  2.075380   \n",
       "149998       0.0      1.0    193  ...  0.040072  0.062543  0.025819  1.978453   \n",
       "\n",
       "            v_11      v_12      v_13      v_14  \\\n",
       "149994 -2.983973  0.589167 -1.304370 -0.302592   \n",
       "149995 -2.774615  2.553994  0.924196 -0.272160   \n",
       "149996 -1.630677  2.290197  1.891922  0.414931   \n",
       "149997 -2.633719  1.414937  0.431981 -1.659014   \n",
       "149998 -3.179913  0.031724 -1.483350 -0.342674   \n",
       "\n",
       "                                    bodyType_new  \\\n",
       "149994  [0.0, 0.0, 0.0, 0.0, 1.0, 0.0, 0.0, 0.0]   \n",
       "149995  [1.0, 0.0, 0.0, 0.0, 0.0, 0.0, 0.0, 0.0]   \n",
       "149996  [0.0, 1.0, 0.0, 0.0, 0.0, 0.0, 0.0, 0.0]   \n",
       "149997  [0.0, 0.0, 0.0, 1.0, 0.0, 0.0, 0.0, 0.0]   \n",
       "149998  [0.0, 0.0, 0.0, 0.0, 0.0, 0.0, 1.0, 0.0]   \n",
       "\n",
       "                               fuelType_new  \n",
       "149994  [1.0, 0.0, 0.0, 0.0, 0.0, 0.0, 0.0]  \n",
       "149995  [1.0, 0.0, 0.0, 0.0, 0.0, 0.0, 0.0]  \n",
       "149996  [0.0, 1.0, 0.0, 0.0, 0.0, 0.0, 0.0]  \n",
       "149997  [0.0, 1.0, 0.0, 0.0, 0.0, 0.0, 0.0]  \n",
       "149998  [1.0, 0.0, 0.0, 0.0, 0.0, 0.0, 0.0]  \n",
       "\n",
       "[5 rows x 32 columns]"
      ]
     },
     "execution_count": 10,
     "metadata": {},
     "output_type": "execute_result"
    }
   ],
   "source": [
    "dfCar['fuelType_new'] = dfCar['fuelType'].apply(getOneHotFn,args=(7,))\n",
    "dfCar.tail()"
   ]
  },
  {
   "cell_type": "code",
   "execution_count": 11,
   "metadata": {},
   "outputs": [
    {
     "name": "stdout",
     "output_type": "stream",
     "text": [
      "<class 'str'>\n",
      "2004\n"
     ]
    }
   ],
   "source": [
    "#日期处理函数【这里注意下，日期numpy.int64不用来显示，用来训练时，做为分类数据字符串格式，不转成日期或时间戳格式】\n",
    "'''\n",
    "\n",
    "def dateFn(data):\n",
    "    yearStr = str(data)[:4]#只要年，月影响不大\n",
    "    d = pd.to_datetime(yearStr,format='%Y.%m.%d')\n",
    "    #d = np.datetime64(yearStr)#或用np.datetime64\n",
    "    return d\n",
    "'''\n",
    "def dateFn(data):\n",
    "    yearStr = str(data)[:4]#只要年，月影响不大\n",
    "    return yearStr\n",
    "print(type(dateFn(20040402)))\n",
    "print(dateFn(20040402))\n",
    "dfCar['regDate_new'] = dfCar['regDate'].apply(dateFn)"
   ]
  },
  {
   "cell_type": "code",
   "execution_count": 12,
   "metadata": {},
   "outputs": [
    {
     "data": {
      "text/plain": [
       "array([1., 0., 0., 0., 0., 0., 0., 0., 0., 0., 0., 0., 0., 0., 0., 0., 0.,\n",
       "       0., 0., 0., 0., 0., 0., 0., 0.])"
      ]
     },
     "execution_count": 12,
     "metadata": {},
     "output_type": "execute_result"
    }
   ],
   "source": [
    "#转onehot\n",
    "len(dfCar['regDate_new'].unique())#25\n",
    "#把年份和编号做成字典\n",
    "regDateDict = dict(zip(dfCar['regDate_new'].sort_values().unique().tolist(),[i for i in range(25)]))\n",
    "regDateDict\n",
    "#{'1991': 0,\n",
    " #'1992': 1,\n",
    " #'1993': 2,\n",
    "def getOneHotFn_Date(data,nType):#当前值,传入类型数,#注意pandas要apply的列值，必须在第一参\n",
    "    \n",
    "    m = np.zeros([int(nType),])#全0矩阵 一维有多少类就多少列\n",
    "    #print(m)\n",
    "    #有值的列置为1\n",
    "    m[regDateDict[data]] = 1\n",
    "    return m\n",
    "getOneHotFn_Date('1991',25)\n"
   ]
  },
  {
   "cell_type": "code",
   "execution_count": 13,
   "metadata": {},
   "outputs": [
    {
     "data": {
      "text/html": [
       "<div>\n",
       "<style scoped>\n",
       "    .dataframe tbody tr th:only-of-type {\n",
       "        vertical-align: middle;\n",
       "    }\n",
       "\n",
       "    .dataframe tbody tr th {\n",
       "        vertical-align: top;\n",
       "    }\n",
       "\n",
       "    .dataframe thead th {\n",
       "        text-align: right;\n",
       "    }\n",
       "</style>\n",
       "<table border=\"1\" class=\"dataframe\">\n",
       "  <thead>\n",
       "    <tr style=\"text-align: right;\">\n",
       "      <th></th>\n",
       "      <th>Unnamed: 0</th>\n",
       "      <th>SaleID</th>\n",
       "      <th>name</th>\n",
       "      <th>regDate</th>\n",
       "      <th>model</th>\n",
       "      <th>brand</th>\n",
       "      <th>bodyType</th>\n",
       "      <th>fuelType</th>\n",
       "      <th>gearbox</th>\n",
       "      <th>power</th>\n",
       "      <th>...</th>\n",
       "      <th>v_8</th>\n",
       "      <th>v_9</th>\n",
       "      <th>v_10</th>\n",
       "      <th>v_11</th>\n",
       "      <th>v_12</th>\n",
       "      <th>v_13</th>\n",
       "      <th>v_14</th>\n",
       "      <th>bodyType_new</th>\n",
       "      <th>fuelType_new</th>\n",
       "      <th>regDate_new</th>\n",
       "    </tr>\n",
       "  </thead>\n",
       "  <tbody>\n",
       "    <tr>\n",
       "      <th>0</th>\n",
       "      <td>0</td>\n",
       "      <td>0</td>\n",
       "      <td>736</td>\n",
       "      <td>20040402</td>\n",
       "      <td>30.0</td>\n",
       "      <td>6</td>\n",
       "      <td>1.0</td>\n",
       "      <td>0.0</td>\n",
       "      <td>0.0</td>\n",
       "      <td>60</td>\n",
       "      <td>...</td>\n",
       "      <td>0.022816</td>\n",
       "      <td>0.097462</td>\n",
       "      <td>-2.881803</td>\n",
       "      <td>2.804097</td>\n",
       "      <td>-2.420821</td>\n",
       "      <td>0.795292</td>\n",
       "      <td>0.914763</td>\n",
       "      <td>[0.0, 1.0, 0.0, 0.0, 0.0, 0.0, 0.0, 0.0]</td>\n",
       "      <td>[1.0, 0.0, 0.0, 0.0, 0.0, 0.0, 0.0]</td>\n",
       "      <td>[0.0, 0.0, 0.0, 0.0, 0.0, 0.0, 0.0, 0.0, 0.0, ...</td>\n",
       "    </tr>\n",
       "    <tr>\n",
       "      <th>1</th>\n",
       "      <td>1</td>\n",
       "      <td>1</td>\n",
       "      <td>2262</td>\n",
       "      <td>20030301</td>\n",
       "      <td>40.0</td>\n",
       "      <td>1</td>\n",
       "      <td>2.0</td>\n",
       "      <td>0.0</td>\n",
       "      <td>0.0</td>\n",
       "      <td>0</td>\n",
       "      <td>...</td>\n",
       "      <td>0.026597</td>\n",
       "      <td>0.020582</td>\n",
       "      <td>-4.900482</td>\n",
       "      <td>2.096338</td>\n",
       "      <td>-1.030483</td>\n",
       "      <td>-1.722674</td>\n",
       "      <td>0.245522</td>\n",
       "      <td>[0.0, 0.0, 1.0, 0.0, 0.0, 0.0, 0.0, 0.0]</td>\n",
       "      <td>[1.0, 0.0, 0.0, 0.0, 0.0, 0.0, 0.0]</td>\n",
       "      <td>[0.0, 0.0, 0.0, 0.0, 0.0, 0.0, 0.0, 0.0, 0.0, ...</td>\n",
       "    </tr>\n",
       "    <tr>\n",
       "      <th>2</th>\n",
       "      <td>2</td>\n",
       "      <td>2</td>\n",
       "      <td>14874</td>\n",
       "      <td>20040403</td>\n",
       "      <td>115.0</td>\n",
       "      <td>15</td>\n",
       "      <td>1.0</td>\n",
       "      <td>0.0</td>\n",
       "      <td>0.0</td>\n",
       "      <td>163</td>\n",
       "      <td>...</td>\n",
       "      <td>0.062173</td>\n",
       "      <td>0.027075</td>\n",
       "      <td>-4.846749</td>\n",
       "      <td>1.803559</td>\n",
       "      <td>1.565330</td>\n",
       "      <td>-0.832687</td>\n",
       "      <td>-0.229963</td>\n",
       "      <td>[0.0, 1.0, 0.0, 0.0, 0.0, 0.0, 0.0, 0.0]</td>\n",
       "      <td>[1.0, 0.0, 0.0, 0.0, 0.0, 0.0, 0.0]</td>\n",
       "      <td>[0.0, 0.0, 0.0, 0.0, 0.0, 0.0, 0.0, 0.0, 0.0, ...</td>\n",
       "    </tr>\n",
       "  </tbody>\n",
       "</table>\n",
       "<p>3 rows × 33 columns</p>\n",
       "</div>"
      ],
      "text/plain": [
       "   Unnamed: 0  SaleID   name   regDate  model  brand  bodyType  fuelType  \\\n",
       "0           0       0    736  20040402   30.0      6       1.0       0.0   \n",
       "1           1       1   2262  20030301   40.0      1       2.0       0.0   \n",
       "2           2       2  14874  20040403  115.0     15       1.0       0.0   \n",
       "\n",
       "   gearbox  power  ...       v_8       v_9      v_10      v_11      v_12  \\\n",
       "0      0.0     60  ...  0.022816  0.097462 -2.881803  2.804097 -2.420821   \n",
       "1      0.0      0  ...  0.026597  0.020582 -4.900482  2.096338 -1.030483   \n",
       "2      0.0    163  ...  0.062173  0.027075 -4.846749  1.803559  1.565330   \n",
       "\n",
       "       v_13      v_14                              bodyType_new  \\\n",
       "0  0.795292  0.914763  [0.0, 1.0, 0.0, 0.0, 0.0, 0.0, 0.0, 0.0]   \n",
       "1 -1.722674  0.245522  [0.0, 0.0, 1.0, 0.0, 0.0, 0.0, 0.0, 0.0]   \n",
       "2 -0.832687 -0.229963  [0.0, 1.0, 0.0, 0.0, 0.0, 0.0, 0.0, 0.0]   \n",
       "\n",
       "                          fuelType_new  \\\n",
       "0  [1.0, 0.0, 0.0, 0.0, 0.0, 0.0, 0.0]   \n",
       "1  [1.0, 0.0, 0.0, 0.0, 0.0, 0.0, 0.0]   \n",
       "2  [1.0, 0.0, 0.0, 0.0, 0.0, 0.0, 0.0]   \n",
       "\n",
       "                                         regDate_new  \n",
       "0  [0.0, 0.0, 0.0, 0.0, 0.0, 0.0, 0.0, 0.0, 0.0, ...  \n",
       "1  [0.0, 0.0, 0.0, 0.0, 0.0, 0.0, 0.0, 0.0, 0.0, ...  \n",
       "2  [0.0, 0.0, 0.0, 0.0, 0.0, 0.0, 0.0, 0.0, 0.0, ...  \n",
       "\n",
       "[3 rows x 33 columns]"
      ]
     },
     "execution_count": 13,
     "metadata": {},
     "output_type": "execute_result"
    }
   ],
   "source": [
    "dfCar['regDate_new'] = dfCar['regDate_new'].apply(getOneHotFn_Date,args=(25,))\n",
    "dfCar.head(3)"
   ]
  },
  {
   "cell_type": "code",
   "execution_count": 14,
   "metadata": {},
   "outputs": [],
   "source": [
    "#dfCar['creatDate_new'].value_counts()#去掉月份后，查看上线时间，只有两个，15，15年，且数据偏斜严重，此项没有泛化规率用于预测，不采用\n",
    "#del dfCar['creatDate_new']\n",
    "#del dfCar['creatDate']"
   ]
  },
  {
   "cell_type": "code",
   "execution_count": 15,
   "metadata": {},
   "outputs": [
    {
     "data": {
      "text/plain": [
       "708       282\n",
       "387       282\n",
       "55        280\n",
       "1541      263\n",
       "203       233\n",
       "         ... \n",
       "7123        1\n",
       "11221       1\n",
       "13270       1\n",
       "15319       1\n",
       "184730      1\n",
       "Name: name, Length: 99661, dtype: int64"
      ]
     },
     "execution_count": 15,
     "metadata": {},
     "output_type": "execute_result"
    }
   ],
   "source": [
    "#查看其它特征\n",
    "dfCar['name'].value_counts()\n",
    "#名称或许有用，但类别数据类别19万多个，易有噪声，\n",
    "#且名称与商标重复特征。\n",
    "#不选此特征"
   ]
  },
  {
   "cell_type": "code",
   "execution_count": 16,
   "metadata": {},
   "outputs": [
    {
     "data": {
      "text/plain": [
       "array([     0,      3,      4, ..., 196810, 196811, 196812], dtype=int64)"
      ]
     },
     "execution_count": 16,
     "metadata": {},
     "output_type": "execute_result"
    }
   ],
   "source": [
    "dfCar['name'].sort_values().unique()"
   ]
  },
  {
   "cell_type": "code",
   "execution_count": 17,
   "metadata": {},
   "outputs": [
    {
     "data": {
      "text/plain": [
       "(array([49015., 17281., 13390., 11506., 10758., 10176.,  9766.,  9602.,\n",
       "         9348.,  9157.]),\n",
       " array([     0. ,  19681.2,  39362.4,  59043.6,  78724.8,  98406. ,\n",
       "        118087.2, 137768.4, 157449.6, 177130.8, 196812. ]),\n",
       " <a list of 10 Patch objects>)"
      ]
     },
     "execution_count": 17,
     "metadata": {},
     "output_type": "execute_result"
    },
    {
     "data": {
      "image/png": "[encoded data removed]",
      "text/plain": [
       "<Figure size 432x288 with 1 Axes>"
      ]
     },
     "metadata": {},
     "output_type": "display_data"
    }
   ],
   "source": [
    "plt.hist(dfCar['name'],orientation='vertical',histtype='bar',color='red')"
   ]
  },
  {
   "cell_type": "code",
   "execution_count": 18,
   "metadata": {},
   "outputs": [
    {
     "data": {
      "text/plain": [
       "0.0      11762\n",
       "19.0      9573\n",
       "4.0       8445\n",
       "1.0       6038\n",
       "29.0      5186\n",
       "         ...  \n",
       "245.0        2\n",
       "209.0        2\n",
       "240.0        2\n",
       "242.0        2\n",
       "247.0        1\n",
       "Name: model, Length: 248, dtype: int64"
      ]
     },
     "execution_count": 18,
     "metadata": {},
     "output_type": "execute_result"
    }
   ],
   "source": [
    "dfCar['model'].value_counts()\n",
    "#车型编号 由品牌代号，车型等信息组成，等于是一个重复数据，且组合起来容易有噪声，\n",
    "#且是类别型数据，类别太多。\n",
    "#看训练效果，加入去掉比对下"
   ]
  },
  {
   "cell_type": "code",
   "execution_count": 19,
   "metadata": {},
   "outputs": [
    {
     "name": "stdout",
     "output_type": "stream",
     "text": [
      "                   Unnamed: 0    SaleID      name   regDate     model  \\\n",
      "Unnamed: 0           1.000000  1.000000 -0.002291 -0.001361  0.000659   \n",
      "SaleID               1.000000  1.000000 -0.002291 -0.001361  0.000659   \n",
      "name                -0.002291 -0.002291  1.000000 -0.037658  0.016080   \n",
      "regDate             -0.001361 -0.001361 -0.037658  1.000000  0.148780   \n",
      "model                0.000659  0.000659  0.016080  0.148780  1.000000   \n",
      "brand               -0.001734 -0.001734  0.040648  0.033148  0.358765   \n",
      "bodyType            -0.004407 -0.004407  0.033418  0.100641  0.200231   \n",
      "fuelType            -0.001989 -0.001989  0.013132  0.259541  0.047106   \n",
      "gearbox              0.001701  0.001701  0.025810  0.136994  0.018592   \n",
      "power                0.000875  0.000875  0.000233  0.097442  0.031245   \n",
      "kilometer           -0.001130 -0.001130 -0.007589 -0.492833 -0.087445   \n",
      "notRepairedDamage   -0.002923 -0.002923  0.028717 -0.150310 -0.017776   \n",
      "regionCode          -0.001082 -0.001082  0.005608 -0.004774  0.010241   \n",
      "creatDate           -0.001450 -0.001450 -0.005055 -0.001292 -0.004383   \n",
      "price                0.000634  0.000634 -0.041491  0.739124  0.126780   \n",
      "v_0                 -0.001838 -0.001838 -0.125439  0.524846  0.091031   \n",
      "v_1                 -0.000393 -0.000393 -0.638308  0.103932  0.019805   \n",
      "v_2                  0.001230  0.001230 -0.003393  0.142433 -0.037685   \n",
      "v_3                 -0.000054 -0.000054 -0.047319 -0.796578 -0.215659   \n",
      "v_4                 -0.000462 -0.000462  0.006367  0.260235  0.426664   \n",
      "v_5                 -0.001388 -0.001388 -0.057698  0.020121 -0.019701   \n",
      "v_6                 -0.000402 -0.000402 -0.638189  0.107296  0.015419   \n",
      "v_7                  0.001161  0.001161  0.057205 -0.037039 -0.100753   \n",
      "v_8                 -0.000028 -0.000028  0.235322  0.761796  0.211149   \n",
      "v_9                 -0.000723 -0.000723  0.008416  0.146086  0.423526   \n",
      "v_10                 0.000985  0.000985  0.576758 -0.249881 -0.058674   \n",
      "v_11                 0.001271  0.001271 -0.258576 -0.184629 -0.079661   \n",
      "v_12                 0.000251  0.000251  0.090894  0.704793  0.110157   \n",
      "v_13                 0.000211  0.000211  0.007484  0.412230  0.400001   \n",
      "v_14                -0.000162 -0.000162 -0.011379  0.177821 -0.513733   \n",
      "\n",
      "                      brand  bodyType  fuelType   gearbox     power  ...  \\\n",
      "Unnamed: 0        -0.001734 -0.004407 -0.001989  0.001701  0.000875  ...   \n",
      "SaleID            -0.001734 -0.004407 -0.001989  0.001701  0.000875  ...   \n",
      "name               0.040648  0.033418  0.013132  0.025810  0.000233  ...   \n",
      "regDate            0.033148  0.100641  0.259541  0.136994  0.097442  ...   \n",
      "model              0.358765  0.200231  0.047106  0.018592  0.031245  ...   \n",
      "brand              1.000000  0.110309 -0.074405  0.011696 -0.022401  ...   \n",
      "bodyType           0.110309  1.000000  0.112215  0.094055  0.078322  ...   \n",
      "fuelType          -0.074405  0.112215  1.000000  0.160123  0.053152  ...   \n",
      "gearbox            0.011696  0.094055  0.160123  1.000000  0.151714  ...   \n",
      "power             -0.022401  0.078322  0.053152  0.151714  1.000000  ...   \n",
      "kilometer         -0.096202 -0.051583  0.094321 -0.043818 -0.019624  ...   \n",
      "notRepairedDamage  0.020166 -0.019078 -0.032087 -0.036088 -0.033529  ...   \n",
      "regionCode        -0.002311  0.016020 -0.011702 -0.021110  0.004423  ...   \n",
      "creatDate         -0.001464  0.002039 -0.001264 -0.003681  0.001280  ...   \n",
      "price             -0.077599  0.226216  0.269523  0.291780  0.216247  ...   \n",
      "v_0               -0.101187  0.231668  0.235744  0.270042  0.215033  ...   \n",
      "v_1               -0.025566 -0.009287 -0.001348 -0.004327  0.023748  ...   \n",
      "v_2               -0.036079 -0.050345  0.044401  0.039911 -0.031484  ...   \n",
      "v_3               -0.000493 -0.239114 -0.269927 -0.240246 -0.185341  ...   \n",
      "v_4                0.343668 -0.051691 -0.088647 -0.229956 -0.141043  ...   \n",
      "v_5               -0.069174  0.120808  0.058749  0.097240  0.119732  ...   \n",
      "v_6               -0.031166 -0.008657  0.002509  0.001889  0.025650  ...   \n",
      "v_7               -0.050009 -0.086383 -0.002272  0.007204 -0.060395  ...   \n",
      "v_8                0.015125  0.213131  0.260688  0.228256  0.155953  ...   \n",
      "v_9                0.352066 -0.049469 -0.119025 -0.247036 -0.140224  ...   \n",
      "v_10               0.043213 -0.075101 -0.069550 -0.075097 -0.092718  ...   \n",
      "v_11               0.007596 -0.164137 -0.106678 -0.120999 -0.122105  ...   \n",
      "v_12              -0.070924  0.189026  0.272525  0.272505  0.161989  ...   \n",
      "v_13               0.320815 -0.029665 -0.045793 -0.196454 -0.103479  ...   \n",
      "v_14              -0.207975 -0.279729 -0.021052 -0.042743 -0.023836  ...   \n",
      "\n",
      "                        v_5       v_6       v_7       v_8       v_9      v_10  \\\n",
      "Unnamed: 0        -0.001388 -0.000402  0.001161 -0.000028 -0.000723  0.000985   \n",
      "SaleID            -0.001388 -0.000402  0.001161 -0.000028 -0.000723  0.000985   \n",
      "name              -0.057698 -0.638189  0.057205  0.235322  0.008416  0.576758   \n",
      "regDate            0.020121  0.107296 -0.037039  0.761796  0.146086 -0.249881   \n",
      "model             -0.019701  0.015419 -0.100753  0.211149  0.423526 -0.058674   \n",
      "brand             -0.069174 -0.031166 -0.050009  0.015125  0.352066  0.043213   \n",
      "bodyType           0.120808 -0.008657 -0.086383  0.213131 -0.049469 -0.075101   \n",
      "fuelType           0.058749  0.002509 -0.002272  0.260688 -0.119025 -0.069550   \n",
      "gearbox            0.097240  0.001889  0.007204  0.228256 -0.247036 -0.075097   \n",
      "power              0.119732  0.025650 -0.060395  0.155953 -0.140224 -0.092718   \n",
      "kilometer          0.049478 -0.024680 -0.017847 -0.407653 -0.149355  0.083369   \n",
      "notRepairedDamage -0.062652 -0.043090  0.043233 -0.204353  0.058466  0.096913   \n",
      "regionCode        -0.002512  0.028835  0.000606 -0.001215 -0.016642 -0.024331   \n",
      "creatDate          0.005611  0.010005 -0.004130 -0.005213 -0.003347 -0.010390   \n",
      "price              0.260431  0.130697 -0.146765  0.833014 -0.234635 -0.362220   \n",
      "v_0                0.726246  0.243778 -0.584373  0.514196 -0.186216 -0.582943   \n",
      "v_1                0.109298  0.999415 -0.110809 -0.298963 -0.007681 -0.921904   \n",
      "v_2               -0.921880  0.023870  0.973690  0.180316 -0.236145  0.274346   \n",
      "v_3               -0.233459 -0.000767  0.191271 -0.933156  0.079410  0.247407   \n",
      "v_4               -0.259713 -0.011244 -0.054223  0.051630  0.962926  0.071107   \n",
      "v_5                1.000000  0.091222 -0.939399  0.010717 -0.050303 -0.440587   \n",
      "v_6                0.091222  1.000000 -0.085414 -0.294949 -0.023033 -0.917056   \n",
      "v_7               -0.939399 -0.085414  1.000000  0.028709 -0.264090  0.410017   \n",
      "v_8                0.010717 -0.294949  0.028709  1.000000 -0.063676  0.094490   \n",
      "v_9               -0.050303 -0.023033 -0.264090 -0.063676  1.000000  0.026550   \n",
      "v_10              -0.440587 -0.917056  0.410017  0.094490  0.026550  1.000000   \n",
      "v_11              -0.845972  0.386443  0.813174 -0.369346 -0.056174  0.006309   \n",
      "v_12              -0.258519 -0.070237  0.385380  0.882142 -0.313666  0.001288   \n",
      "v_13              -0.162646  0.000806 -0.154538  0.250315  0.880565 -0.000606   \n",
      "v_14               0.037894 -0.003277 -0.020188  0.030252 -0.214466  0.002219   \n",
      "\n",
      "                       v_11      v_12      v_13      v_14  \n",
      "Unnamed: 0         0.001271  0.000251  0.000211 -0.000162  \n",
      "SaleID             0.001271  0.000251  0.000211 -0.000162  \n",
      "name              -0.258576  0.090894  0.007484 -0.011379  \n",
      "regDate           -0.184629  0.704793  0.412230  0.177821  \n",
      "model             -0.079661  0.110157  0.400001 -0.513733  \n",
      "brand              0.007596 -0.070924  0.320815 -0.207975  \n",
      "bodyType          -0.164137  0.189026 -0.029665 -0.279729  \n",
      "fuelType          -0.106678  0.272525 -0.045793 -0.021052  \n",
      "gearbox           -0.120999  0.272505 -0.196454 -0.042743  \n",
      "power             -0.122105  0.161989 -0.103479 -0.023836  \n",
      "kilometer          0.066526 -0.370156 -0.285081 -0.120270  \n",
      "notRepairedDamage  0.081787 -0.191314 -0.029526 -0.043357  \n",
      "regionCode         0.016803  0.002262 -0.001941 -0.009670  \n",
      "creatDate          0.000595 -0.003077 -0.004307  0.005008  \n",
      "price             -0.367319  0.808437  0.039736  0.072036  \n",
      "v_0               -0.667824  0.415717 -0.136897 -0.039744  \n",
      "v_1                0.370443 -0.087592  0.017387  0.002176  \n",
      "v_2                0.800914  0.535275 -0.055321 -0.013722  \n",
      "v_3                0.429773 -0.811328 -0.245915 -0.058375  \n",
      "v_4                0.110710 -0.134638  0.934585 -0.178896  \n",
      "v_5               -0.845972 -0.258519 -0.162646  0.037894  \n",
      "v_6                0.386443 -0.070237  0.000806 -0.003277  \n",
      "v_7                0.813174  0.385380 -0.154538 -0.020188  \n",
      "v_8               -0.369346  0.882142  0.250315  0.030252  \n",
      "v_9               -0.056174 -0.313666  0.880565 -0.214466  \n",
      "v_10               0.006309  0.001288 -0.000606  0.002219  \n",
      "v_11               1.000000  0.006697 -0.001614 -0.001101  \n",
      "v_12               0.006697  1.000000  0.001492  0.002026  \n",
      "v_13              -0.001614  0.001492  1.000000  0.000939  \n",
      "v_14              -0.001101  0.002026  0.000939  1.000000  \n",
      "\n",
      "[30 rows x 30 columns]\n"
     ]
    }
   ],
   "source": [
    "#看下相关性\n",
    "corrV = dfCar.corr()#相关系数函数.corr()\n",
    "print(corrV)"
   ]
  },
  {
   "cell_type": "code",
   "execution_count": 20,
   "metadata": {},
   "outputs": [
    {
     "data": {
      "text/plain": [
       "<matplotlib.axes._subplots.AxesSubplot at 0x1f81be993c8>"
      ]
     },
     "execution_count": 20,
     "metadata": {},
     "output_type": "execute_result"
    },
    {
     "data": {
      "image/png": "[encoded data removed]",
      "text/plain": [
       "<Figure size 432x288 with 2 Axes>"
      ]
     },
     "metadata": {},
     "output_type": "display_data"
    }
   ],
   "source": [
    "sns.heatmap(corrV,annot=True)#画热力图看下，……也没看出个所以然来，太密了[捂脸]"
   ]
  },
  {
   "cell_type": "code",
   "execution_count": 21,
   "metadata": {},
   "outputs": [
    {
     "name": "stdout",
     "output_type": "stream",
     "text": [
      "model                1.000000\n",
      "v_4                  0.426664\n",
      "v_9                  0.423526\n",
      "v_13                 0.400001\n",
      "brand                0.358765\n",
      "v_8                  0.211149\n",
      "bodyType             0.200231\n",
      "regDate              0.148780\n",
      "price                0.126780\n",
      "v_12                 0.110157\n",
      "v_0                  0.091031\n",
      "fuelType             0.047106\n",
      "power                0.031245\n",
      "v_1                  0.019805\n",
      "gearbox              0.018592\n",
      "name                 0.016080\n",
      "v_6                  0.015419\n",
      "regionCode           0.010241\n",
      "SaleID               0.000659\n",
      "Unnamed: 0           0.000659\n",
      "creatDate           -0.004383\n",
      "notRepairedDamage   -0.017776\n",
      "v_5                 -0.019701\n",
      "v_2                 -0.037685\n",
      "v_10                -0.058674\n",
      "v_11                -0.079661\n",
      "kilometer           -0.087445\n",
      "v_7                 -0.100753\n",
      "v_3                 -0.215659\n",
      "v_14                -0.513733\n",
      "Name: model, dtype: float64 \n",
      "\n"
     ]
    }
   ],
   "source": [
    "#看其它列与model的相关性(挑出某列来排序看下)，\n",
    "print(corrV['model'].sort_values(ascending=False),'\\n')#与brand，bodyType等有关"
   ]
  },
  {
   "cell_type": "code",
   "execution_count": 22,
   "metadata": {},
   "outputs": [
    {
     "name": "stdout",
     "output_type": "stream",
     "text": [
      "price                1.000000\n",
      "v_8                  0.833014\n",
      "v_12                 0.808437\n",
      "v_0                  0.781021\n",
      "regDate              0.739124\n",
      "gearbox              0.291780\n",
      "fuelType             0.269523\n",
      "v_5                  0.260431\n",
      "bodyType             0.226216\n",
      "power                0.216247\n",
      "v_6                  0.130697\n",
      "model                0.126780\n",
      "v_1                  0.126125\n",
      "v_14                 0.072036\n",
      "v_13                 0.039736\n",
      "v_2                  0.033465\n",
      "regionCode           0.001886\n",
      "creatDate            0.001864\n",
      "SaleID               0.000634\n",
      "Unnamed: 0           0.000634\n",
      "name                -0.041491\n",
      "brand               -0.077599\n",
      "v_7                 -0.146765\n",
      "v_4                 -0.163521\n",
      "v_9                 -0.234635\n",
      "notRepairedDamage   -0.276876\n",
      "v_10                -0.362220\n",
      "v_11                -0.367319\n",
      "kilometer           -0.377463\n",
      "v_3                 -0.927176\n",
      "Name: price, dtype: float64 \n",
      "\n"
     ]
    }
   ],
   "source": [
    "#看其它列与价格列的相关性\n",
    "print(corrV['price'].sort_values(ascending=False),'\\n')"
   ]
  },
  {
   "cell_type": "code",
   "execution_count": 23,
   "metadata": {},
   "outputs": [
    {
     "name": "stdout",
     "output_type": "stream",
     "text": [
      "(248,)\n"
     ]
    }
   ],
   "source": [
    "dfCar['model'].sort_values().unique()#\n",
    "print(dfCar['model'].sort_values().unique().shape)#(248,)\n"
   ]
  },
  {
   "cell_type": "code",
   "execution_count": 24,
   "metadata": {},
   "outputs": [
    {
     "data": {
      "text/plain": [
       "(array([64352., 38406., 16076.,  8836.,  8715.,  3782.,  4622.,  2963.,\n",
       "         1757.,   490.]),\n",
       " array([  0. ,  24.7,  49.4,  74.1,  98.8, 123.5, 148.2, 172.9, 197.6,\n",
       "        222.3, 247. ]),\n",
       " <a list of 10 Patch objects>)"
      ]
     },
     "execution_count": 24,
     "metadata": {},
     "output_type": "execute_result"
    },
    {
     "data": {
      "image/png": "[encoded data removed]",
      "text/plain": [
       "<Figure size 432x288 with 1 Axes>"
      ]
     },
     "metadata": {},
     "output_type": "display_data"
    }
   ],
   "source": [
    "plt.hist(dfCar['model'],orientation='vertical',histtype='bar',color='yellow')"
   ]
  },
  {
   "cell_type": "code",
   "execution_count": 25,
   "metadata": {},
   "outputs": [
    {
     "data": {
      "text/plain": [
       "0     31480\n",
       "4     16737\n",
       "14    16089\n",
       "10    14249\n",
       "1     13794\n",
       "6     10217\n",
       "9      7306\n",
       "5      4665\n",
       "13     3817\n",
       "11     2945\n",
       "3      2461\n",
       "7      2361\n",
       "16     2223\n",
       "8      2077\n",
       "25     2064\n",
       "27     2053\n",
       "21     1547\n",
       "15     1458\n",
       "19     1388\n",
       "20     1236\n",
       "12     1109\n",
       "22     1085\n",
       "26      966\n",
       "30      940\n",
       "17      913\n",
       "24      772\n",
       "28      649\n",
       "32      592\n",
       "29      406\n",
       "37      332\n",
       "2       321\n",
       "31      318\n",
       "18      316\n",
       "36      228\n",
       "34      227\n",
       "33      218\n",
       "23      186\n",
       "35      180\n",
       "38       65\n",
       "39        9\n",
       "Name: brand, dtype: int64"
      ]
     },
     "execution_count": 25,
     "metadata": {},
     "output_type": "execute_result"
    }
   ],
   "source": [
    "dfCar['brand'].value_counts()"
   ]
  },
  {
   "cell_type": "code",
   "execution_count": 26,
   "metadata": {},
   "outputs": [
    {
     "data": {
      "text/plain": [
       "(array([48056., 33980., 26577., 22473.,  4840.,  4054.,  5855.,  2313.,\n",
       "         1217.,   634.]),\n",
       " array([ 0. ,  3.9,  7.8, 11.7, 15.6, 19.5, 23.4, 27.3, 31.2, 35.1, 39. ]),\n",
       " <a list of 10 Patch objects>)"
      ]
     },
     "execution_count": 26,
     "metadata": {},
     "output_type": "execute_result"
    },
    {
     "data": {
      "image/png": "[encoded data removed]",
      "text/plain": [
       "<Figure size 432x288 with 1 Axes>"
      ]
     },
     "metadata": {},
     "output_type": "display_data"
    }
   ],
   "source": [
    "plt.hist(dfCar['brand'],orientation='vertical',histtype='bar',color='blue')"
   ]
  },
  {
   "cell_type": "code",
   "execution_count": 27,
   "metadata": {},
   "outputs": [
    {
     "data": {
      "text/plain": [
       "array([ 0,  1,  2,  3,  4,  5,  6,  7,  8,  9, 10, 11, 12, 13, 14, 15, 16,\n",
       "       17, 18, 19, 20, 21, 22, 23, 24, 25, 26, 27, 28, 29, 30, 31, 32, 33,\n",
       "       34, 35, 36, 37, 38, 39], dtype=int64)"
      ]
     },
     "execution_count": 27,
     "metadata": {},
     "output_type": "execute_result"
    }
   ],
   "source": [
    "dfCar['brand'].sort_values().unique()#排序看维一，可见是类别数据"
   ]
  },
  {
   "cell_type": "code",
   "execution_count": 28,
   "metadata": {},
   "outputs": [
    {
     "data": {
      "text/html": [
       "<div>\n",
       "<style scoped>\n",
       "    .dataframe tbody tr th:only-of-type {\n",
       "        vertical-align: middle;\n",
       "    }\n",
       "\n",
       "    .dataframe tbody tr th {\n",
       "        vertical-align: top;\n",
       "    }\n",
       "\n",
       "    .dataframe thead th {\n",
       "        text-align: right;\n",
       "    }\n",
       "</style>\n",
       "<table border=\"1\" class=\"dataframe\">\n",
       "  <thead>\n",
       "    <tr style=\"text-align: right;\">\n",
       "      <th></th>\n",
       "      <th>Unnamed: 0</th>\n",
       "      <th>SaleID</th>\n",
       "      <th>name</th>\n",
       "      <th>regDate</th>\n",
       "      <th>model</th>\n",
       "      <th>brand</th>\n",
       "      <th>bodyType</th>\n",
       "      <th>fuelType</th>\n",
       "      <th>gearbox</th>\n",
       "      <th>power</th>\n",
       "      <th>...</th>\n",
       "      <th>v_9</th>\n",
       "      <th>v_10</th>\n",
       "      <th>v_11</th>\n",
       "      <th>v_12</th>\n",
       "      <th>v_13</th>\n",
       "      <th>v_14</th>\n",
       "      <th>bodyType_new</th>\n",
       "      <th>fuelType_new</th>\n",
       "      <th>regDate_new</th>\n",
       "      <th>brand_new</th>\n",
       "    </tr>\n",
       "  </thead>\n",
       "  <tbody>\n",
       "    <tr>\n",
       "      <th>0</th>\n",
       "      <td>0</td>\n",
       "      <td>0</td>\n",
       "      <td>736</td>\n",
       "      <td>20040402</td>\n",
       "      <td>30.0</td>\n",
       "      <td>6</td>\n",
       "      <td>1.0</td>\n",
       "      <td>0.0</td>\n",
       "      <td>0.0</td>\n",
       "      <td>60</td>\n",
       "      <td>...</td>\n",
       "      <td>0.097462</td>\n",
       "      <td>-2.881803</td>\n",
       "      <td>2.804097</td>\n",
       "      <td>-2.420821</td>\n",
       "      <td>0.795292</td>\n",
       "      <td>0.914763</td>\n",
       "      <td>[0.0, 1.0, 0.0, 0.0, 0.0, 0.0, 0.0, 0.0]</td>\n",
       "      <td>[1.0, 0.0, 0.0, 0.0, 0.0, 0.0, 0.0]</td>\n",
       "      <td>[0.0, 0.0, 0.0, 0.0, 0.0, 0.0, 0.0, 0.0, 0.0, ...</td>\n",
       "      <td>[0.0, 0.0, 0.0, 0.0, 0.0, 0.0, 1.0, 0.0, 0.0, ...</td>\n",
       "    </tr>\n",
       "    <tr>\n",
       "      <th>1</th>\n",
       "      <td>1</td>\n",
       "      <td>1</td>\n",
       "      <td>2262</td>\n",
       "      <td>20030301</td>\n",
       "      <td>40.0</td>\n",
       "      <td>1</td>\n",
       "      <td>2.0</td>\n",
       "      <td>0.0</td>\n",
       "      <td>0.0</td>\n",
       "      <td>0</td>\n",
       "      <td>...</td>\n",
       "      <td>0.020582</td>\n",
       "      <td>-4.900482</td>\n",
       "      <td>2.096338</td>\n",
       "      <td>-1.030483</td>\n",
       "      <td>-1.722674</td>\n",
       "      <td>0.245522</td>\n",
       "      <td>[0.0, 0.0, 1.0, 0.0, 0.0, 0.0, 0.0, 0.0]</td>\n",
       "      <td>[1.0, 0.0, 0.0, 0.0, 0.0, 0.0, 0.0]</td>\n",
       "      <td>[0.0, 0.0, 0.0, 0.0, 0.0, 0.0, 0.0, 0.0, 0.0, ...</td>\n",
       "      <td>[0.0, 1.0, 0.0, 0.0, 0.0, 0.0, 0.0, 0.0, 0.0, ...</td>\n",
       "    </tr>\n",
       "    <tr>\n",
       "      <th>2</th>\n",
       "      <td>2</td>\n",
       "      <td>2</td>\n",
       "      <td>14874</td>\n",
       "      <td>20040403</td>\n",
       "      <td>115.0</td>\n",
       "      <td>15</td>\n",
       "      <td>1.0</td>\n",
       "      <td>0.0</td>\n",
       "      <td>0.0</td>\n",
       "      <td>163</td>\n",
       "      <td>...</td>\n",
       "      <td>0.027075</td>\n",
       "      <td>-4.846749</td>\n",
       "      <td>1.803559</td>\n",
       "      <td>1.565330</td>\n",
       "      <td>-0.832687</td>\n",
       "      <td>-0.229963</td>\n",
       "      <td>[0.0, 1.0, 0.0, 0.0, 0.0, 0.0, 0.0, 0.0]</td>\n",
       "      <td>[1.0, 0.0, 0.0, 0.0, 0.0, 0.0, 0.0]</td>\n",
       "      <td>[0.0, 0.0, 0.0, 0.0, 0.0, 0.0, 0.0, 0.0, 0.0, ...</td>\n",
       "      <td>[0.0, 0.0, 0.0, 0.0, 0.0, 0.0, 0.0, 0.0, 0.0, ...</td>\n",
       "    </tr>\n",
       "    <tr>\n",
       "      <th>3</th>\n",
       "      <td>3</td>\n",
       "      <td>3</td>\n",
       "      <td>71865</td>\n",
       "      <td>19960908</td>\n",
       "      <td>109.0</td>\n",
       "      <td>10</td>\n",
       "      <td>0.0</td>\n",
       "      <td>0.0</td>\n",
       "      <td>1.0</td>\n",
       "      <td>193</td>\n",
       "      <td>...</td>\n",
       "      <td>0.000000</td>\n",
       "      <td>-4.509599</td>\n",
       "      <td>1.285940</td>\n",
       "      <td>-0.501868</td>\n",
       "      <td>-2.438353</td>\n",
       "      <td>-0.478699</td>\n",
       "      <td>[1.0, 0.0, 0.0, 0.0, 0.0, 0.0, 0.0, 0.0]</td>\n",
       "      <td>[1.0, 0.0, 0.0, 0.0, 0.0, 0.0, 0.0]</td>\n",
       "      <td>[0.0, 0.0, 0.0, 0.0, 0.0, 1.0, 0.0, 0.0, 0.0, ...</td>\n",
       "      <td>[0.0, 0.0, 0.0, 0.0, 0.0, 0.0, 0.0, 0.0, 0.0, ...</td>\n",
       "    </tr>\n",
       "    <tr>\n",
       "      <th>4</th>\n",
       "      <td>4</td>\n",
       "      <td>4</td>\n",
       "      <td>111080</td>\n",
       "      <td>20120103</td>\n",
       "      <td>110.0</td>\n",
       "      <td>5</td>\n",
       "      <td>1.0</td>\n",
       "      <td>0.0</td>\n",
       "      <td>0.0</td>\n",
       "      <td>68</td>\n",
       "      <td>...</td>\n",
       "      <td>0.121534</td>\n",
       "      <td>-1.896240</td>\n",
       "      <td>0.910783</td>\n",
       "      <td>0.931110</td>\n",
       "      <td>2.834518</td>\n",
       "      <td>1.923482</td>\n",
       "      <td>[0.0, 1.0, 0.0, 0.0, 0.0, 0.0, 0.0, 0.0]</td>\n",
       "      <td>[1.0, 0.0, 0.0, 0.0, 0.0, 0.0, 0.0]</td>\n",
       "      <td>[0.0, 0.0, 0.0, 0.0, 0.0, 0.0, 0.0, 0.0, 0.0, ...</td>\n",
       "      <td>[0.0, 0.0, 0.0, 0.0, 0.0, 1.0, 0.0, 0.0, 0.0, ...</td>\n",
       "    </tr>\n",
       "  </tbody>\n",
       "</table>\n",
       "<p>5 rows × 34 columns</p>\n",
       "</div>"
      ],
      "text/plain": [
       "   Unnamed: 0  SaleID    name   regDate  model  brand  bodyType  fuelType  \\\n",
       "0           0       0     736  20040402   30.0      6       1.0       0.0   \n",
       "1           1       1    2262  20030301   40.0      1       2.0       0.0   \n",
       "2           2       2   14874  20040403  115.0     15       1.0       0.0   \n",
       "3           3       3   71865  19960908  109.0     10       0.0       0.0   \n",
       "4           4       4  111080  20120103  110.0      5       1.0       0.0   \n",
       "\n",
       "   gearbox  power  ...       v_9      v_10      v_11      v_12      v_13  \\\n",
       "0      0.0     60  ...  0.097462 -2.881803  2.804097 -2.420821  0.795292   \n",
       "1      0.0      0  ...  0.020582 -4.900482  2.096338 -1.030483 -1.722674   \n",
       "2      0.0    163  ...  0.027075 -4.846749  1.803559  1.565330 -0.832687   \n",
       "3      1.0    193  ...  0.000000 -4.509599  1.285940 -0.501868 -2.438353   \n",
       "4      0.0     68  ...  0.121534 -1.896240  0.910783  0.931110  2.834518   \n",
       "\n",
       "       v_14                              bodyType_new  \\\n",
       "0  0.914763  [0.0, 1.0, 0.0, 0.0, 0.0, 0.0, 0.0, 0.0]   \n",
       "1  0.245522  [0.0, 0.0, 1.0, 0.0, 0.0, 0.0, 0.0, 0.0]   \n",
       "2 -0.229963  [0.0, 1.0, 0.0, 0.0, 0.0, 0.0, 0.0, 0.0]   \n",
       "3 -0.478699  [1.0, 0.0, 0.0, 0.0, 0.0, 0.0, 0.0, 0.0]   \n",
       "4  1.923482  [0.0, 1.0, 0.0, 0.0, 0.0, 0.0, 0.0, 0.0]   \n",
       "\n",
       "                          fuelType_new  \\\n",
       "0  [1.0, 0.0, 0.0, 0.0, 0.0, 0.0, 0.0]   \n",
       "1  [1.0, 0.0, 0.0, 0.0, 0.0, 0.0, 0.0]   \n",
       "2  [1.0, 0.0, 0.0, 0.0, 0.0, 0.0, 0.0]   \n",
       "3  [1.0, 0.0, 0.0, 0.0, 0.0, 0.0, 0.0]   \n",
       "4  [1.0, 0.0, 0.0, 0.0, 0.0, 0.0, 0.0]   \n",
       "\n",
       "                                         regDate_new  \\\n",
       "0  [0.0, 0.0, 0.0, 0.0, 0.0, 0.0, 0.0, 0.0, 0.0, ...   \n",
       "1  [0.0, 0.0, 0.0, 0.0, 0.0, 0.0, 0.0, 0.0, 0.0, ...   \n",
       "2  [0.0, 0.0, 0.0, 0.0, 0.0, 0.0, 0.0, 0.0, 0.0, ...   \n",
       "3  [0.0, 0.0, 0.0, 0.0, 0.0, 1.0, 0.0, 0.0, 0.0, ...   \n",
       "4  [0.0, 0.0, 0.0, 0.0, 0.0, 0.0, 0.0, 0.0, 0.0, ...   \n",
       "\n",
       "                                           brand_new  \n",
       "0  [0.0, 0.0, 0.0, 0.0, 0.0, 0.0, 1.0, 0.0, 0.0, ...  \n",
       "1  [0.0, 1.0, 0.0, 0.0, 0.0, 0.0, 0.0, 0.0, 0.0, ...  \n",
       "2  [0.0, 0.0, 0.0, 0.0, 0.0, 0.0, 0.0, 0.0, 0.0, ...  \n",
       "3  [0.0, 0.0, 0.0, 0.0, 0.0, 0.0, 0.0, 0.0, 0.0, ...  \n",
       "4  [0.0, 0.0, 0.0, 0.0, 0.0, 1.0, 0.0, 0.0, 0.0, ...  \n",
       "\n",
       "[5 rows x 34 columns]"
      ]
     },
     "execution_count": 28,
     "metadata": {},
     "output_type": "execute_result"
    }
   ],
   "source": [
    "#转one-hot\n",
    "dfCar['brand_new'] = dfCar['brand'].apply(getOneHotFn,args=(40,))\n",
    "dfCar.head()"
   ]
  },
  {
   "cell_type": "code",
   "execution_count": 29,
   "metadata": {},
   "outputs": [
    {
     "data": {
      "text/plain": [
       "0       12829\n",
       "75       9593\n",
       "150      6495\n",
       "60       6374\n",
       "140      5963\n",
       "        ...  \n",
       "1597        1\n",
       "1596        1\n",
       "572         1\n",
       "316         1\n",
       "575         1\n",
       "Name: power, Length: 566, dtype: int64"
      ]
     },
     "execution_count": 29,
     "metadata": {},
     "output_type": "execute_result"
    }
   ],
   "source": [
    "#发动机功率\n",
    "dfCar['power'].value_counts()"
   ]
  },
  {
   "cell_type": "code",
   "execution_count": 30,
   "metadata": {},
   "outputs": [
    {
     "name": "stdout",
     "output_type": "stream",
     "text": [
      "[    0     1     2     3     4     5     6     7     8     9    10    11\n",
      "    12    13    14    15    16    17    18    19    20    23    24    25\n",
      "    26    29    30    31    32    33    34    35    36    37    38    39\n",
      "    40    41    42    43    44    45    46    47    48    49    50    51\n",
      "    52    53    54    55    56    57    58    59    60    61    62    63\n",
      "    64    65    66    67    68    69    70    71    72    73    74    75\n",
      "    76    77    78    79    80    81    82    83    84    85    86    87\n",
      "    88    89    90    91    92    93    94    95    96    97    98    99\n",
      "   100   101   102   103   104   105   106   107   108   109   110   111\n",
      "   112   113   114   115   116   117   118   119   120   121   122   123\n",
      "   124   125   126   127   128   129   130   131   132   133   134   135\n",
      "   136   137   138   139   140   141   142   143   144   145   146   147\n",
      "   148   149   150   151   152   153   154   155   156   157   158   159\n",
      "   160   161   162   163   164   165   166   167   168   169   170   171\n",
      "   172   173   174   175   176   177   178   179   180   181   182   183\n",
      "   184   185   186   187   188   189   190   191   192   193   194   195\n",
      "   196   197   198   199   200   201   202   203   204   205   206   207\n",
      "   208   209   210   211   212   213   214   215   216   217   218   219\n",
      "   220   221   222   223   224   225   226   227   228   229   230   231\n",
      "   232   233   234   235   236   237   238   239   240   241   242   243\n",
      "   245   246   247   248   249   250   252   253   254   255   256   257\n",
      "   258   259   260   261   262   264   265   266   267   268   269   270\n",
      "   271   272   273   274   275   276   277   278   279   280   281   282\n",
      "   283   284   285   286   287   288   289   290   292   293   295   296\n",
      "   297   298   299   300   301   303   304   305   306   307   308   309\n",
      "   310   311   313   314   315   316   318   319   320   321   322   324\n",
      "   325   326   327   328   329   330   332   333   334   335   336   338\n",
      "   340   341   343   344   345   346   347   348   349   350   351   352\n",
      "   353   354   355   358   360   362   363   364   365   366   367   368\n",
      "   370   371   373   375   376   377   379   380   381   382   383   385\n",
      "   386   387   388   390   392   394   396   398   399   400   401   404\n",
      "   405   407   408   409   411   415   416   420   421   423   424   426\n",
      "   430   431   432   435   436   439   440   441   442   443   445   449\n",
      "   450   455   457   460   466   468   470   473   476   477   480   481\n",
      "   487   489   492   495   500   501   502   504   505   506   507   510\n",
      "   513   514   515   517   519   521   525   540   549   551   555   557\n",
      "   559   560   564   570   572   575   579   580   583   584   585   587\n",
      "   600   601   602   603   604   610   612   620   625   629   631   650\n",
      "   676   678   680   732   740   751   776   800   801   850   851   900\n",
      "   903   950   952   953   999  1001  1003  1004  1005  1011  1012  1016\n",
      "  1021  1054  1079  1082  1090  1103  1115  1149  1151  1160  1162  1164\n",
      "  1241  1256  1299  1312  1360  1362  1363  1367  1398  1399  1400  1401\n",
      "  1403  1416  1433  1500  1501  1503  1506  1596  1597  1598  1653  1689\n",
      "  1701  1771  1796  1800  1801  1895  1896  1900  1920  1922  1988  1993\n",
      "  1995  1998  2017  2172  2340  2402  2598  2729  2792  3199  3454  3500\n",
      "  4700  5420  5815  6226  6920  7511  7512  7515  7529  7544  8259  8500\n",
      " 10218 10520 11530 12012 12684 13636 14009 16312 17011 17322 17410 17700\n",
      " 17932 19312]\n",
      "(566,)\n"
     ]
    }
   ],
   "source": [
    "print(dfCar['power'].sort_values().unique())\n",
    "print(dfCar['power'].sort_values().unique().shape)\n",
    "#数值型or类别型？"
   ]
  },
  {
   "cell_type": "code",
   "execution_count": 31,
   "metadata": {},
   "outputs": [
    {
     "data": {
      "text/plain": [
       "(array([48056., 33980., 26577., 22473.,  4840.,  4054.,  5855.,  2313.,\n",
       "         1217.,   634.]),\n",
       " array([ 0. ,  3.9,  7.8, 11.7, 15.6, 19.5, 23.4, 27.3, 31.2, 35.1, 39. ]),\n",
       " <a list of 10 Patch objects>)"
      ]
     },
     "execution_count": 31,
     "metadata": {},
     "output_type": "execute_result"
    },
    {
     "data": {
      "image/png": "[encoded data removed]",
      "text/plain": [
       "<Figure size 432x288 with 1 Axes>"
      ]
     },
     "metadata": {},
     "output_type": "display_data"
    }
   ],
   "source": [
    "plt.hist(dfCar['brand'],orientation='vertical',histtype='bar',color='orange')"
   ]
  },
  {
   "cell_type": "code",
   "execution_count": 32,
   "metadata": {},
   "outputs": [
    {
     "name": "stdout",
     "output_type": "stream",
     "text": [
      "{0: 0, 1: 1, 2: 2, 3: 3, 4: 4, 5: 5, 6: 6, 7: 7, 8: 8, 9: 9, 10: 10, 11: 11, 12: 12, 13: 13, 14: 14, 15: 15, 16: 16, 17: 17, 18: 18, 19: 19, 20: 20, 23: 21, 24: 22, 25: 23, 26: 24, 29: 25, 30: 26, 31: 27, 32: 28, 33: 29, 34: 30, 35: 31, 36: 32, 37: 33, 38: 34, 39: 35, 40: 36, 41: 37, 42: 38, 43: 39, 44: 40, 45: 41, 46: 42, 47: 43, 48: 44, 49: 45, 50: 46, 51: 47, 52: 48, 53: 49, 54: 50, 55: 51, 56: 52, 57: 53, 58: 54, 59: 55, 60: 56, 61: 57, 62: 58, 63: 59, 64: 60, 65: 61, 66: 62, 67: 63, 68: 64, 69: 65, 70: 66, 71: 67, 72: 68, 73: 69, 74: 70, 75: 71, 76: 72, 77: 73, 78: 74, 79: 75, 80: 76, 81: 77, 82: 78, 83: 79, 84: 80, 85: 81, 86: 82, 87: 83, 88: 84, 89: 85, 90: 86, 91: 87, 92: 88, 93: 89, 94: 90, 95: 91, 96: 92, 97: 93, 98: 94, 99: 95, 100: 96, 101: 97, 102: 98, 103: 99, 104: 100, 105: 101, 106: 102, 107: 103, 108: 104, 109: 105, 110: 106, 111: 107, 112: 108, 113: 109, 114: 110, 115: 111, 116: 112, 117: 113, 118: 114, 119: 115, 120: 116, 121: 117, 122: 118, 123: 119, 124: 120, 125: 121, 126: 122, 127: 123, 128: 124, 129: 125, 130: 126, 131: 127, 132: 128, 133: 129, 134: 130, 135: 131, 136: 132, 137: 133, 138: 134, 139: 135, 140: 136, 141: 137, 142: 138, 143: 139, 144: 140, 145: 141, 146: 142, 147: 143, 148: 144, 149: 145, 150: 146, 151: 147, 152: 148, 153: 149, 154: 150, 155: 151, 156: 152, 157: 153, 158: 154, 159: 155, 160: 156, 161: 157, 162: 158, 163: 159, 164: 160, 165: 161, 166: 162, 167: 163, 168: 164, 169: 165, 170: 166, 171: 167, 172: 168, 173: 169, 174: 170, 175: 171, 176: 172, 177: 173, 178: 174, 179: 175, 180: 176, 181: 177, 182: 178, 183: 179, 184: 180, 185: 181, 186: 182, 187: 183, 188: 184, 189: 185, 190: 186, 191: 187, 192: 188, 193: 189, 194: 190, 195: 191, 196: 192, 197: 193, 198: 194, 199: 195, 200: 196, 201: 197, 202: 198, 203: 199, 204: 200, 205: 201, 206: 202, 207: 203, 208: 204, 209: 205, 210: 206, 211: 207, 212: 208, 213: 209, 214: 210, 215: 211, 216: 212, 217: 213, 218: 214, 219: 215, 220: 216, 221: 217, 222: 218, 223: 219, 224: 220, 225: 221, 226: 222, 227: 223, 228: 224, 229: 225, 230: 226, 231: 227, 232: 228, 233: 229, 234: 230, 235: 231, 236: 232, 237: 233, 238: 234, 239: 235, 240: 236, 241: 237, 242: 238, 243: 239, 245: 240, 246: 241, 247: 242, 248: 243, 249: 244, 250: 245, 252: 246, 253: 247, 254: 248, 255: 249, 256: 250, 257: 251, 258: 252, 259: 253, 260: 254, 261: 255, 262: 256, 264: 257, 265: 258, 266: 259, 267: 260, 268: 261, 269: 262, 270: 263, 271: 264, 272: 265, 273: 266, 274: 267, 275: 268, 276: 269, 277: 270, 278: 271, 279: 272, 280: 273, 281: 274, 282: 275, 283: 276, 284: 277, 285: 278, 286: 279, 287: 280, 288: 281, 289: 282, 290: 283, 292: 284, 293: 285, 295: 286, 296: 287, 297: 288, 298: 289, 299: 290, 300: 291, 301: 292, 303: 293, 304: 294, 305: 295, 306: 296, 307: 297, 308: 298, 309: 299, 310: 300, 311: 301, 313: 302, 314: 303, 315: 304, 316: 305, 318: 306, 319: 307, 320: 308, 321: 309, 322: 310, 324: 311, 325: 312, 326: 313, 327: 314, 328: 315, 329: 316, 330: 317, 332: 318, 333: 319, 334: 320, 335: 321, 336: 322, 338: 323, 340: 324, 341: 325, 343: 326, 344: 327, 345: 328, 346: 329, 347: 330, 348: 331, 349: 332, 350: 333, 351: 334, 352: 335, 353: 336, 354: 337, 355: 338, 358: 339, 360: 340, 362: 341, 363: 342, 364: 343, 365: 344, 366: 345, 367: 346, 368: 347, 370: 348, 371: 349, 373: 350, 375: 351, 376: 352, 377: 353, 379: 354, 380: 355, 381: 356, 382: 357, 383: 358, 385: 359, 386: 360, 387: 361, 388: 362, 390: 363, 392: 364, 394: 365, 396: 366, 398: 367, 399: 368, 400: 369, 401: 370, 404: 371, 405: 372, 407: 373, 408: 374, 409: 375, 411: 376, 415: 377, 416: 378, 420: 379, 421: 380, 423: 381, 424: 382, 426: 383, 430: 384, 431: 385, 432: 386, 435: 387, 436: 388, 439: 389, 440: 390, 441: 391, 442: 392, 443: 393, 445: 394, 449: 395, 450: 396, 455: 397, 457: 398, 460: 399, 466: 400, 468: 401, 470: 402, 473: 403, 476: 404, 477: 405, 480: 406, 481: 407, 487: 408, 489: 409, 492: 410, 495: 411, 500: 412, 501: 413, 502: 414, 504: 415, 505: 416, 506: 417, 507: 418, 510: 419, 513: 420, 514: 421, 515: 422, 517: 423, 519: 424, 521: 425, 525: 426, 540: 427, 549: 428, 551: 429, 555: 430, 557: 431, 559: 432, 560: 433, 564: 434, 570: 435, 572: 436, 575: 437, 579: 438, 580: 439, 583: 440, 584: 441, 585: 442, 587: 443, 600: 444, 601: 445, 602: 446, 603: 447, 604: 448, 610: 449, 612: 450, 620: 451, 625: 452, 629: 453, 631: 454, 650: 455, 676: 456, 678: 457, 680: 458, 732: 459, 740: 460, 751: 461, 776: 462, 800: 463, 801: 464, 850: 465, 851: 466, 900: 467, 903: 468, 950: 469, 952: 470, 953: 471, 999: 472, 1001: 473, 1003: 474, 1004: 475, 1005: 476, 1011: 477, 1012: 478, 1016: 479, 1021: 480, 1054: 481, 1079: 482, 1082: 483, 1090: 484, 1103: 485, 1115: 486, 1149: 487, 1151: 488, 1160: 489, 1162: 490, 1164: 491, 1241: 492, 1256: 493, 1299: 494, 1312: 495, 1360: 496, 1362: 497, 1363: 498, 1367: 499, 1398: 500, 1399: 501, 1400: 502, 1401: 503, 1403: 504, 1416: 505, 1433: 506, 1500: 507, 1501: 508, 1503: 509, 1506: 510, 1596: 511, 1597: 512, 1598: 513, 1653: 514, 1689: 515, 1701: 516, 1771: 517, 1796: 518, 1800: 519, 1801: 520, 1895: 521, 1896: 522, 1900: 523, 1920: 524, 1922: 525, 1988: 526, 1993: 527, 1995: 528, 1998: 529, 2017: 530, 2172: 531, 2340: 532, 2402: 533, 2598: 534, 2729: 535, 2792: 536, 3199: 537, 3454: 538, 3500: 539, 4700: 540, 5420: 541, 5815: 542, 6226: 543, 6920: 544, 7511: 545, 7512: 546, 7515: 547, 7529: 548, 7544: 549, 8259: 550, 8500: 551, 10218: 552, 10520: 553, 11530: 554, 12012: 555, 12684: 556, 13636: 557, 14009: 558, 16312: 559, 17011: 560, 17322: 561, 17410: 562, 17700: 563, 17932: 564, 19312: 565}\n",
      "566\n"
     ]
    }
   ],
   "source": [
    "#做一个类别与索引编号对应的字典\n",
    "powerMatrixOrder = dfCar['power'].sort_values().unique()\n",
    "powerDict = {v:np.argwhere(powerMatrixOrder==v)[0][0] for v in powerMatrixOrder}\n",
    "#取矩阵某元素的行列号索引，np.argwhere(矩阵 == 某元素值)\n",
    "print(powerDict)\n",
    "print(len(powerDict))\n",
    "#{0: 0, 1: 1, 2: 2, 3: 3, 4: 4, 5: 5,…… 17932: 564, 19312: 565\n",
    "#564\n",
    "#powerDict[17932]#564"
   ]
  },
  {
   "cell_type": "code",
   "execution_count": 33,
   "metadata": {},
   "outputs": [
    {
     "data": {
      "text/plain": [
       "array([0., 0., 0., 0., 0., 0., 0., 0., 0., 0., 0., 0., 0., 0., 0., 0., 0.,\n",
       "       0., 0., 0., 0., 0., 0., 0., 0., 0., 0., 0., 0., 0., 0., 0., 0., 0.,\n",
       "       0., 0., 0., 0., 0., 0., 0., 0., 0., 0., 0., 0., 0., 0., 0., 0., 0.,\n",
       "       0., 0., 0., 0., 0., 0., 0., 0., 0., 0., 0., 0., 0., 0., 0., 0., 0.,\n",
       "       0., 0., 0., 0., 0., 0., 0., 0., 0., 0., 0., 0., 0., 0., 0., 0., 0.,\n",
       "       0., 0., 0., 0., 0., 0., 0., 0., 0., 0., 0., 0., 0., 0., 0., 0., 0.,\n",
       "       0., 0., 0., 0., 0., 0., 0., 0., 0., 0., 0., 0., 0., 0., 0., 0., 0.,\n",
       "       0., 0., 0., 0., 0., 0., 0., 0., 0., 0., 0., 0., 0., 0., 0., 0., 0.,\n",
       "       0., 0., 0., 0., 0., 0., 0., 0., 0., 0., 0., 0., 0., 0., 0., 0., 0.,\n",
       "       0., 0., 0., 0., 0., 0., 0., 0., 0., 0., 0., 0., 0., 0., 0., 0., 0.,\n",
       "       0., 0., 0., 0., 0., 0., 0., 0., 0., 0., 0., 0., 0., 0., 0., 0., 0.,\n",
       "       0., 0., 0., 0., 0., 0., 0., 0., 0., 0., 0., 0., 0., 0., 0., 0., 0.,\n",
       "       0., 0., 0., 0., 0., 0., 0., 0., 0., 0., 0., 0., 0., 0., 0., 0., 0.,\n",
       "       0., 0., 0., 0., 0., 0., 0., 0., 0., 0., 0., 0., 0., 0., 0., 0., 0.,\n",
       "       0., 0., 0., 0., 0., 0., 0., 0., 0., 0., 0., 0., 0., 0., 0., 0., 0.,\n",
       "       0., 0., 0., 0., 0., 0., 0., 0., 0., 0., 0., 0., 0., 0., 0., 0., 0.,\n",
       "       0., 0., 0., 0., 0., 0., 0., 0., 0., 0., 0., 0., 0., 0., 0., 0., 0.,\n",
       "       0., 0., 0., 0., 0., 0., 0., 0., 0., 0., 0., 0., 0., 0., 0., 0., 0.,\n",
       "       0., 0., 0., 0., 0., 0., 0., 0., 0., 0., 0., 0., 0., 0., 0., 0., 0.,\n",
       "       0., 0., 0., 0., 0., 0., 0., 0., 0., 0., 0., 0., 0., 0., 0., 0., 0.,\n",
       "       0., 0., 0., 0., 0., 0., 0., 0., 0., 0., 0., 0., 0., 0., 0., 0., 0.,\n",
       "       0., 0., 0., 0., 0., 0., 0., 0., 0., 0., 0., 0., 0., 0., 0., 0., 0.,\n",
       "       0., 0., 0., 0., 0., 0., 0., 0., 0., 0., 0., 0., 0., 0., 0., 0., 0.,\n",
       "       0., 0., 0., 0., 0., 0., 0., 0., 0., 0., 0., 0., 0., 0., 0., 0., 0.,\n",
       "       0., 0., 0., 0., 0., 0., 0., 0., 0., 0., 0., 0., 0., 0., 0., 0., 0.,\n",
       "       0., 0., 0., 0., 0., 0., 0., 0., 0., 0., 0., 0., 0., 0., 0., 0., 0.,\n",
       "       0., 0., 0., 0., 0., 0., 0., 0., 0., 0., 0., 0., 0., 0., 0., 0., 0.,\n",
       "       0., 0., 0., 0., 0., 0., 0., 0., 0., 0., 0., 0., 0., 0., 0., 0., 0.,\n",
       "       0., 0., 0., 0., 0., 0., 0., 0., 0., 0., 0., 0., 0., 0., 0., 0., 0.,\n",
       "       0., 0., 0., 0., 0., 0., 0., 0., 0., 0., 0., 0., 0., 0., 0., 0., 0.,\n",
       "       0., 0., 0., 0., 0., 0., 0., 0., 0., 0., 0., 0., 0., 0., 0., 0., 0.,\n",
       "       0., 0., 0., 0., 0., 0., 0., 0., 0., 0., 0., 0., 0., 0., 0., 0., 0.,\n",
       "       0., 0., 0., 0., 0., 0., 0., 0., 0., 0., 0., 0., 0., 0., 0., 0., 0.,\n",
       "       0., 0., 0., 1., 0.])"
      ]
     },
     "execution_count": 33,
     "metadata": {},
     "output_type": "execute_result"
    }
   ],
   "source": [
    "#注意，发动机功率也是类别型数据，长度566，里面分类标号并不是按顺序来看。变OneHot不能传入data，要用data的编号，\n",
    "#目的是不增加不必要的向量维度。测试数据也照做\n",
    "#所以函数改下，对应值下标位置置1\n",
    "def getOneHotFn_power(data,nType):#当前值,传入类型数,#注意pandas要apply的列值，必须在第一参\n",
    "    \n",
    "    m = np.zeros([int(nType),])#全0矩阵 一维有多少类就多少列\n",
    "    #print(m)\n",
    "    #有值的列置为1\n",
    "    m[powerDict[int(data)]] = 1\n",
    "    return m\n",
    "getOneHotFn_power(17932,566)"
   ]
  },
  {
   "cell_type": "code",
   "execution_count": 34,
   "metadata": {},
   "outputs": [
    {
     "data": {
      "text/plain": [
       "566"
      ]
     },
     "execution_count": 34,
     "metadata": {},
     "output_type": "execute_result"
    }
   ],
   "source": [
    "\n",
    "\n",
    "dfCar['power_new'] = dfCar['power'].apply(getOneHotFn_power,args=(566,))\n",
    "dfCar.head()\n",
    "len(dfCar['power_new'][0])#566"
   ]
  },
  {
   "cell_type": "code",
   "execution_count": 35,
   "metadata": {},
   "outputs": [
    {
     "data": {
      "text/plain": [
       "15.0    96877\n",
       "12.5    15722\n",
       "10.0     6459\n",
       "9.0      5257\n",
       "8.0      4573\n",
       "7.0      4084\n",
       "6.0      3725\n",
       "5.0      3144\n",
       "4.0      2718\n",
       "3.0      2501\n",
       "2.0      2353\n",
       "0.5      1840\n",
       "1.0       746\n",
       "Name: kilometer, dtype: int64"
      ]
     },
     "execution_count": 35,
     "metadata": {},
     "output_type": "execute_result"
    }
   ],
   "source": [
    "dfCar['kilometer'].value_counts()#数值型"
   ]
  },
  {
   "cell_type": "code",
   "execution_count": 36,
   "metadata": {},
   "outputs": [
    {
     "data": {
      "text/plain": [
       "(array([ 2586.,  4854.,  2718.,  6869.,  4084.,  9830.,  6459.,     0.,\n",
       "        15722., 96877.]),\n",
       " array([ 0.5 ,  1.95,  3.4 ,  4.85,  6.3 ,  7.75,  9.2 , 10.65, 12.1 ,\n",
       "        13.55, 15.  ]),\n",
       " <a list of 10 Patch objects>)"
      ]
     },
     "execution_count": 36,
     "metadata": {},
     "output_type": "execute_result"
    },
    {
     "data": {
      "image/png": "[encoded data removed]",
      "text/plain": [
       "<Figure size 432x288 with 1 Axes>"
      ]
     },
     "metadata": {},
     "output_type": "display_data"
    }
   ],
   "source": [
    "plt.hist(dfCar['kilometer'],orientation='vertical',histtype='bar',color='pink')\n",
    "#数值总共从15到19差距不大np.log()后变化不大，看横轴跨度和纵轴变化。而价格未做归一化前，本来是从0-100000，特别偏斜，所以要做归一化。"
   ]
  },
  {
   "cell_type": "code",
   "execution_count": 37,
   "metadata": {},
   "outputs": [
    {
     "data": {
      "text/plain": [
       "(array([  1840.,      0.,    746.,      0.,   2353.,   2501.,   5862.,\n",
       "          7809.,  16289., 112599.]),\n",
       " array([-0.69314718, -0.35302744, -0.0129077 ,  0.32721203,  0.66733177,\n",
       "         1.00745151,  1.34757125,  1.68769099,  2.02781072,  2.36793046,\n",
       "         2.7080502 ]),\n",
       " <a list of 10 Patch objects>)"
      ]
     },
     "execution_count": 37,
     "metadata": {},
     "output_type": "execute_result"
    },
    {
     "data": {
      "image/png": "[encoded data removed]",
      "text/plain": [
       "<Figure size 432x288 with 1 Axes>"
      ]
     },
     "metadata": {},
     "output_type": "display_data"
    }
   ],
   "source": [
    "#但数据型还是统一做归一化，使训练加速收敛\n",
    "dfCar['kilometer_new'] = dfCar['kilometer'].apply(lambda x : np.log(x))\n",
    "plt.hist(dfCar['kilometer_new'],orientation='vertical',histtype='bar',color='pink')"
   ]
  },
  {
   "cell_type": "code",
   "execution_count": 38,
   "metadata": {},
   "outputs": [
    {
     "data": {
      "text/plain": [
       "419     369\n",
       "764     258\n",
       "125     137\n",
       "176     136\n",
       "462     134\n",
       "       ... \n",
       "6414      1\n",
       "7063      1\n",
       "4239      1\n",
       "5931      1\n",
       "7267      1\n",
       "Name: regionCode, Length: 7905, dtype: int64"
      ]
     },
     "execution_count": 38,
     "metadata": {},
     "output_type": "execute_result"
    }
   ],
   "source": [
    "dfCar['regionCode'].value_counts()"
   ]
  },
  {
   "cell_type": "code",
   "execution_count": 39,
   "metadata": {},
   "outputs": [
    {
     "data": {
      "text/plain": [
       "(7905,)"
      ]
     },
     "execution_count": 39,
     "metadata": {},
     "output_type": "execute_result"
    }
   ],
   "source": [
    "dfCar['regionCode'].sort_values().unique()\n",
    "dfCar['regionCode'].sort_values().unique().shape\n",
    "#地区编码分类型，太多类别，对价格没太大影响，不要"
   ]
  },
  {
   "cell_type": "code",
   "execution_count": 40,
   "metadata": {},
   "outputs": [
    {
     "data": {
      "text/plain": [
       "6.214608    2337\n",
       "7.313220    2158\n",
       "7.090077    1922\n",
       "6.907755    1850\n",
       "7.824046    1821\n",
       "            ... \n",
       "8.776321       1\n",
       "9.845858       1\n",
       "9.247540       1\n",
       "9.499197       1\n",
       "5.648974       1\n",
       "Name: price, Length: 3763, dtype: int64"
      ]
     },
     "execution_count": 40,
     "metadata": {},
     "output_type": "execute_result"
    }
   ],
   "source": [
    "dfCar['price'].value_counts()"
   ]
  },
  {
   "cell_type": "code",
   "execution_count": 41,
   "metadata": {},
   "outputs": [
    {
     "data": {
      "text/plain": [
       "(array([   56.,   223.,  1508.,  6232., 22319., 35387., 39059., 33184.,\n",
       "        11123.,   908.]),\n",
       " array([ 2.39789527,  3.30939729,  4.22089931,  5.13240133,  6.04390335,\n",
       "         6.95540537,  7.86690739,  8.77840941,  9.68991143, 10.60141345,\n",
       "        11.51291546]),\n",
       " <a list of 10 Patch objects>)"
      ]
     },
     "execution_count": 41,
     "metadata": {},
     "output_type": "execute_result"
    },
    {
     "data": {
      "image/png": "[encoded data removed]",
      "text/plain": [
       "<Figure size 432x288 with 1 Axes>"
      ]
     },
     "metadata": {},
     "output_type": "display_data"
    }
   ],
   "source": [
    "plt.hist(dfCar['price'],orientation='vertical',histtype='bar',color='pink')#价格上次已经做了np.log()归一化"
   ]
  },
  {
   "cell_type": "code",
   "execution_count": 42,
   "metadata": {},
   "outputs": [
    {
     "data": {
      "text/plain": [
       "45.349115    20\n",
       "48.087216    16\n",
       "48.618150    15\n",
       "47.840357    15\n",
       "47.568450    15\n",
       "             ..\n",
       "43.774218     1\n",
       "45.925620     1\n",
       "43.507642     1\n",
       "42.561630     1\n",
       "44.408263     1\n",
       "Name: v_0, Length: 143988, dtype: int64"
      ]
     },
     "execution_count": 42,
     "metadata": {},
     "output_type": "execute_result"
    }
   ],
   "source": [
    "#最后看下v_0到v_14\n",
    "dfCar['v_0'].value_counts()"
   ]
  },
  {
   "cell_type": "code",
   "execution_count": 43,
   "metadata": {},
   "outputs": [
    {
     "data": {
      "text/plain": [
       "(array([  137.,  1348.,  2093.,   931.,  5574., 37131., 58977., 37880.,\n",
       "         5659.,   269.]),\n",
       " array([30.45197649, 32.63719667, 34.82241684, 37.00763702, 39.1928572 ,\n",
       "        41.37807738, 43.56329755, 45.74851773, 47.93373791, 50.11895808,\n",
       "        52.30417826]),\n",
       " <a list of 10 Patch objects>)"
      ]
     },
     "execution_count": 43,
     "metadata": {},
     "output_type": "execute_result"
    },
    {
     "data": {
      "image/png": "[encoded data removed]",
      "text/plain": [
       "<Figure size 432x288 with 1 Axes>"
      ]
     },
     "metadata": {},
     "output_type": "display_data"
    }
   ],
   "source": [
    "#看图较好可留的特征：0,3,4，8，11,12,13,14\n",
    "plt.hist(dfCar['v_0'],orientation='vertical',histtype='bar',color='brown')"
   ]
  },
  {
   "cell_type": "code",
   "execution_count": 44,
   "metadata": {},
   "outputs": [],
   "source": [
    "#分布不好的展示如下"
   ]
  },
  {
   "cell_type": "code",
   "execution_count": 45,
   "metadata": {},
   "outputs": [
    {
     "data": {
      "text/plain": [
       "(array([55935., 28428.,    92.,   503.,  1978.,  4686., 16925., 31133.,\n",
       "         9957.,   362.]),\n",
       " array([-4.2955889 , -3.13399918, -1.97240945, -0.81081972,  0.35077001,\n",
       "         1.51235974,  2.67394946,  3.83553919,  4.99712892,  6.15871865,\n",
       "         7.32030837]),\n",
       " <a list of 10 Patch objects>)"
      ]
     },
     "execution_count": 45,
     "metadata": {},
     "output_type": "execute_result"
    },
    {
     "data": {
      "image/png": "[encoded data removed]",
      "text/plain": [
       "<Figure size 432x288 with 1 Axes>"
      ]
     },
     "metadata": {},
     "output_type": "display_data"
    }
   ],
   "source": [
    "plt.hist(dfCar['v_1'],orientation='vertical',histtype='bar',color='brown')"
   ]
  },
  {
   "cell_type": "code",
   "execution_count": 46,
   "metadata": {},
   "outputs": [
    {
     "data": {
      "text/plain": [
       "(array([2.90400e+03, 1.09005e+05, 3.35830e+04, 1.00000e+00, 0.00000e+00,\n",
       "        0.00000e+00, 0.00000e+00, 4.20000e+01, 3.51600e+03, 9.48000e+02]),\n",
       " array([-4.47067143, -2.12005464,  0.23056216,  2.58117895,  4.93179574,\n",
       "         7.28241253,  9.63302933, 11.98364612, 14.33426291, 16.68487971,\n",
       "        19.0354965 ]),\n",
       " <a list of 10 Patch objects>)"
      ]
     },
     "execution_count": 46,
     "metadata": {},
     "output_type": "execute_result"
    },
    {
     "data": {
      "image/png": "[encoded data removed]",
      "text/plain": [
       "<Figure size 432x288 with 1 Axes>"
      ]
     },
     "metadata": {},
     "output_type": "display_data"
    }
   ],
   "source": [
    "plt.hist(dfCar['v_2'],orientation='vertical',histtype='bar',color='brown')\n",
    "#v2分布不均，不要"
   ]
  },
  {
   "cell_type": "code",
   "execution_count": 47,
   "metadata": {},
   "outputs": [],
   "source": [
    "#plt.hist(dfCar['v_5'],orientation='vertical',histtype='bar',color='brown')\n",
    "#分布不均，不要\n",
    "#plt.hist(dfCar['v_6'],orientation='vertical',histtype='bar',color='brown')\n",
    "#plt.hist(dfCar['v_7'],orientation='vertical',histtype='bar',color='brown')\n",
    "#plt.hist(dfCar['v_9'],orientation='vertical',histtype='bar',color='brown')\n",
    "#plt.hist(dfCar['v_10'],orientation='vertical',histtype='bar',color='brown')\n",
    "#plt.hist(dfCar['v_11'],orientation='vertical',histtype='bar',color='brown')"
   ]
  },
  {
   "cell_type": "code",
   "execution_count": 48,
   "metadata": {},
   "outputs": [],
   "source": [
    "#将几个数据值型数据归一化到0-1之间 np.log()\n",
    "#v_0,3,4，8，12,13,14 【选这些看不见的特征，可以参考上面与price的相关性来选，选相关大的，包括负相关】\n",
    "dfCar['v_0_new'] = dfCar['v_0'].apply(lambda x : np.log(x))\n",
    "#dfCar['v_3_new'] = dfCar['v_3'].apply(lambda x : np.log(x))#有负数\n",
    "#dfCar['v_4_new'] = dfCar['v_4'].apply(lambda x : np.log(x))#有负数\n",
    "dfCar['v_8_new'] = dfCar['v_8'].apply(lambda x : x*10)#本来就很小,所以*10变到0-1之间\n",
    "#dfCar['v_12_new'] = dfCar['v_12'].apply(lambda x : np.log(x))#有负数\n",
    "#dfCar['v_13_new'] = dfCar['v_13'].apply(lambda x : np.log(x))#有负数\n",
    "#dfCar['v_14_new'] = dfCar['v_14'].apply(lambda x : np.log(x))#有负数"
   ]
  },
  {
   "cell_type": "code",
   "execution_count": 49,
   "metadata": {},
   "outputs": [],
   "source": [
    "#plt.hist(dfCar['v_14'],orientation='vertical',histtype='bar',color='pink')\n",
    "#v_3有负数，np.log报错"
   ]
  },
  {
   "cell_type": "code",
   "execution_count": 50,
   "metadata": {},
   "outputs": [
    {
     "data": {
      "text/plain": [
       "(array([132870.,      0.,      0.,      0.,      0.,      0.,      0.,\n",
       "             0.,      0.,  17129.]),\n",
       " array([0. , 0.1, 0.2, 0.3, 0.4, 0.5, 0.6, 0.7, 0.8, 0.9, 1. ]),\n",
       " <a list of 10 Patch objects>)"
      ]
     },
     "execution_count": 50,
     "metadata": {},
     "output_type": "execute_result"
    },
    {
     "data": {
      "image/png": "[encoded data removed]",
      "text/plain": [
       "<Figure size 432x288 with 1 Axes>"
      ]
     },
     "metadata": {},
     "output_type": "display_data"
    }
   ],
   "source": [
    "plt.hist(dfCar['notRepairedDamage'],orientation='vertical',histtype='bar',color='brown')\n",
    "#正负例差太多，后面可考虑复制增加正例，\n",
    "#gearbox也一样，差不多"
   ]
  },
  {
   "cell_type": "code",
   "execution_count": 51,
   "metadata": {},
   "outputs": [],
   "source": [
    "#seller,offerType已经删除，过于偏斜。测试数据做同样处理。\n",
    "#plt.hist(dfCar['offerType'],orientation='vertical',histtype='bar',color='brown')\n",
    "#temp = dfCar[\"regDate_new\"]\n",
    "#print(temp)"
   ]
  },
  {
   "cell_type": "code",
   "execution_count": 52,
   "metadata": {},
   "outputs": [
    {
     "data": {
      "text/html": [
       "<div>\n",
       "<style scoped>\n",
       "    .dataframe tbody tr th:only-of-type {\n",
       "        vertical-align: middle;\n",
       "    }\n",
       "\n",
       "    .dataframe tbody tr th {\n",
       "        vertical-align: top;\n",
       "    }\n",
       "\n",
       "    .dataframe thead th {\n",
       "        text-align: right;\n",
       "    }\n",
       "</style>\n",
       "<table border=\"1\" class=\"dataframe\">\n",
       "  <thead>\n",
       "    <tr style=\"text-align: right;\">\n",
       "      <th></th>\n",
       "      <th>SaleID</th>\n",
       "      <th>regDate_new</th>\n",
       "      <th>brand_new</th>\n",
       "      <th>bodyType_new</th>\n",
       "      <th>fuelType_new</th>\n",
       "      <th>power_new</th>\n",
       "      <th>gearbox</th>\n",
       "      <th>kilometer_new</th>\n",
       "      <th>notRepairedDamage</th>\n",
       "      <th>v_0_new</th>\n",
       "      <th>v_8_new</th>\n",
       "      <th>v_3</th>\n",
       "      <th>v_4</th>\n",
       "      <th>v_12</th>\n",
       "      <th>v_13</th>\n",
       "      <th>v_14</th>\n",
       "      <th>price</th>\n",
       "    </tr>\n",
       "  </thead>\n",
       "  <tbody>\n",
       "    <tr>\n",
       "      <th>0</th>\n",
       "      <td>0</td>\n",
       "      <td>[0.0, 0.0, 0.0, 0.0, 0.0, 0.0, 0.0, 0.0, 0.0, ...</td>\n",
       "      <td>[0.0, 0.0, 0.0, 0.0, 0.0, 0.0, 1.0, 0.0, 0.0, ...</td>\n",
       "      <td>[0.0, 1.0, 0.0, 0.0, 0.0, 0.0, 0.0, 0.0]</td>\n",
       "      <td>[1.0, 0.0, 0.0, 0.0, 0.0, 0.0, 0.0]</td>\n",
       "      <td>[0.0, 0.0, 0.0, 0.0, 0.0, 0.0, 0.0, 0.0, 0.0, ...</td>\n",
       "      <td>0.0</td>\n",
       "      <td>2.525729</td>\n",
       "      <td>0.0</td>\n",
       "      <td>3.769487</td>\n",
       "      <td>0.228164</td>\n",
       "      <td>2.159744</td>\n",
       "      <td>1.143786</td>\n",
       "      <td>-2.420821</td>\n",
       "      <td>0.795292</td>\n",
       "      <td>0.914763</td>\n",
       "      <td>7.522941</td>\n",
       "    </tr>\n",
       "    <tr>\n",
       "      <th>1</th>\n",
       "      <td>1</td>\n",
       "      <td>[0.0, 0.0, 0.0, 0.0, 0.0, 0.0, 0.0, 0.0, 0.0, ...</td>\n",
       "      <td>[0.0, 1.0, 0.0, 0.0, 0.0, 0.0, 0.0, 0.0, 0.0, ...</td>\n",
       "      <td>[0.0, 0.0, 1.0, 0.0, 0.0, 0.0, 0.0, 0.0]</td>\n",
       "      <td>[1.0, 0.0, 0.0, 0.0, 0.0, 0.0, 0.0]</td>\n",
       "      <td>[1.0, 0.0, 0.0, 0.0, 0.0, 0.0, 0.0, 0.0, 0.0, ...</td>\n",
       "      <td>0.0</td>\n",
       "      <td>2.708050</td>\n",
       "      <td>0.0</td>\n",
       "      <td>3.813423</td>\n",
       "      <td>0.265974</td>\n",
       "      <td>1.380657</td>\n",
       "      <td>-1.422165</td>\n",
       "      <td>-1.030483</td>\n",
       "      <td>-1.722674</td>\n",
       "      <td>0.245522</td>\n",
       "      <td>8.188689</td>\n",
       "    </tr>\n",
       "    <tr>\n",
       "      <th>2</th>\n",
       "      <td>2</td>\n",
       "      <td>[0.0, 0.0, 0.0, 0.0, 0.0, 0.0, 0.0, 0.0, 0.0, ...</td>\n",
       "      <td>[0.0, 0.0, 0.0, 0.0, 0.0, 0.0, 0.0, 0.0, 0.0, ...</td>\n",
       "      <td>[0.0, 1.0, 0.0, 0.0, 0.0, 0.0, 0.0, 0.0]</td>\n",
       "      <td>[1.0, 0.0, 0.0, 0.0, 0.0, 0.0, 0.0]</td>\n",
       "      <td>[0.0, 0.0, 0.0, 0.0, 0.0, 0.0, 0.0, 0.0, 0.0, ...</td>\n",
       "      <td>0.0</td>\n",
       "      <td>2.525729</td>\n",
       "      <td>0.0</td>\n",
       "      <td>3.828171</td>\n",
       "      <td>0.621728</td>\n",
       "      <td>-0.998467</td>\n",
       "      <td>-0.996911</td>\n",
       "      <td>1.565330</td>\n",
       "      <td>-0.832687</td>\n",
       "      <td>-0.229963</td>\n",
       "      <td>8.735847</td>\n",
       "    </tr>\n",
       "    <tr>\n",
       "      <th>3</th>\n",
       "      <td>3</td>\n",
       "      <td>[0.0, 0.0, 0.0, 0.0, 0.0, 1.0, 0.0, 0.0, 0.0, ...</td>\n",
       "      <td>[0.0, 0.0, 0.0, 0.0, 0.0, 0.0, 0.0, 0.0, 0.0, ...</td>\n",
       "      <td>[1.0, 0.0, 0.0, 0.0, 0.0, 0.0, 0.0, 0.0]</td>\n",
       "      <td>[1.0, 0.0, 0.0, 0.0, 0.0, 0.0, 0.0]</td>\n",
       "      <td>[0.0, 0.0, 0.0, 0.0, 0.0, 0.0, 0.0, 0.0, 0.0, ...</td>\n",
       "      <td>1.0</td>\n",
       "      <td>2.708050</td>\n",
       "      <td>0.0</td>\n",
       "      <td>3.821824</td>\n",
       "      <td>0.333945</td>\n",
       "      <td>0.883600</td>\n",
       "      <td>-2.228079</td>\n",
       "      <td>-0.501868</td>\n",
       "      <td>-2.438353</td>\n",
       "      <td>-0.478699</td>\n",
       "      <td>7.783224</td>\n",
       "    </tr>\n",
       "    <tr>\n",
       "      <th>4</th>\n",
       "      <td>4</td>\n",
       "      <td>[0.0, 0.0, 0.0, 0.0, 0.0, 0.0, 0.0, 0.0, 0.0, ...</td>\n",
       "      <td>[0.0, 0.0, 0.0, 0.0, 0.0, 1.0, 0.0, 0.0, 0.0, ...</td>\n",
       "      <td>[0.0, 1.0, 0.0, 0.0, 0.0, 0.0, 0.0, 0.0]</td>\n",
       "      <td>[1.0, 0.0, 0.0, 0.0, 0.0, 0.0, 0.0]</td>\n",
       "      <td>[0.0, 0.0, 0.0, 0.0, 0.0, 0.0, 0.0, 0.0, 0.0, ...</td>\n",
       "      <td>0.0</td>\n",
       "      <td>1.609438</td>\n",
       "      <td>0.0</td>\n",
       "      <td>3.792868</td>\n",
       "      <td>0.788194</td>\n",
       "      <td>-1.571239</td>\n",
       "      <td>2.246088</td>\n",
       "      <td>0.931110</td>\n",
       "      <td>2.834518</td>\n",
       "      <td>1.923482</td>\n",
       "      <td>8.556414</td>\n",
       "    </tr>\n",
       "  </tbody>\n",
       "</table>\n",
       "</div>"
      ],
      "text/plain": [
       "   SaleID                                        regDate_new  \\\n",
       "0       0  [0.0, 0.0, 0.0, 0.0, 0.0, 0.0, 0.0, 0.0, 0.0, ...   \n",
       "1       1  [0.0, 0.0, 0.0, 0.0, 0.0, 0.0, 0.0, 0.0, 0.0, ...   \n",
       "2       2  [0.0, 0.0, 0.0, 0.0, 0.0, 0.0, 0.0, 0.0, 0.0, ...   \n",
       "3       3  [0.0, 0.0, 0.0, 0.0, 0.0, 1.0, 0.0, 0.0, 0.0, ...   \n",
       "4       4  [0.0, 0.0, 0.0, 0.0, 0.0, 0.0, 0.0, 0.0, 0.0, ...   \n",
       "\n",
       "                                           brand_new  \\\n",
       "0  [0.0, 0.0, 0.0, 0.0, 0.0, 0.0, 1.0, 0.0, 0.0, ...   \n",
       "1  [0.0, 1.0, 0.0, 0.0, 0.0, 0.0, 0.0, 0.0, 0.0, ...   \n",
       "2  [0.0, 0.0, 0.0, 0.0, 0.0, 0.0, 0.0, 0.0, 0.0, ...   \n",
       "3  [0.0, 0.0, 0.0, 0.0, 0.0, 0.0, 0.0, 0.0, 0.0, ...   \n",
       "4  [0.0, 0.0, 0.0, 0.0, 0.0, 1.0, 0.0, 0.0, 0.0, ...   \n",
       "\n",
       "                               bodyType_new  \\\n",
       "0  [0.0, 1.0, 0.0, 0.0, 0.0, 0.0, 0.0, 0.0]   \n",
       "1  [0.0, 0.0, 1.0, 0.0, 0.0, 0.0, 0.0, 0.0]   \n",
       "2  [0.0, 1.0, 0.0, 0.0, 0.0, 0.0, 0.0, 0.0]   \n",
       "3  [1.0, 0.0, 0.0, 0.0, 0.0, 0.0, 0.0, 0.0]   \n",
       "4  [0.0, 1.0, 0.0, 0.0, 0.0, 0.0, 0.0, 0.0]   \n",
       "\n",
       "                          fuelType_new  \\\n",
       "0  [1.0, 0.0, 0.0, 0.0, 0.0, 0.0, 0.0]   \n",
       "1  [1.0, 0.0, 0.0, 0.0, 0.0, 0.0, 0.0]   \n",
       "2  [1.0, 0.0, 0.0, 0.0, 0.0, 0.0, 0.0]   \n",
       "3  [1.0, 0.0, 0.0, 0.0, 0.0, 0.0, 0.0]   \n",
       "4  [1.0, 0.0, 0.0, 0.0, 0.0, 0.0, 0.0]   \n",
       "\n",
       "                                           power_new  gearbox  kilometer_new  \\\n",
       "0  [0.0, 0.0, 0.0, 0.0, 0.0, 0.0, 0.0, 0.0, 0.0, ...      0.0       2.525729   \n",
       "1  [1.0, 0.0, 0.0, 0.0, 0.0, 0.0, 0.0, 0.0, 0.0, ...      0.0       2.708050   \n",
       "2  [0.0, 0.0, 0.0, 0.0, 0.0, 0.0, 0.0, 0.0, 0.0, ...      0.0       2.525729   \n",
       "3  [0.0, 0.0, 0.0, 0.0, 0.0, 0.0, 0.0, 0.0, 0.0, ...      1.0       2.708050   \n",
       "4  [0.0, 0.0, 0.0, 0.0, 0.0, 0.0, 0.0, 0.0, 0.0, ...      0.0       1.609438   \n",
       "\n",
       "   notRepairedDamage   v_0_new   v_8_new       v_3       v_4      v_12  \\\n",
       "0                0.0  3.769487  0.228164  2.159744  1.143786 -2.420821   \n",
       "1                0.0  3.813423  0.265974  1.380657 -1.422165 -1.030483   \n",
       "2                0.0  3.828171  0.621728 -0.998467 -0.996911  1.565330   \n",
       "3                0.0  3.821824  0.333945  0.883600 -2.228079 -0.501868   \n",
       "4                0.0  3.792868  0.788194 -1.571239  2.246088  0.931110   \n",
       "\n",
       "       v_13      v_14     price  \n",
       "0  0.795292  0.914763  7.522941  \n",
       "1 -1.722674  0.245522  8.188689  \n",
       "2 -0.832687 -0.229963  8.735847  \n",
       "3 -2.438353 -0.478699  7.783224  \n",
       "4  2.834518  1.923482  8.556414  "
      ]
     },
     "execution_count": 52,
     "metadata": {},
     "output_type": "execute_result"
    }
   ],
   "source": [
    "#选特征\n",
    "readyFeatureCols = [\"SaleID\",\"regDate_new\",\"brand_new\",\"bodyType_new\",\"fuelType_new\",\"power_new\",\"gearbox\",\"kilometer_new\",\"notRepairedDamage\",\"v_0_new\",\"v_8_new\",\"v_3\",\"v_4\",\"v_12\",\"v_13\",\"v_14\",\"price\"]\n",
    "dfCarReady = pd.DataFrame(dfCar,columns = readyFeatureCols)\n",
    "dfCarReady.head()"
   ]
  },
  {
   "cell_type": "code",
   "execution_count": 53,
   "metadata": {},
   "outputs": [
    {
     "data": {
      "text/plain": [
       "(149999, 17)"
      ]
     },
     "execution_count": 53,
     "metadata": {},
     "output_type": "execute_result"
    }
   ],
   "source": [
    "dfCarReady.shape"
   ]
  },
  {
   "cell_type": "code",
   "execution_count": 54,
   "metadata": {},
   "outputs": [],
   "source": [
    "#dfCarReady.to_csv(\"data//readyFeatures.csv\")\n",
    "#【注意，存成文件的时候数据格式会乱掉，很麻烦，所以，最好特征处理和模型搭建在同一文件中。】"
   ]
  },
  {
   "cell_type": "code",
   "execution_count": 55,
   "metadata": {},
   "outputs": [
    {
     "data": {
      "text/plain": [
       "\"\\ndfOhTest = pd.DataFrame([  \\n            ['green' , '1'],   \\n            ['red'   , '2'],   \\n            ['blue'  , '3']]) \\ndfOhTest\\n\""
      ]
     },
     "execution_count": 55,
     "metadata": {},
     "output_type": "execute_result"
    }
   ],
   "source": [
    "#===以下get_dummies是一种将类别数据变onehot编码的形式，可看下=\n",
    "'''\n",
    "dfOhTest = pd.DataFrame([  \n",
    "            ['green' , '1'],   \n",
    "            ['red'   , '2'],   \n",
    "            ['blue'  , '3']]) \n",
    "dfOhTest\n",
    "'''\n",
    "#pd.get_dummies(dfOhTest[0])#给第0列变成onehot"
   ]
  },
  {
   "cell_type": "code",
   "execution_count": 56,
   "metadata": {},
   "outputs": [
    {
     "data": {
      "text/html": [
       "<div>\n",
       "<style scoped>\n",
       "    .dataframe tbody tr th:only-of-type {\n",
       "        vertical-align: middle;\n",
       "    }\n",
       "\n",
       "    .dataframe tbody tr th {\n",
       "        vertical-align: top;\n",
       "    }\n",
       "\n",
       "    .dataframe thead th {\n",
       "        text-align: right;\n",
       "    }\n",
       "</style>\n",
       "<table border=\"1\" class=\"dataframe\">\n",
       "  <thead>\n",
       "    <tr style=\"text-align: right;\">\n",
       "      <th></th>\n",
       "      <th>SaleID</th>\n",
       "      <th>regDate_new</th>\n",
       "      <th>brand_new</th>\n",
       "      <th>bodyType_new</th>\n",
       "      <th>fuelType_new</th>\n",
       "      <th>power_new</th>\n",
       "      <th>gearbox</th>\n",
       "      <th>kilometer_new</th>\n",
       "      <th>notRepairedDamage</th>\n",
       "      <th>v_0_new</th>\n",
       "      <th>v_8_new</th>\n",
       "      <th>v_3</th>\n",
       "      <th>v_4</th>\n",
       "      <th>v_12</th>\n",
       "      <th>v_13</th>\n",
       "      <th>v_14</th>\n",
       "      <th>price</th>\n",
       "    </tr>\n",
       "  </thead>\n",
       "  <tbody>\n",
       "    <tr>\n",
       "      <th>0</th>\n",
       "      <td>0</td>\n",
       "      <td>[0.0, 0.0, 0.0, 0.0, 0.0, 0.0, 0.0, 0.0, 0.0, ...</td>\n",
       "      <td>[0.0, 0.0, 0.0, 0.0, 0.0, 0.0, 1.0, 0.0, 0.0, ...</td>\n",
       "      <td>[0.0, 1.0, 0.0, 0.0, 0.0, 0.0, 0.0, 0.0]</td>\n",
       "      <td>[1.0, 0.0, 0.0, 0.0, 0.0, 0.0, 0.0]</td>\n",
       "      <td>[0.0, 0.0, 0.0, 0.0, 0.0, 0.0, 0.0, 0.0, 0.0, ...</td>\n",
       "      <td>0.0</td>\n",
       "      <td>2.525729</td>\n",
       "      <td>0.0</td>\n",
       "      <td>3.769487</td>\n",
       "      <td>0.228164</td>\n",
       "      <td>2.159744</td>\n",
       "      <td>1.143786</td>\n",
       "      <td>-2.420821</td>\n",
       "      <td>0.795292</td>\n",
       "      <td>0.914763</td>\n",
       "      <td>7.522941</td>\n",
       "    </tr>\n",
       "    <tr>\n",
       "      <th>1</th>\n",
       "      <td>1</td>\n",
       "      <td>[0.0, 0.0, 0.0, 0.0, 0.0, 0.0, 0.0, 0.0, 0.0, ...</td>\n",
       "      <td>[0.0, 1.0, 0.0, 0.0, 0.0, 0.0, 0.0, 0.0, 0.0, ...</td>\n",
       "      <td>[0.0, 0.0, 1.0, 0.0, 0.0, 0.0, 0.0, 0.0]</td>\n",
       "      <td>[1.0, 0.0, 0.0, 0.0, 0.0, 0.0, 0.0]</td>\n",
       "      <td>[1.0, 0.0, 0.0, 0.0, 0.0, 0.0, 0.0, 0.0, 0.0, ...</td>\n",
       "      <td>0.0</td>\n",
       "      <td>2.708050</td>\n",
       "      <td>0.0</td>\n",
       "      <td>3.813423</td>\n",
       "      <td>0.265974</td>\n",
       "      <td>1.380657</td>\n",
       "      <td>-1.422165</td>\n",
       "      <td>-1.030483</td>\n",
       "      <td>-1.722674</td>\n",
       "      <td>0.245522</td>\n",
       "      <td>8.188689</td>\n",
       "    </tr>\n",
       "    <tr>\n",
       "      <th>2</th>\n",
       "      <td>2</td>\n",
       "      <td>[0.0, 0.0, 0.0, 0.0, 0.0, 0.0, 0.0, 0.0, 0.0, ...</td>\n",
       "      <td>[0.0, 0.0, 0.0, 0.0, 0.0, 0.0, 0.0, 0.0, 0.0, ...</td>\n",
       "      <td>[0.0, 1.0, 0.0, 0.0, 0.0, 0.0, 0.0, 0.0]</td>\n",
       "      <td>[1.0, 0.0, 0.0, 0.0, 0.0, 0.0, 0.0]</td>\n",
       "      <td>[0.0, 0.0, 0.0, 0.0, 0.0, 0.0, 0.0, 0.0, 0.0, ...</td>\n",
       "      <td>0.0</td>\n",
       "      <td>2.525729</td>\n",
       "      <td>0.0</td>\n",
       "      <td>3.828171</td>\n",
       "      <td>0.621728</td>\n",
       "      <td>-0.998467</td>\n",
       "      <td>-0.996911</td>\n",
       "      <td>1.565330</td>\n",
       "      <td>-0.832687</td>\n",
       "      <td>-0.229963</td>\n",
       "      <td>8.735847</td>\n",
       "    </tr>\n",
       "  </tbody>\n",
       "</table>\n",
       "</div>"
      ],
      "text/plain": [
       "   SaleID                                        regDate_new  \\\n",
       "0       0  [0.0, 0.0, 0.0, 0.0, 0.0, 0.0, 0.0, 0.0, 0.0, ...   \n",
       "1       1  [0.0, 0.0, 0.0, 0.0, 0.0, 0.0, 0.0, 0.0, 0.0, ...   \n",
       "2       2  [0.0, 0.0, 0.0, 0.0, 0.0, 0.0, 0.0, 0.0, 0.0, ...   \n",
       "\n",
       "                                           brand_new  \\\n",
       "0  [0.0, 0.0, 0.0, 0.0, 0.0, 0.0, 1.0, 0.0, 0.0, ...   \n",
       "1  [0.0, 1.0, 0.0, 0.0, 0.0, 0.0, 0.0, 0.0, 0.0, ...   \n",
       "2  [0.0, 0.0, 0.0, 0.0, 0.0, 0.0, 0.0, 0.0, 0.0, ...   \n",
       "\n",
       "                               bodyType_new  \\\n",
       "0  [0.0, 1.0, 0.0, 0.0, 0.0, 0.0, 0.0, 0.0]   \n",
       "1  [0.0, 0.0, 1.0, 0.0, 0.0, 0.0, 0.0, 0.0]   \n",
       "2  [0.0, 1.0, 0.0, 0.0, 0.0, 0.0, 0.0, 0.0]   \n",
       "\n",
       "                          fuelType_new  \\\n",
       "0  [1.0, 0.0, 0.0, 0.0, 0.0, 0.0, 0.0]   \n",
       "1  [1.0, 0.0, 0.0, 0.0, 0.0, 0.0, 0.0]   \n",
       "2  [1.0, 0.0, 0.0, 0.0, 0.0, 0.0, 0.0]   \n",
       "\n",
       "                                           power_new  gearbox  kilometer_new  \\\n",
       "0  [0.0, 0.0, 0.0, 0.0, 0.0, 0.0, 0.0, 0.0, 0.0, ...      0.0       2.525729   \n",
       "1  [1.0, 0.0, 0.0, 0.0, 0.0, 0.0, 0.0, 0.0, 0.0, ...      0.0       2.708050   \n",
       "2  [0.0, 0.0, 0.0, 0.0, 0.0, 0.0, 0.0, 0.0, 0.0, ...      0.0       2.525729   \n",
       "\n",
       "   notRepairedDamage   v_0_new   v_8_new       v_3       v_4      v_12  \\\n",
       "0                0.0  3.769487  0.228164  2.159744  1.143786 -2.420821   \n",
       "1                0.0  3.813423  0.265974  1.380657 -1.422165 -1.030483   \n",
       "2                0.0  3.828171  0.621728 -0.998467 -0.996911  1.565330   \n",
       "\n",
       "       v_13      v_14     price  \n",
       "0  0.795292  0.914763  7.522941  \n",
       "1 -1.722674  0.245522  8.188689  \n",
       "2 -0.832687 -0.229963  8.735847  "
      ]
     },
     "execution_count": 56,
     "metadata": {},
     "output_type": "execute_result"
    }
   ],
   "source": [
    "#把df数据拼成matrix矩阵，用于送入模型做运算\n",
    "dfDatas = dfCarReady\n",
    "dfDatas.head(3)"
   ]
  },
  {
   "cell_type": "markdown",
   "metadata": {},
   "source": [
    "# TASK4 建模调参"
   ]
  },
  {
   "cell_type": "code",
   "execution_count": 57,
   "metadata": {},
   "outputs": [],
   "source": [
    "from sklearn.linear_model import LinearRegression,SGDRegressor, Ridge#【线性回归模型,SGD回归，岭回归】\n",
    "from sklearn.linear_model import LogisticRegression#【逻辑回归模型】\n",
    "from sklearn.model_selection import train_test_split#【数据集划分】\n",
    "from sklearn.model_selection import GridSearchCV#【网络调参】\n",
    "from sklearn.metrics import accuracy_score#【模型评估】\n",
    "from sklearn.metrics import mean_squared_error,mean_absolute_error#【均方误差，平均绝对误差】\n",
    "from sklearn.metrics import accuracy_score,precision_score,recall_score#【准确率、精确率、召回率】\n",
    "from sklearn.externals import joblib#【保存模型】"
   ]
  },
  {
   "cell_type": "code",
   "execution_count": 58,
   "metadata": {},
   "outputs": [
    {
     "name": "stdout",
     "output_type": "stream",
     "text": [
      "149999\n",
      "[7.52294091807237, 8.188689124444199, 8.735846677457582]\n",
      "(149999, 10)\n",
      "149999\n",
      "149999\n",
      "149999\n",
      "149999\n",
      "149999\n",
      "40\n",
      "8\n",
      "7\n",
      "566\n",
      "25\n"
     ]
    },
    {
     "name": "stderr",
     "output_type": "stream",
     "text": [
      "G:\\ph\\Anaconda3\\lib\\site-packages\\ipykernel_launcher.py:6: FutureWarning: Method .as_matrix will be removed in a future version. Use .values instead.\n",
      "  \n"
     ]
    },
    {
     "data": {
      "text/plain": [
       "(149999, 656)"
      ]
     },
     "execution_count": 58,
     "metadata": {},
     "output_type": "execute_result"
    }
   ],
   "source": [
    "#===把df数据拼成matrix矩阵，用于送入模型做运算===\n",
    "label = dfDatas['price'].tolist()\n",
    "print(len(label))#149999条\n",
    "print(label[:3])#[7.52294091807237, 8.188689124444199, 8.735846677457582\n",
    "#单列非One-hot数据组合成矩阵m1 as_matrix() df变矩阵\n",
    "data_m1 = dfDatas[['gearbox','kilometer_new','notRepairedDamage','v_0_new','v_8_new','v_3','v_4','v_12','v_13','v_14']].as_matrix()\n",
    "print(data_m1.shape)#(149999条, 10列)\n",
    "#onehot数据 取出变列表，拼到一个矩阵里\n",
    "data_m2 = dfDatas['brand_new'].tolist()\n",
    "print(len(data_m2))#149999\n",
    "data_m3 = dfDatas['bodyType_new'].tolist()\n",
    "print(len(data_m3))#149999\n",
    "data_m4 = dfDatas['fuelType_new'].tolist()\n",
    "print(len(data_m4))#149999\n",
    "data_m5 = dfDatas['power_new'].tolist()\n",
    "print(len(data_m5))#149999\n",
    "data_m6 = dfDatas['regDate_new'].tolist()\n",
    "print(len(data_m6))#149999\n",
    "print(len(data_m2[0]))#40\n",
    "print(len(data_m3[0]))#8\n",
    "print(len(data_m4[0]))#7\n",
    "print(len(data_m5[0]))#566#这个太长了，需要降维，也可拼完整体降\n",
    "print(len(data_m6[0]))#25\n",
    "#把m1,2,3,4,5,6拼起，总矩阵数据应该是(149999,10+40+8+7+566+25) 即(149999,656)\n",
    "dataAll = np.concatenate([data_m1,data_m2,data_m3,data_m4,data_m5,data_m6],axis=1)#内层水平拼起，数据总条数维度不变\n",
    "dataAll.shape#(149999, 656)"
   ]
  },
  {
   "cell_type": "code",
   "execution_count": 59,
   "metadata": {},
   "outputs": [
    {
     "data": {
      "text/plain": [
       "(149999,)"
      ]
     },
     "execution_count": 59,
     "metadata": {},
     "output_type": "execute_result"
    }
   ],
   "source": [
    "#label处理成数组矩阵格式\n",
    "label_new = np.array(label)\n",
    "label_new.shape"
   ]
  },
  {
   "cell_type": "code",
   "execution_count": 60,
   "metadata": {},
   "outputs": [
    {
     "data": {
      "text/plain": [
       "(149999, 300)"
      ]
     },
     "execution_count": 60,
     "metadata": {},
     "output_type": "execute_result"
    }
   ],
   "source": [
    "#给dataAll降维\n",
    "pca = PCA(n_components=300)#等于是建一个300列矩阵，去fit dataAll 相乘机制 使其维度变形\n",
    "dataAll_new = pca.fit_transform(dataAll)\n",
    "dataAll_new.shape#(149999, 300)  由656降到了300"
   ]
  },
  {
   "cell_type": "code",
   "execution_count": 61,
   "metadata": {},
   "outputs": [
    {
     "name": "stdout",
     "output_type": "stream",
     "text": [
      "(119999, 300)\n",
      "(30000, 300)\n",
      "(119999,)\n",
      "(30000,)\n"
     ]
    }
   ],
   "source": [
    "#划分数据集\n",
    "x_train,x_test,y_train,y_test= train_test_split(dataAll_new,label_new,train_size=0.8,test_size = 0.2,random_state=1)\n",
    "print(x_train.shape)\n",
    "print(x_test.shape)\n",
    "print(y_train.shape)\n",
    "print(y_test.shape)"
   ]
  },
  {
   "cell_type": "code",
   "execution_count": 86,
   "metadata": {},
   "outputs": [
    {
     "data": {
      "text/plain": [
       "array([8.89562963, 6.68461173, 8.49699048, 8.11671562, 6.39692966,\n",
       "       8.80986281, 9.10497986, 8.61232154, 7.34601021, 8.67419694])"
      ]
     },
     "execution_count": 86,
     "metadata": {},
     "output_type": "execute_result"
    }
   ],
   "source": []
  },
  {
   "cell_type": "code",
   "execution_count": 90,
   "metadata": {},
   "outputs": [
    {
     "data": {
      "text/plain": [
       "LinearRegression(copy_X=True, fit_intercept=True, n_jobs=1, normalize=False)"
      ]
     },
     "execution_count": 90,
     "metadata": {},
     "output_type": "execute_result"
    }
   ],
   "source": [
    "#回归问题，1）先用线性回归\n",
    "carModel = LinearRegression()\n",
    "carModel.fit(x_train,y_train)"
   ]
  },
  {
   "cell_type": "code",
   "execution_count": 100,
   "metadata": {},
   "outputs": [
    {
     "name": "stdout",
     "output_type": "stream",
     "text": [
      "线性回归均方误差： 0.09062236350507456\n",
      "线性回归平均绝对误差 0.18909076136714806\n"
     ]
    }
   ],
   "source": [
    "yPred = carModel.predict(x_test)\n",
    "mse1 = mean_squared_error(y_test,yPred)\n",
    "mae1 = mean_absolute_error(y_test,yPred)\n",
    "print(\"线性回归均方误差：\",mse1)#0.09062236350507456\n",
    "print(\"线性回归平均绝对误差\",mae1)#0.18909076136714806"
   ]
  },
  {
   "cell_type": "code",
   "execution_count": 103,
   "metadata": {},
   "outputs": [
    {
     "name": "stderr",
     "output_type": "stream",
     "text": [
      "G:\\ph\\Anaconda3\\lib\\site-packages\\sklearn\\linear_model\\stochastic_gradient.py:128: FutureWarning: max_iter and tol parameters have been added in <class 'sklearn.linear_model.stochastic_gradient.SGDRegressor'> in 0.19. If both are left unset, they default to max_iter=5 and tol=None. If tol is not None, max_iter defaults to max_iter=1000. From 0.21, default max_iter will be 1000, and default tol will be 1e-3.\n",
      "  \"and default tol will be 1e-3.\" % type(self), FutureWarning)\n"
     ]
    },
    {
     "name": "stdout",
     "output_type": "stream",
     "text": [
      "SGD回归均方误差： 0.09389636557515796\n",
      "SGD回归平均绝对误差 0.19896983842142513\n"
     ]
    }
   ],
   "source": [
    "#2）SGD回归\n",
    "sgdCarModel = SGDRegressor()\n",
    "sgdCarModel.fit(x_train,y_train)\n",
    "yPred_sgd = sgdCarModel.predict(x_test)\n",
    "mse2 = mean_squared_error(y_test,yPred_sgd)\n",
    "mae2 = mean_absolute_error(y_test,yPred_sgd)\n",
    "print(\"SGD回归均方误差：\",mse2)#0.09389636557515796\n",
    "print(\"SGD回归平均绝对误差\",mae2)#0.19896983842142513"
   ]
  },
  {
   "cell_type": "code",
   "execution_count": 104,
   "metadata": {},
   "outputs": [
    {
     "name": "stdout",
     "output_type": "stream",
     "text": [
      "岭回归均方误差： 0.0906222835039978\n",
      "岭回归平均绝对误差 0.18909075772757297\n"
     ]
    }
   ],
   "source": [
    "#2）岭回归\n",
    "rdCarModel = Ridge(alpha=0.01)\n",
    "rdCarModel.fit(x_train,y_train)\n",
    "yPred_rd = rdCarModel.predict(x_test)\n",
    "mse3 = mean_squared_error(y_test,yPred_rd)\n",
    "mae3 = mean_absolute_error(y_test,yPred_rd)\n",
    "print(\"岭回归均方误差：\",mse3)#0.0906222835039978\n",
    "print(\"岭回归平均绝对误差\",mae3)#0.18909075772757297"
   ]
  },
  {
   "cell_type": "code",
   "execution_count": 109,
   "metadata": {},
   "outputs": [
    {
     "name": "stdout",
     "output_type": "stream",
     "text": [
      "[1.00000000e-03 3.59381366e-03 1.29154967e-02 4.64158883e-02\n",
      " 1.66810054e-01 5.99484250e-01 2.15443469e+00 7.74263683e+00\n",
      " 2.78255940e+01 1.00000000e+02]\n"
     ]
    },
    {
     "data": {
      "text/plain": [
       "{'alpha': 7.742636826811277}"
      ]
     },
     "execution_count": 109,
     "metadata": {},
     "output_type": "execute_result"
    }
   ],
   "source": [
    "#使用网格调参找最优参数Ridge 配合GridSearch\n",
    "alpha = np.logspace(-3,2,10)#生成一组学习率超参数，10的-3次方到10的2次方的等差数列\n",
    "print(alpha)#[1.00000000e-03 3.59381366e-03 \n",
    "rdCarModel2 = GridSearchCV(Ridge(),param_grid = {'alpha':alpha},cv =5)#CV交叉验证参数,默认3\n",
    "rdCarModel2.fit(x_train,y_train)\n",
    "print(\"最优学习率：\",rdCarModel2.best_params_)#打印最好的学习率{'alpha': 7.742636826811277}\n"
   ]
  },
  {
   "cell_type": "code",
   "execution_count": 111,
   "metadata": {},
   "outputs": [
    {
     "name": "stdout",
     "output_type": "stream",
     "text": [
      "岭回归加网格调参模型 均方误差： 0.09059577478735015\n",
      "岭回归加网格调参模型 平均绝对误差 0.18918030581845327\n"
     ]
    }
   ],
   "source": [
    "#经过网格调参后会自动用最优的参数来训练模型，此时的模型效果是最好的\n",
    "#看下效果\n",
    "yPred_rd_grid = rdCarModel2.predict(x_test)\n",
    "mse4 = mean_squared_error(y_test,yPred_rd_grid)\n",
    "mae4 = mean_absolute_error(y_test,yPred_rd_grid)\n",
    "print(\"岭回归加网格调参模型 均方误差：\",mse4)\n",
    "#0.0906222835039978之前对比\n",
    "#0.09059577478735015\n",
    "print(\"岭回归加网格调参模型 平均绝对误差\",mae4)\n",
    "#0.18909075772757297之前对比\n",
    "#0.18909075772757297"
   ]
  },
  {
   "cell_type": "code",
   "execution_count": 114,
   "metadata": {},
   "outputs": [
    {
     "data": {
      "text/plain": [
       "['rsModel//lineRCarModel.pkl']"
      ]
     },
     "execution_count": 114,
     "metadata": {},
     "output_type": "execute_result"
    }
   ],
   "source": [
    "#保存模型，方法很多，此处用joblib.dump(model,\"model.pkl\")#存成pkl，恢复模型joblib.load(mode.pkl)\n",
    "joblib.dump(rdCarModel2,\"rsModel//rdCarModelGrid.pkl\")\n",
    "joblib.dump(rdCarModel,\"rsModel//rdCarModel.pkl\")\n",
    "joblib.dump(sgdCarModel,\"rsModel//sgdCarModel.pkl\")\n",
    "joblib.dump(carModel,\"rsModel//lineRCarModel.pkl\")"
   ]
  },
  {
   "cell_type": "code",
   "execution_count": 115,
   "metadata": {},
   "outputs": [
    {
     "name": "stdout",
     "output_type": "stream",
     "text": [
      "0.09059577478735015 \n",
      " 0.18918030581845327\n"
     ]
    }
   ],
   "source": [
    "#试下load模型\n",
    "newModel = joblib.load(\"rsModel//rdCarModelGrid.pkl\")\n",
    "yPredNew = newModel.predict(x_test)\n",
    "mseNew = mean_squared_error(y_test,yPredNew)\n",
    "maeNew = mean_absolute_error(y_test,yPredNew)\n",
    "print(mseNew,\"\\n\",maeNew)#0.09059577478735015 #0.18918030581845327"
   ]
  },
  {
   "cell_type": "code",
   "execution_count": 106,
   "metadata": {},
   "outputs": [],
   "source": [
    "#==其它：数据标准化可用函数\n",
    "#from sklearn.preprocessing import StandardScaler\n",
    "#ss_X = StandardScaler()\n",
    "#X_train = ss_X.fit_transform(X_train)"
   ]
  },
  {
   "cell_type": "markdown",
   "metadata": {},
   "source": [
    "# task5 模型融合"
   ]
  },
  {
   "cell_type": "code",
   "execution_count": 62,
   "metadata": {},
   "outputs": [],
   "source": [
    "#读取上一任务保存的三个模型整合在一起\n",
    "model_1 = joblib.load('rsModel//rdCarModelGrid.pkl')#岭回归\n",
    "model_2 = joblib.load('rsModel//sgdCarModel.pkl')#SGD回归\n",
    "model_3 = joblib.load('rsModel//lineRCarModel.pkl')#线性回归"
   ]
  },
  {
   "cell_type": "code",
   "execution_count": 64,
   "metadata": {},
   "outputs": [
    {
     "name": "stdout",
     "output_type": "stream",
     "text": [
      "模型1 岭回归 mae: 0.18918927514642028\n",
      "模型2 SGD回归 mae: 0.19896934708438438\n",
      "模型3 线性回归 mae: 0.18910121869597163\n",
      "模型1 岭回归 mse: 0.09060473422668329\n",
      "模型2 SGD回归 mse: 0.0938967845892798\n",
      "模型3 线性回归 mse: 0.09063513382245392\n"
     ]
    }
   ],
   "source": [
    "yPred_1 = model_1.predict(x_test)\n",
    "mae_1 = mean_absolute_error(y_test,yPred_1)\n",
    "mse_1 = mean_squared_error(y_test,yPred_1)\n",
    "yPred_2 = model_2.predict(x_test)\n",
    "mae_2 = mean_absolute_error(y_test,yPred_2)\n",
    "mse_2 = mean_squared_error(y_test,yPred_2)\n",
    "yPred_3 = model_3.predict(x_test)\n",
    "mae_3 = mean_absolute_error(y_test,yPred_3)\n",
    "mse_3 = mean_squared_error(y_test,yPred_3)\n",
    "print(\"模型1 岭回归 mae:\",mae_1)\n",
    "print(\"模型2 SGD回归 mae:\",mae_2)#随机梯度下降(SGD)\n",
    "print(\"模型3 线性回归 mae:\",mae_3)\n",
    "print(\"模型1 岭回归 mse:\",mse_1)\n",
    "print(\"模型2 SGD回归 mse:\",mse_2)\n",
    "print(\"模型3 线性回归 mse:\",mse_3)"
   ]
  },
  {
   "cell_type": "code",
   "execution_count": 73,
   "metadata": {},
   "outputs": [
    {
     "name": "stdout",
     "output_type": "stream",
     "text": [
      "[[6.84564706 6.83304385 6.84624255]\n",
      " [8.81972855 8.81382188 8.81892313]\n",
      " [6.99149168 6.98702617 6.99138808]\n",
      " [9.00195247 9.00515181 9.00056618]\n",
      " [6.72219572 6.6729465  6.72545636]\n",
      " [9.35188278 9.41417913 9.34728554]\n",
      " [7.04186306 7.00022246 7.04508469]\n",
      " [9.92128669 9.91149257 9.91664582]\n",
      " [9.2263992  9.166701   9.23378547]\n",
      " [6.33481979 6.37714893 6.33269953]]\n",
      "(30000, 3)\n",
      "(30000,)\n",
      "(119999,)\n"
     ]
    }
   ],
   "source": [
    "#==融合方法一 stacking 模型堆叠，把上同三个模型层起，再过一个模型（此模型易用简单的，不要太复杂，不然容易过拟合）=\n",
    "#concat上面三组预测结果当做新特征输入到总模型，真实值是它的labels,再次预测评估\n",
    "new_x_train = pd.concat([pd.Series(yPred_1),pd.Series(yPred_2),pd.Series(yPred_3)],axis=1).values#从axis=1外维数据条数层面拼接，不是数据自身的0内维拼接\n",
    "print(new_x_train[:10])\n",
    "print(new_x_train.shape)#新features\n",
    "print(y_test.shape)#真实标签数据\n",
    "print(y_train.shape)"
   ]
  },
  {
   "cell_type": "code",
   "execution_count": null,
   "metadata": {},
   "outputs": [],
   "source": [
    "#将new_x_train y_test拆分为训练集测试集"
   ]
  },
  {
   "cell_type": "code",
   "execution_count": 81,
   "metadata": {},
   "outputs": [
    {
     "name": "stdout",
     "output_type": "stream",
     "text": [
      "stacking融合模型MAE: 0.18909313183206142\n",
      "stacking融合模型MSE: 0.0905772285214188\n"
     ]
    }
   ],
   "source": [
    "#创建stack的总模型\n",
    "stackModel = LinearRegression()\n",
    "#训练\n",
    "stackModel.fit(new_x_train,y_test)\n",
    "#预测,给用新特征训好的加强版模型\n",
    "yPred_stack = stackModel.predict(new_x_train)\n",
    "#评估\n",
    "mse_stack = mean_squared_error(y_test,yPred_stack)#前真，后预测\n",
    "mae_stack = mean_absolute_error(y_test,yPred_stack)#前真，后预测\n",
    "print(\"stacking融合模型MAE:\",mae_stack)\n",
    "print(\"stacking融合模型MSE:\",mse_stack)"
   ]
  },
  {
   "cell_type": "code",
   "execution_count": null,
   "metadata": {},
   "outputs": [],
   "source": []
  }
 ],
 "metadata": {
  "kernelspec": {
   "display_name": "Python 3",
   "language": "python",
   "name": "python3"
  },
  "language_info": {
   "codemirror_mode": {
    "name": "ipython",
    "version": 3
   },
   "file_extension": ".py",
   "mimetype": "text/x-python",
   "name": "python",
   "nbconvert_exporter": "python",
   "pygments_lexer": "ipython3",
   "version": "3.6.5"
  }
 },
 "nbformat": 4,
 "nbformat_minor": 2
}
