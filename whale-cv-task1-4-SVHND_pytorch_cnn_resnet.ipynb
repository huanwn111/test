{
 "cells": [
  {
   "cell_type": "code",
   "execution_count": 1,
   "metadata": {},
   "outputs": [],
   "source": [
    "#==街景字体识别==\n",
    "#思路：将不定长字符转换为定长字符的识别问题，并使用CNN完成训练和验证\n"
   ]
  },
  {
   "cell_type": "markdown",
   "metadata": {},
   "source": [
    "# task1 任务理解"
   ]
  },
  {
   "cell_type": "code",
   "execution_count": null,
   "metadata": {},
   "outputs": [],
   "source": [
    "# Day1 赛题理解：\n",
    "\n",
    "# 任务目标：题目是街景字符编码识别。\n",
    "\n",
    "# ………………………………………………………………\n",
    "# 数据文件下载查看，有六个：\n",
    "\n",
    "# 提交的模板，三个划分好的数据集，train,val,test，并在两个.json文件中给出了train和val中目标的定位。可学习定位。\n",
    "\n",
    "# 000000.png\": {\n",
    "# \"height\": [219, 219], \"label\": [1, 9], \"left\": [246, 323], \"top\": [77, 81], \"width\": [81, 96]\n",
    "# }\n",
    "\n",
    "# 长、宽、到左到上坐标、图中数字\n",
    "\n",
    "# 。\n",
    "\n",
    "# 单张图查看：\n",
    "\n",
    "# 图片中以矩形框画出了数字区域。\n",
    "# ………………………………………………………………\n",
    "\n",
    "# 思路：\n",
    "\n",
    "# 已知数字位置，做10分类问题；不知道，做11分类问题（0~9&null ）；也可以做识别问题，先定位再分类。\n",
    "# ……………………………………………………………\n",
    "\n",
    "# 技巧：\n",
    "\n",
    "# 观察题目中的图像，有不同角度的偏转，那么数据集应该需要进行一定的扩增了，至少左右45度的旋转是少不了了，再结合具体问题，数字作为特定的图像符号，不能进行翻转等方法进行扩增。\n",
    "\n",
    "# ………………………………………………………………\n",
    "\n",
    "# 步骤：\n",
    "\n",
    "# 参考minist 数据集手写字体识别。先做一个baseline。\n",
    "\n",
    "# ………………………………………………………………\n",
    "\n",
    "# 其他思路参考：\n",
    "\n",
    "# 图片中出现的数字的个数并不确定，考虑不定长的数字识别。或做字符串检测，然后再在字符串里做分割识别？或者就是单纯的进行数字识别再分类？ 膨胀腐蚀。\n",
    "# Whale提供了思路，街景字符编码识别 GitHub链接，用定长的字符段去解决的。"
   ]
  },
  {
   "cell_type": "markdown",
   "metadata": {},
   "source": [
    "# ==task2 数据读取与扩增=="
   ]
  },
  {
   "cell_type": "code",
   "execution_count": null,
   "metadata": {},
   "outputs": [],
   "source": []
  },
  {
   "cell_type": "code",
   "execution_count": 218,
   "metadata": {},
   "outputs": [],
   "source": [
    "from PIL import Image\n",
    "import cv2\n",
    "#读图片库Pillow,OpenCV等\n",
    "\n"
   ]
  },
  {
   "cell_type": "code",
   "execution_count": null,
   "metadata": {},
   "outputs": [],
   "source": [
    "#测试读单张图\n",
    "#OpenCV imread imwrite\n",
    "#pillow Image.open() im.save()\n",
    "img = cv2.imread(\"data//mchar_train//000000.png\")\n",
    "img#读出来的是图片的象素数据\n",
    "'''\n",
    "array([[[ 98, 112, 108],\n",
    "        [ 97, 112, 108],\n",
    "        [ 98, 114, 107],\n",
    "        ...,\n",
    "        [255, 255, 255],\n",
    "        [255, 255, 255],\n",
    "        [255, 255, 255]],\n",
    "'''"
   ]
  },
  {
   "cell_type": "code",
   "execution_count": 220,
   "metadata": {},
   "outputs": [
    {
     "data": {
      "text/plain": [
       "True"
      ]
     },
     "execution_count": 220,
     "metadata": {},
     "output_type": "execute_result"
    }
   ],
   "source": [
    "cv2.imwrite('000.jpg',img)#写出cv2.imwrite"
   ]
  },
  {
   "cell_type": "code",
   "execution_count": 221,
   "metadata": {},
   "outputs": [
    {
     "data": {
      "text/plain": [
       "True"
      ]
     },
     "execution_count": 221,
     "metadata": {},
     "output_type": "execute_result"
    }
   ],
   "source": [
    "edges = cv2.Canny(img,30,70)#cv2.Canny边缘检测\n",
    "cv2.imwrite('first.jpg',edges)"
   ]
  },
  {
   "cell_type": "code",
   "execution_count": 222,
   "metadata": {},
   "outputs": [
    {
     "data": {
      "text/plain": [
       "True"
      ]
     },
     "execution_count": 222,
     "metadata": {},
     "output_type": "execute_result"
    }
   ],
   "source": [
    "imgGray = cv2.cvtColor(img,cv2.COLOR_BGR2GRAY)#转换为灰度图2RGB，由BRG转为RGB\n",
    "cv2.imwrite('000gray.jpg',imgGray)"
   ]
  },
  {
   "cell_type": "code",
   "execution_count": 223,
   "metadata": {},
   "outputs": [
    {
     "data": {
      "text/plain": [
       "'\\ntransforms.CenterCrop 对图片中心进行裁剪\\ntransforms.ColorJitter 对图像颜色的对比度、饱和度和零度进行变换\\ntransforms.FiveCrop 对图像四个角和中心进行裁剪得到五分图像\\ntransforms.Grayscale 对图像进行灰度变换\\ntransforms.Pad 使用固定值进行像素填充\\ntransforms.RandomAffine 随机仿射变换\\ntransforms.RandomCrop 随机区域裁剪\\ntransforms.RandomHorizontalFlip 随机水平翻转\\ntransforms.RandomRotation 随机旋转\\ntransforms.RandomVerticalFlip 随机垂直翻转\\n'"
      ]
     },
     "execution_count": 223,
     "metadata": {},
     "output_type": "execute_result"
    }
   ],
   "source": [
    "#数据扩增:对图片做变换，翻转缩放颜色亮度等变化，增加数据，\n",
    "#常用数据扩增库：\n",
    "#torchvision \n",
    "# https://github.com/pytorch/vision\n",
    "# pytorch官方提供的数据扩增库，提供了基本的数据数据扩增方法，可以无缝与torch进行集成；但数据扩增方法种类较少，且速度中等；\n",
    "#imgaug \n",
    "#https://github.com/aleju/imgaug\n",
    "#imgaug是常用的第三方数据扩增库，提供了多样的数据扩增方法，且组合起来非常方便，速度较快；\n",
    "#albumentations\n",
    "#https://albumentations.readthedocs.io\n",
    "#是常用的第三方数据扩增库，提供了多样的数据扩增方法，对图像分类、语义分割、物体检测和关键点检测都支持，速度较快。\n",
    "'''\n",
    "transforms.CenterCrop 对图片中心进行裁剪\n",
    "transforms.ColorJitter 对图像颜色的对比度、饱和度和零度进行变换\n",
    "transforms.FiveCrop 对图像四个角和中心进行裁剪得到五分图像\n",
    "transforms.Grayscale 对图像进行灰度变换\n",
    "transforms.Pad 使用固定值进行像素填充\n",
    "transforms.RandomAffine 随机仿射变换\n",
    "transforms.RandomCrop 随机区域裁剪\n",
    "transforms.RandomHorizontalFlip 随机水平翻转\n",
    "transforms.RandomRotation 随机旋转\n",
    "transforms.RandomVerticalFlip 随机垂直翻转\n",
    "'''"
   ]
  },
  {
   "cell_type": "code",
   "execution_count": 224,
   "metadata": {},
   "outputs": [],
   "source": [
    "#Pytorch读取数据\n",
    "#Dataset封装数据集，配置DataLoder【设置 迭代器 】封装批量读取迭代方法\n"
   ]
  },
  {
   "cell_type": "code",
   "execution_count": 225,
   "metadata": {},
   "outputs": [],
   "source": [
    "# Pytorch安装,参考https://www.cnblogs.com/zhouzhiyao/p/11784055.html\n",
    "# 1、创建虚拟环境\n",
    "# conda create -n pytorch python=3.6\n",
    "# //安装后查看虚拟环境\n",
    "# conda info --envs\n",
    "# 3、激活\n",
    "# conda activate pytorch\n",
    "# 4、安装pytorch\n",
    "# 到官网，自行选择电脑配置生成安装路径，不用装CUDA，选好自动配好代码\n",
    "# //包windows建议conda，linux建议选pip\n",
    "# //pytorch Build 选stable\n",
    "# //cuda 显卡 有GPU的话 python3.6选9.2，没有选None\n",
    "# //生成结果：conda install pytorch torchvision cudatoolkit=9.2 -c pytorch -c defaults -c numba/label/dev\n",
    "# 粘到conda下pytorch虚拟环境安装即可\n"
   ]
  },
  {
   "cell_type": "code",
   "execution_count": 226,
   "metadata": {},
   "outputs": [],
   "source": [
    "import os,sys,glob,shutil,json\n",
    "os.environ[\"CUDA_VISIBLE_DEICES\"] = '0'\n",
    "import cv2\n",
    "from PIL import Image\n",
    "import numpy as np\n",
    "import torch\n",
    "from torch.utils.data.dataset import Dataset\n",
    "import torchvision.transforms as transforms\n",
    "import torchvision.models as models\n",
    "import pickle\n",
    "\n",
    "torch.manual_seed(0)\n",
    "torch.backends.cudnn.deterministic = False\n",
    "torch.backends.cudnn.benchmark = True\n"
   ]
  },
  {
   "cell_type": "code",
   "execution_count": 227,
   "metadata": {},
   "outputs": [],
   "source": [
    "#Dataset封装数据集\n",
    "class SVHNDataset(Dataset):\n",
    "    def __init__(self,img_path,img_label,transform = False):#__init__后面__别忘了 transform = None\n",
    "        self.img_path = img_path\n",
    "        self.img_label = img_label\n",
    "        self.transform = transform\n",
    "#         if transform is not None:\n",
    "#             self.transform = transform\n",
    "#         else:\n",
    "#             self.transform = None\n",
    "            \n",
    "    def __getitem__(self,index):\n",
    "        img = Image.open(self.img_path[index]).convert('RGB')#pillow包 按索引打开图片\n",
    "        if self.transform:\n",
    "            img = self.transform(img)#数据转换\n",
    "        #//分10类 SVHN中类别10是0\n",
    "        #设置最长字符长度为5-观察图一般5个字符，不够pad\n",
    "        #按索引读数据结果标签\n",
    "        lbl = np.array(self.img_label[index],dtype = np.int)\n",
    "        #5-字符长 乘除的数字个数*[10] 即长度小于5，则少几位就加几个类别10来占位，10类的值为0\n",
    "        lbl = list(lbl)+(5-len(lbl))*[10]\n",
    "        #torch.from_numpy numpy中的ndarray转为torch的tensor，反向操作.numpy()\n",
    "        return img, torch.from_numpy(np.array(lbl[:5]))#只取5位，多的不要\n",
    "    \n",
    "    def __len__(self):\n",
    "        return len(self.img_path)\n",
    "            \n",
    "            \n",
    "            "
   ]
  },
  {
   "cell_type": "code",
   "execution_count": 228,
   "metadata": {},
   "outputs": [
    {
     "name": "stdout",
     "output_type": "stream",
     "text": [
      "[[1, 9], [2, 3]]\n",
      "30000 30000\n"
     ]
    }
   ],
   "source": [
    "#配置DataLoder 【设置 迭代器 】批量读取迭代方法['']\n",
    "# glob.glob返回所有匹配的文件路径列表\n",
    "train_path = glob.glob('data/mchar_train/*.png')\n",
    "#print(train_path)#['data/mchar_train\\\\000000.png', 'data/mchar_train\\\\000001.png',\n",
    "train_path.sort()\n",
    "train_json = json.load(open('data/mchar_train.json'))\n",
    "#print(train_json['000000.png'])#{'height': [219, 219], 'label': [1, 9], 'left': [246, 323], 'top': [77, 81], 'width': [81, 96]}\n",
    "train_label = [train_json[x]['label'] for x in train_json]\n",
    "print(train_label[:2])#[[1, 9], [2, 3]]\n",
    "print(len(train_path),len(train_label))#查看x,y长度是否匹配"
   ]
  },
  {
   "cell_type": "code",
   "execution_count": 229,
   "metadata": {},
   "outputs": [],
   "source": [
    "train_loader = torch.utils.data.DataLoader(\n",
    "    SVHNDataset(\n",
    "        train_path,train_label,\n",
    "        transforms.Compose([        #变形组件\n",
    "            transforms.Resize((64,128)),\n",
    "            #transforms.RandomCrop((60,120)),#随机区域剪裁\n",
    "            #transforms.ColorJitter(0.3,0.3,0.2),#颜色的对比度、饱和度、亮度变换\n",
    "            transforms.RandomRotation(10),#随机旋转\n",
    "            transforms.ToTensor(),#ndarray变tensor\n",
    "            transforms.Normalize([0.485,0.456,0.406],[0.229,0.224,0.225])#归一化\n",
    "        ])),\n",
    "    batch_size = 40,#一组（批）多少个图（样本）\n",
    "    shuffle = True,#打乱\n",
    "    #num_workers = 10,#读取的线程个数\n",
    "    num_workers = 0#改为单进程加载，后面报错Broken pipe\n",
    ")\n",
    "    \n",
    "# for data in train_loader:\n",
    "#     break"
   ]
  },
  {
   "cell_type": "code",
   "execution_count": 230,
   "metadata": {},
   "outputs": [],
   "source": [
    "#调用DataLoder后，数据按照批次获取，每批次调用Dataset读取单个样本进行拼接\n",
    "#data格式为x [10,3,64,128] 即[batchsize*chanel*height*width]y [10,6] [batchsize*标签结果值]"
   ]
  },
  {
   "cell_type": "code",
   "execution_count": 231,
   "metadata": {},
   "outputs": [
    {
     "name": "stdout",
     "output_type": "stream",
     "text": [
      "10000 10000\n"
     ]
    }
   ],
   "source": [
    "#验证集，同上处理\n",
    "val_path = glob.glob('data/mchar_val/*.png')\n",
    "val_path.sort()\n",
    "val_json = json.load(open('data/mchar_val.json'))\n",
    "val_label = [val_json[x]['label'] for x in val_json]\n",
    "print(len(val_path),len(val_label))#查看x,y长度是否匹配"
   ]
  },
  {
   "cell_type": "code",
   "execution_count": 232,
   "metadata": {},
   "outputs": [],
   "source": [
    "val_loader = torch.utils.data.DataLoader(\n",
    "    SVHNDataset(\n",
    "        val_path,val_label,\n",
    "        transforms.Compose([        #变形组件\n",
    "            transforms.Resize((60,128)),#120\n",
    "            #transforms.RandomCrop((60,120)),#随机区域剪裁\n",
    "            #transforms.ColorJitter(0.3,0.3,0.2),#颜色的对比度、饱和度、亮度变换\n",
    "            #transforms.RandomRotation(10),#随机旋转\n",
    "            transforms.ToTensor(),#ndarray变tensor\n",
    "            transforms.Normalize([0.485,0.456,0.406],[0.229,0.224,0.225])#归一化\n",
    "        ])),\n",
    "    batch_size = 40,#一组（批）多少个图（样本）\n",
    "    shuffle = False,#打乱\n",
    "    #num_workers = 10,#读取的线程个数\n",
    "    num_workers = 0#改为单进程加载，后面报错Broken pipe\n",
    ")"
   ]
  },
  {
   "cell_type": "code",
   "execution_count": 233,
   "metadata": {
    "scrolled": true
   },
   "outputs": [
    {
     "name": "stdout",
     "output_type": "stream",
     "text": [
      "750\n",
      "250\n",
      "<torch.utils.data.dataloader.DataLoader object at 0x0000018FEABCEA58>\n",
      "<torch.utils.data.dataloader.DataLoader object at 0x0000018FEABCE6D8>\n"
     ]
    }
   ],
   "source": [
    "print(len(train_loader))\n",
    "print(len(val_loader))\n",
    "print(train_loader)\n",
    "print(val_loader)"
   ]
  },
  {
   "cell_type": "markdown",
   "metadata": {},
   "source": [
    "# task3-构建模型"
   ]
  },
  {
   "cell_type": "code",
   "execution_count": 234,
   "metadata": {},
   "outputs": [],
   "source": [
    "#建模一：pytorch CNN 定义字符分类模型，用resnet预训练模型\n",
    "class SVHN_Model_rsn(torch.nn.Module):\n",
    "    def __init__(self):\n",
    "        super(SVHN_Model_rsn,self).__init__()#继承torch.nn.Module类\n",
    "        #resnet预训练实例化\n",
    "        model_conv = models.resnet18(pretrained = True)\n",
    "        model_conv.avgpool = nn.AdaptiveAvgPool2d(1)#自适应平均池化\n",
    "        #取resnet最后一维结果集接自己的网络，继续训练，或接线性模型\n",
    "        model_conv = torch.nn.Sequential(*list(model_conv.children())[:-1])\n",
    "        self.cnn = model_conv\n",
    "        \n",
    "        #定义全连接层输出维度？，并行5次\n",
    "        self.fc1 = torch.nn.Linear(512,11)\n",
    "        self.fc2 = torch.nn.Linear(512,11)\n",
    "        self.fc3 = torch.nn.Linear(512,11)\n",
    "        self.fc4 = torch.nn.Linear(512,11)\n",
    "        self.fc5 = torch.nn.Linear(512,11)\n",
    "        \n",
    "    #前向传播（神经网络一层一层往前走）    \n",
    "    def forward(self,img):\n",
    "        cnn_rs = self.cnn(img)#输入送入模型\n",
    "        #view相当于tf的reshape，将前层的输出展平，去过全连接层，映射分类\n",
    "        cnn_rs = cnn_rs.view(cnn_rs.shape[0],-1)\n",
    "        #过上面定义的全连接层映射到定义的最终输出维度\n",
    "        c1 = self.fc1(cnn_rs)\n",
    "        c2 = self.fc2(cnn_rs)\n",
    "        c3 = self.fc3(cnn_rs)\n",
    "        c4 = self.fc4(cnn_rs)\n",
    "        c5 = self.fc5(cnn_rs)\n",
    "        \n",
    "        return c1,c2,c3,c4,c5#返回分类结果\n",
    "        "
   ]
  },
  {
   "cell_type": "code",
   "execution_count": 235,
   "metadata": {},
   "outputs": [],
   "source": [
    "#建模二（备选）：pytorch CNN 定义字符分类模型，普通版，不用resnet预训练模型\n",
    "class SVHN_Model_cnn(torch.nn.Module):\n",
    "    def __init__(self):\n",
    "        super(SVHN_Model_cnn,self).__init__()#继承torch.nn.Module类\n",
    "        self.cnn = torch.nn.Sequential(\n",
    "            \n",
    "            torch.nn.Conv2d(3,16,kernel_size=(3,3),stride=(2, 2)),#卷积层 #3X64X128--> 16X31X63\n",
    "            torch.nn.ReLU(),#过一个Relu激活函数不要写错，避免梯度爆炸\n",
    "            torch.nn.MaxPool2d(2),#最大池化层，#16X31X63--> 16X15X31\n",
    "            torch.nn.Conv2d(16,32,kernel_size = (3,3),stride = (2,2)),#再过一层卷积，16X15X31--> 32X7X15\n",
    "            torch.nn.ReLU(),\n",
    "            torch.nn.MaxPool2d(2)#32X7X15--> 32X3X7\n",
    "        )\n",
    "        \n",
    "        #定义全连接层的输出维度，并行五次\n",
    "        self.fc1 = torch.nn.Linear(32*3*7,11)\n",
    "        self.fc2 = torch.nn.Linear(32*3*7,11)\n",
    "        self.fc3 = torch.nn.Linear(32*3*7,11)\n",
    "        self.fc4 = torch.nn.Linear(32*3*7,11)\n",
    "        self.fc5 = torch.nn.Linear(32*3*7,11)\n",
    "     \n",
    "    #向前传播\n",
    "    def forward(self,x):\n",
    "        cnn_rs = self.cnn(x)\n",
    "        cnn_rs = cnn_rs.view(cnn_rs.shape[0],-1)\n",
    "        #过全连接层，映射输出\n",
    "        f1 = self.fc1(cnn_rs)\n",
    "        f2 = self.fc2(cnn_rs)\n",
    "        f3 = self.fc3(cnn_rs)\n",
    "        f4 = self.fc4(cnn_rs)\n",
    "        f5 = self.fc5(cnn_rs)\n",
    "        \n",
    "        return f1,f2,f3,f4,f5\n",
    "    "
   ]
  },
  {
   "cell_type": "markdown",
   "metadata": {},
   "source": [
    "# task4 模型训练验证"
   ]
  },
  {
   "cell_type": "code",
   "execution_count": 236,
   "metadata": {},
   "outputs": [],
   "source": [
    "#定义训练函数模块\n",
    "def train(train_loader,model,criterion,optimizer):\n",
    "    #切换到训练模式\n",
    "    model.train()\n",
    "    train_loss = []\n",
    "    \n",
    "    for i,(input, target) in enumerate(train_loader):#遍历数据\n",
    "        if use_cuda:#gpu\n",
    "            input = input.cuda()\n",
    "            target = target.cuda()\n",
    "        \n",
    "        c1,c2,c3,c4,c5 = model(input)#模型输入得到输出预测值\n",
    "        #评价，算Loss\n",
    "        #预测值与真实值比较，计算loss\n",
    "        loss = criterion(c1,target[:,0].long()) + criterion(c2,target[:,1].long()) + criterion(c3,target[:,2].long()) + criterion(c4,target[:,3].long()) + criterion(c5,target[:,4].long())\n",
    "#报错：Expected object of scalar type Long but got scalar type Int for argument #2 'target'\n",
    "#结果转long直接加.long即可\n",
    "        # loss/=6 ?\n",
    "        optimizer.zero_grad()#把所有Variable的grad成员数值变为0，优化器变量梯度清0，只算本步的加入loss列表\n",
    "        loss.backward()#梯度反向传播\n",
    "        optimizer.step()#更新梯度\n",
    "        \n",
    "        if i % 100 == 0:\n",
    "            print(loss.item())#每隔100步打印loss\n",
    "            \n",
    "        train_loss.append(loss.item())#本步loss加入loss列表\n",
    "        \n",
    "    return np.mean(train_loss)#返回平均Loss\n",
    "        "
   ]
  },
  {
   "cell_type": "code",
   "execution_count": 237,
   "metadata": {},
   "outputs": [],
   "source": [
    "#定义验证模块\n",
    "def validate(val_loader,model,criterion):\n",
    "    #切换为预测模型\n",
    "    model.eval()\n",
    "    val_loss = []\n",
    "    \n",
    "    #不记录模型梯度信息，只记录Loss，用于打印\n",
    "    with torch.no_grad():#加本句，数据不需要计算梯度，也不会进行反向传播\n",
    "        for i, (input,target) in enumerate(val_loader):\n",
    "            if use_cuda:\n",
    "                input = input.cuda()\n",
    "                target = target.cuda()\n",
    "                \n",
    "            c1,c2,c3,c4,c5 = model(input)\n",
    "            loss = criterion(c1,target[:,0].long()) + criterion(c2,target[:,1].long()) + criterion(c3,target[:,2].long()) + criterion(c4,target[:,3].long())+ criterion(c5,target[:,4].long())\n",
    "            val_loss.append(loss.item())\n",
    "            \n",
    "    return np.mean(val_loss)"
   ]
  },
  {
   "cell_type": "code",
   "execution_count": 238,
   "metadata": {},
   "outputs": [],
   "source": [
    "#定义预测模块\n",
    "def  predict(test_loader,model,tta=10):#tta次数\n",
    "    #切换到预测模式\n",
    "    model.eval()\n",
    "    test_pred_tta = None\n",
    "    \n",
    "    #TTA次数\n",
    "    for _ in range(tta):\n",
    "        test_pred = []#预测结果列表\n",
    "        \n",
    "        with torch.no_grad():\n",
    "            for i, (input, target) in enumerate(test_loader):\n",
    "                if use_cuda:\n",
    "                    input = input.cuda()\n",
    "                    \n",
    "                c1,c2,c3,c4,c5 = model(input)\n",
    "                #预测结果拼接\n",
    "                output = np.concatenate([\n",
    "                    c1.data.numpy(),\n",
    "                    c2.data.numpy(),\n",
    "                    c3.data.numpy(),\n",
    "                    c4.data.numpy(),\n",
    "                    c5.data.numpy()\n",
    "                ],axis = 1)#在列上拼接\n",
    "                \n",
    "                #加入结果集\n",
    "                test_pred.append(output)\n",
    "                \n",
    "            #垂直方向堆叠数组\n",
    "            if test_pred_tta is None:\n",
    "                test_pred_tta = test_pred\n",
    "            else:\n",
    "                test_pred_tta += test_pred #叠加结果集\n",
    "                \n",
    "    return test_pred_tta      \n",
    "        "
   ]
  },
  {
   "cell_type": "code",
   "execution_count": null,
   "metadata": {
    "scrolled": false
   },
   "outputs": [],
   "source": [
    "#训练\n",
    "#model = SVHN_Model_rsn()#使用resnet模型\n",
    "model = SVHN_Model_cnn()#使用无resnet的CNN模型\n",
    "criterion = torch.nn.CrossEntropyLoss()#实例化评价函数\n",
    "optimizer = torch.optim.Adam(model.parameters(),0.001)#实例化优化器\n",
    "best_loss = 1000.0\n",
    "\n",
    "use_cuda = False\n",
    "if use_cuda:\n",
    "    model = model.cuda()\n",
    "\n",
    "for epoch in range(2):#训2轮\n",
    "    #运行上面定义的训练函数模块\n",
    "    train_loss = train(train_loader,model,criterion,optimizer)#epoch\n",
    "    #运行上面定义的验证函数模块\n",
    "    val_loss = validate(val_loader,model,criterion)\n",
    "    \n",
    "   \n",
    "    \n",
    "    #拼接真实结果集-图片标签，map(str,x)把字符串按字符拆开，join再拼接？格式处理\n",
    "    val_label = [''.join(map(str,x)) for x in val_loader.dataset.img_label]\n",
    "    val_predict_label = predict(val_loader,model,1)#预测标签结果\n",
    "    #print(\"预测结果：\",val_predict_label)\n",
    "    #[array([[-2.0832968 ,  0.34928718,  0.63651973, ..., -4.029924  ,\n",
    "     #   -4.017502  ,  3.8661182 ],\n",
    "\n",
    "    '''\n",
    "    #【【以下报错，slice不能是元组，待调】】\n",
    "    #五组并行的预测结果集垂直方向拼接起来\n",
    "    val_predict_label = np.vstack([\n",
    "        val_predict_label[:,:11].argmax(1),#取预测概率最大索引的\n",
    "        val_predict_label[:,11:22].argmax(1),\n",
    "        val_predict_label[:,22:33].argmax(1),\n",
    "        val_predict_label[:,33:44].argmax(1),\n",
    "        val_predict_label[:,44:55].argmax(1),\n",
    "        \n",
    "    ]).T#转置\n",
    "    \n",
    "    #过滤掉类别10 pad补位符\n",
    "    val_label_pred = []\n",
    "    for x in val_predict_label:\n",
    "        val_label_pred.append(''.join(map(str,x[x!=10])))\n",
    "    \n",
    "    #准确率，预测值==真实值的为准确\n",
    "    val_char_acc = np.mean(np.array(val_label_pred)==np.array(val_label))\n",
    "    \n",
    "    print('Epoch: {0}, Train loss: {1} \\t Val loss: {2}'.format(epoch,train_loss,val_loss))\n",
    "    print(val_char_acc)\n",
    "    \n",
    "    '''\n",
    "    \n",
    "    #保存模型\n",
    "    if val_loss < best_loss:#loss不再下降时保存模型\n",
    "        best_loss = val_loss\n",
    "        torch.save(model.state_dict(),'modelRs/model.pt')\n",
    "    \n"
   ]
  },
  {
   "cell_type": "code",
   "execution_count": null,
   "metadata": {},
   "outputs": [],
   "source": [
    "# 保存模型为'model.pt'\n",
    "#torch.save(model_object.state_dict(), 'model.pt')\n",
    "# 加载'model.pt'模型\n",
    "#model.load_state_dict(torch.load(' model.pt'))"
   ]
  },
  {
   "cell_type": "markdown",
   "metadata": {},
   "source": [
    "# 预测测试集，生成提交结果"
   ]
  },
  {
   "cell_type": "code",
   "execution_count": 244,
   "metadata": {},
   "outputs": [
    {
     "name": "stdout",
     "output_type": "stream",
     "text": [
      "10000 10000\n"
     ]
    }
   ],
   "source": [
    "\n",
    "#验证集，同上处理\n",
    "test_path = glob.glob('data/mchar_test_a/*.png')\n",
    "test_path.sort()\n",
    "test_label = [[1]]*len(test_path)\n",
    "print(len(val_path),len(val_label))#查看x,y长度是否匹配"
   ]
  },
  {
   "cell_type": "code",
   "execution_count": 245,
   "metadata": {},
   "outputs": [],
   "source": [
    "test_loader = torch.utils.data.DataLoader(\n",
    "    SVHNDataset(test_path, test_label,\n",
    "                transforms.Compose([\n",
    "                    transforms.Resize((64, 128)),\n",
    "                    transforms.RandomCrop((60, 120)),\n",
    "                    # transforms.ColorJitter(0.3, 0.3, 0.2),\n",
    "                    # transforms.RandomRotation(5),\n",
    "                    transforms.ToTensor(),\n",
    "                    transforms.Normalize([0.485, 0.456, 0.406], [0.229, 0.224, 0.225])\n",
    "    ])), \n",
    "    batch_size=40, \n",
    "    shuffle=False, \n",
    "    num_workers=10,\n",
    ")\n"
   ]
  },
  {
   "cell_type": "code",
   "execution_count": 246,
   "metadata": {},
   "outputs": [
    {
     "name": "stdout",
     "output_type": "stream",
     "text": [
      "1000\n"
     ]
    }
   ],
   "source": [
    "print(len(test_loader))"
   ]
  },
  {
   "cell_type": "code",
   "execution_count": null,
   "metadata": {},
   "outputs": [],
   "source": [
    "#加载模型\n",
    "model.load_state_dict(torch.load('modelRs/model.pt'))\n",
    "test_predict_label = predict(test_loader,model,1)\n",
    "print(test_predict_label.shape)\n",
    "test_label = [''.join(map(str, x)) for x in test_loader.dataset.img_label]\n",
    "test_predict_label = np.vstack([\n",
    "    test_predict_label[:, :11].argmax(1),\n",
    "    test_predict_label[:, 11:22].argmax(1),\n",
    "    test_predict_label[:, 22:33].argmax(1),\n",
    "    test_predict_label[:, 33:44].argmax(1),\n",
    "    test_predict_label[:, 44:55].argmax(1),\n",
    "]).T\n",
    "\n",
    "test_label_pred = []\n",
    "for x in test_predict_label:\n",
    "    test_label_pred.append(''.join(map(str, x[x!=10])))\n",
    "    \n",
    "import pandas as pd\n",
    "df_submit = pd.read_csv('rsData/test_A_sample_submit.csv')\n",
    "df_submit['file_code'] = test_label_pred\n",
    "df_submit.to_csv('pytorchCnn.csv', index=None)\n"
   ]
  }
 ],
 "metadata": {
  "kernelspec": {
   "display_name": "Python 3",
   "language": "python",
   "name": "python3"
  },
  "language_info": {
   "codemirror_mode": {
    "name": "ipython",
    "version": 3
   },
   "file_extension": ".py",
   "mimetype": "text/x-python",
   "name": "python",
   "nbconvert_exporter": "python",
   "pygments_lexer": "ipython3",
   "version": "3.6.5"
  }
 },
 "nbformat": 4,
 "nbformat_minor": 2
}
