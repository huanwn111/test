{
 "cells": [
  {
   "cell_type": "code",
   "execution_count": 28,
   "metadata": {},
   "outputs": [],
   "source": [
    "#==task2 代码实践==\n",
    "from sklearn.metrics.pairwise import cosine_similarity#余弦相似度\n",
    "from scipy.stats import pearsonr#皮尔森相似度\n",
    "import pandas as pd\n",
    "import numpy as np"
   ]
  },
  {
   "cell_type": "code",
   "execution_count": 3,
   "metadata": {},
   "outputs": [
    {
     "data": {
      "text/plain": [
       "array([[1.        , 0.81649658],\n",
       "       [0.81649658, 1.        ]])"
      ]
     },
     "execution_count": 3,
     "metadata": {},
     "output_type": "execute_result"
    }
   ],
   "source": [
    "i = [1, 0, 0, 0]\n",
    "j = [1, 0.5, 0.5, 0]\n",
    "cosine_similarity([i,j])"
   ]
  },
  {
   "cell_type": "code",
   "execution_count": 15,
   "metadata": {},
   "outputs": [
    {
     "name": "stderr",
     "output_type": "stream",
     "text": [
      "G:\\ph\\Anaconda3\\lib\\site-packages\\scipy\\stats\\stats.py:3010: RuntimeWarning: invalid value encountered in double_scalars\n",
      "  r = r_num / r_den\n",
      "G:\\ph\\Anaconda3\\lib\\site-packages\\scipy\\stats\\stats.py:5256: RuntimeWarning: invalid value encountered in less\n",
      "  x = np.where(x < 1.0, x, 1.0)  # if x > 1 then return 1.0\n"
     ]
    },
    {
     "data": {
      "text/plain": [
       "(nan, 1.0)"
      ]
     },
     "execution_count": 15,
     "metadata": {},
     "output_type": "execute_result"
    }
   ],
   "source": [
    "i = [1, 1,1,1]\n",
    "j = [10, 10,10,10]\n",
    "pearsonr(i,j)"
   ]
  },
  {
   "cell_type": "code",
   "execution_count": 17,
   "metadata": {},
   "outputs": [
    {
     "name": "stdout",
     "output_type": "stream",
     "text": [
      "{'A': {1: 5, 2: 3, 3: 4, 4: 3, 5: 1}, 'B': {1: 3, 2: 1, 3: 3, 4: 3, 5: 5}, 'C': {1: 4, 2: 2, 3: 4, 4: 1, 5: 5}, 'D': {1: 4, 2: 3, 3: 3, 4: 5, 5: 2}, 'E': {2: 3, 3: 5, 4: 4, 5: 1}}\n",
      "{1: {'A': 5, 'B': 3, 'C': 4, 'D': 4}, 2: {'A': 3, 'B': 1, 'C': 2, 'D': 3, 'E': 3}, 3: {'A': 4, 'B': 3, 'C': 4, 'D': 3, 'E': 5}, 4: {'A': 3, 'B': 3, 'C': 1, 'D': 5, 'E': 4}, 5: {'A': 1, 'B': 5, 'C': 5, 'D': 2, 'E': 1}}\n"
     ]
    }
   ],
   "source": [
    "# userCF协同过滤，计算用户1 Alice 对商品E的打分\n",
    "\n",
    "#==1== 做测试数据\n",
    "def loadData(): \n",
    "    items = {\n",
    "        'A':{1:5,2:3,3:4,4:3,5:1},\n",
    "        'B': {1: 3, 2: 1, 3: 3, 4: 3, 5: 5}, \n",
    "        'C': {1: 4, 2: 2, 3: 4, 4: 1, 5: 5}, \n",
    "        'D': {1: 4, 2: 3, 3: 3, 4: 5, 5: 2}, \n",
    "        'E': {2: 3, 3: 5, 4: 4, 5: 1} \n",
    "    }\n",
    "    users = {\n",
    "        1:{'A':5,'B':3, 'C': 4, 'D': 4},\n",
    "        2: {'A': 3, 'B': 1, 'C': 2, 'D': 3, 'E': 3}, \n",
    "        3: {'A': 4, 'B': 3, 'C': 4, 'D': 3, 'E': 5}, \n",
    "        4: {'A': 3, 'B': 3, 'C': 1, 'D': 5, 'E': 4}, \n",
    "        5: {'A': 1, 'B': 5, 'C': 5, 'D': 2, 'E': 1} \n",
    "    }\n",
    "    return items,users\n",
    "items,users = loadData()\n",
    "print(items)\n",
    "print(users)"
   ]
  },
  {
   "cell_type": "code",
   "execution_count": 22,
   "metadata": {},
   "outputs": [
    {
     "data": {
      "text/html": [
       "<div>\n",
       "<style scoped>\n",
       "    .dataframe tbody tr th:only-of-type {\n",
       "        vertical-align: middle;\n",
       "    }\n",
       "\n",
       "    .dataframe tbody tr th {\n",
       "        vertical-align: top;\n",
       "    }\n",
       "\n",
       "    .dataframe thead th {\n",
       "        text-align: right;\n",
       "    }\n",
       "</style>\n",
       "<table border=\"1\" class=\"dataframe\">\n",
       "  <thead>\n",
       "    <tr style=\"text-align: right;\">\n",
       "      <th></th>\n",
       "      <th>1</th>\n",
       "      <th>2</th>\n",
       "      <th>3</th>\n",
       "      <th>4</th>\n",
       "      <th>5</th>\n",
       "    </tr>\n",
       "  </thead>\n",
       "  <tbody>\n",
       "    <tr>\n",
       "      <th>A</th>\n",
       "      <td>5.0</td>\n",
       "      <td>3.0</td>\n",
       "      <td>4.0</td>\n",
       "      <td>3.0</td>\n",
       "      <td>1.0</td>\n",
       "    </tr>\n",
       "    <tr>\n",
       "      <th>B</th>\n",
       "      <td>3.0</td>\n",
       "      <td>1.0</td>\n",
       "      <td>3.0</td>\n",
       "      <td>3.0</td>\n",
       "      <td>5.0</td>\n",
       "    </tr>\n",
       "    <tr>\n",
       "      <th>C</th>\n",
       "      <td>4.0</td>\n",
       "      <td>2.0</td>\n",
       "      <td>4.0</td>\n",
       "      <td>1.0</td>\n",
       "      <td>5.0</td>\n",
       "    </tr>\n",
       "    <tr>\n",
       "      <th>D</th>\n",
       "      <td>4.0</td>\n",
       "      <td>3.0</td>\n",
       "      <td>3.0</td>\n",
       "      <td>5.0</td>\n",
       "      <td>2.0</td>\n",
       "    </tr>\n",
       "    <tr>\n",
       "      <th>E</th>\n",
       "      <td>NaN</td>\n",
       "      <td>3.0</td>\n",
       "      <td>5.0</td>\n",
       "      <td>4.0</td>\n",
       "      <td>1.0</td>\n",
       "    </tr>\n",
       "  </tbody>\n",
       "</table>\n",
       "</div>"
      ],
      "text/plain": [
       "     1    2    3    4    5\n",
       "A  5.0  3.0  4.0  3.0  1.0\n",
       "B  3.0  1.0  3.0  3.0  5.0\n",
       "C  4.0  2.0  4.0  1.0  5.0\n",
       "D  4.0  3.0  3.0  5.0  2.0\n",
       "E  NaN  3.0  5.0  4.0  1.0"
      ]
     },
     "execution_count": 22,
     "metadata": {},
     "output_type": "execute_result"
    }
   ],
   "source": [
    "#创建DF\n",
    "item_df = pd.DataFrame(items).T#.T行列转置\n",
    "item_df\n",
    "#ABCDE是物品\n",
    "#1,2,3,4是用户"
   ]
  },
  {
   "cell_type": "code",
   "execution_count": 25,
   "metadata": {},
   "outputs": [
    {
     "data": {
      "text/html": [
       "<div>\n",
       "<style scoped>\n",
       "    .dataframe tbody tr th:only-of-type {\n",
       "        vertical-align: middle;\n",
       "    }\n",
       "\n",
       "    .dataframe tbody tr th {\n",
       "        vertical-align: top;\n",
       "    }\n",
       "\n",
       "    .dataframe thead th {\n",
       "        text-align: right;\n",
       "    }\n",
       "</style>\n",
       "<table border=\"1\" class=\"dataframe\">\n",
       "  <thead>\n",
       "    <tr style=\"text-align: right;\">\n",
       "      <th></th>\n",
       "      <th>A</th>\n",
       "      <th>B</th>\n",
       "      <th>C</th>\n",
       "      <th>D</th>\n",
       "      <th>E</th>\n",
       "    </tr>\n",
       "  </thead>\n",
       "  <tbody>\n",
       "    <tr>\n",
       "      <th>1</th>\n",
       "      <td>5.0</td>\n",
       "      <td>3.0</td>\n",
       "      <td>4.0</td>\n",
       "      <td>4.0</td>\n",
       "      <td>NaN</td>\n",
       "    </tr>\n",
       "    <tr>\n",
       "      <th>2</th>\n",
       "      <td>3.0</td>\n",
       "      <td>1.0</td>\n",
       "      <td>2.0</td>\n",
       "      <td>3.0</td>\n",
       "      <td>3.0</td>\n",
       "    </tr>\n",
       "    <tr>\n",
       "      <th>3</th>\n",
       "      <td>4.0</td>\n",
       "      <td>3.0</td>\n",
       "      <td>4.0</td>\n",
       "      <td>3.0</td>\n",
       "      <td>5.0</td>\n",
       "    </tr>\n",
       "    <tr>\n",
       "      <th>4</th>\n",
       "      <td>3.0</td>\n",
       "      <td>3.0</td>\n",
       "      <td>1.0</td>\n",
       "      <td>5.0</td>\n",
       "      <td>4.0</td>\n",
       "    </tr>\n",
       "    <tr>\n",
       "      <th>5</th>\n",
       "      <td>1.0</td>\n",
       "      <td>5.0</td>\n",
       "      <td>5.0</td>\n",
       "      <td>2.0</td>\n",
       "      <td>1.0</td>\n",
       "    </tr>\n",
       "  </tbody>\n",
       "</table>\n",
       "</div>"
      ],
      "text/plain": [
       "     A    B    C    D    E\n",
       "1  5.0  3.0  4.0  4.0  NaN\n",
       "2  3.0  1.0  2.0  3.0  3.0\n",
       "3  4.0  3.0  4.0  3.0  5.0\n",
       "4  3.0  3.0  1.0  5.0  4.0\n",
       "5  1.0  5.0  5.0  2.0  1.0"
      ]
     },
     "execution_count": 25,
     "metadata": {},
     "output_type": "execute_result"
    }
   ],
   "source": [
    "user_df = pd.DataFrame(users).T\n",
    "user_df\n",
    "#ABCDE是物品\n",
    "#1,2,3,4是用户\n",
    "#此两个矩阵是同一批数据，行列角度不同。"
   ]
  },
  {
   "cell_type": "code",
   "execution_count": 26,
   "metadata": {},
   "outputs": [],
   "source": [
    "#userCF实现步骤：2、计算用户相似性矩阵，3、排序（得到前n个相似用户），4计算最终得分"
   ]
  },
  {
   "cell_type": "code",
   "execution_count": 29,
   "metadata": {},
   "outputs": [
    {
     "data": {
      "text/html": [
       "<div>\n",
       "<style scoped>\n",
       "    .dataframe tbody tr th:only-of-type {\n",
       "        vertical-align: middle;\n",
       "    }\n",
       "\n",
       "    .dataframe tbody tr th {\n",
       "        vertical-align: top;\n",
       "    }\n",
       "\n",
       "    .dataframe thead th {\n",
       "        text-align: right;\n",
       "    }\n",
       "</style>\n",
       "<table border=\"1\" class=\"dataframe\">\n",
       "  <thead>\n",
       "    <tr style=\"text-align: right;\">\n",
       "      <th></th>\n",
       "      <th>1</th>\n",
       "      <th>2</th>\n",
       "      <th>3</th>\n",
       "      <th>4</th>\n",
       "      <th>5</th>\n",
       "    </tr>\n",
       "  </thead>\n",
       "  <tbody>\n",
       "    <tr>\n",
       "      <th>1</th>\n",
       "      <td>0.0</td>\n",
       "      <td>0.0</td>\n",
       "      <td>0.0</td>\n",
       "      <td>0.0</td>\n",
       "      <td>0.0</td>\n",
       "    </tr>\n",
       "    <tr>\n",
       "      <th>2</th>\n",
       "      <td>0.0</td>\n",
       "      <td>0.0</td>\n",
       "      <td>0.0</td>\n",
       "      <td>0.0</td>\n",
       "      <td>0.0</td>\n",
       "    </tr>\n",
       "    <tr>\n",
       "      <th>3</th>\n",
       "      <td>0.0</td>\n",
       "      <td>0.0</td>\n",
       "      <td>0.0</td>\n",
       "      <td>0.0</td>\n",
       "      <td>0.0</td>\n",
       "    </tr>\n",
       "    <tr>\n",
       "      <th>4</th>\n",
       "      <td>0.0</td>\n",
       "      <td>0.0</td>\n",
       "      <td>0.0</td>\n",
       "      <td>0.0</td>\n",
       "      <td>0.0</td>\n",
       "    </tr>\n",
       "    <tr>\n",
       "      <th>5</th>\n",
       "      <td>0.0</td>\n",
       "      <td>0.0</td>\n",
       "      <td>0.0</td>\n",
       "      <td>0.0</td>\n",
       "      <td>0.0</td>\n",
       "    </tr>\n",
       "  </tbody>\n",
       "</table>\n",
       "</div>"
      ],
      "text/plain": [
       "     1    2    3    4    5\n",
       "1  0.0  0.0  0.0  0.0  0.0\n",
       "2  0.0  0.0  0.0  0.0  0.0\n",
       "3  0.0  0.0  0.0  0.0  0.0\n",
       "4  0.0  0.0  0.0  0.0  0.0\n",
       "5  0.0  0.0  0.0  0.0  0.0"
      ]
     },
     "execution_count": 29,
     "metadata": {},
     "output_type": "execute_result"
    }
   ],
   "source": [
    "#==2、计算用户相似矩阵==\n",
    "similarity_matrix = pd.DataFrame(np.zeros((len(users),len(users))),index=[1,2,3,4,5],columns = [1,2,3,4,5])\n",
    "similarity_matrix"
   ]
  },
  {
   "cell_type": "code",
   "execution_count": 50,
   "metadata": {},
   "outputs": [
    {
     "name": "stdout",
     "output_type": "stream",
     "text": [
      "          1    2    3    4    5\n",
      "1  0.000000  0.0  0.0  0.0  0.0\n",
      "2  0.852803  0.0  0.0  0.0  0.0\n",
      "3  0.000000  0.0  0.0  0.0  0.0\n",
      "4  0.000000  0.0  0.0  0.0  0.0\n",
      "5  0.000000  0.0  0.0  0.0  0.0\n",
      "          1    2    3    4    5\n",
      "1  0.000000  0.0  0.0  0.0  0.0\n",
      "2  0.852803  0.0  0.0  0.0  0.0\n",
      "3  0.707107  0.0  0.0  0.0  0.0\n",
      "4  0.000000  0.0  0.0  0.0  0.0\n",
      "5  0.000000  0.0  0.0  0.0  0.0\n",
      "          1    2    3    4    5\n",
      "1  0.000000  0.0  0.0  0.0  0.0\n",
      "2  0.852803  0.0  0.0  0.0  0.0\n",
      "3  0.707107  0.0  0.0  0.0  0.0\n",
      "4  0.000000  0.0  0.0  0.0  0.0\n",
      "5  0.000000  0.0  0.0  0.0  0.0\n",
      "          1    2    3    4    5\n",
      "1  0.000000  0.0  0.0  0.0  0.0\n",
      "2  0.852803  0.0  0.0  0.0  0.0\n",
      "3  0.707107  0.0  0.0  0.0  0.0\n",
      "4  0.000000  0.0  0.0  0.0  0.0\n",
      "5 -0.792118  0.0  0.0  0.0  0.0\n",
      "          1         2    3    4    5\n",
      "1  0.000000  0.852803  0.0  0.0  0.0\n",
      "2  0.852803  0.000000  0.0  0.0  0.0\n",
      "3  0.707107  0.000000  0.0  0.0  0.0\n",
      "4  0.000000  0.000000  0.0  0.0  0.0\n",
      "5 -0.792118  0.000000  0.0  0.0  0.0\n",
      "          1         2    3    4    5\n",
      "1  0.000000  0.852803  0.0  0.0  0.0\n",
      "2  0.852803  0.000000  0.0  0.0  0.0\n",
      "3  0.707107  0.467707  0.0  0.0  0.0\n",
      "4  0.000000  0.000000  0.0  0.0  0.0\n",
      "5 -0.792118  0.000000  0.0  0.0  0.0\n",
      "          1         2    3    4    5\n",
      "1  0.000000  0.852803  0.0  0.0  0.0\n",
      "2  0.852803  0.000000  0.0  0.0  0.0\n",
      "3  0.707107  0.467707  0.0  0.0  0.0\n",
      "4  0.000000  0.489956  0.0  0.0  0.0\n",
      "5 -0.792118  0.000000  0.0  0.0  0.0\n",
      "          1         2    3    4    5\n",
      "1  0.000000  0.852803  0.0  0.0  0.0\n",
      "2  0.852803  0.000000  0.0  0.0  0.0\n",
      "3  0.707107  0.467707  0.0  0.0  0.0\n",
      "4  0.000000  0.489956  0.0  0.0  0.0\n",
      "5 -0.792118 -0.900149  0.0  0.0  0.0\n",
      "          1         2         3    4    5\n",
      "1  0.000000  0.852803  0.707107  0.0  0.0\n",
      "2  0.852803  0.000000  0.000000  0.0  0.0\n",
      "3  0.707107  0.467707  0.000000  0.0  0.0\n",
      "4  0.000000  0.489956  0.000000  0.0  0.0\n",
      "5 -0.792118 -0.900149  0.000000  0.0  0.0\n",
      "          1         2         3    4    5\n",
      "1  0.000000  0.852803  0.707107  0.0  0.0\n",
      "2  0.852803  0.000000  0.467707  0.0  0.0\n",
      "3  0.707107  0.467707  0.000000  0.0  0.0\n",
      "4  0.000000  0.489956  0.000000  0.0  0.0\n",
      "5 -0.792118 -0.900149  0.000000  0.0  0.0\n",
      "          1         2         3    4    5\n",
      "1  0.000000  0.852803  0.707107  0.0  0.0\n",
      "2  0.852803  0.000000  0.467707  0.0  0.0\n",
      "3  0.707107  0.467707  0.000000  0.0  0.0\n",
      "4  0.000000  0.489956 -0.161165  0.0  0.0\n",
      "5 -0.792118 -0.900149  0.000000  0.0  0.0\n",
      "          1         2         3    4    5\n",
      "1  0.000000  0.852803  0.707107  0.0  0.0\n",
      "2  0.852803  0.000000  0.467707  0.0  0.0\n",
      "3  0.707107  0.467707  0.000000  0.0  0.0\n",
      "4  0.000000  0.489956 -0.161165  0.0  0.0\n",
      "5 -0.792118 -0.900149 -0.466569  0.0  0.0\n",
      "          1         2         3    4    5\n",
      "1  0.000000  0.852803  0.707107  0.0  0.0\n",
      "2  0.852803  0.000000  0.467707  0.0  0.0\n",
      "3  0.707107  0.467707  0.000000  0.0  0.0\n",
      "4  0.000000  0.489956 -0.161165  0.0  0.0\n",
      "5 -0.792118 -0.900149 -0.466569  0.0  0.0\n",
      "          1         2         3         4    5\n",
      "1  0.000000  0.852803  0.707107  0.000000  0.0\n",
      "2  0.852803  0.000000  0.467707  0.489956  0.0\n",
      "3  0.707107  0.467707  0.000000  0.000000  0.0\n",
      "4  0.000000  0.489956 -0.161165  0.000000  0.0\n",
      "5 -0.792118 -0.900149 -0.466569  0.000000  0.0\n",
      "          1         2         3         4    5\n",
      "1  0.000000  0.852803  0.707107  0.000000  0.0\n",
      "2  0.852803  0.000000  0.467707  0.489956  0.0\n",
      "3  0.707107  0.467707  0.000000 -0.161165  0.0\n",
      "4  0.000000  0.489956 -0.161165  0.000000  0.0\n",
      "5 -0.792118 -0.900149 -0.466569  0.000000  0.0\n",
      "          1         2         3         4    5\n",
      "1  0.000000  0.852803  0.707107  0.000000  0.0\n",
      "2  0.852803  0.000000  0.467707  0.489956  0.0\n",
      "3  0.707107  0.467707  0.000000 -0.161165  0.0\n",
      "4  0.000000  0.489956 -0.161165  0.000000  0.0\n",
      "5 -0.792118 -0.900149 -0.466569 -0.641503  0.0\n",
      "          1         2         3         4         5\n",
      "1  0.000000  0.852803  0.707107  0.000000 -0.792118\n",
      "2  0.852803  0.000000  0.467707  0.489956  0.000000\n",
      "3  0.707107  0.467707  0.000000 -0.161165  0.000000\n",
      "4  0.000000  0.489956 -0.161165  0.000000  0.000000\n",
      "5 -0.792118 -0.900149 -0.466569 -0.641503  0.000000\n",
      "          1         2         3         4         5\n",
      "1  0.000000  0.852803  0.707107  0.000000 -0.792118\n",
      "2  0.852803  0.000000  0.467707  0.489956 -0.900149\n",
      "3  0.707107  0.467707  0.000000 -0.161165  0.000000\n",
      "4  0.000000  0.489956 -0.161165  0.000000  0.000000\n",
      "5 -0.792118 -0.900149 -0.466569 -0.641503  0.000000\n",
      "          1         2         3         4         5\n",
      "1  0.000000  0.852803  0.707107  0.000000 -0.792118\n",
      "2  0.852803  0.000000  0.467707  0.489956 -0.900149\n",
      "3  0.707107  0.467707  0.000000 -0.161165 -0.466569\n",
      "4  0.000000  0.489956 -0.161165  0.000000  0.000000\n",
      "5 -0.792118 -0.900149 -0.466569 -0.641503  0.000000\n",
      "          1         2         3         4         5\n",
      "1  0.000000  0.852803  0.707107  0.000000 -0.792118\n",
      "2  0.852803  0.000000  0.467707  0.489956 -0.900149\n",
      "3  0.707107  0.467707  0.000000 -0.161165 -0.466569\n",
      "4  0.000000  0.489956 -0.161165  0.000000 -0.641503\n",
      "5 -0.792118 -0.900149 -0.466569 -0.641503  0.000000\n"
     ]
    }
   ],
   "source": [
    "#==2、计算用户相似矩阵==\n",
    "#遍历上面users每条用户-物品评分数据\n",
    "# {1: {'A': 5, 'B': 3, 'C': 4, 'D': 4}, 2: {'A': 3, 'B': 1, 'C': 2, 'D': 3, 'E': 3}, 3: {'A': 4, 'B': 3, 'C': 4, 'D': 3, 'E': 5}, 4: {'A': 3, 'B': 3, 'C': 1, 'D': 5, 'E': 4}, 5: {'A': 1, 'B': 5, 'C': 5, 'D': 2, 'E': 1}}\n",
    "#items\n",
    "#{'A': {1: 5, 2: 3, 3: 4, 4: 3, 5: 1}, 'B': {1: 3, 2: 1, 3: 3, 4: 3, 5: 5}, 'C': {1: 4, 2: 2, 3: 4, 4: 1, 5: 5}, 'D': {1: 4, 2: 3, 3: 3, 4: 5, 5: 2}, 'E': {2: 3, 3: 5, 4: 4, 5: 1}}\n",
    "##此组数据是同一批数据，行列角度不同。\n",
    "for userID in users:#【遍历的是字典的key】\n",
    "   # print(userID)\n",
    "    for otheruserId in users:\n",
    "       # print(userID)\n",
    "       # print(otheruserId)\n",
    "        vec_user = []\n",
    "        vec_otheruser = []\n",
    "        if userID != otheruserId:#【同列排除，其它列，即其它用户】\n",
    "            for itemId in items:#遍历字典的key\n",
    "                itemRateList = items[itemId]#取出key对应的值\n",
    "                #print(\"itemRateList\",itemRateList)\n",
    "                if userID in itemRateList and otheruserId in itemRateList:\n",
    "                    #【in操作查询字典，看userID是否在字典的key里】\n",
    "                    #【自己和其它用户都在列表里，说明两用户都对该物品有过评分】\n",
    "                    vec_user.append(itemRateList[userID])#自己得分加入列表\n",
    "                    vec_otheruser.append(itemRateList[otheruserId])#其它用户得分加入列表\n",
    "                    \n",
    "            #相似性矩阵（共现矩阵）np.corrcoef\n",
    "            similarity_matrix[userID][otheruserId] = np.corrcoef(np.array(vec_user),np.array(vec_otheruser))[0][1]#相似性矩阵，取[0][1]，其它都是重复的。\n",
    "            #自己id为列，其它用户id为行，把自己与其它用户的相似矩阵填入。\n",
    "            print(similarity_matrix)"
   ]
  },
  {
   "cell_type": "code",
   "execution_count": 46,
   "metadata": {},
   "outputs": [
    {
     "name": "stdout",
     "output_type": "stream",
     "text": [
      "0\n",
      "5\n"
     ]
    }
   ],
   "source": [
    "# test = {1: 5, 2: 3, 3: 4, 4: 3, 5: 0}\n",
    "# if 5 in test:\n",
    "#     print(test[5])\n",
    "# if 1 in test:\n",
    "#     print(test[1])\n",
    "# if 0 in test:\n",
    "#     print(test[1])"
   ]
  },
  {
   "cell_type": "code",
   "execution_count": 61,
   "metadata": {},
   "outputs": [
    {
     "name": "stdout",
     "output_type": "stream",
     "text": [
      "          1         2         3         4         5\n",
      "1  0.000000  0.852803  0.707107  0.000000 -0.792118\n",
      "2  0.852803  0.000000  0.467707  0.489956 -0.900149\n",
      "3  0.707107  0.467707  0.000000 -0.161165 -0.466569\n",
      "4  0.000000  0.489956 -0.161165  0.000000 -0.641503\n",
      "5 -0.792118 -0.900149 -0.466569 -0.641503  0.000000\n"
     ]
    }
   ],
   "source": [
    "print(similarity_matrix)"
   ]
  },
  {
   "cell_type": "code",
   "execution_count": 62,
   "metadata": {},
   "outputs": [
    {
     "name": "stdout",
     "output_type": "stream",
     "text": [
      "2    0.852803\n",
      "3    0.707107\n",
      "4    0.000000\n",
      "1    0.000000\n",
      "5   -0.792118\n",
      "Name: 1, dtype: float64\n",
      "[2, 3]\n"
     ]
    }
   ],
   "source": [
    "#==3、排序，（计算前n个相似用户）==\n",
    "n = 2\n",
    "#similarity_matrix[1] 取出一组即可，行与列同为5个用户，相互之间的相似性矩阵，其它都重复。\n",
    "AsortUser = similarity_matrix[1].sort_values(ascending=False)#降序排列\n",
    "print(AsortUser)\n",
    "similarity_users = AsortUser[:n].index.tolist()#取前两个的index名转成列表，即[2,3]号用户\n",
    "print(similarity_users)\n"
   ]
  },
  {
   "cell_type": "code",
   "execution_count": 65,
   "metadata": {},
   "outputs": [
    {
     "name": "stdout",
     "output_type": "stream",
     "text": [
      "用户1 Alice对商品5的打分： 4.871979899370592\n"
     ]
    }
   ],
   "source": [
    "#==4、计算用户1 Alice对商品5的打分==\n",
    "#计算公式：Alice的平均打分 + （用户32与Alice相似度*（用户2给商品5的打分-用户2平均打分）+用户3与Alice相似度*（用户3给商品5的打分-用户3平均打分））/(用户2与Alice相似度+用户3与Alice的相似度)\n",
    "# 4 + (0.85*(3-2.4)+0.7*(5-3.8))/(0.85+0.7) = 4.87\n",
    "#基础分+权重分/总相似度\n",
    "#user1 Alice的平均打分\n",
    "base_score = np.mean(np.array([value for value in users[1].values()]))\n",
    "# print(base_score)#4.0\n",
    "weighted_scores = 0.\n",
    "corr_values_sum = 0.\n",
    "for user in similarity_users:#[3,2]\n",
    "    corr_value = similarity_matrix[1][user]#取相似度，从相似矩阵similarity_matrix中取\n",
    "    #打分平均值\n",
    "    mean_user_score = np.mean(np.array([value for value in users[user].values()]))\n",
    "    #加权分,分子\n",
    "    weighted_scores += corr_value*(users[user]['E']-mean_user_score)\n",
    "    #总相似度 分母，//下母，分母不能为0，不能被分divide\n",
    "    corr_values_sum += corr_value\n",
    "final_scores = base_score + weighted_scores/corr_values_sum\n",
    "\n",
    "print(\"用户1 Alice对商品5的打分：\",final_scores)#4.871979899370592"
   ]
  },
  {
   "cell_type": "code",
   "execution_count": 66,
   "metadata": {},
   "outputs": [
    {
     "data": {
      "text/html": [
       "<div>\n",
       "<style scoped>\n",
       "    .dataframe tbody tr th:only-of-type {\n",
       "        vertical-align: middle;\n",
       "    }\n",
       "\n",
       "    .dataframe tbody tr th {\n",
       "        vertical-align: top;\n",
       "    }\n",
       "\n",
       "    .dataframe thead th {\n",
       "        text-align: right;\n",
       "    }\n",
       "</style>\n",
       "<table border=\"1\" class=\"dataframe\">\n",
       "  <thead>\n",
       "    <tr style=\"text-align: right;\">\n",
       "      <th></th>\n",
       "      <th>A</th>\n",
       "      <th>B</th>\n",
       "      <th>C</th>\n",
       "      <th>D</th>\n",
       "      <th>E</th>\n",
       "    </tr>\n",
       "  </thead>\n",
       "  <tbody>\n",
       "    <tr>\n",
       "      <th>1</th>\n",
       "      <td>5.0</td>\n",
       "      <td>3.0</td>\n",
       "      <td>4.0</td>\n",
       "      <td>4.0</td>\n",
       "      <td>4.87198</td>\n",
       "    </tr>\n",
       "    <tr>\n",
       "      <th>2</th>\n",
       "      <td>3.0</td>\n",
       "      <td>1.0</td>\n",
       "      <td>2.0</td>\n",
       "      <td>3.0</td>\n",
       "      <td>3.00000</td>\n",
       "    </tr>\n",
       "    <tr>\n",
       "      <th>3</th>\n",
       "      <td>4.0</td>\n",
       "      <td>3.0</td>\n",
       "      <td>4.0</td>\n",
       "      <td>3.0</td>\n",
       "      <td>5.00000</td>\n",
       "    </tr>\n",
       "    <tr>\n",
       "      <th>4</th>\n",
       "      <td>3.0</td>\n",
       "      <td>3.0</td>\n",
       "      <td>1.0</td>\n",
       "      <td>5.0</td>\n",
       "      <td>4.00000</td>\n",
       "    </tr>\n",
       "    <tr>\n",
       "      <th>5</th>\n",
       "      <td>1.0</td>\n",
       "      <td>5.0</td>\n",
       "      <td>5.0</td>\n",
       "      <td>2.0</td>\n",
       "      <td>1.00000</td>\n",
       "    </tr>\n",
       "  </tbody>\n",
       "</table>\n",
       "</div>"
      ],
      "text/plain": [
       "     A    B    C    D        E\n",
       "1  5.0  3.0  4.0  4.0  4.87198\n",
       "2  3.0  1.0  2.0  3.0  3.00000\n",
       "3  4.0  3.0  4.0  3.0  5.00000\n",
       "4  3.0  3.0  1.0  5.0  4.00000\n",
       "5  1.0  5.0  5.0  2.0  1.00000"
      ]
     },
     "execution_count": 66,
     "metadata": {},
     "output_type": "execute_result"
    }
   ],
   "source": [
    "#补加到表中\n",
    "\n",
    "user_df.loc[1]['E'] = final_scores\n",
    "user_df"
   ]
  },
  {
   "cell_type": "code",
   "execution_count": 67,
   "metadata": {},
   "outputs": [],
   "source": [
    "#==ItemCF 基于物品相似度的协同过滤 ，计算物品相似度（跟据共同用户的交互来计算相似程度），推荐=="
   ]
  },
  {
   "cell_type": "code",
   "execution_count": 68,
   "metadata": {},
   "outputs": [],
   "source": [
    "#步骤：1、计算物品的相似性（5与其它1，2，3，4商品的相似性）；2、找出最相似的几个商品；3、根据Alice用户1对这几个相近的物品的打分计算对物品5的打分。"
   ]
  },
  {
   "cell_type": "code",
   "execution_count": 73,
   "metadata": {},
   "outputs": [
    {
     "name": "stdout",
     "output_type": "stream",
     "text": [
      "          A         B         C         D         E\n",
      "A  1.000000 -0.476731 -0.123091  0.532181  0.969458\n",
      "B -0.476731  1.000000  0.645497 -0.310087 -0.478091\n",
      "C -0.123091  0.645497  1.000000 -0.720577 -0.427618\n",
      "D  0.532181 -0.310087 -0.720577  1.000000  0.581675\n",
      "E  0.969458 -0.478091 -0.427618  0.581675  1.000000\n"
     ]
    }
   ],
   "source": [
    "#和上面方法一样，只不过行列不同\n",
    "#==1、计算物品相似矩阵==\n",
    "similarity_matrix = pd.DataFrame(np.ones((len(items),len(items))),index=['A', 'B', 'C', 'D', \n",
    "'E'],columns = ['A', 'B', 'C', 'D', 'E'])#【【行列一样，用来计算商品两两相似性，用np.corrcoef】】\n",
    "for itemId in items:\n",
    "    for otheritemId in items:\n",
    "        vec_item = []\n",
    "        vec_otheritem = []\n",
    "        if itemId != otheritemId:\n",
    "            for userId in users:\n",
    "                userRateList = users[userId]\n",
    "                if itemId in userRateList and otheritemId in userRateList:\n",
    "                    #用户对这两个商品都评过分。都评过的计算相似度\n",
    "                    vec_item.append(userRateList[itemId])#本商品\n",
    "                    vec_otheritem.append(userRateList[otheritemId])#其它商品\n",
    "                    \n",
    "            #算自己与其它商品的相似矩阵\n",
    "            similarity_matrix[itemId][otheritemId] = np.corrcoef(np.array(vec_item),np.array(vec_otheritem))[0][1]\n",
    "            \n",
    "print(similarity_matrix)     \n",
    "            "
   ]
  },
  {
   "cell_type": "code",
   "execution_count": 77,
   "metadata": {},
   "outputs": [
    {
     "data": {
      "text/plain": [
       "['A', 'D']"
      ]
     },
     "execution_count": 77,
     "metadata": {},
     "output_type": "execute_result"
    }
   ],
   "source": [
    "#==2、排度，查前n个相似商品==\n",
    "n = 3\n",
    "similarity_items = similarity_matrix['E'].sort_values(ascending = False)[:n].index.tolist()\n",
    "similarity_items = [item for item in similarity_items if item !='E']#去掉自己\n",
    "similarity_items"
   ]
  },
  {
   "cell_type": "code",
   "execution_count": 78,
   "metadata": {},
   "outputs": [
    {
     "name": "stdout",
     "output_type": "stream",
     "text": [
      "用户1 Alice对商品5的打分： 4.6\n"
     ]
    }
   ],
   "source": [
    "#==3、计算打分==\n",
    "#公式同上\n",
    "base_score = np.mean(np.array([value for value in items['E'].values()]))#E的平均打分\n",
    "weighted_scores = 0. #权重分\n",
    "corr_values_sum = 0. #相拟度\n",
    "for item in similarity_items:\n",
    "    corr_value = similarity_matrix['E'][item]\n",
    "    mean_item_score = np.mean(np.array([value for value in items[item].values()]))#相似商品自身平均打分\n",
    "    weighted_scores += corr_value*(users[1][item]-mean_item_score)\n",
    "    corr_values_sum += corr_value\n",
    "final_scores = base_score + weighted_scores/corr_values_sum\n",
    "print(\"用户1 Alice对商品5的打分：\",final_scores)#4.6\n"
   ]
  },
  {
   "cell_type": "code",
   "execution_count": 79,
   "metadata": {},
   "outputs": [
    {
     "data": {
      "text/html": [
       "<div>\n",
       "<style scoped>\n",
       "    .dataframe tbody tr th:only-of-type {\n",
       "        vertical-align: middle;\n",
       "    }\n",
       "\n",
       "    .dataframe tbody tr th {\n",
       "        vertical-align: top;\n",
       "    }\n",
       "\n",
       "    .dataframe thead th {\n",
       "        text-align: right;\n",
       "    }\n",
       "</style>\n",
       "<table border=\"1\" class=\"dataframe\">\n",
       "  <thead>\n",
       "    <tr style=\"text-align: right;\">\n",
       "      <th></th>\n",
       "      <th>A</th>\n",
       "      <th>B</th>\n",
       "      <th>C</th>\n",
       "      <th>D</th>\n",
       "      <th>E</th>\n",
       "    </tr>\n",
       "  </thead>\n",
       "  <tbody>\n",
       "    <tr>\n",
       "      <th>1</th>\n",
       "      <td>5.0</td>\n",
       "      <td>3.0</td>\n",
       "      <td>4.0</td>\n",
       "      <td>4.0</td>\n",
       "      <td>4.6</td>\n",
       "    </tr>\n",
       "    <tr>\n",
       "      <th>2</th>\n",
       "      <td>3.0</td>\n",
       "      <td>1.0</td>\n",
       "      <td>2.0</td>\n",
       "      <td>3.0</td>\n",
       "      <td>3.0</td>\n",
       "    </tr>\n",
       "    <tr>\n",
       "      <th>3</th>\n",
       "      <td>4.0</td>\n",
       "      <td>3.0</td>\n",
       "      <td>4.0</td>\n",
       "      <td>3.0</td>\n",
       "      <td>5.0</td>\n",
       "    </tr>\n",
       "    <tr>\n",
       "      <th>4</th>\n",
       "      <td>3.0</td>\n",
       "      <td>3.0</td>\n",
       "      <td>1.0</td>\n",
       "      <td>5.0</td>\n",
       "      <td>4.0</td>\n",
       "    </tr>\n",
       "    <tr>\n",
       "      <th>5</th>\n",
       "      <td>1.0</td>\n",
       "      <td>5.0</td>\n",
       "      <td>5.0</td>\n",
       "      <td>2.0</td>\n",
       "      <td>1.0</td>\n",
       "    </tr>\n",
       "  </tbody>\n",
       "</table>\n",
       "</div>"
      ],
      "text/plain": [
       "     A    B    C    D    E\n",
       "1  5.0  3.0  4.0  4.0  4.6\n",
       "2  3.0  1.0  2.0  3.0  3.0\n",
       "3  4.0  3.0  4.0  3.0  5.0\n",
       "4  3.0  3.0  1.0  5.0  4.0\n",
       "5  1.0  5.0  5.0  2.0  1.0"
      ]
     },
     "execution_count": 79,
     "metadata": {},
     "output_type": "execute_result"
    }
   ],
   "source": [
    "user_df.loc[1]['E'] = final_scores \n",
    "user_df "
   ]
  },
  {
   "cell_type": "code",
   "execution_count": null,
   "metadata": {},
   "outputs": [],
   "source": [
    "#基于物品相似性推荐itemCF的是4.6分，基于用户相似推荐userCF的是4.87分\n",
    "#差不太多"
   ]
  }
 ],
 "metadata": {
  "kernelspec": {
   "display_name": "Python 3",
   "language": "python",
   "name": "python3"
  },
  "language_info": {
   "codemirror_mode": {
    "name": "ipython",
    "version": 3
   },
   "file_extension": ".py",
   "mimetype": "text/x-python",
   "name": "python",
   "nbconvert_exporter": "python",
   "pygments_lexer": "ipython3",
   "version": "3.6.5"
  }
 },
 "nbformat": 4,
 "nbformat_minor": 2
}
