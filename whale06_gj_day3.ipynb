{
 "cells": [
  {
   "cell_type": "markdown",
   "metadata": {},
   "source": [
    "【Task3 XGB算法梳理】\n",
    "【参考框架】欢迎有自己的框架\n",
    "XGB\n",
    "\n",
    "1，算法原理\n",
    "2，损失函数\n",
    "3，分裂结点算法\n",
    "4，正则化\n",
    "5，对缺失值处理\n",
    "6，优缺点\n",
    "7，应用场景\n",
    "8，sklearn参数"
   ]
  },
  {
   "cell_type": "code",
   "execution_count": 37,
   "metadata": {},
   "outputs": [],
   "source": [
    "'''\n",
    "9、xgb sklearn应用\n",
    "'''\n",
    "from sklearn import datasets\n",
    "import numpy as np\n",
    "from xgboost.sklearn import XGBClassifier\n",
    "from xgboost.sklearn import XGBRegressor\n",
    "from sklearn.model_selection import train_test_split\n",
    "from sklearn.metrics import accuracy_score\n"
   ]
  },
  {
   "cell_type": "code",
   "execution_count": 42,
   "metadata": {},
   "outputs": [
    {
     "name": "stdout",
     "output_type": "stream",
     "text": [
      "(105, 4)\n",
      "(45, 4)\n",
      "(105,)\n",
      "(45,)\n"
     ]
    }
   ],
   "source": [
    "\n",
    "\n",
    "myDatas = datasets.load_iris()\n",
    "#print(\"训练数据\",myDatas)\n",
    "#划分训练集、测试集\n",
    "X_train,X_test,y_train,y_test = train_test_split(\n",
    "    myDatas.data,myDatas.target,#load_iris的原始数据集\n",
    "    test_size = 0.3,\n",
    "    random_state = 7\n",
    ")\n",
    "\n",
    "print(X_train.shape)\n",
    "print(X_test.shape)\n",
    "print(y_train.shape)\n",
    "print(y_test.shape)"
   ]
  },
  {
   "cell_type": "code",
   "execution_count": 92,
   "metadata": {},
   "outputs": [
    {
     "name": "stdout",
     "output_type": "stream",
     "text": [
      "预测精确度： 0.9333333333333333\n"
     ]
    },
    {
     "name": "stderr",
     "output_type": "stream",
     "text": [
      "G:\\Users\\Administrator\\Anaconda3\\lib\\site-packages\\sklearn\\preprocessing\\label.py:151: DeprecationWarning: The truth value of an empty array is ambiguous. Returning False, but in future this will result in an error. Use `array.size > 0` to check that an array is not empty.\n",
      "  if diff:\n"
     ]
    }
   ],
   "source": [
    "\n",
    "#==分类任务==\n",
    "#实例化xgb分类器对象\n",
    "clfXgb = XGBClassifier(n_estimators=10,max_depth=3,learning_rate=0.1)\n",
    "#learning_rate = 0.1 根据经验是最合适的学率，精确度0.93，改成0.5，精确度降为0.91了。\n",
    "#训练分类\n",
    "clfXgb.fit(X_train,y_train)\n",
    "#预测\n",
    "clfXgbPred = clfXgb.predict(X_test)\n",
    "\n",
    "#评估得分\n",
    "acc = accuracy_score(y_test,clfXgbPred)\n",
    "\n",
    "print(\"预测精确度：\",acc)\n",
    "\n",
    "#==以上就完成了sklearn的XGBoost分类预测了==\n",
    "\n",
    "#==回归任务==\n",
    "#同上，换成XGBRegressor\n",
    "#rXgb = XGBRegressor(n_estimators=10,max_depth=3)\n",
    "\n"
   ]
  },
  {
   "cell_type": "code",
   "execution_count": 91,
   "metadata": {},
   "outputs": [
    {
     "name": "stdout",
     "output_type": "stream",
     "text": [
      "[0]\tvalidation_0-mlogloss:0.871668\n",
      "Will train until validation_0-mlogloss hasn't improved in 3 rounds.\n",
      "[1]\tvalidation_0-mlogloss:0.714822\n",
      "[2]\tvalidation_0-mlogloss:0.600959\n",
      "[3]\tvalidation_0-mlogloss:0.51605\n",
      "[4]\tvalidation_0-mlogloss:0.451743\n",
      "[5]\tvalidation_0-mlogloss:0.402619\n",
      "[6]\tvalidation_0-mlogloss:0.364957\n",
      "[7]\tvalidation_0-mlogloss:0.336098\n",
      "[8]\tvalidation_0-mlogloss:0.310766\n",
      "[9]\tvalidation_0-mlogloss:0.290692\n",
      "\n",
      "预测精确度: 0.9333333333333333\n"
     ]
    },
    {
     "name": "stderr",
     "output_type": "stream",
     "text": [
      "G:\\Users\\Administrator\\Anaconda3\\lib\\site-packages\\sklearn\\preprocessing\\label.py:151: DeprecationWarning: The truth value of an empty array is ambiguous. Returning False, but in future this will result in an error. Use `array.size > 0` to check that an array is not empty.\n",
      "  if diff:\n"
     ]
    }
   ],
   "source": [
    "#==下面来看下每一步的test预测值，\n",
    "#看是否XGBoost每加一棵树都会让集成学习效果优化提升(这是XGBoost的核心思想)==\n",
    "\n",
    "eval_set = [(X_test,y_test)]#构造一个测试集\n",
    "\n",
    "clfXgb.fit(X_train,y_train,early_stopping_rounds=3,\n",
    "           eval_metric='mlogloss',eval_set = eval_set,verbose = True)\n",
    "#参数：模型饱和后再加3次停止该模型\n",
    "#指定mlogloss为损失函数，用来做模型优化标准，使logloss最小。\n",
    "#测试值\n",
    "clfXgbPred_2 = clfXgb.predict(X_test)\n",
    "#把预测值装进预测值列表\n",
    "predictions = [round(v) for v in clfXgbPred_2]\n",
    "#遍历预测结果评估\n",
    "acc_2 = accuracy_score(y_test,predictions)#每个测试结果和它对应的所有预测值比较分别评估\n",
    "\n",
    "print(\"\\n预测精确度:\",acc_2)\n",
    "#由结果可见XGB的确是在每步加入新村时使得集成学习向优化提升（损失越来越小，预测越来越接近真实值）\n",
    "#另外上面设了early_stopping_rounds 为3 说明从底下往上数3个0.56时模型就已经是饱和状态了。"
   ]
  },
  {
   "cell_type": "code",
   "execution_count": 69,
   "metadata": {},
   "outputs": [
    {
     "data": {
      "image/png": "[encoded data removed]",
      "text/plain": [
       "<Figure size 432x288 with 1 Axes>"
      ]
     },
     "metadata": {
      "needs_background": "light"
     },
     "output_type": "display_data"
    }
   ],
   "source": [
    "#==下面看一个xgboost的功能\n",
    "#plot_importantce，\n",
    "#可以查看特征重要性==\n",
    "from xgboost import plot_importance\n",
    "from matplotlib import pyplot\n",
    "\n",
    "model = XGBClassifier()#实例化分类器对象\n",
    "model.fit(myDatas.data,myDatas.target)#对象fit传原始数据集即可\n",
    "rs = plot_importance(model)#算特征重要性\n",
    "pyplot.show(rs)#画图\n",
    "#图上列出了4个特征重要性\n",
    "\n"
   ]
  },
  {
   "cell_type": "code",
   "execution_count": 71,
   "metadata": {},
   "outputs": [],
   "source": [
    "#==网格调参，\n",
    "#模型建好以后要选一些合适的参数，让模型最优（损失最小）才是目的，\n",
    "#然后把这些参数应用到模型，重新建模保存，服务于更多任务的测试工作==\n",
    "from sklearn.model_selection import GridSearchCV\n",
    "from sklearn.model_selection import StratifiedKFold\n"
   ]
  },
  {
   "cell_type": "code",
   "execution_count": 94,
   "metadata": {},
   "outputs": [
    {
     "name": "stdout",
     "output_type": "stream",
     "text": [
      "最优学习率: {'learning_rate': 0.1} ，得分：-0.169467 \n",
      "每次迭代的平均值： [-1.08640095 -0.98505858 -0.169467   -0.18732891 -0.18775922]\n",
      "对应的本次迭代学习率参数： [{'learning_rate': 0.0001}, {'learning_rate': 0.001}, {'learning_rate': 0.1}, {'learning_rate': 0.2}, {'learning_rate': 0.3}]\n"
     ]
    }
   ],
   "source": [
    "myMode = XGBClassifier()#正常这里是不会人为揸定参数，要求最合适参数，上面实例只是根据经验传了固定参数展示分类实现，\n",
    "#以学习率为例，找一个最合适的学习率\n",
    "#设几个不同学习率的列表，后面来遍历它，看哪个学习率下分类精确度最高，就用哪个学习率代回模型重新建模\n",
    "learning_rate=[0.0001,0.001,0.1,0.2,0.3]\n",
    "#这次使用交叉验证（交替充份使用有限数据）划分数据集\n",
    "#实例化交叉验证类\n",
    "kfold = StratifiedKFold(n_splits=2,shuffle=True,random_state=7)\n",
    "#n_splits分成几组测试验证对\n",
    "#实例化网格调参类（传入交叉验实例对象及XGB分类对象）\n",
    "grid_search = GridSearchCV(myMode,#传入XGB分类对象\n",
    "                           dict(learning_rate=learning_rate),#这里要字典格式打包传参\n",
    "                           scoring = 'neg_log_loss',#评估损失函数选择\n",
    "                           n_jobs = 1,#当前所有空闲CPU都去跑这个模型\n",
    "                           cv = kfold#指定交叉验证实例对象\n",
    "                          )\n",
    "#用最终结合好的对象fit原始数据即可自动完成交叉验证并调参\n",
    "gridRs = grid_search.fit(myDatas.data,myDatas.target)\n",
    "\n",
    "#打印最优学习率和其得分\n",
    "print(\"最优学习率: %s ，得分：%f \" % (gridRs.best_params_,gridRs.best_score_))\n",
    "means = gridRs.cv_results_['mean_test_score']\n",
    "params = gridRs.cv_results_['params']\n",
    "#打印平均分\n",
    "print(\"每次迭代的平均值：\",means)\n",
    "print(\"对应的本次迭代学习率参数：\",params)\n",
    "\n",
    "'''\n",
    "#以上调参完即可确定最优的learning_rate在模型中使用了，代回去再次建模，\n",
    "#才可得到开篇中的最精确的预测值。\n",
    "#试下把开篇learning_rate = 0.1 改成0.5，精确度从0.93降为0.91了。\n",
    "#此模型才可用于其它同类任务的预测工作，总的流程是这样的。\n",
    "#此处只调了一个参数举例，其它参数必要时也要调\n",
    "'''"
   ]
  },
  {
   "cell_type": "code",
   "execution_count": null,
   "metadata": {},
   "outputs": [],
   "source": [
    "'''\n",
    "XGB\n",
    "\n",
    "1，算法原理\n",
    "XGB(extreme Gradient Boosting) 最强梯度提升树\n",
    "它是一种集成学习算法，把弱分类器（决策树）组合，逐步提升效果，变强学习器。\n",
    "它的提升原理是：把之前树的预测结果保留下来，加上当前树的结果，使效果最好（使加起来的预测结果最接近真实值），\n",
    "但这棵树怎么加，要不要加，不是乱加的，前提是要使整体效果提升，\n",
    "所以这个算法也当成是一个提升boosting算法。\n",
    "怎么做到新加的树是使整体效果提升的？\n",
    "就要通过计算损失函数，使它是下降的（损失降低的）\n",
    "\n",
    "2，损失函数\n",
    "损失函数 L = (预测值-真实值)^2 \n",
    "目标函数（要求的函数） = L损失函数 + 正则惩罚项\n",
    "正则惩罚项 = 惩罚系数（力度）*T叶子结点数+L2正则项(0.5*参数*样本权重平方和)\n",
    "L损失（预测值-真实值）这个差值也叫残差（梯度提升决策树也叫残差决策树）\n",
    "求它的最小值（每棵树的要累加起来），就是我们的目标，\n",
    "XGBoost的原理就是让这个差值最小，也即预测值最接近真实值，\n",
    "\n",
    "公式最终化简为一个叶节点权重w = 一阶导g之和/二阶导h之和+参数，\n",
    "要使得把它代回原目标函数损失最小。\n",
    "\n",
    "它公式推导化简求解过程中用了泰勒展开（用近似的简单表达来代替复杂的函数代表求解），\n",
    "求一阶导和给一阶导求二阶导（给导数求导即求一个倾斜角度的角度，在前面的基础上的变化）的算梯度方式，\n",
    "更精确快速定位下降的方向。\n",
    "\n",
    "3，分裂结点算法\n",
    "分裂结点即在哪里切分做为划分子左右树的依据，\n",
    "决策树用的是算熵值、基尼系数，来找一个最大特征项来切分，\n",
    "XGBoost是指定分割点，用左子树+右子树分数-没切割时的树得分 这样得到一个切分后的预测结果增益变化值，\n",
    "指定很多个分割点迭代，增益变化最大的（如果没变化，等于没切一样，所以找增益最大的点来切割）这个分割点阈值作为切分依据，\n",
    "在此处分裂结点。\n",
    "\n",
    "\n",
    "4，正则化\n",
    "决策树的叶子结点过多会过拟和，所以引入了正则化，\n",
    "在损失函数后面+正则化项\n",
    "正则化项 = 惩罚系数（力度参数）*T叶子结点数+L2正则项(0.5*参数*叶子权重平方和)\n",
    "两部分的两个参数都是人为指定，分别控制叶子结点数和单个结点的权重，让两者平衡，共同作用，使损失函数最小。\n",
    "\n",
    "5，对缺失值处理\n",
    "对缺失值XGBoost可以自动学习分裂方向，\n",
    "自动学习的实现是通过以下方式：\n",
    "在找分裂点时，不遍历迭代缺失样本，减少计算，\n",
    "分配样本时，缺失的样本同时分到左右子树，计算哪边的增益大就自动分到哪边去。\n",
    "但在测试时如果遇到缺失值，会分到右子树。\n",
    "\n",
    "6，优缺点\n",
    "优点：\n",
    "a,支持线性分类器（相当于引入L1 L2正则惩罚项的LR和线性回归，目标函数公式=误差平方和+正则项，似LR）;\n",
    "b,代价函数（）用了二阶Talor展开，引入一阶导和二阶导,提高模型拟和的速度；\n",
    "（损失函数：一个样本的误差\n",
    "代价函数：整个训练集上所有样本误差的平均\n",
    "目标函数：代价函数 + 正则化项）\n",
    "c,可以给缺失值自动划分方向；\n",
    "d,同RF,支持样本(行)随机抽取，也支持特征(列)随机抽取，降低运算，防过拟合；\n",
    "e,代价函数引入正则化项，控制模型（树）复杂度，\n",
    "正则化项包含全部叶子节点个数，每个叶子节点得分的L2模的平方和（代表叶子节点权重的影响）\n",
    "从贝叶斯（先验累积思想）方差角度考虑，正则降低了模型的方差，防过拟和；\n",
    "f,每次迭代后为叶子分配结合学习速率，减低每棵树权重，减少每棵树影响，灵活调整后面的学习空间；\n",
    "g,支持并行，不是树并行，是把特征值先预排序，存起来，可以重复并行使用计算分裂点；\n",
    "h,分裂依据分开后与未分前的差值增益，不用每个节点排序算增益，减少计算量，可以并行计算，\n",
    "可以引入阈值限制树分裂，控制树的规模；\n",
    "总结优点：快速高效可容错\n",
    "\n",
    "缺点：\n",
    "a,容易过拟合；\n",
    "b,调参困难；\n",
    "\n",
    "7，应用场景\n",
    "\n",
    "用于分类；\n",
    "用于回归；\n",
    "\n",
    "8，sklearn参数\n",
    "\n",
    "XGBClassifier参数:\n",
    "    learning_rate = 0.1, #学习率\n",
    "    n_estimators=100, #分多少棵树\n",
    "    max_depth=5, #树最大深度\n",
    "    min_child_weight=1,#最小权重系数\n",
    "    gamma=0,#惩罚系数（力度）\n",
    "    lambda,#正则化\n",
    "    alpha,#正则化\n",
    "    subsample=0.8,#随机选80%个样本，不想随机就指定1\n",
    "    colsample_bytree = 0.8 #随机选特征\n",
    "    objective = 'binary:logistic'#损失函数loss function,求这个函数的一阶二阶导\n",
    "    scale_pos_weight = 1 #要不要指定一个均衡的树\n",
    "    seed=7 #随机种子，每次复现都是一样的\n",
    "\n",
    "'''"
   ]
  },
  {
   "cell_type": "code",
   "execution_count": null,
   "metadata": {},
   "outputs": [],
   "source": []
  },
  {
   "cell_type": "code",
   "execution_count": null,
   "metadata": {},
   "outputs": [],
   "source": []
  }
 ],
 "metadata": {
  "kernelspec": {
   "display_name": "Python 3",
   "language": "python",
   "name": "python3"
  },
  "language_info": {
   "codemirror_mode": {
    "name": "ipython",
    "version": 3
   },
   "file_extension": ".py",
   "mimetype": "text/x-python",
   "name": "python",
   "nbconvert_exporter": "python",
   "pygments_lexer": "ipython3",
   "version": "3.6.8"
  }
 },
 "nbformat": 4,
 "nbformat_minor": 2
}
