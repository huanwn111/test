{
 "cells": [
  {
   "cell_type": "code",
   "execution_count": 1,
   "metadata": {},
   "outputs": [],
   "source": [
    "#==街景字体识别==\n",
    "#思路：将不定长字符转换为定长字符的识别问题，并使用CNN完成训练和验证\n",
    "#==task2 数据读取与扩增=="
   ]
  },
  {
   "cell_type": "code",
   "execution_count": 2,
   "metadata": {},
   "outputs": [],
   "source": [
    "from PIL import Image\n",
    "import cv\n",
    "#读图片库Pillow,OpenCV等"
   ]
  },
  {
   "cell_type": "code",
   "execution_count": 4,
   "metadata": {},
   "outputs": [
    {
     "data": {
      "text/plain": [
       "array([[[ 98, 112, 108],\n",
       "        [ 97, 112, 108],\n",
       "        [ 98, 114, 107],\n",
       "        ...,\n",
       "        [255, 255, 255],\n",
       "        [255, 255, 255],\n",
       "        [255, 255, 255]],\n",
       "\n",
       "       [[100, 114, 110],\n",
       "        [ 99, 114, 110],\n",
       "        [ 99, 115, 108],\n",
       "        ...,\n",
       "        [255, 255, 255],\n",
       "        [255, 255, 255],\n",
       "        [255, 255, 255]],\n",
       "\n",
       "       [[101, 116, 112],\n",
       "        [101, 116, 112],\n",
       "        [101, 117, 110],\n",
       "        ...,\n",
       "        [255, 255, 255],\n",
       "        [255, 255, 255],\n",
       "        [255, 255, 255]],\n",
       "\n",
       "       ...,\n",
       "\n",
       "       [[ 25,  21,  20],\n",
       "        [ 24,  22,  21],\n",
       "        [ 26,  24,  23],\n",
       "        ...,\n",
       "        [255, 255, 255],\n",
       "        [255, 255, 255],\n",
       "        [255, 255, 255]],\n",
       "\n",
       "       [[ 24,  23,  19],\n",
       "        [ 23,  24,  20],\n",
       "        [ 22,  23,  19],\n",
       "        ...,\n",
       "        [255, 255, 255],\n",
       "        [255, 255, 255],\n",
       "        [255, 255, 255]],\n",
       "\n",
       "       [[ 21,  22,  18],\n",
       "        [ 22,  23,  19],\n",
       "        [ 21,  22,  18],\n",
       "        ...,\n",
       "        [255, 255, 255],\n",
       "        [255, 255, 255],\n",
       "        [255, 255, 255]]], dtype=uint8)"
      ]
     },
     "execution_count": 4,
     "metadata": {},
     "output_type": "execute_result"
    }
   ],
   "source": [
    "#测试读单张图\n",
    "#OpenCV imread imwrite\n",
    "#pillow Image.open() im.save()\n",
    "img = cv2.imread(\"data//mchar_train//000000.png\")\n",
    "img#读出来的是图片的象素数据\n"
   ]
  },
  {
   "cell_type": "code",
   "execution_count": 8,
   "metadata": {},
   "outputs": [
    {
     "data": {
      "text/plain": [
       "True"
      ]
     },
     "execution_count": 8,
     "metadata": {},
     "output_type": "execute_result"
    }
   ],
   "source": [
    "cv2.imwrite('000.jpg',img)#写出cv2.imwrite"
   ]
  },
  {
   "cell_type": "code",
   "execution_count": 6,
   "metadata": {},
   "outputs": [
    {
     "data": {
      "text/plain": [
       "True"
      ]
     },
     "execution_count": 6,
     "metadata": {},
     "output_type": "execute_result"
    }
   ],
   "source": [
    "edges = cv2.Canny(img,30,70)#cv2.Canny边缘检测\n",
    "cv2.imwrite('first.jpg',edges)"
   ]
  },
  {
   "cell_type": "code",
   "execution_count": 9,
   "metadata": {},
   "outputs": [
    {
     "data": {
      "text/plain": [
       "True"
      ]
     },
     "execution_count": 9,
     "metadata": {},
     "output_type": "execute_result"
    }
   ],
   "source": [
    "imgGray = cv2.cvtColor(img,cv2.COLOR_BGR2GRAY)#转换为灰度图2RGB，由BRG转为RGB\n",
    "cv2.imwrite('000gray.jpg',imgGray)"
   ]
  },
  {
   "cell_type": "code",
   "execution_count": null,
   "metadata": {},
   "outputs": [],
   "source": [
    "#数据扩增:对图片做变换，翻转缩放颜色亮度等变化，增加数据，\n",
    "#常用数据扩增库：\n",
    "#torchvision \n",
    "# https://github.com/pytorch/vision\n",
    "# pytorch官方提供的数据扩增库，提供了基本的数据数据扩增方法，可以无缝与torch进行集成；但数据扩增方法种类较少，且速度中等；\n",
    "#imgaug \n",
    "#https://github.com/aleju/imgaug\n",
    "#imgaug是常用的第三方数据扩增库，提供了多样的数据扩增方法，且组合起来非常方便，速度较快；\n",
    "#albumentations\n",
    "#https://albumentations.readthedocs.io\n",
    "#是常用的第三方数据扩增库，提供了多样的数据扩增方法，对图像分类、语义分割、物体检测和关键点检测都支持，速度较快。\n",
    "'''\n",
    "transforms.CenterCrop 对图片中心进行裁剪\n",
    "transforms.ColorJitter 对图像颜色的对比度、饱和度和零度进行变换\n",
    "transforms.FiveCrop 对图像四个角和中心进行裁剪得到五分图像\n",
    "transforms.Grayscale 对图像进行灰度变换\n",
    "transforms.Pad 使用固定值进行像素填充\n",
    "transforms.RandomAffine 随机仿射变换\n",
    "transforms.RandomCrop 随机区域裁剪\n",
    "transforms.RandomHorizontalFlip 随机水平翻转\n",
    "transforms.RandomRotation 随机旋转\n",
    "transforms.RandomVerticalFlip 随机垂直翻转\n",
    "'''"
   ]
  },
  {
   "cell_type": "code",
   "execution_count": 10,
   "metadata": {},
   "outputs": [],
   "source": [
    "#Pytorch读取数据\n",
    "#Dataset封装数据集，配置DataLoder【设置 迭代器 】封装批量读取迭代方法\n"
   ]
  },
  {
   "cell_type": "code",
   "execution_count": 11,
   "metadata": {},
   "outputs": [],
   "source": [
    "# Pytorch安装,参考https://www.cnblogs.com/zhouzhiyao/p/11784055.html\n",
    "# 1、创建虚拟环境\n",
    "# conda create -n pytorch python=3.6\n",
    "# //安装后查看虚拟环境\n",
    "# conda info --envs\n",
    "# 3、激活\n",
    "# conda activate pytorch\n",
    "# 4、安装pytorch\n",
    "# 到官网，自行选择电脑配置生成安装路径，不用装CUDA，选好自动配好代码\n",
    "# //包windows建议conda，linux建议选pip\n",
    "# //pytorch Build 选stable\n",
    "# //cuda 显卡 有GPU的话 python3.6选9.2，没有选None\n",
    "# //生成结果：conda install pytorch torchvision cudatoolkit=9.2 -c pytorch -c defaults -c numba/label/dev\n",
    "# 粘到conda下pytorch虚拟环境安装即可\n"
   ]
  },
  {
   "cell_type": "code",
   "execution_count": 59,
   "metadata": {},
   "outputs": [],
   "source": [
    "import os,sys,glob,shutil,json\n",
    "os.environ[\"CUDA_VISIBLE_DEICES\"] = '0'\n",
    "import cv2\n",
    "from PIL import Image\n",
    "import numpy as np\n",
    "import torch\n",
    "from torch.utils.data.dataset import Dataset\n",
    "import torchvision.transforms as transforms\n",
    "import pickle"
   ]
  },
  {
   "cell_type": "code",
   "execution_count": 53,
   "metadata": {},
   "outputs": [],
   "source": [
    "#Dataset封装数据集\n",
    "class SVHNDataset(Dataset):\n",
    "    def __init__(self,img_path,img_label,transform = None):#__init__后面__别忘了\n",
    "        self.img_path = img_path\n",
    "        self.img_label = img_label\n",
    "        if transform is not None:\n",
    "            self.transform = transform\n",
    "        else:\n",
    "            self.transform = None\n",
    "            \n",
    "    def __getitem__(self,index):\n",
    "        img = Image.open(self.img_path[index]).convert('RGB')#pillow包 按索引打开图片\n",
    "        if self.transform is not None:\n",
    "            img = self.tranform(img)#变形？\n",
    "        #//分10类 SVHN中类别10是0\n",
    "        #设置最长字符长度为5-观察图一般5个字符，不够pad\n",
    "        #按索引读数据结果标签\n",
    "        lbl = np.array(self.img_label[index],dtype = np.int)\n",
    "        #5-字符长 乘除的数字个数*[10]？\n",
    "        lbl = list(lbl)+(5-len(lbl))*[10]\n",
    "        #torch.from_numpy numpy中的ndarray转为torch的tensor，反向操作.numpy()\n",
    "        return img, torch.from_numpy(np.array(lbl[:5]))\n",
    "    \n",
    "    def __len__(self):\n",
    "        return len(self.img_path)\n",
    "            \n",
    "            \n",
    "            "
   ]
  },
  {
   "cell_type": "code",
   "execution_count": 45,
   "metadata": {},
   "outputs": [
    {
     "name": "stdout",
     "output_type": "stream",
     "text": [
      "[[1, 9], [2, 3]]\n",
      "30000 30000\n"
     ]
    }
   ],
   "source": [
    "#配置DataLoder 【设置 迭代器 】批量读取迭代方法['']\n",
    "# glob.glob返回所有匹配的文件路径列表\n",
    "train_path = glob.glob('data/mchar_train/*.png')\n",
    "#print(train_path)#['data/mchar_train\\\\000000.png', 'data/mchar_train\\\\000001.png',\n",
    "train_path.sort()\n",
    "train_json = json.load(open('data/mchar_train.json'))\n",
    "#print(train_json['000000.png'])#{'height': [219, 219], 'label': [1, 9], 'left': [246, 323], 'top': [77, 81], 'width': [81, 96]}\n",
    "train_label = [train_json[x]['label'] for x in train_json]\n",
    "print(train_label[:2])#[[1, 9], [2, 3]]\n",
    "print(len(train_path),len(train_label))#查看x,y长度是否匹配"
   ]
  },
  {
   "cell_type": "code",
   "execution_count": 52,
   "metadata": {},
   "outputs": [],
   "source": [
    "train_loader = torch.utils.data.DataLoader(\n",
    "    SVHNDataset(\n",
    "        train_path,train_label,\n",
    "        transforms.Compose([        #变形组件\n",
    "            transforms.Resize((64,128)),\n",
    "            transforms.RandomCrop((60,120)),#随机区域剪裁\n",
    "            transforms.ColorJitter(0.3,0.3,0.2),#颜色的对比度、饱和度、亮度变换\n",
    "            transforms.RandomRotation(10),#随机旋转\n",
    "            transforms.ToTensor(),#ndarray变tensor\n",
    "            transforms.Normalize([0.485,0.456,0.406],[0.229,0.224,0.225])#归一化\n",
    "        ])),\n",
    "    batch_size = 40,#一组（批）多少个图（样本）\n",
    "    shuffle = True,#打乱\n",
    "    num_workers = 10,#读取的线程个数\n",
    "    \n",
    ")\n",
    "    \n",
    "# for data in train_loader:\n",
    "#     break"
   ]
  },
  {
   "cell_type": "code",
   "execution_count": null,
   "metadata": {},
   "outputs": [],
   "source": [
    "#调用DataLoder后，数据按照批次获取，每批次调用Dataset读取单个样本进行拼接\n",
    "#data格式为x [10,3,64,128] 即[batchsize*chanel*height*width]y [10,6] [batchsize*标签结果值]"
   ]
  },
  {
   "cell_type": "code",
   "execution_count": 42,
   "metadata": {},
   "outputs": [
    {
     "name": "stdout",
     "output_type": "stream",
     "text": [
      "10000 10000\n"
     ]
    }
   ],
   "source": [
    "#验证集，同上处理\n",
    "val_path = glob.glob('data/mchar_val/*.png')\n",
    "val_path.sort()\n",
    "val_json = json.load(open('data/mchar_val.json'))\n",
    "val_label = [val_json[x]['label'] for x in val_json]\n",
    "print(len(val_path),len(val_label))#查看x,y长度是否匹配"
   ]
  },
  {
   "cell_type": "code",
   "execution_count": 48,
   "metadata": {},
   "outputs": [],
   "source": [
    "val_loader = torch.utils.data.DataLoader(\n",
    "    SVHNDataset(\n",
    "        val_path,val_label,\n",
    "        transforms.Compose([        #变形组件\n",
    "            transforms.Resize((60,120)),\n",
    "            #transforms.RandomCrop((60,120)),#随机区域剪裁\n",
    "            #transforms.ColorJitter(0.3,0.3,0.2),#颜色的对比度、饱和度、亮度变换\n",
    "            #transforms.RandomRotation(10),#随机旋转\n",
    "            transforms.ToTensor(),#ndarray变tensor\n",
    "            transforms.Normalize([0.485,0.456,0.406],[0.229,0.224,0.225])#归一化\n",
    "        ])),\n",
    "    batch_size = 40,#一组（批）多少个图（样本）\n",
    "    shuffle = False,#打乱\n",
    "    num_workers = 10,#读取的线程个数\n",
    ")"
   ]
  },
  {
   "cell_type": "code",
   "execution_count": 58,
   "metadata": {},
   "outputs": [
    {
     "name": "stdout",
     "output_type": "stream",
     "text": [
      "750\n",
      "250\n",
      "<torch.utils.data.dataloader.DataLoader object at 0x0000019D85CED978>\n",
      "<torch.utils.data.dataloader.DataLoader object at 0x0000019D85CE3748>\n"
     ]
    }
   ],
   "source": [
    "print(len(train_loader))\n",
    "print(len(val_loader))\n",
    "print(train_loader)\n",
    "print(val_loader)"
   ]
  },
  {
   "cell_type": "code",
   "execution_count": null,
   "metadata": {},
   "outputs": [],
   "source": []
  },
  {
   "cell_type": "code",
   "execution_count": null,
   "metadata": {},
   "outputs": [],
   "source": []
  }
 ],
 "metadata": {
  "kernelspec": {
   "display_name": "Python 3",
   "language": "python",
   "name": "python3"
  },
  "language_info": {
   "codemirror_mode": {
    "name": "ipython",
    "version": 3
   },
   "file_extension": ".py",
   "mimetype": "text/x-python",
   "name": "python",
   "nbconvert_exporter": "python",
   "pygments_lexer": "ipython3",
   "version": "3.6.5"
  }
 },
 "nbformat": 4,
 "nbformat_minor": 2
}
